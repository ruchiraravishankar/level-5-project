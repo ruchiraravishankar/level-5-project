{
  "nbformat": 4,
  "nbformat_minor": 5,
  "metadata": {
    "colab": {
      "name": "iam_dataset_pre_processing.ipynb",
      "provenance": [],
      "collapsed_sections": []
    },
    "kernelspec": {
      "display_name": "Python 3 (ipykernel)",
      "language": "python",
      "name": "python3"
    },
    "language_info": {
      "codemirror_mode": {
        "name": "ipython",
        "version": 3
      },
      "file_extension": ".py",
      "mimetype": "text/x-python",
      "name": "python",
      "nbconvert_exporter": "python",
      "pygments_lexer": "ipython3",
      "version": "3.9.6"
    }
  },
  "cells": [
    {
      "cell_type": "code",
      "metadata": {
        "id": "0xsFqVZGWR0_"
      },
      "source": [
        "from google.colab import drive\n",
        "drive.mount('/content/drive')"
      ],
      "id": "0xsFqVZGWR0_",
      "execution_count": null,
      "outputs": []
    },
    {
      "cell_type": "code",
      "metadata": {
        "id": "bdd1ec51"
      },
      "source": [
        "import numpy as np\n",
        "import torch\n",
        "import glob\n",
        "import os\n",
        "import pickle\n",
        "from bs4 import BeautifulSoup\n",
        "# data_path = '/Users/ruchiraravishankar/Downloads/iam_dataset/'\n",
        "# data_path = '/content/drive/MyDrive/iam_dataset/'\n",
        "data_path = '/content/drive/MyDrive/testing_proj/iam_dataset/'\n",
        "\n",
        "# print(glob.glob(data_path))"
      ],
      "id": "bdd1ec51",
      "execution_count": null,
      "outputs": []
    },
    {
      "cell_type": "code",
      "metadata": {
        "id": "46779cd3"
      },
      "source": [
        "path = data_path + 'xml/*'\n",
        "xml_path = glob.glob(path)\n",
        "print(len(xml_path))"
      ],
      "id": "46779cd3",
      "execution_count": null,
      "outputs": []
    },
    {
      "cell_type": "code",
      "metadata": {
        "id": "73eb14c4"
      },
      "source": [
        "# we only use d_i.pkl so no need to create d.pkl\n",
        "# for file in xml_path:\n",
        "# file = xml_path[0]\n",
        "# print(file)\n",
        "# d = {}\n",
        "\n",
        "d_i = {}\n",
        "def get_form_metadata(file):\n",
        "    with open(file, 'r') as f:\n",
        "        data = f.read()\n",
        "    Bs_data = BeautifulSoup(data, \"lxml\")\n",
        "    form = Bs_data.find('form')\n",
        "    form_id = form.get('id')\n",
        "    writer_id = form.get('writer-id')\n",
        "#     print(form_id)\n",
        "#     print(writer_id)\n",
        "    # d[writer_id] = form_id\n",
        "    d_i[form_id] = writer_id\n",
        "\n",
        "for file in xml_path:\n",
        "    get_form_metadata(file)\n",
        "    \n",
        "\n",
        "print(d_i)\n"
      ],
      "id": "73eb14c4",
      "execution_count": null,
      "outputs": []
    },
    {
      "cell_type": "code",
      "metadata": {
        "id": "izX6koOJG82T"
      },
      "source": [
        "# we only use d_i.pkl so no need to create d.pkl\n",
        "# a_file = open(\"/content/drive/MyDrive/iam_dataset/d.pkl\", \"wb\")\n",
        "# pickle.dump(d, a_file)\n",
        "# a_file.close()\n",
        "\n",
        "b_file = open(data_path + \"d_i.pkl\", \"wb\")\n",
        "pickle.dump(d_i, b_file)\n",
        "b_file.close()"
      ],
      "id": "izX6koOJG82T",
      "execution_count": null,
      "outputs": []
    },
    {
      "cell_type": "code",
      "metadata": {
        "id": "Xn_d63WEH7Ct"
      },
      "source": [
        "print(os.listdir(os.curdir))"
      ],
      "id": "Xn_d63WEH7Ct",
      "execution_count": null,
      "outputs": []
    },
    {
      "cell_type": "code",
      "metadata": {
        "id": "N2mwE6pWHFe7"
      },
      "source": [
        "\n",
        "# a_file = open(\"/content/drive/MyDrive/iam_dataset/d.pkl\", \"rb\")\n",
        "# d = pickle.load(a_file)\n",
        "# print(d)\n",
        "\n",
        "b_file = open(data_path + \"d_i.pkl\", \"rb\")\n",
        "d_i = pickle.load(b_file)\n",
        "print(d_i)"
      ],
      "id": "N2mwE6pWHFe7",
      "execution_count": null,
      "outputs": []
    },
    {
      "cell_type": "code",
      "metadata": {
        "id": "798c9b82"
      },
      "source": [
        "from collections import Counter\n",
        "\n",
        "top_writers = []\n",
        "num_writers = 50 # taking the top 50 writers\n",
        "writers_counter = Counter(d_i.values())\n",
        "for writer_id,_ in writers_counter.most_common(num_writers):\n",
        "    top_writers.append(writer_id)\n",
        "\n",
        "print(top_writers)"
      ],
      "id": "798c9b82",
      "execution_count": null,
      "outputs": []
    },
    {
      "cell_type": "code",
      "metadata": {
        "id": "81d4b19d"
      },
      "source": [
        "top_forms = []\n",
        "for form_id, author_id in d_i.items():\n",
        "    if author_id in top_writers:\n",
        "        top_forms.append(form_id)\n",
        "print(top_forms)"
      ],
      "id": "81d4b19d",
      "execution_count": null,
      "outputs": []
    },
    {
      "cell_type": "code",
      "metadata": {
        "id": "5dd71b3d"
      },
      "source": [
        "import os\n",
        "import glob\n",
        "import shutil\n",
        "\n",
        "# Create temp directory to save writers' forms in (assumes files have already been copied if the directory exists)\n",
        "temp_sentences_path = data_path + \"temp_sentences\"\n",
        "if not os.path.exists(temp_sentences_path):\n",
        "    os.makedirs(temp_sentences_path)\n",
        "    # Copy forms that belong to the top 50 most common writers to the temp directory\n",
        "    original_sentences_path = data_path + \"sentences/**/**/*.png\"\n",
        "    for file_path in glob.glob(original_sentences_path):\n",
        "        image_name = file_path.split('/')[-1]  \n",
        "        file_name, _ = os.path.splitext(image_name)\n",
        "        form_id = '-'.join(file_name.split('-')[0:2])\n",
        "        if form_id in top_forms:\n",
        "            shutil.copy2(file_path, temp_sentences_path + \"/\" + image_name)"
      ],
      "id": "5dd71b3d",
      "execution_count": null,
      "outputs": []
    },
    {
      "cell_type": "code",
      "metadata": {
        "id": "21fabb85"
      },
      "source": [
        "img_files = np.zeros((0), dtype=str)\n",
        "print(img_files)\n",
        "img_targets = np.zeros((0), dtype=str)\n",
        "print(img_targets)\n",
        "sentence_dict = {}\n",
        "path_to_files = os.path.join(temp_sentences_path, '*')\n",
        "for file_path in glob.glob(path_to_files):\n",
        "    img_files = np.append(img_files, file_path)\n",
        "    file_name, _ = os.path.splitext(file_path.split('/')[-1]  )\n",
        "    form_id = '-'.join(file_name.split('-')[0:2])\n",
        "    for key in d_i:\n",
        "        if key == form_id:\n",
        "            img_targets = np.append(img_targets, d_i[form_id])\n",
        "#             sentence_dict[d_i[form_id]] = form_id"
      ],
      "id": "21fabb85",
      "execution_count": null,
      "outputs": []
    },
    {
      "cell_type": "code",
      "metadata": {
        "id": "a058f95b"
      },
      "source": [
        "print(img_files.shape)\n",
        "print(img_targets.shape)\n",
        "\n",
        "print(Counter(img_targets).keys())\n",
        "print(Counter(img_targets).values())"
      ],
      "id": "a058f95b",
      "execution_count": null,
      "outputs": []
    },
    {
      "cell_type": "code",
      "metadata": {
        "id": "60c00257"
      },
      "source": [
        "sen_dict = {}\n",
        "\n",
        "for i in range(len(img_targets)):\n",
        "    if img_targets[i] not in sen_dict.keys():\n",
        "        sen_dict[img_targets[i]] = [img_files[i]]\n",
        "    else:\n",
        "        sen_dict[img_targets[i]].append(img_files[i])"
      ],
      "id": "60c00257",
      "execution_count": null,
      "outputs": []
    },
    {
      "cell_type": "code",
      "metadata": {
        "id": "6f74f4d3"
      },
      "source": [
        "print(len(sen_dict['207']))"
      ],
      "id": "6f74f4d3",
      "execution_count": null,
      "outputs": []
    },
    {
      "cell_type": "code",
      "metadata": {
        "id": "dba0606a"
      },
      "source": [
        "# print(len(sen_dict.values()))\n",
        "number_of = []\n",
        "writer_ids = []\n",
        "for key, value in sorted(sen_dict.items()):\n",
        "    writer_ids.append(key)\n",
        "    number_of.append(len([item for item in value if item]))\n",
        "print(len(writer_ids))"
      ],
      "id": "dba0606a",
      "execution_count": null,
      "outputs": []
    },
    {
      "cell_type": "code",
      "metadata": {
        "id": "86ed215f"
      },
      "source": [
        "# crop so all images are of same size\n",
        "# plot histogram \n",
        "import matplotlib.pyplot as plt\n",
        "import matplotlib.image as mpimg\n",
        "plt.figure(figsize=(40,10))\n",
        "plt.bar(writer_ids, number_of, width=0.5, color='g')\n",
        "plt.show()"
      ],
      "id": "86ed215f",
      "execution_count": null,
      "outputs": []
    },
    {
      "cell_type": "code",
      "metadata": {
        "id": "f98edc00"
      },
      "source": [
        "for file_name in img_files[:2]:\n",
        "    img = mpimg.imread(file_name)\n",
        "    plt.figure(figsize = (10,10))\n",
        "    plt.imshow(img, cmap ='gray')\n",
        "    print(img.shape)"
      ],
      "id": "f98edc00",
      "execution_count": null,
      "outputs": []
    },
    {
      "cell_type": "code",
      "metadata": {
        "id": "810c0daf"
      },
      "source": [
        "writer_0_files = np.array(sen_dict['000'][:500])\n",
        "print(writer_0_files.shape)\n",
        "\n",
        "writer_0 = np.c_[writer_0_files, np.zeros(500)]\n",
        "\n",
        "print(writer_0.shape)"
      ],
      "id": "810c0daf",
      "execution_count": null,
      "outputs": []
    },
    {
      "cell_type": "code",
      "metadata": {
        "id": "uKaXGQOoE59J"
      },
      "source": [
        "print(writer_0[0])"
      ],
      "id": "uKaXGQOoE59J",
      "execution_count": null,
      "outputs": []
    },
    {
      "cell_type": "code",
      "metadata": {
        "id": "7191f93b"
      },
      "source": [
        "labelled_data = np.stack([img_files, img_targets], axis=1)\n",
        "\n",
        "print(labelled_data.shape)"
      ],
      "id": "7191f93b",
      "execution_count": null,
      "outputs": []
    },
    {
      "cell_type": "code",
      "source": [
        "np.save(data_path + \"labelled_data.npy\", labelled_data)"
      ],
      "metadata": {
        "id": "2Y0z3yhoWiNH"
      },
      "id": "2Y0z3yhoWiNH",
      "execution_count": null,
      "outputs": []
    },
    {
      "cell_type": "code",
      "source": [
        ""
      ],
      "metadata": {
        "id": "WMd47TYViy1G"
      },
      "id": "WMd47TYViy1G",
      "execution_count": null,
      "outputs": []
    }
  ]
}