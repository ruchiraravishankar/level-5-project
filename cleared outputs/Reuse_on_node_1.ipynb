{
  "nbformat": 4,
  "nbformat_minor": 5,
  "metadata": {
    "colab": {
      "name": "Reuse on node 1",
      "provenance": [],
      "collapsed_sections": []
    },
    "kernelspec": {
      "display_name": "Python 3 (ipykernel)",
      "language": "python",
      "name": "python3"
    },
    "language_info": {
      "codemirror_mode": {
        "name": "ipython",
        "version": 3
      },
      "file_extension": ".py",
      "mimetype": "text/x-python",
      "name": "python",
      "nbconvert_exporter": "python",
      "pygments_lexer": "ipython3",
      "version": "3.9.6"
    },
    "accelerator": "GPU"
  },
  "cells": [
    {
      "cell_type": "markdown",
      "metadata": {
        "id": "TFdxOKfjJioa"
      },
      "source": [
        "# reusing the transfer learning re-trained model on new data, back on the same data\n"
      ],
      "id": "TFdxOKfjJioa"
    },
    {
      "cell_type": "code",
      "metadata": {
        "id": "0xsFqVZGWR0_"
      },
      "source": [
        "from google.colab import drive\n",
        "drive.mount('/content/drive')"
      ],
      "id": "0xsFqVZGWR0_",
      "execution_count": null,
      "outputs": []
    },
    {
      "cell_type": "code",
      "metadata": {
        "id": "bdd1ec51"
      },
      "source": [
        "import numpy as np\n",
        "import torch\n",
        "import glob\n",
        "import os\n",
        "import pickle\n",
        "from bs4 import BeautifulSoup\n",
        "# data_path = '/Users/ruchiraravishankar/Downloads/iam_dataset/'\n",
        "# data_path = '/content/drive/MyDrive/iam_dataset/'\n",
        "# save_path = \"/content/drive/MyDrive/iam_dataset/saved_model/\"\n",
        "\n",
        "data_path = '/content/drive/MyDrive/testing_proj/iam_dataset/'\n",
        "save_path = '/content/drive/MyDrive/testing_proj/iam_dataset/saved_model/'\n",
        "\n",
        "# print(glob.glob(data_path))"
      ],
      "id": "bdd1ec51",
      "execution_count": null,
      "outputs": []
    },
    {
      "cell_type": "code",
      "source": [
        "# toggles to change training and nodes\n",
        "\n",
        "# set model_node to 2,3,4,5,6,7, or 23 for nodes 2 and 3 trained model\n",
        "model_node = 2\n",
        "\n",
        "fc_pi = 'fc' \n",
        "\n",
        "# # transfer learning toggle\n",
        "# fc = True\n",
        "# conv = False\n",
        "# plain_inf = False\n",
        "\n",
        "# toggle to save model\n",
        "save_model = False\n",
        "# toggle to save results\n",
        "save_results = True"
      ],
      "metadata": {
        "id": "FrMBPE1Zf44s"
      },
      "execution_count": null,
      "outputs": [],
      "id": "FrMBPE1Zf44s"
    },
    {
      "cell_type": "code",
      "source": [
        "labelled_data = np.load(data_path + \"labelled_data.npy\")"
      ],
      "metadata": {
        "id": "EYukt71vjd69"
      },
      "id": "EYukt71vjd69",
      "execution_count": null,
      "outputs": []
    },
    {
      "cell_type": "code",
      "metadata": {
        "id": "22206532"
      },
      "source": [
        "labelled_data_0 = labelled_data[labelled_data[:,1] == '000']\n",
        "\n",
        "print(labelled_data_0.shape)\n",
        "\n",
        "labelled_data_0 = labelled_data_0[:196] # original set of data to the one that its originally trained on\n",
        "print(labelled_data_0.shape)\n",
        "\n",
        "print(np.unique(labelled_data_0[:,1]))"
      ],
      "id": "22206532",
      "execution_count": null,
      "outputs": []
    },
    {
      "cell_type": "code",
      "metadata": {
        "id": "025913bd"
      },
      "source": [
        "remove_000 = labelled_data[labelled_data[:,1]!='000']\n",
        "\n",
        "print(np.unique(remove_000[:,1]))\n",
        "print(np.unique(remove_000[:,1]).shape)"
      ],
      "id": "025913bd",
      "execution_count": null,
      "outputs": []
    },
    {
      "cell_type": "code",
      "metadata": {
        "id": "926e3c22"
      },
      "source": [
        "y = [remove_000[remove_000[:,1]==k] for k in np.unique(remove_000[:,1])]\n",
        "print(len(y))"
      ],
      "id": "926e3c22",
      "execution_count": null,
      "outputs": []
    },
    {
      "cell_type": "code",
      "metadata": {
        "id": "affcb9d8"
      },
      "source": [
        "labelled_data_1 = []\n",
        "for i in y:\n",
        "    labelled_data_1.append(i[:4]) # original set of data to the one that its originally trained on\n",
        "print(len(labelled_data_1))\n",
        "\n",
        "labelled_data_1 = np.array(labelled_data_1)\n",
        "\n",
        "print(labelled_data_1.shape)"
      ],
      "id": "affcb9d8",
      "execution_count": null,
      "outputs": []
    },
    {
      "cell_type": "code",
      "metadata": {
        "id": "797dd98d"
      },
      "source": [
        "labelled_data_1=labelled_data_1.reshape(-1,2)"
      ],
      "id": "797dd98d",
      "execution_count": null,
      "outputs": []
    },
    {
      "cell_type": "code",
      "metadata": {
        "id": "c6c293dc"
      },
      "source": [
        "print(labelled_data_1.shape)"
      ],
      "id": "c6c293dc",
      "execution_count": null,
      "outputs": []
    },
    {
      "cell_type": "code",
      "metadata": {
        "id": "ef54f007"
      },
      "source": [
        "print(np.unique(labelled_data_1[:,1]))"
      ],
      "id": "ef54f007",
      "execution_count": null,
      "outputs": []
    },
    {
      "cell_type": "code",
      "metadata": {
        "id": "72fb393e"
      },
      "source": [
        "labelled_data_new = np.concatenate((labelled_data_0, labelled_data_1))\n",
        "np.random.shuffle(labelled_data_new)\n",
        "print(labelled_data_new.shape) # mix of sentences from writer id 0 and others, labelled"
      ],
      "id": "72fb393e",
      "execution_count": null,
      "outputs": []
    },
    {
      "cell_type": "code",
      "metadata": {
        "id": "2ea68409"
      },
      "source": [
        "# split before augmenting to ensure the sentences are being split and not the augmented samples\n",
        "from sklearn.model_selection import train_test_split\n",
        "X_train, X_test, y_train, y_test = train_test_split(labelled_data_new[:,0], labelled_data_new[:,1], test_size=0.33, random_state=42)\n",
        "print(X_train.shape, X_test.shape, y_train.shape, y_test.shape)"
      ],
      "id": "2ea68409",
      "execution_count": null,
      "outputs": []
    },
    {
      "cell_type": "code",
      "metadata": {
        "id": "4b41601b"
      },
      "source": [
        "from sklearn.utils import shuffle\n",
        "from PIL import Image\n",
        "import random\n",
        "\n",
        "CROP_SIZE = 113\n",
        "NUM_LABELS = 50\n",
        "\n",
        "def get_augmented_sample(sample, label, sample_ratio):\n",
        "    # Get current image details\n",
        "    img = Image.open(sample)\n",
        "    img_width = img.size[0]\n",
        "    img_height = img.size[1]\n",
        "\n",
        "    # Compute resize dimensions such that aspect ratio is maintained\n",
        "    height_fac = CROP_SIZE / img_height\n",
        "    size = (int(img_width * height_fac), CROP_SIZE)\n",
        "\n",
        "    # Resize image \n",
        "    new_img = img.resize((size), Image.ANTIALIAS)\n",
        "    new_img_width = new_img.size[0]\n",
        "    new_img_height = new_img.size[1]\n",
        "\n",
        "    # Generate a random number of crops of size 113x113 from the resized image\n",
        "    x_coord = list(range(0, new_img_width - CROP_SIZE))\n",
        "    num_crops = int(len(x_coord) * sample_ratio)\n",
        "    random_x_coord = random.sample(x_coord, num_crops)\n",
        "    \n",
        "    # Create augmented images (cropped forms) and map them to a label (writer)\n",
        "    images = []\n",
        "    labels = []\n",
        "    for x in random_x_coord:\n",
        "        img_crop = new_img.crop((x, 0, x + CROP_SIZE, CROP_SIZE))\n",
        "        # Transform image to an array of numbers\n",
        "        images.append(np.asarray(img_crop))\n",
        "        labels.append(label)\n",
        "\n",
        "    return images, labels"
      ],
      "id": "4b41601b",
      "execution_count": null,
      "outputs": []
    },
    {
      "cell_type": "code",
      "metadata": {
        "id": "55dc6891"
      },
      "source": [
        "def augment(data, labels):\n",
        "    augmented_sample_list = []\n",
        "    augmented_label_list = []\n",
        "    for i in range(len(data)):\n",
        "        augmented_samples, augmented_labels = get_augmented_sample(data[i], labels[i],0.1)\n",
        "        augmented_sample_list.append(augmented_samples)\n",
        "        augmented_label_list.append(augmented_labels)\n",
        "    return augmented_sample_list, augmented_label_list"
      ],
      "id": "55dc6891",
      "execution_count": null,
      "outputs": []
    },
    {
      "cell_type": "code",
      "metadata": {
        "id": "664668a5"
      },
      "source": [
        "augsamps, auglbls = augment(X_train, y_train) # returns two lists of arrays\n",
        "ausamps_test, auglbls_test = augment(X_test, y_test)"
      ],
      "id": "664668a5",
      "execution_count": null,
      "outputs": []
    },
    {
      "cell_type": "code",
      "metadata": {
        "id": "2f35824a"
      },
      "source": [
        "import operator\n",
        "from functools import reduce\n",
        "\n",
        "# flattening the lists\n",
        "aug_samps = reduce(operator.add, augsamps)\n",
        "aug_lbls = reduce(operator.add, auglbls)\n",
        "\n",
        "aug_samps_test = reduce(operator.add, ausamps_test)\n",
        "aug_lbls_test = reduce(operator.add, auglbls_test)\n",
        "print(len(aug_samps))\n",
        "print(len(aug_lbls))\n",
        "\n",
        "print(len(aug_samps_test))\n",
        "print(len(aug_lbls_test))"
      ],
      "id": "2f35824a",
      "execution_count": null,
      "outputs": []
    },
    {
      "cell_type": "code",
      "metadata": {
        "id": "967237ec"
      },
      "source": [
        "# converting lists to arrays\n",
        "aug_samps_arr = np.array(aug_samps)\n",
        "aug_lbls_arr = np.array(aug_lbls)\n",
        "aug_samps_arr_test = np.array(aug_samps_test)\n",
        "aug_lbls_arr_test = np.array(aug_lbls_test)\n",
        "\n",
        "print(aug_samps_arr.shape)\n",
        "print(aug_lbls_arr.shape)\n",
        "print(aug_samps_arr_test.shape)\n",
        "print(aug_lbls_arr_test.shape)"
      ],
      "id": "967237ec",
      "execution_count": null,
      "outputs": []
    },
    {
      "cell_type": "code",
      "metadata": {
        "id": "f568281e",
        "scrolled": true
      },
      "source": [
        "X_train = aug_samps_arr\n",
        "X_train = X_train.reshape(X_train.shape[0], 1, CROP_SIZE, CROP_SIZE)\n",
        "X_train = X_train.astype('float16')\n",
        "# X_data /= 255\n",
        "X_train /= 255.0\n",
        "y_train = aug_lbls_arr\n",
        "\n",
        "\n",
        "X_test = aug_samps_arr_test\n",
        "X_test = X_test.reshape(X_test.shape[0], 1, CROP_SIZE, CROP_SIZE)\n",
        "X_test = X_test.astype('float16')\n",
        "X_test /= 255.0\n",
        "y_test = aug_lbls_arr_test\n"
      ],
      "id": "f568281e",
      "execution_count": null,
      "outputs": []
    },
    {
      "cell_type": "code",
      "metadata": {
        "id": "e7d2904a"
      },
      "source": [
        "print(X_train.shape)\n",
        "print(y_train.shape)\n",
        "print(X_test.shape)\n",
        "print(y_test.shape)"
      ],
      "id": "e7d2904a",
      "execution_count": null,
      "outputs": []
    },
    {
      "cell_type": "code",
      "metadata": {
        "id": "78a69fdf"
      },
      "source": [
        "new = np.unique(y_train)\n",
        "print(new)\n",
        "\n",
        "y_train[y_train !='000'] = 1\n",
        "new = np.unique(y_train)\n",
        "print(new)\n",
        "\n",
        "y_train[y_train=='000'] = 0\n",
        "new = np.unique(y_train)\n",
        "print(new)\n",
        "\n",
        "print(y_train.shape)\n",
        "\n",
        "y_train = y_train.astype('float16')\n",
        "\n",
        "print(np.unique(y_train))"
      ],
      "id": "78a69fdf",
      "execution_count": null,
      "outputs": []
    },
    {
      "cell_type": "code",
      "metadata": {
        "id": "c049e9bb"
      },
      "source": [
        "new = np.unique(y_test)\n",
        "print(new)\n",
        "\n",
        "y_test[y_test !='000'] = 1\n",
        "new = np.unique(y_test)\n",
        "print(new)\n",
        "\n",
        "y_test[y_test=='000'] = 0\n",
        "new = np.unique(y_test)\n",
        "print(new)\n",
        "\n",
        "print(y_test.shape)\n",
        "\n",
        "y_test = y_test.astype('float16')\n",
        "\n",
        "print(np.unique(y_test))"
      ],
      "id": "c049e9bb",
      "execution_count": null,
      "outputs": []
    },
    {
      "cell_type": "code",
      "metadata": {
        "id": "g1wfoJoZqOOb"
      },
      "source": [
        "torch.manual_seed(42)\n",
        "CUDA = torch.cuda.is_available()\n",
        "\n",
        "device = torch.device('cuda' if CUDA else 'cpu')\n",
        "kwargs = {'num_workers': 1, 'pin_memory': True} if CUDA else {}\n",
        "device"
      ],
      "id": "g1wfoJoZqOOb",
      "execution_count": null,
      "outputs": []
    },
    {
      "cell_type": "code",
      "metadata": {
        "id": "09217c4b"
      },
      "source": [
        "from torch.utils.data import TensorDataset, DataLoader\n",
        "\n",
        "if CUDA:\n",
        "  tensor_x_train = torch.Tensor(X_train).type(torch.cuda.FloatTensor) # transform to torch tensor\n",
        "  tensor_y_train = torch.Tensor(y_train).type(torch.cuda.FloatTensor).long()\n",
        "else:\n",
        "  tensor_x_train = torch.Tensor(X_train).type(torch.FloatTensor) # transform to torch tensor\n",
        "  tensor_y_train = torch.Tensor(y_train).type(torch.FloatTensor).long()\n",
        "\n",
        "train_dataset = TensorDataset(tensor_x_train,tensor_y_train) # create your dataset\n",
        "train_dataloader = DataLoader(train_dataset,batch_size=16, shuffle=True, drop_last=True) # create your dataloader"
      ],
      "id": "09217c4b",
      "execution_count": null,
      "outputs": []
    },
    {
      "cell_type": "code",
      "metadata": {
        "id": "c120a864"
      },
      "source": [
        "if CUDA:\n",
        "  tensor_x_test = torch.Tensor(X_test).type(torch.cuda.FloatTensor) # transform to torch tensor\n",
        "  tensor_y_test = torch.Tensor(y_test).type(torch.cuda.FloatTensor).long()\n",
        "else:\n",
        "  tensor_x_test = torch.Tensor(X_test).type(torch.FloatTensor) # transform to torch tensor\n",
        "  tensor_y_test = torch.Tensor(y_test).type(torch.FloatTensor).long()\n",
        "\n",
        "test_dataset = TensorDataset(tensor_x_test,tensor_y_test) # create your datset\n",
        "test_dataloader = DataLoader(test_dataset, batch_size=16, shuffle=False, drop_last=True) # create your dataloader"
      ],
      "id": "c120a864",
      "execution_count": null,
      "outputs": []
    },
    {
      "cell_type": "code",
      "metadata": {
        "id": "HOXYkXWgCKt7"
      },
      "source": [
        "tensor_x_train.shape"
      ],
      "id": "HOXYkXWgCKt7",
      "execution_count": null,
      "outputs": []
    },
    {
      "cell_type": "code",
      "metadata": {
        "id": "63b0ecba"
      },
      "source": [
        "from torch import nn\n",
        "class Binary_Classifier(nn.Module): \n",
        "    def __init__(self):\n",
        "        super(Binary_Classifier, self).__init__()\n",
        "        self.conv1 = nn.Conv2d(in_channels=1, out_channels=10, kernel_size=3)\n",
        "        self.conv2 = nn.Conv2d(10, 20, kernel_size=3)\n",
        "        self.conv_drop = nn.Dropout2d()\n",
        "        self.conv3 = nn.Conv2d(20, 30, kernel_size=3)\n",
        "        self.fc1 = nn.Linear(4320, 1024)\n",
        "        self.fc2 = nn.Linear(1024, 2)\n",
        "        self.relu = nn.ReLU()\n",
        "        self.max_pool2d = nn.MaxPool2d(2)\n",
        "    def forward(self, x):\n",
        "        x = self.relu(self.max_pool2d(self.conv1(x)))\n",
        "        x = self.relu(self.max_pool2d(self.conv_drop(self.conv2(x))))\n",
        "        x = self.relu(self.max_pool2d(self.conv_drop(self.conv3(x))))\n",
        "        x = x.view(x.shape[0],-1)\n",
        "        # print(x.shape)\n",
        "        x = self.relu(self.fc1(x))\n",
        "        x = self.conv_drop(x)\n",
        "        x = self.fc2(x)\n",
        "        return x"
      ],
      "id": "63b0ecba",
      "execution_count": null,
      "outputs": []
    },
    {
      "cell_type": "code",
      "metadata": {
        "id": "29d5c074"
      },
      "source": [
        "model=Binary_Classifier().to(device)\n",
        "criterion = nn.CrossEntropyLoss()\n",
        "optimizer = torch.optim.Adam(model.parameters(),lr = 0.001)"
      ],
      "id": "29d5c074",
      "execution_count": null,
      "outputs": []
    },
    {
      "cell_type": "code",
      "source": [
        "model_node_2_fc = 'model_tf_3_convs_retrain_last_fc_node2.pt'\n",
        "model_node_2_conv = 'model_tf_3_convs_retrain_last_conv_node2.pt'\n",
        "\n",
        "model_node_3_fc = 'model_tf_3_convs_retrain_last_fc_node3.pt'\n",
        "model_node_3_conv = 'model_tf_3_convs_retrain_last_conv_node3.pt'\n",
        "\n",
        "model_node_4_fc = 'model_3_convs_node_4_fc.pt'\n",
        "model_node_4_conv = 'model_3_convs_node_4_conv.pt'\n",
        "\n",
        "model_node_5_fc = 'model_3_convs_node5_fc.pt'\n",
        "model_node_5_conv = 'model_3_convs_node5_conv.pt'\n",
        "\n",
        "model_node_6_fc = '3convs_node6_fc.pt'\n",
        "model_node_6_conv = '3convs_node6_conv.pt'\n",
        "\n",
        "model_node_7_fc = '3convs_node7_fc.pt'\n",
        "model_node_7_conv = '3convs_node7_conv.pt'\n",
        "\n",
        "model_node2_node3 = 'modelreuse_node2convmodel_retrainedfc_on_node3.pt'"
      ],
      "metadata": {
        "id": "PGBc37Arp5od"
      },
      "id": "PGBc37Arp5od",
      "execution_count": null,
      "outputs": []
    },
    {
      "cell_type": "code",
      "source": [
        "if model_node == 2:\n",
        "  model_path = model_node_2_conv\n",
        "\n",
        "\n",
        "elif model_node == 3:\n",
        "  model_path = model_node_3_conv\n",
        "\n",
        "\n",
        "elif model_node == 4:\n",
        "  model_path = model_node_4_conv\n",
        "\n",
        "\n",
        "elif model_node == 5:\n",
        "  model_path = model_node_5_conv\n",
        "\n",
        "\n",
        "elif model_node == 6:\n",
        "  model_path = model_node_6_conv\n",
        "\n",
        "elif model_node == 7:\n",
        "  model_path = model_node_7_conv\n",
        "\n",
        "\n",
        "elif model_node == 23:\n",
        "  model_path = model_node2_node3\n",
        "\n",
        "else:\n",
        "  print(\"set model_node variable at the top of the file\")"
      ],
      "metadata": {
        "id": "tU-JC4JrtzSQ"
      },
      "id": "tU-JC4JrtzSQ",
      "execution_count": null,
      "outputs": []
    },
    {
      "cell_type": "code",
      "metadata": {
        "id": "q_dcto_cRix5"
      },
      "source": [
        "# if os.path.exists(save_path+'/model_3_convs_node6_conv.pt'):\n",
        "try:\n",
        "    print('Loading checkpoint: %s' % save_path + model_path)\n",
        "    path = torch.load(save_path + model_path)\n",
        "    # epoch = path['epoch']\n",
        "    model.load_state_dict(path['model'])\n",
        "    optimizer.load_state_dict(path['optimizer'])\n",
        "except Exception as e:\n",
        "  print(\"nothing happened\")\n",
        "  print(e)"
      ],
      "id": "q_dcto_cRix5",
      "execution_count": null,
      "outputs": []
    },
    {
      "cell_type": "code",
      "metadata": {
        "id": "z44prhBFQA76"
      },
      "source": [
        "print(model.parameters)"
      ],
      "id": "z44prhBFQA76",
      "execution_count": null,
      "outputs": []
    },
    {
      "cell_type": "code",
      "metadata": {
        "id": "7-4DlQ4LPeRi"
      },
      "source": [
        "print(device)"
      ],
      "id": "7-4DlQ4LPeRi",
      "execution_count": null,
      "outputs": []
    },
    {
      "cell_type": "code",
      "metadata": {
        "id": "PMiXAng53sex"
      },
      "source": [
        "if fc_pi == 'fc':\n",
        "  for param in model.parameters():\n",
        "    param.requires_grad = False"
      ],
      "id": "PMiXAng53sex",
      "execution_count": null,
      "outputs": []
    },
    {
      "cell_type": "code",
      "metadata": {
        "id": "sNFcaWkQyKR3"
      },
      "source": [
        "if fc_pi == 'fc':\n",
        "  num_ftrs = model.fc2.in_features\n",
        "  print(num_ftrs)\n",
        "  model.fc2 = nn.Linear(num_ftrs, 2).to(device)"
      ],
      "execution_count": null,
      "outputs": [],
      "id": "sNFcaWkQyKR3"
    },
    {
      "cell_type": "code",
      "metadata": {
        "id": "9Ykv4G0NtmH9"
      },
      "source": [
        "train_losses = []\n",
        "train_loss_record = []"
      ],
      "id": "9Ykv4G0NtmH9",
      "execution_count": null,
      "outputs": []
    },
    {
      "cell_type": "code",
      "metadata": {
        "id": "1olHEZqhudxC"
      },
      "source": [
        "from datetime import datetime\n",
        "train_log_string = '%s :: Epoch %i :: Iter %i / %i :: train loss: %0.4f'\n",
        "def train(epoch):\n",
        "    print('Start Epoch {} Training...'.format(epoch))\n",
        "    model.train()\n",
        "    train_loss = []\n",
        "    train_loss_sum = []\n",
        "    for idx, (data, target) in enumerate(train_dataloader):\n",
        "        optimizer.zero_grad()\n",
        "        #  forward-pass\n",
        "        output = model(data)\n",
        "        loss = criterion(output, target)\n",
        "        #backward-pass\n",
        "        loss.backward()\n",
        "        # Update the parameters\n",
        "        optimizer.step()\n",
        "        train_loss.append(loss.data.cpu().numpy())\n",
        "        train_loss_sum.append(loss)\n",
        "        if ((idx +1) % 5000) == 0:\n",
        "          print(train_log_string % (datetime.now(), epoch, idx + 1, len(train_dataloader), np.mean(train_loss)))\n",
        "          train_loss = []\n",
        "    mean_tr = torch.mean(torch.stack(train_loss_sum))\n",
        "    print('Train Loss at epoch {}: {}\\n'.format(epoch, mean_tr))\n",
        "    train_loss_record.append(mean_tr)\n",
        "    return train_loss_record"
      ],
      "id": "1olHEZqhudxC",
      "execution_count": null,
      "outputs": []
    },
    {
      "cell_type": "code",
      "metadata": {
        "id": "Ba6w34bjtN9v"
      },
      "source": [
        "if fc_pi == 'fc':\n",
        "  for epoch in range(15):\n",
        "    tlr = train(epoch)"
      ],
      "id": "Ba6w34bjtN9v",
      "execution_count": null,
      "outputs": []
    },
    {
      "cell_type": "code",
      "metadata": {
        "id": "8UD3CqceSgPs"
      },
      "source": [
        "import matplotlib.pyplot as plt\n",
        "if fc_pi == 'fc':\n",
        "  temp = [t.detach().cpu().numpy() for t in tlr]\n",
        "  arr = np.array(temp)\n",
        "  print(arr.shape)\n",
        "\n",
        "  plt.plot(arr)"
      ],
      "id": "8UD3CqceSgPs",
      "execution_count": null,
      "outputs": []
    },
    {
      "cell_type": "code",
      "metadata": {
        "id": "UElBlZoYQnpp"
      },
      "source": [
        "result = []\n",
        "prediction = []\n",
        "model.eval()\n",
        "with torch.no_grad():\n",
        "    for idx, (data, target) in enumerate(test_dataloader):\n",
        "        output = model(data)\n",
        "        output_sm = nn.Softmax(dim=1)(output)\n",
        "        _, predicted = torch.max(output, 1)\n",
        "        prediction.append(predicted)\n",
        "        result.append(output_sm)\n",
        "        \n",
        "result = torch.stack(result).detach().cpu().numpy()\n",
        "prediction = torch.stack(prediction).detach().cpu().numpy()\n",
        "\n",
        "print(result.shape, prediction.shape)"
      ],
      "id": "UElBlZoYQnpp",
      "execution_count": null,
      "outputs": []
    },
    {
      "cell_type": "code",
      "metadata": {
        "id": "Hs1Q0JC2xKjs"
      },
      "source": [
        "print(prediction.reshape(-1).shape)"
      ],
      "id": "Hs1Q0JC2xKjs",
      "execution_count": null,
      "outputs": []
    },
    {
      "cell_type": "code",
      "metadata": {
        "id": "dCcQqc-VsfnE"
      },
      "source": [
        "import pandas as pd\n",
        "res = pd.DataFrame(result.reshape(-1,2))\n",
        "pred = pd.DataFrame(prediction.reshape(-1))\n",
        "\n",
        "# res.to_csv(\"/content/drive/MyDrive/iam_dataset/saved_model/results_tf_reuse_original_data_conv.csv\", header=False, index=False)\n",
        "# pred.to_csv(\"/content/drive/MyDrive/iam_dataset/saved_model/pred_tf_reuse_original_data_conv.csv\", header=False, index=False)"
      ],
      "id": "dCcQqc-VsfnE",
      "execution_count": null,
      "outputs": []
    },
    {
      "cell_type": "code",
      "metadata": {
        "id": "sGZJv2Di1QSz"
      },
      "source": [
        "print(res.shape, pred.shape)"
      ],
      "id": "sGZJv2Di1QSz",
      "execution_count": null,
      "outputs": []
    },
    {
      "cell_type": "code",
      "metadata": {
        "id": "iRodoZGT0iIY"
      },
      "source": [
        "y_test_new = y_test[:result.reshape(-1,2).shape[0]]"
      ],
      "id": "iRodoZGT0iIY",
      "execution_count": null,
      "outputs": []
    },
    {
      "cell_type": "code",
      "metadata": {
        "id": "rgdEBEj41lsO"
      },
      "source": [
        "print(y_test_new.shape)"
      ],
      "id": "rgdEBEj41lsO",
      "execution_count": null,
      "outputs": []
    },
    {
      "cell_type": "code",
      "metadata": {
        "id": "iaJkMnicswF_"
      },
      "source": [
        "result_df = pd.DataFrame({'ground truth': y_test_new, 'NN output': prediction.reshape(-1), 'probs 0': res[0], 'probs 1': res[1]})\n",
        "result_df"
      ],
      "id": "iaJkMnicswF_",
      "execution_count": null,
      "outputs": []
    },
    {
      "cell_type": "code",
      "metadata": {
        "id": "COaorBTG-iwa"
      },
      "source": [
        "# work out the accuracy and other metrics\n",
        "from sklearn.metrics import confusion_matrix\n",
        "from sklearn.metrics import classification_report\n",
        "actual = result_df['ground truth']\n",
        "predicted = result_df['NN output']\n",
        "# confusion matrix\n",
        "matrix = confusion_matrix(actual, predicted, labels=[0,1])\n",
        "print('Confusion matrix : \\n',matrix)\n",
        "\n",
        "# outcome values order in sklearn\n",
        "tp, fn, fp, tn = confusion_matrix(actual, predicted, labels=[0,1]).reshape(-1)\n",
        "print('Outcome values : \\n', tp, fn, fp, tn)\n",
        "\n",
        "# classification report for precision, recall f1-score and accuracy\n",
        "matrix_2 = classification_report(actual,predicted,labels=[0,1])\n",
        "print('Classification report : \\n',matrix_2)"
      ],
      "id": "COaorBTG-iwa",
      "execution_count": null,
      "outputs": []
    },
    {
      "cell_type": "code",
      "metadata": {
        "id": "7Rp6mAJJU2xK"
      },
      "source": [
        "import matplotlib.pyplot as plt\n",
        "import seaborn as sn\n",
        "df_cm = pd.DataFrame(matrix, index = [i for i in \"01\"],\n",
        "                  columns = [i for i in \"01\"])\n",
        "plt.figure(figsize = (10,7))\n",
        "sn.heatmap(df_cm, annot=True)"
      ],
      "id": "7Rp6mAJJU2xK",
      "execution_count": null,
      "outputs": []
    },
    {
      "cell_type": "code",
      "metadata": {
        "id": "C0eM31vqtXR4"
      },
      "source": [
        "from sklearn.metrics import classification_report\n",
        "from sklearn.metrics import accuracy_score\n",
        "matrix_3 = classification_report(actual,predicted,labels=[0,1], output_dict=True)\n",
        "print('Classification report : \\n',matrix_3)\n",
        "accuracy_score(actual, predicted)"
      ],
      "id": "C0eM31vqtXR4",
      "execution_count": null,
      "outputs": []
    },
    {
      "cell_type": "code",
      "metadata": {
        "id": "lFa8Ur5Ytecn"
      },
      "source": [
        "matrix_df = pd.DataFrame(matrix).transpose()\n",
        "matrix_3_df = pd.DataFrame(matrix_3).transpose()\n",
        "# matrix_df.to_csv(\"/content/drive/MyDrive/iam_dataset/saved_model/conf_matrix_transf_learn_conv_newdata_2.csv\", header=False, index=False)\n",
        "\n",
        "if save_results:\n",
        "  if model_node == 2:\n",
        "    if fc_pi == 'fc':\n",
        "      matrix_3_df.to_csv(save_path + \"classification_report_transf_learn_reuse_node2_conv_fc_retrain.csv\", header=True, index=True)\n",
        "\n",
        "    elif fc_pi == 'pi':\n",
        "      matrix_3_df.to_csv(save_path + \"classification_report_transf_learn_reuse_node2_conv_pi.csv\", header=True, index=True)\n",
        "\n",
        "    else:\n",
        "      print(\"set model_node or fc_pi\")\n",
        "    \n",
        "  elif model_node == 3:\n",
        "    if fc_pi == 'fc':\n",
        "      matrix_3_df.to_csv(save_path + \"classification_report_transf_learn_reuse_node3_conv_fc_retrain.csv\", header=True, index=True)\n",
        "\n",
        "    elif fc_pi == 'pi':\n",
        "      matrix_3_df.to_csv(save_path + \"classification_report_transf_learn_reuse_node3_conv_pi.csv\", header=True, index=True)\n",
        "\n",
        "    else:\n",
        "      print(\"set model_node or fc_pi\")\n",
        "\n",
        "  elif model_node == 4:\n",
        "    if fc_pi == 'fc':\n",
        "      matrix_3_df.to_csv(save_path + \"classification_report_modelreuse_node4conv_retrainfc_on_node1.csv\", header=True, index=True)\n",
        "\n",
        "    elif fc_pi == 'pi':\n",
        "      matrix_3_df.to_csv(save_path + \"classification_report_modelreuse_node4conv_pi_on_node1.csv\", header=True, index=True)\n",
        "\n",
        "    else:\n",
        "      print(\"set model_node or fc_pi\")\n",
        "  \n",
        "  elif model_node == 5:\n",
        "    if fc_pi == 'fc':\n",
        "      matrix_3_df.to_csv(save_path + \"classification_report_modelreuse_node5conv_retrainfc_on_node1.csv\", header=True, index=True)\n",
        "\n",
        "    elif fc_pi == 'pi':\n",
        "      matrix_3_df.to_csv(save_path + \"classification_report_modelreuse_node5conv_pi_on_node1.csv\", header=True, index=True)\n",
        "\n",
        "    else:\n",
        "      print(\"set model_node or fc_pi\")\n",
        "  \n",
        "  elif model_node == 6:\n",
        "    if fc_pi == 'fc':\n",
        "      matrix_3_df.to_csv(save_path + \"classification_report_modelreuse_node6conv_retrainfc_on_node1.csv\", header=True, index=True)\n",
        "\n",
        "    elif fc_pi == 'pi':\n",
        "      matrix_3_df.to_csv(save_path + \"classification_report_modelreuse_node6conv_pi_on_node1.csv\", header=True, index=True)\n",
        "\n",
        "    else:\n",
        "      print(\"set model_node or fc_pi\")\n",
        "  \n",
        "  elif model_node == 7:\n",
        "    if fc_pi == 'fc':\n",
        "      matrix_3_df.to_csv(save_path + \"classification_report_modelreuse_node7conv_retrainfc_on_node1.csv\", header=True, index=True)\n",
        "\n",
        "    elif fc_pi == 'pi':\n",
        "      matrix_3_df.to_csv(save_path + \"classification_report_modelreuse_node7conv_pi_on_node1.csv\", header=True, index=True)\n",
        "\n",
        "    else:\n",
        "      print(\"set model_node or fc_pi\")  \n",
        "\n",
        "  elif model_node == 23:\n",
        "      matrix_3_df.to_csv(save_path + \"classification_report_modelreuse_node2and3model_on_node1.csv\", header=True, index=True)\n",
        "else:\n",
        "    print(\"set model_node\")\n",
        "\n",
        "# pd.to_csv(\"/content/drive/MyDrive/iam_dataset/saved_model/classification_report.txt\",matrix)\n"
      ],
      "id": "lFa8Ur5Ytecn",
      "execution_count": null,
      "outputs": []
    }
  ]
}