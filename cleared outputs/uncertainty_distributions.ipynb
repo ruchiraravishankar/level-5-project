{
  "nbformat": 4,
  "nbformat_minor": 0,
  "metadata": {
    "colab": {
      "name": "uncertainty distributions.ipynb",
      "provenance": [],
      "collapsed_sections": []
    },
    "kernelspec": {
      "name": "python3",
      "display_name": "Python 3"
    },
    "language_info": {
      "name": "python"
    }
  },
  "cells": [
    {
      "cell_type": "code",
      "source": [
        "from google.colab import drive\n",
        "drive.mount('/content/drive')"
      ],
      "metadata": {
        "id": "QsR1Zjea7O7w"
      },
      "execution_count": null,
      "outputs": []
    },
    {
      "cell_type": "code",
      "execution_count": null,
      "metadata": {
        "id": "QxTB2ZndDib7"
      },
      "outputs": [],
      "source": [
        "import numpy as np\n",
        "import matplotlib.pyplot as plt\n",
        "import pandas as pd\n",
        "import seaborn as sns\n",
        "!pip install fitter\n",
        "from fitter import Fitter, get_common_distributions, get_distributions"
      ]
    },
    {
      "cell_type": "code",
      "source": [
        "# calibrated = \"/content/drive/MyDrive/iam_dataset/saved_model/calibrated_softmax/\"\n",
        "calibrated = '/content/drive/MyDrive/testing_proj/iam_dataset/saved_model/calibrated_softmax/'"
      ],
      "metadata": {
        "id": "qFzkaC2hFDqo"
      },
      "execution_count": null,
      "outputs": []
    },
    {
      "cell_type": "code",
      "source": [
        "def uncertainty_dist(node):\n",
        "  if node == 23:\n",
        "    result_calib_file = calibrated + \"result_probs_3conv_modelreuse_node23model_on_node1_calibrated.csv\"\n",
        "  else:\n",
        "    result_calib_file = calibrated + \"result_probs_3conv_\"+ \"node\"+ str(node)+ \"conv\" + \"_calibrated.csv\"\n",
        "  results_calib = pd.read_csv(result_calib_file)\n",
        "  # probs_0_cal = results_calib[results_calib[:,1]==results_calib[:,2]][:,3]\n",
        "  results_calib_numpy = np.array(results_calib)\n",
        "  results_calib_gt_0 = results_calib_numpy[results_calib_numpy[:,1]==0.0]\n",
        "  results_calib_gtnn_0 = results_calib_gt_0[results_calib_gt_0[:,2]==0.0]\n",
        "  probs_0_cal = results_calib_gtnn_0[:,3]\n",
        "  # plt.plot()\n",
        "  plt.xlim([0, 1])\n",
        "  # plt.ylim([-3, 3])\n",
        "  # sns.set()\n",
        "  plt.hist(probs_0_cal,bins=50)\n",
        "\n",
        "  plt.show()\n",
        "  \n",
        "  f = Fitter(probs_0_cal,\n",
        "           distributions=['gamma',\n",
        "                          'lognorm',\n",
        "                          \"beta\",\n",
        "                          \"burr\",\n",
        "                          \"norm\"])\n",
        "  f.fit()\n",
        "  f.summary()\n",
        "  # sns.set()"
      ],
      "metadata": {
        "id": "hcu2BfwUYkCE"
      },
      "execution_count": null,
      "outputs": []
    },
    {
      "cell_type": "code",
      "source": [
        "results_1 = calibrated + \"result_probs_3conv_node1conv_calibrated.csv\"\n",
        "results_2 = calibrated + \"result_probs_3conv_node2conv_calibrated.csv\"\n",
        "results_3 = calibrated + \"result_probs_3conv_node3conv_calibrated.csv\"\n",
        "results_4 = calibrated + \"result_probs_3conv_node4conv_calibrated.csv\"\n",
        "results_5 = calibrated + \"result_probs_3conv_node5conv_calibrated.csv\"\n",
        "results_6 = calibrated + \"result_probs_3conv_node6conv_calibrated.csv\"\n",
        "results_7 = calibrated + \"result_probs_3conv_node7conv_calibrated.csv\"\n",
        "results_model_reuse = calibrated + \"result_probs_3conv_modelreuse_node23model_on_node1_calibrated.csv\"\n",
        "\n",
        "res_list = [results_1, results_2, results_3, results_4, results_5, results_6, results_7, results_model_reuse]\n"
      ],
      "metadata": {
        "id": "1v6yUHA4Zerr"
      },
      "execution_count": null,
      "outputs": []
    },
    {
      "cell_type": "code",
      "source": [
        "uncertainty_dist(1)"
      ],
      "metadata": {
        "id": "olIjVV77-4LP"
      },
      "execution_count": null,
      "outputs": []
    },
    {
      "cell_type": "code",
      "source": [
        "uncertainty_dist(2)"
      ],
      "metadata": {
        "id": "GeYi6fYLZ7jR"
      },
      "execution_count": null,
      "outputs": []
    },
    {
      "cell_type": "code",
      "source": [
        "uncertainty_dist(3)"
      ],
      "metadata": {
        "id": "3x30h8SB_RDI"
      },
      "execution_count": null,
      "outputs": []
    },
    {
      "cell_type": "code",
      "source": [
        "uncertainty_dist(4)"
      ],
      "metadata": {
        "id": "BMh1vl1SFIy8"
      },
      "execution_count": null,
      "outputs": []
    },
    {
      "cell_type": "code",
      "source": [
        "uncertainty_dist(5)"
      ],
      "metadata": {
        "id": "x2k9qfgbFLY3"
      },
      "execution_count": null,
      "outputs": []
    },
    {
      "cell_type": "code",
      "source": [
        "uncertainty_dist(6)"
      ],
      "metadata": {
        "id": "10n-CP0tFMbT"
      },
      "execution_count": null,
      "outputs": []
    },
    {
      "cell_type": "code",
      "source": [
        "uncertainty_dist(7)"
      ],
      "metadata": {
        "id": "M5sDwdNdFNaZ"
      },
      "execution_count": null,
      "outputs": []
    },
    {
      "cell_type": "code",
      "source": [
        "uncertainty_dist(23)"
      ],
      "metadata": {
        "id": "nwUW3oBMFdvs"
      },
      "execution_count": null,
      "outputs": []
    }
  ]
}