{
  "nbformat": 4,
  "nbformat_minor": 5,
  "metadata": {
    "colab": {
      "name": "interpretability_gradcam_intgrad_saliency_maps.ipynb",
      "provenance": [],
      "collapsed_sections": []
    },
    "kernelspec": {
      "display_name": "Python 3 (ipykernel)",
      "language": "python",
      "name": "python3"
    },
    "language_info": {
      "codemirror_mode": {
        "name": "ipython",
        "version": 3
      },
      "file_extension": ".py",
      "mimetype": "text/x-python",
      "name": "python",
      "nbconvert_exporter": "python",
      "pygments_lexer": "ipython3",
      "version": "3.9.6"
    },
    "accelerator": "GPU"
  },
  "cells": [
    {
      "cell_type": "code",
      "metadata": {
        "id": "0xsFqVZGWR0_"
      },
      "source": [
        "from google.colab import drive\n",
        "drive.mount('/content/drive')"
      ],
      "id": "0xsFqVZGWR0_",
      "execution_count": null,
      "outputs": []
    },
    {
      "cell_type": "code",
      "metadata": {
        "id": "bdd1ec51"
      },
      "source": [
        "import numpy as np\n",
        "import torch\n",
        "import glob\n",
        "import os\n",
        "\n",
        "from bs4 import BeautifulSoup\n",
        "# data_path = '/Users/ruchiraravishankar/Downloads/iam_dataset/'\n",
        "data_path = '/content/drive/MyDrive/iam_dataset/'\n",
        "save_path = \"/content/drive/MyDrive/iam_dataset/saved_model\"\n",
        "# print(glob.glob(data_path))"
      ],
      "id": "bdd1ec51",
      "execution_count": null,
      "outputs": []
    },
    {
      "cell_type": "code",
      "metadata": {
        "id": "7191f93b"
      },
      "source": [
        "labelled_data = np.load(data_path + 'labelled_data.npy')\n",
        "\n",
        "print(labelled_data.shape)"
      ],
      "id": "7191f93b",
      "execution_count": null,
      "outputs": []
    },
    {
      "cell_type": "code",
      "metadata": {
        "id": "22206532"
      },
      "source": [
        "labelled_data_0 = labelled_data[labelled_data[:,1] == '000']\n",
        "\n",
        "print(labelled_data_0.shape)\n",
        "\n",
        "labelled_data_0 = labelled_data_0[:196]\n",
        "print(labelled_data_0.shape)\n",
        "\n",
        "print(np.unique(labelled_data_0[:,1]))"
      ],
      "id": "22206532",
      "execution_count": null,
      "outputs": []
    },
    {
      "cell_type": "code",
      "metadata": {
        "id": "025913bd"
      },
      "source": [
        "remove_000 = labelled_data[labelled_data[:,1]!='000']\n",
        "\n",
        "print(np.unique(remove_000[:,1]))\n",
        "print(np.unique(remove_000[:,1]).shape)"
      ],
      "id": "025913bd",
      "execution_count": null,
      "outputs": []
    },
    {
      "cell_type": "code",
      "metadata": {
        "id": "926e3c22"
      },
      "source": [
        "y = [remove_000[remove_000[:,1]==k] for k in np.unique(remove_000[:,1])]\n",
        "print(len(y))"
      ],
      "id": "926e3c22",
      "execution_count": null,
      "outputs": []
    },
    {
      "cell_type": "code",
      "metadata": {
        "id": "affcb9d8"
      },
      "source": [
        "labelled_data_1 = []\n",
        "for i in y:\n",
        "    labelled_data_1.append(i[:4])\n",
        "print(len(labelled_data_1))\n",
        "\n",
        "labelled_data_1 = np.array(labelled_data_1)\n",
        "\n",
        "print(labelled_data_1.shape)"
      ],
      "id": "affcb9d8",
      "execution_count": null,
      "outputs": []
    },
    {
      "cell_type": "code",
      "metadata": {
        "id": "797dd98d"
      },
      "source": [
        "labelled_data_1=labelled_data_1.reshape(-1,2)"
      ],
      "id": "797dd98d",
      "execution_count": null,
      "outputs": []
    },
    {
      "cell_type": "code",
      "metadata": {
        "id": "c6c293dc"
      },
      "source": [
        "print(labelled_data_1.shape)"
      ],
      "id": "c6c293dc",
      "execution_count": null,
      "outputs": []
    },
    {
      "cell_type": "code",
      "metadata": {
        "id": "ef54f007"
      },
      "source": [
        "print(np.unique(labelled_data_1[:,1]))"
      ],
      "id": "ef54f007",
      "execution_count": null,
      "outputs": []
    },
    {
      "cell_type": "code",
      "metadata": {
        "id": "72fb393e"
      },
      "source": [
        "labelled_data_new = np.concatenate((labelled_data_0, labelled_data_1))\n",
        "np.random.shuffle(labelled_data_new)\n",
        "print(labelled_data_new.shape) # mix of sentences from writer id 0 and others, labelled"
      ],
      "id": "72fb393e",
      "execution_count": null,
      "outputs": []
    },
    {
      "cell_type": "code",
      "metadata": {
        "id": "2ea68409"
      },
      "source": [
        "# split before augmenting to ensure the sentences are being split and not the augmented samples\n",
        "from sklearn.model_selection import train_test_split\n",
        "X_train, X_test, y_train, y_test = train_test_split(labelled_data_new[:,0], labelled_data_new[:,1], test_size=0.33, random_state=42)\n",
        "X_train, X_val, y_train, y_val = train_test_split(X_train, y_train, test_size=0.33, random_state=42)\n",
        "print(X_train.shape, X_test.shape, X_val.shape, y_train.shape, y_test.shape, y_val.shape)"
      ],
      "id": "2ea68409",
      "execution_count": null,
      "outputs": []
    },
    {
      "cell_type": "code",
      "metadata": {
        "id": "4b41601b"
      },
      "source": [
        "from sklearn.utils import shuffle\n",
        "from PIL import Image\n",
        "import random\n",
        "\n",
        "CROP_SIZE = 113\n",
        "NUM_LABELS = 50\n",
        "\n",
        "def get_augmented_sample(sample, label, sample_ratio):\n",
        "    # Get current image details\n",
        "    img = Image.open(sample)\n",
        "    img_width = img.size[0]\n",
        "    img_height = img.size[1]\n",
        "\n",
        "    # Compute resize dimensions such that aspect ratio is maintained\n",
        "    height_fac = CROP_SIZE / img_height\n",
        "    size = (int(img_width * height_fac), CROP_SIZE)\n",
        "\n",
        "    # Resize image \n",
        "    new_img = img.resize((size), Image.ANTIALIAS)\n",
        "    new_img_width = new_img.size[0]\n",
        "    new_img_height = new_img.size[1]\n",
        "\n",
        "    # Generate a random number of crops of size 113x113 from the resized image\n",
        "    x_coord = list(range(0, new_img_width - CROP_SIZE))\n",
        "    num_crops = int(len(x_coord) * sample_ratio)\n",
        "    random_x_coord = random.sample(x_coord, num_crops)\n",
        "    \n",
        "    # Create augmented images (cropped forms) and map them to a label (writer)\n",
        "    images = []\n",
        "    labels = []\n",
        "    for x in random_x_coord:\n",
        "        img_crop = new_img.crop((x, 0, x + CROP_SIZE, CROP_SIZE))\n",
        "        # Transform image to an array of numbers\n",
        "        images.append(np.asarray(img_crop))\n",
        "        labels.append(label)\n",
        "\n",
        "    return images, labels"
      ],
      "id": "4b41601b",
      "execution_count": null,
      "outputs": []
    },
    {
      "cell_type": "code",
      "metadata": {
        "id": "55dc6891"
      },
      "source": [
        "def augment(data, labels):\n",
        "    augmented_sample_list = []\n",
        "    augmented_label_list = []\n",
        "    for i in range(len(data)):\n",
        "        augmented_samples, augmented_labels = get_augmented_sample(data[i], labels[i],0.1)\n",
        "        augmented_sample_list.append(augmented_samples)\n",
        "        augmented_label_list.append(augmented_labels)\n",
        "    return augmented_sample_list, augmented_label_list"
      ],
      "id": "55dc6891",
      "execution_count": null,
      "outputs": []
    },
    {
      "cell_type": "code",
      "metadata": {
        "id": "664668a5"
      },
      "source": [
        "augsamps, auglbls = augment(X_train, y_train) # returns two lists of arrays\n",
        "augsamps_test, auglbls_test = augment(X_test, y_test)\n",
        "augsamps_val, auglbls_val = augment(X_val, y_val)"
      ],
      "id": "664668a5",
      "execution_count": null,
      "outputs": []
    },
    {
      "cell_type": "code",
      "metadata": {
        "id": "2f35824a"
      },
      "source": [
        "import operator\n",
        "from functools import reduce\n",
        "\n",
        "# flattening the lists\n",
        "aug_samps = reduce(operator.add, augsamps)\n",
        "aug_lbls = reduce(operator.add, auglbls)\n",
        "\n",
        "aug_samps_test = reduce(operator.add, augsamps_test)\n",
        "aug_lbls_test = reduce(operator.add, auglbls_test)\n",
        "\n",
        "aug_samps_val = reduce(operator.add, augsamps_val)\n",
        "aug_lbls_val = reduce(operator.add, auglbls_val)\n",
        "\n",
        "print(len(aug_samps))\n",
        "print(len(aug_lbls))\n",
        "\n",
        "print(len(aug_samps_test))\n",
        "print(len(aug_lbls_test))\n",
        "\n",
        "print(len(aug_samps_val))\n",
        "print(len(aug_lbls_val))"
      ],
      "id": "2f35824a",
      "execution_count": null,
      "outputs": []
    },
    {
      "cell_type": "code",
      "metadata": {
        "id": "967237ec"
      },
      "source": [
        "# converting lists to arrays\n",
        "aug_samps_arr = np.array(aug_samps)\n",
        "aug_lbls_arr = np.array(aug_lbls)\n",
        "aug_samps_arr_test = np.array(aug_samps_test)\n",
        "aug_lbls_arr_test = np.array(aug_lbls_test)\n",
        "aug_samps_arr_val = np.array(aug_samps_val)\n",
        "aug_lbls_arr_val = np.array(aug_lbls_val)\n",
        "\n",
        "print(aug_samps_arr.shape)\n",
        "print(aug_lbls_arr.shape)\n",
        "print(aug_samps_arr_test.shape)\n",
        "print(aug_lbls_arr_test.shape)\n",
        "print(aug_samps_arr_val.shape)\n",
        "print(aug_lbls_arr_val.shape)"
      ],
      "id": "967237ec",
      "execution_count": null,
      "outputs": []
    },
    {
      "cell_type": "code",
      "metadata": {
        "id": "f568281e",
        "scrolled": true
      },
      "source": [
        "X_train = aug_samps_arr\n",
        "X_train = X_train.reshape(X_train.shape[0], 1, CROP_SIZE, CROP_SIZE)\n",
        "X_train = X_train.astype('float16')\n",
        "X_train /= 255.0\n",
        "y_train = aug_lbls_arr\n",
        "\n",
        "\n",
        "X_test = aug_samps_arr_test\n",
        "X_test = X_test.reshape(X_test.shape[0], 1, CROP_SIZE, CROP_SIZE)\n",
        "X_test = X_test.astype('float16')\n",
        "X_test /= 255.0\n",
        "y_test = aug_lbls_arr_test\n",
        "\n",
        "X_val = aug_samps_arr_val\n",
        "X_val = X_val.reshape(X_val.shape[0], 1, CROP_SIZE, CROP_SIZE)\n",
        "X_val = X_val.astype('float16')\n",
        "X_val /= 255.0\n",
        "y_val = aug_lbls_arr_val\n",
        "\n"
      ],
      "id": "f568281e",
      "execution_count": null,
      "outputs": []
    },
    {
      "cell_type": "code",
      "metadata": {
        "id": "e7d2904a"
      },
      "source": [
        "print(X_train.shape)\n",
        "print(y_train.shape)\n",
        "print(X_test.shape)\n",
        "print(y_test.shape)\n",
        "print(X_val.shape)\n",
        "print(y_val.shape)"
      ],
      "id": "e7d2904a",
      "execution_count": null,
      "outputs": []
    },
    {
      "cell_type": "code",
      "metadata": {
        "id": "78a69fdf"
      },
      "source": [
        "new = np.unique(y_train)\n",
        "print(new)\n",
        "\n",
        "y_train[y_train !='000'] = 1\n",
        "new = np.unique(y_train)\n",
        "print(new)\n",
        "\n",
        "y_train[y_train=='000'] = 0\n",
        "new = np.unique(y_train)\n",
        "print(new)\n",
        "\n",
        "print(y_train.shape)\n",
        "\n",
        "y_train = y_train.astype('float16')\n",
        "\n",
        "print(np.unique(y_train))"
      ],
      "id": "78a69fdf",
      "execution_count": null,
      "outputs": []
    },
    {
      "cell_type": "code",
      "metadata": {
        "id": "c049e9bb"
      },
      "source": [
        "new = np.unique(y_test)\n",
        "print(new)\n",
        "\n",
        "y_test[y_test !='000'] = 1\n",
        "new = np.unique(y_test)\n",
        "print(new)\n",
        "\n",
        "y_test[y_test=='000'] = 0\n",
        "new = np.unique(y_test)\n",
        "print(new)\n",
        "\n",
        "print(y_test.shape)\n",
        "\n",
        "y_test = y_test.astype('float16')\n",
        "\n",
        "print(np.unique(y_test))"
      ],
      "id": "c049e9bb",
      "execution_count": null,
      "outputs": []
    },
    {
      "cell_type": "code",
      "metadata": {
        "id": "yfDEMsWkdQmn"
      },
      "source": [
        "new = np.unique(y_val)\n",
        "print(new)\n",
        "\n",
        "y_val[y_val !='000'] = 1\n",
        "new = np.unique(y_val)\n",
        "print(new)\n",
        "\n",
        "y_val[y_val=='000'] = 0\n",
        "new = np.unique(y_val)\n",
        "print(new)\n",
        "\n",
        "print(y_val.shape)\n",
        "\n",
        "y_val = y_val.astype('float16')\n",
        "\n",
        "print(np.unique(y_val))"
      ],
      "id": "yfDEMsWkdQmn",
      "execution_count": null,
      "outputs": []
    },
    {
      "cell_type": "code",
      "metadata": {
        "id": "g1wfoJoZqOOb"
      },
      "source": [
        "torch.manual_seed(42)\n",
        "CUDA = True\n",
        "device = torch.device('cuda' if CUDA else 'cpu')\n",
        "kwargs = {'num_workers': 1, 'pin_memory': True} if CUDA else {}\n",
        "device"
      ],
      "id": "g1wfoJoZqOOb",
      "execution_count": null,
      "outputs": []
    },
    {
      "cell_type": "code",
      "metadata": {
        "id": "09217c4b"
      },
      "source": [
        "from torch.utils.data import TensorDataset, DataLoader\n",
        "\n",
        "\n",
        "tensor_x_train = torch.Tensor(X_train).type(torch.cuda.FloatTensor) # transform to torch tensor\n",
        "tensor_y_train = torch.Tensor(y_train).type(torch.cuda.FloatTensor).long()\n",
        "\n",
        "\n",
        "\n",
        "# tensor_x_train = torch.Tensor(X_train) # transform to torch tensor\n",
        "# tensor_y_train = torch.Tensor(y_train).long()\n",
        "\n",
        "train_dataset = TensorDataset(tensor_x_train,tensor_y_train) # create your datset\n",
        "train_dataloader = DataLoader(train_dataset,batch_size=16, shuffle=True, drop_last=True) # create your dataloader"
      ],
      "id": "09217c4b",
      "execution_count": null,
      "outputs": []
    },
    {
      "cell_type": "code",
      "metadata": {
        "id": "DNDz-ofrfkNC"
      },
      "source": [
        "tensor_x_val = torch.Tensor(X_val).type(torch.cuda.FloatTensor) # transform to torch tensor\n",
        "tensor_y_val = torch.Tensor(y_val).type(torch.cuda.FloatTensor).long()\n",
        "# tensor_x_train = torch.Tensor(X_train) # transform to torch tensor\n",
        "# tensor_y_train = torch.Tensor(y_train).long()\n",
        "\n",
        "val_dataset = TensorDataset(tensor_x_val,tensor_y_val) # create your datset\n",
        "val_dataloader = DataLoader(val_dataset,batch_size=16, shuffle=True, drop_last=True) # create your dataloader"
      ],
      "id": "DNDz-ofrfkNC",
      "execution_count": null,
      "outputs": []
    },
    {
      "cell_type": "code",
      "metadata": {
        "id": "c120a864"
      },
      "source": [
        "tensor_x_test = torch.Tensor(X_test).type(torch.cuda.FloatTensor) # transform to torch tensor\n",
        "tensor_y_test = torch.Tensor(y_test).long().type(torch.cuda.FloatTensor).long()\n",
        "\n",
        "# tensor_x_test = torch.Tensor(X_test) # transform to torch tensor\n",
        "# tensor_y_test = torch.Tensor(y_test).long()\n",
        "\n",
        "test_dataset = TensorDataset(tensor_x_test,tensor_y_test) # create your datset\n",
        "test_dataloader = DataLoader(test_dataset, batch_size=16, shuffle=False, drop_last=True) # create your dataloader"
      ],
      "id": "c120a864",
      "execution_count": null,
      "outputs": []
    },
    {
      "cell_type": "code",
      "metadata": {
        "id": "HOXYkXWgCKt7"
      },
      "source": [
        "tensor_x_train.shape"
      ],
      "id": "HOXYkXWgCKt7",
      "execution_count": null,
      "outputs": []
    },
    {
      "cell_type": "code",
      "metadata": {
        "id": "63b0ecba"
      },
      "source": [
        "import torch\n",
        "from torch import nn\n",
        "class Binary_Classifier(nn.Module): \n",
        "    def __init__(self):\n",
        "        super(Binary_Classifier, self).__init__()\n",
        "        self.conv1 = nn.Conv2d(in_channels=1, out_channels=10, kernel_size=3)\n",
        "        self.conv2 = nn.Conv2d(10, 20, kernel_size=3)\n",
        "        self.conv_drop = nn.Dropout2d()\n",
        "        self.conv3 = nn.Conv2d(20, 30, kernel_size=3)\n",
        "        self.fc1 = nn.Linear(4320, 1024)\n",
        "        self.fc2 = nn.Linear(1024, 2)\n",
        "        self.relu = nn.ReLU()\n",
        "        self.max_pool2d = nn.MaxPool2d(2)\n",
        "    def forward(self, x):\n",
        "        x = self.relu(self.max_pool2d(self.conv1(x)))\n",
        "        x = self.relu(self.max_pool2d(self.conv_drop(self.conv2(x))))\n",
        "        x = self.relu(self.max_pool2d(self.conv_drop(self.conv3(x))))\n",
        "        x = x.view(x.shape[0],-1)\n",
        "        # print(x.shape)\n",
        "        x = self.relu(self.fc1(x))\n",
        "        x = self.conv_drop(x)\n",
        "        x = self.fc2(x)\n",
        "        return x"
      ],
      "id": "63b0ecba",
      "execution_count": null,
      "outputs": []
    },
    {
      "cell_type": "code",
      "metadata": {
        "id": "29d5c074"
      },
      "source": [
        "model=Binary_Classifier().to(device)\n",
        "criterion = nn.CrossEntropyLoss()\n",
        "optimizer = torch.optim.Adam(model.parameters(),lr = 0.0001)\n",
        "\n",
        "# import torch.optim.lr_scheduler.StepLR\n",
        "# scheduler = torch.optim.lr_scheduler.StepLR(optimizer, step_size=1, gamma=0.1)\n"
      ],
      "id": "29d5c074",
      "execution_count": null,
      "outputs": []
    },
    {
      "cell_type": "code",
      "metadata": {
        "id": "qnFjmaPqPwzH"
      },
      "source": [
        "import os\n",
        "\n",
        "if os.path.exists(save_path +'/model_3_convs.pt'):\n",
        "    print('Loading checkpoint: %s' %save_path +'/model_3_convs.pt')\n",
        "    path = torch.load(save_path +'/model_3_convs.pt')\n",
        "    epoch = path['epoch']\n",
        "    model.load_state_dict(path['model'])\n",
        "    optimizer.load_state_dict(path['optimizer'])\n",
        "else:\n",
        "  print(\"DID NOT DO ANYTHING\")"
      ],
      "id": "qnFjmaPqPwzH",
      "execution_count": null,
      "outputs": []
    },
    {
      "cell_type": "code",
      "metadata": {
        "id": "UElBlZoYQnpp"
      },
      "source": [
        "result = []\n",
        "prediction = []\n",
        "model.eval()\n",
        "with torch.no_grad():\n",
        "    for idx, (data, target) in enumerate(test_dataloader):\n",
        "        output = model(data)\n",
        "        output_sm = nn.Softmax(dim=1)(output)\n",
        "        _, predicted = torch.max(output, 1)\n",
        "        prediction.append(predicted)\n",
        "        result.append(output_sm)\n",
        "        \n",
        "result = torch.stack(result).detach().cpu().numpy()\n",
        "prediction = torch.stack(prediction).detach().cpu().numpy()\n",
        "\n",
        "print(result.shape, prediction.shape)"
      ],
      "id": "UElBlZoYQnpp",
      "execution_count": null,
      "outputs": []
    },
    {
      "cell_type": "code",
      "source": [
        "!pip install captum\n",
        "from captum.attr import GuidedGradCam\n",
        "from captum.attr import visualization as viz\n",
        "from captum.attr import IntegratedGradients\n",
        "from captum.attr import Saliency"
      ],
      "metadata": {
        "id": "urg-nretBCXo"
      },
      "id": "urg-nretBCXo",
      "execution_count": null,
      "outputs": []
    },
    {
      "cell_type": "code",
      "source": [
        "def gradcam(model, data, target, map, sign):\n",
        "  data = data.reshape(1, data.shape[0], data.shape[1], data.shape[2])\n",
        "  guided_gc = GuidedGradCam(model, model.conv3)\n",
        "  # inp = data\n",
        "  # tar = tensor_y_test[0]\n",
        "  attribution = guided_gc.attribute(data, target)\n",
        "  # print(attribution)\n",
        "  # print(attribution.cpu().detach().numpy().reshape(1,113,113))\n",
        "  _ = viz.visualize_image_attr(attribution.cpu().detach().numpy().reshape(1,113,113), data.cpu().numpy().reshape(1,113,113), map, sign)\n",
        "  return attribution"
      ],
      "metadata": {
        "id": "ggPVDegXti6M"
      },
      "id": "ggPVDegXti6M",
      "execution_count": null,
      "outputs": []
    },
    {
      "cell_type": "code",
      "source": [
        "gradcam(model, tensor_x_test[7], tensor_y_test[7],\"heat_map\", \"all\")"
      ],
      "metadata": {
        "id": "Ri0Vve-wfEVu"
      },
      "id": "Ri0Vve-wfEVu",
      "execution_count": null,
      "outputs": []
    },
    {
      "cell_type": "code",
      "source": [
        "def intgrad(model, data, target):\n",
        "  trial = data.reshape(1, data.shape[0], data.shape[1], data.shape[2])\n",
        "  ig = IntegratedGradients(model)\n",
        "  baseline1 = torch.tensor([0.0]).type(torch.cuda.FloatTensor)\n",
        "  attribution = ig.attribute(trial, baseline1, target)\n",
        "  _ = viz.visualize_image_attr(attribution.cpu().numpy().reshape(1,113,113), data.cpu().numpy(),\"heat_map\")\n",
        "  return attribution"
      ],
      "metadata": {
        "id": "wv4QdEbawL4B"
      },
      "id": "wv4QdEbawL4B",
      "execution_count": null,
      "outputs": []
    },
    {
      "cell_type": "code",
      "source": [
        "intgrad(model, tensor_x_test[0], tensor_y_test[0])"
      ],
      "metadata": {
        "id": "K91XDQuMwQvL"
      },
      "id": "K91XDQuMwQvL",
      "execution_count": null,
      "outputs": []
    },
    {
      "cell_type": "code",
      "source": [
        "def saliency(model, data, target):\n",
        "  data = data.reshape(1, data.shape[0], data.shape[1], data.shape[2])\n",
        "  sal = Saliency(model)\n",
        "# baseline1 = torch.tensor([0.0]).type(torch.cuda.FloatTensor)\n",
        "  attribution = sal.attribute(data, target)\n",
        "  _ = viz.visualize_image_attr(attribution.cpu().numpy().reshape(1,113,113), data.cpu().numpy().reshape(1,113,113),\"blended_heat_map\")\n",
        "  return attribution"
      ],
      "metadata": {
        "id": "tXMPX55ixy_I"
      },
      "id": "tXMPX55ixy_I",
      "execution_count": null,
      "outputs": []
    },
    {
      "cell_type": "code",
      "source": [
        "saliency(model, tensor_x_test[0], tensor_y_test[0])"
      ],
      "metadata": {
        "id": "o92Ob03izqwK"
      },
      "id": "o92Ob03izqwK",
      "execution_count": null,
      "outputs": []
    },
    {
      "cell_type": "code",
      "source": [
        "for idx, (data, target) in enumerate(zip(tensor_x_test, tensor_y_test)):\n",
        "  saliency(model, data, target)"
      ],
      "metadata": {
        "id": "1TElnECtcZLw"
      },
      "id": "1TElnECtcZLw",
      "execution_count": null,
      "outputs": []
    }
  ]
}