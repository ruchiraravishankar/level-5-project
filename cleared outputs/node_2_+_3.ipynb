{
  "nbformat": 4,
  "nbformat_minor": 5,
  "metadata": {
    "colab": {
      "name": "node 2 + 3.ipynb",
      "provenance": [],
      "collapsed_sections": []
    },
    "kernelspec": {
      "display_name": "Python 3 (ipykernel)",
      "language": "python",
      "name": "python3"
    },
    "language_info": {
      "codemirror_mode": {
        "name": "ipython",
        "version": 3
      },
      "file_extension": ".py",
      "mimetype": "text/x-python",
      "name": "python",
      "nbconvert_exporter": "python",
      "pygments_lexer": "ipython3",
      "version": "3.9.6"
    },
    "accelerator": "GPU"
  },
  "cells": [
    {
      "cell_type": "code",
      "metadata": {
        "id": "0xsFqVZGWR0_"
      },
      "source": [
        "from google.colab import drive\n",
        "drive.mount('/content/drive')"
      ],
      "id": "0xsFqVZGWR0_",
      "execution_count": null,
      "outputs": []
    },
    {
      "cell_type": "code",
      "metadata": {
        "id": "bdd1ec51"
      },
      "source": [
        "import numpy as np\n",
        "import torch\n",
        "\n",
        "import os\n",
        "\n",
        "# data_path = '/Users/ruchiraravishankar/Downloads/iam_dataset/'\n",
        "data_path = '/content/drive/MyDrive/iam_dataset/'\n",
        "save_path = \"/content/drive/MyDrive/iam_dataset/saved_model/\"\n",
        "\n",
        "# print(glob.glob(data_path))"
      ],
      "id": "bdd1ec51",
      "execution_count": null,
      "outputs": []
    },
    {
      "cell_type": "code",
      "source": [
        "# toggles to change training and nodes\n",
        "\n",
        "# set NODE to 2 or 3 or to reuse node 2 model on node 3, set to 23\n",
        "NODE = 2\n",
        "# NODE 23 only has plain_inf and fc settings, conv does not work\n",
        "# transfer learning toggle\n",
        "fc = True\n",
        "conv = False\n",
        "plain_inf = False\n",
        "\n",
        "\n",
        "# toggle to save model\n",
        "save_model = True\n",
        "# toggle to save results\n",
        "save_results = True\n",
        "\n",
        "if plain_inf:\n",
        "  save_model = False\n"
      ],
      "metadata": {
        "id": "FrMBPE1Zf44s"
      },
      "id": "FrMBPE1Zf44s",
      "execution_count": null,
      "outputs": []
    },
    {
      "cell_type": "code",
      "source": [
        "labelled_data = np.load(data_path + \"labelled_data.npy\")"
      ],
      "metadata": {
        "id": "Q7Glo3vAbuDr"
      },
      "id": "Q7Glo3vAbuDr",
      "execution_count": null,
      "outputs": []
    },
    {
      "cell_type": "code",
      "metadata": {
        "id": "22206532"
      },
      "source": [
        "labelled_data_0 = labelled_data[labelled_data[:,1] == '000']\n",
        "\n",
        "print(labelled_data_0.shape)\n",
        "if NODE == 2:\n",
        "  labelled_data_0 = labelled_data_0[196:(196*2)] # different set of data to the one that its originally trained on\n",
        "elif NODE == 3 or NODE == 23:\n",
        "  labelled_data_0 = labelled_data_0[(196*2):(196*3)] \n",
        "else:\n",
        "  print(\"NODE not set\")\n",
        "print(labelled_data_0.shape)\n",
        "print(np.unique(labelled_data_0[:,1]))"
      ],
      "id": "22206532",
      "execution_count": null,
      "outputs": []
    },
    {
      "cell_type": "code",
      "metadata": {
        "id": "025913bd"
      },
      "source": [
        "remove_000 = labelled_data[labelled_data[:,1]!='000']\n",
        "\n",
        "print(np.unique(remove_000[:,1]))\n",
        "print(np.unique(remove_000[:,1]).shape)"
      ],
      "id": "025913bd",
      "execution_count": null,
      "outputs": []
    },
    {
      "cell_type": "code",
      "metadata": {
        "id": "926e3c22"
      },
      "source": [
        "y = [remove_000[remove_000[:,1]==k] for k in np.unique(remove_000[:,1])]\n",
        "print(len(y))"
      ],
      "id": "926e3c22",
      "execution_count": null,
      "outputs": []
    },
    {
      "cell_type": "code",
      "metadata": {
        "id": "affcb9d8"
      },
      "source": [
        "labelled_data_1 = []\n",
        "for i in y:\n",
        "  if NODE == 2:\n",
        "    labelled_data_1.append(i[5:9]) # different set of data to the one that its originally trained on\n",
        "  elif NODE == 3 or NODE == 23:\n",
        "    labelled_data_1.append(i[9:13])\n",
        "  else:\n",
        "    print(\"NODE not set\")\n",
        "\n",
        "print(len(labelled_data_1))\n",
        "\n",
        "labelled_data_1 = np.array(labelled_data_1)\n",
        "\n",
        "print(labelled_data_1.shape)"
      ],
      "id": "affcb9d8",
      "execution_count": null,
      "outputs": []
    },
    {
      "cell_type": "code",
      "metadata": {
        "id": "797dd98d"
      },
      "source": [
        "labelled_data_1=labelled_data_1.reshape(-1,2)"
      ],
      "id": "797dd98d",
      "execution_count": null,
      "outputs": []
    },
    {
      "cell_type": "code",
      "metadata": {
        "id": "c6c293dc"
      },
      "source": [
        "print(labelled_data_1.shape)"
      ],
      "id": "c6c293dc",
      "execution_count": null,
      "outputs": []
    },
    {
      "cell_type": "code",
      "source": [
        "import matplotlib.pyplot as plt\n",
        "from collections import Counter\n",
        "labelled_data_1_count = Counter(labelled_data_1[:,1])\n",
        "plt.figure(figsize=(20,3))\n",
        "plt.bar(labelled_data_1_count.keys(), labelled_data_1_count.values(), width=0.5)"
      ],
      "metadata": {
        "id": "-95_NrC27H22"
      },
      "id": "-95_NrC27H22",
      "execution_count": null,
      "outputs": []
    },
    {
      "cell_type": "code",
      "source": [
        "# import matplotlib.pyplot as plt\n",
        "# plt.figure(figsize=(20,3))\n",
        "labelled_data_0_count = Counter(labelled_data_0[:,1])\n",
        "# plt.figure(figsize=(20,3))\n",
        "plt.bar(labelled_data_0_count.keys(), labelled_data_0_count.values(), width=0.5)"
      ],
      "metadata": {
        "id": "Xd60iLqe9RWw"
      },
      "id": "Xd60iLqe9RWw",
      "execution_count": null,
      "outputs": []
    },
    {
      "cell_type": "code",
      "metadata": {
        "id": "ef54f007"
      },
      "source": [
        "print(np.unique(labelled_data_1[:,1]))"
      ],
      "id": "ef54f007",
      "execution_count": null,
      "outputs": []
    },
    {
      "cell_type": "code",
      "metadata": {
        "id": "72fb393e"
      },
      "source": [
        "labelled_data_new = np.concatenate((labelled_data_0, labelled_data_1))\n",
        "np.random.shuffle(labelled_data_new)\n",
        "print(labelled_data_new.shape) # mix of sentences from writer id 0 and others, labelled"
      ],
      "id": "72fb393e",
      "execution_count": null,
      "outputs": []
    },
    {
      "cell_type": "code",
      "source": [
        "class_counts = {'0':len(labelled_data_0),'1':len(labelled_data_1)}\n",
        "plt.bar(class_counts.keys(), class_counts.values(), width=0.5)"
      ],
      "metadata": {
        "id": "N8qYIw-ciXvP"
      },
      "id": "N8qYIw-ciXvP",
      "execution_count": null,
      "outputs": []
    },
    {
      "cell_type": "code",
      "metadata": {
        "id": "2ea68409"
      },
      "source": [
        "# split before augmenting to ensure the sentences are being split and not the augmented samples\n",
        "from sklearn.model_selection import train_test_split\n",
        "X_train, X_test, y_train, y_test = train_test_split(labelled_data_new[:,0], labelled_data_new[:,1], test_size=0.33, random_state=42)\n",
        "print(X_train.shape, X_test.shape, y_train.shape, y_test.shape)"
      ],
      "id": "2ea68409",
      "execution_count": null,
      "outputs": []
    },
    {
      "cell_type": "code",
      "metadata": {
        "id": "4b41601b"
      },
      "source": [
        "from sklearn.utils import shuffle\n",
        "from PIL import Image\n",
        "import random\n",
        "\n",
        "CROP_SIZE = 113\n",
        "NUM_LABELS = 50\n",
        "\n",
        "def get_augmented_sample(sample, label, sample_ratio):\n",
        "    # Get current image details\n",
        "    img = Image.open(sample)\n",
        "    img_width = img.size[0]\n",
        "    img_height = img.size[1]\n",
        "\n",
        "    # Compute resize dimensions such that aspect ratio is maintained\n",
        "    height_fac = CROP_SIZE / img_height\n",
        "    size = (int(img_width * height_fac), CROP_SIZE)\n",
        "\n",
        "    # Resize image \n",
        "    new_img = img.resize((size), Image.ANTIALIAS)\n",
        "    new_img_width = new_img.size[0]\n",
        "    new_img_height = new_img.size[1]\n",
        "\n",
        "    # Generate a random number of crops of size 113x113 from the resized image\n",
        "    x_coord = list(range(0, new_img_width - CROP_SIZE))\n",
        "    num_crops = int(len(x_coord) * sample_ratio)\n",
        "    random_x_coord = random.sample(x_coord, num_crops)\n",
        "    \n",
        "    # Create augmented images (cropped forms) and map them to a label (writer)\n",
        "    images = []\n",
        "    labels = []\n",
        "    for x in random_x_coord:\n",
        "        img_crop = new_img.crop((x, 0, x + CROP_SIZE, CROP_SIZE))\n",
        "        # Transform image to an array of numbers\n",
        "        images.append(np.asarray(img_crop))\n",
        "        labels.append(label)\n",
        "\n",
        "    return images, labels"
      ],
      "id": "4b41601b",
      "execution_count": null,
      "outputs": []
    },
    {
      "cell_type": "code",
      "metadata": {
        "id": "55dc6891"
      },
      "source": [
        "def augment(data, labels):\n",
        "    augmented_sample_list = []\n",
        "    augmented_label_list = []\n",
        "    for i in range(len(data)):\n",
        "        augmented_samples, augmented_labels = get_augmented_sample(data[i], labels[i],0.1)\n",
        "        augmented_sample_list.append(augmented_samples)\n",
        "        augmented_label_list.append(augmented_labels)\n",
        "    return augmented_sample_list, augmented_label_list"
      ],
      "id": "55dc6891",
      "execution_count": null,
      "outputs": []
    },
    {
      "cell_type": "code",
      "metadata": {
        "id": "664668a5"
      },
      "source": [
        "augsamps, auglbls = augment(X_train, y_train) # returns two lists of arrays\n",
        "ausamps_test, auglbls_test = augment(X_test, y_test)"
      ],
      "id": "664668a5",
      "execution_count": null,
      "outputs": []
    },
    {
      "cell_type": "code",
      "metadata": {
        "id": "2f35824a"
      },
      "source": [
        "import operator\n",
        "from functools import reduce\n",
        "\n",
        "# flattening the lists\n",
        "aug_samps = reduce(operator.add, augsamps)\n",
        "aug_lbls = reduce(operator.add, auglbls)\n",
        "\n",
        "aug_samps_test = reduce(operator.add, ausamps_test)\n",
        "aug_lbls_test = reduce(operator.add, auglbls_test)\n",
        "print(len(aug_samps))\n",
        "print(len(aug_lbls))\n",
        "\n",
        "print(len(aug_samps_test))\n",
        "print(len(aug_lbls_test))"
      ],
      "id": "2f35824a",
      "execution_count": null,
      "outputs": []
    },
    {
      "cell_type": "code",
      "metadata": {
        "id": "967237ec"
      },
      "source": [
        "# converting lists to arrays\n",
        "aug_samps_arr = np.array(aug_samps)\n",
        "aug_lbls_arr = np.array(aug_lbls)\n",
        "aug_samps_arr_test = np.array(aug_samps_test)\n",
        "aug_lbls_arr_test = np.array(aug_lbls_test)\n",
        "\n",
        "print(aug_samps_arr.shape)\n",
        "print(aug_lbls_arr.shape)\n",
        "print(aug_samps_arr_test.shape)\n",
        "print(aug_lbls_arr_test.shape)"
      ],
      "id": "967237ec",
      "execution_count": null,
      "outputs": []
    },
    {
      "cell_type": "code",
      "metadata": {
        "id": "0mNPPupPKTTY"
      },
      "source": [
        "def transform_data_aug_samps(data):\n",
        "  data = data.reshape(data.shape[0], 1, CROP_SIZE, CROP_SIZE)\n",
        "  data = data.astype('float16')\n",
        "  data /= 255.0\n",
        "  return data"
      ],
      "execution_count": null,
      "outputs": [],
      "id": "0mNPPupPKTTY"
    },
    {
      "cell_type": "code",
      "metadata": {
        "id": "GkrDuw_eLcLp"
      },
      "source": [
        "X_train = transform_data_aug_samps(aug_samps_arr)\n",
        "X_test = transform_data_aug_samps(aug_samps_arr_test)"
      ],
      "execution_count": null,
      "outputs": [],
      "id": "GkrDuw_eLcLp"
    },
    {
      "cell_type": "code",
      "metadata": {
        "id": "ejqTLyaUKyVO"
      },
      "source": [
        "def convert_y_labels(labels):\n",
        "  new = np.unique(labels)\n",
        "  print(new)\n",
        "\n",
        "  labels[labels !='000'] = 1\n",
        "  new = np.unique(labels)\n",
        "  print(new)\n",
        "\n",
        "  labels[labels=='000'] = 0\n",
        "  new = np.unique(labels)\n",
        "  print(new)\n",
        "\n",
        "  print(labels.shape)\n",
        "\n",
        "  labels = labels.astype('float16')\n",
        "\n",
        "  print(np.unique(labels))\n",
        "  return labels"
      ],
      "execution_count": null,
      "outputs": [],
      "id": "ejqTLyaUKyVO"
    },
    {
      "cell_type": "code",
      "metadata": {
        "id": "dN_qCMmDMRW2"
      },
      "source": [
        "y_train = convert_y_labels(aug_lbls_arr)\n",
        "y_test = convert_y_labels(aug_lbls_arr_test)\n"
      ],
      "execution_count": null,
      "outputs": [],
      "id": "dN_qCMmDMRW2"
    },
    {
      "cell_type": "code",
      "metadata": {
        "id": "RKJYgnP5bNyo"
      },
      "source": [
        "print(X_train.shape)\n",
        "print(y_train.shape)\n",
        "print(X_test.shape)\n",
        "print(y_test.shape)"
      ],
      "execution_count": null,
      "outputs": [],
      "id": "RKJYgnP5bNyo"
    },
    {
      "cell_type": "code",
      "metadata": {
        "id": "4bt_Nvt2xsGC"
      },
      "source": [
        "print(y_test[y_test==1.0].shape)"
      ],
      "id": "4bt_Nvt2xsGC",
      "execution_count": null,
      "outputs": []
    },
    {
      "cell_type": "code",
      "metadata": {
        "id": "g1wfoJoZqOOb"
      },
      "source": [
        "torch.manual_seed(42)\n",
        "CUDA = torch.cuda.is_available()\n",
        "\n",
        "device = torch.device('cuda' if CUDA else 'cpu')\n",
        "kwargs = {'num_workers': 1, 'pin_memory': True} if CUDA else {}\n",
        "device"
      ],
      "id": "g1wfoJoZqOOb",
      "execution_count": null,
      "outputs": []
    },
    {
      "cell_type": "code",
      "metadata": {
        "id": "09217c4b"
      },
      "source": [
        "from torch.utils.data import TensorDataset, DataLoader\n",
        "\n",
        "if CUDA:\n",
        "  tensor_x_train = torch.Tensor(X_train).type(torch.cuda.FloatTensor) # transform to torch tensor\n",
        "  tensor_y_train = torch.Tensor(y_train).type(torch.cuda.FloatTensor).long()\n",
        "else:\n",
        "  tensor_x_train = torch.Tensor(X_train).type(torch.FloatTensor) # transform to torch tensor\n",
        "  tensor_y_train = torch.Tensor(y_train).type(torch.FloatTensor).long()\n",
        "\n",
        "train_dataset = TensorDataset(tensor_x_train,tensor_y_train) # create your datset\n",
        "train_dataloader = DataLoader(train_dataset,batch_size=16, shuffle=True, drop_last=True) # create your dataloader"
      ],
      "id": "09217c4b",
      "execution_count": null,
      "outputs": []
    },
    {
      "cell_type": "code",
      "metadata": {
        "id": "c120a864"
      },
      "source": [
        "if CUDA:\n",
        "  tensor_x_test = torch.Tensor(X_test).type(torch.cuda.FloatTensor) # transform to torch tensor\n",
        "  tensor_y_test = torch.Tensor(y_test).type(torch.cuda.FloatTensor).long()\n",
        "else:\n",
        "  tensor_x_test = torch.Tensor(X_test).type(torch.FloatTensor) # transform to torch tensor\n",
        "  tensor_y_test = torch.Tensor(y_test).type(torch.FloatTensor).long()\n",
        "\n",
        "test_dataset = TensorDataset(tensor_x_test,tensor_y_test) # create your datset\n",
        "test_dataloader = DataLoader(test_dataset, batch_size=16, shuffle=False, drop_last=True) # create your dataloader"
      ],
      "id": "c120a864",
      "execution_count": null,
      "outputs": []
    },
    {
      "cell_type": "code",
      "metadata": {
        "id": "HOXYkXWgCKt7"
      },
      "source": [
        "tensor_x_train.shape"
      ],
      "id": "HOXYkXWgCKt7",
      "execution_count": null,
      "outputs": []
    },
    {
      "cell_type": "code",
      "metadata": {
        "id": "63b0ecba"
      },
      "source": [
        "from torch import nn\n",
        "class Binary_Classifier(nn.Module): \n",
        "    def __init__(self):\n",
        "        super(Binary_Classifier, self).__init__()\n",
        "        self.conv1 = nn.Conv2d(in_channels=1, out_channels=10, kernel_size=3)\n",
        "        self.conv2 = nn.Conv2d(10, 20, kernel_size=3)\n",
        "        self.conv_drop = nn.Dropout2d()\n",
        "        self.conv3 = nn.Conv2d(20, 30, kernel_size=3)\n",
        "        self.fc1 = nn.Linear(4320, 1024)\n",
        "        self.fc2 = nn.Linear(1024, 2)\n",
        "        self.relu = nn.ReLU()\n",
        "        self.max_pool2d = nn.MaxPool2d(2)\n",
        "    def forward(self, x):\n",
        "        x = self.relu(self.max_pool2d(self.conv1(x)))\n",
        "        x = self.relu(self.max_pool2d(self.conv_drop(self.conv2(x))))\n",
        "        x = self.relu(self.max_pool2d(self.conv_drop(self.conv3(x))))\n",
        "        x = x.view(x.shape[0],-1)\n",
        "        # print(x.shape)\n",
        "        x = self.relu(self.fc1(x))\n",
        "        x = self.conv_drop(x)\n",
        "        x = self.fc2(x)\n",
        "        return x"
      ],
      "id": "63b0ecba",
      "execution_count": null,
      "outputs": []
    },
    {
      "cell_type": "code",
      "metadata": {
        "id": "29d5c074"
      },
      "source": [
        "model=Binary_Classifier().to(device)\n",
        "criterion = nn.CrossEntropyLoss()\n",
        "optimizer = torch.optim.Adam(model.parameters(),lr = 0.0001)"
      ],
      "id": "29d5c074",
      "execution_count": null,
      "outputs": []
    },
    {
      "cell_type": "code",
      "source": [
        "if NODE == 23:\n",
        "  model_path = 'model_tf_3_convs_retrain_last_conv_node2.pt'\n",
        "else:\n",
        "  model_path = 'model_3_convs.pt'\n"
      ],
      "metadata": {
        "id": "asHtxam9wB1G"
      },
      "id": "asHtxam9wB1G",
      "execution_count": null,
      "outputs": []
    },
    {
      "cell_type": "code",
      "metadata": {
        "id": "q_dcto_cRix5"
      },
      "source": [
        "try:\n",
        "    print('Loading checkpoint: %s' % \"/content/drive/MyDrive/iam_dataset/saved_model/\" + model_path)\n",
        "    path = torch.load( \"/content/drive/MyDrive/iam_dataset/saved_model/\"  + model_path)\n",
        "    epoch = path['epoch']\n",
        "    model.load_state_dict(path['model'])\n",
        "    optimizer.load_state_dict(path['optimizer'])\n",
        "except Exception as e:\n",
        "  print(\"nothing happened\")\n",
        "  print(e)"
      ],
      "id": "q_dcto_cRix5",
      "execution_count": null,
      "outputs": []
    },
    {
      "cell_type": "code",
      "metadata": {
        "id": "z44prhBFQA76"
      },
      "source": [
        "print(model.parameters)"
      ],
      "id": "z44prhBFQA76",
      "execution_count": null,
      "outputs": []
    },
    {
      "cell_type": "code",
      "metadata": {
        "id": "7-4DlQ4LPeRi"
      },
      "source": [
        "print(device)"
      ],
      "id": "7-4DlQ4LPeRi",
      "execution_count": null,
      "outputs": []
    },
    {
      "cell_type": "code",
      "metadata": {
        "id": "PMiXAng53sex"
      },
      "source": [
        "if fc or conv:\n",
        "  for param in model.parameters():\n",
        "    param.requires_grad = False"
      ],
      "id": "PMiXAng53sex",
      "execution_count": null,
      "outputs": []
    },
    {
      "cell_type": "code",
      "metadata": {
        "id": "HGx21fjR6B_f"
      },
      "source": [
        "if conv and NODE != 23:\n",
        "  for param in model.conv3.parameters():\n",
        "    param.requires_grad = True"
      ],
      "id": "HGx21fjR6B_f",
      "execution_count": null,
      "outputs": []
    },
    {
      "cell_type": "code",
      "metadata": {
        "id": "2lmEG2ye4SZ6"
      },
      "source": [
        "if fc or conv:\n",
        "  num_ftrs = model.fc2.in_features\n",
        "  print(num_ftrs)\n",
        "  model.fc2 = nn.Linear(num_ftrs, 2).to(device)"
      ],
      "id": "2lmEG2ye4SZ6",
      "execution_count": null,
      "outputs": []
    },
    {
      "cell_type": "code",
      "metadata": {
        "id": "pi7rS_fwRaTj"
      },
      "source": [
        "for param in model.parameters():\n",
        "  print(param.requires_grad)"
      ],
      "id": "pi7rS_fwRaTj",
      "execution_count": null,
      "outputs": []
    },
    {
      "cell_type": "code",
      "metadata": {
        "id": "9Ykv4G0NtmH9"
      },
      "source": [
        "train_losses = []\n",
        "train_loss_record = []"
      ],
      "id": "9Ykv4G0NtmH9",
      "execution_count": null,
      "outputs": []
    },
    {
      "cell_type": "code",
      "metadata": {
        "id": "1olHEZqhudxC"
      },
      "source": [
        "from datetime import datetime\n",
        "train_log_string = '%s :: Epoch %i :: Iter %i / %i :: train loss: %0.4f'\n",
        "def train(epoch):\n",
        "    print('Start Epoch {} Training...'.format(epoch))\n",
        "    model.train()\n",
        "    train_loss = []\n",
        "    train_loss_sum = []\n",
        "    for idx, (data, target) in enumerate(train_dataloader):\n",
        "        optimizer.zero_grad()\n",
        "        #  forward-pass\n",
        "        output = model(data)\n",
        "        loss = criterion(output, target)\n",
        "        #backward-pass\n",
        "        loss.backward()\n",
        "        # Update the parameters\n",
        "        optimizer.step()\n",
        "        train_loss.append(loss.data.cpu().numpy())\n",
        "        train_loss_sum.append(loss)\n",
        "        if ((idx +1) % 5000) == 0:\n",
        "          print(train_log_string % (datetime.now(), epoch, idx + 1, len(train_dataloader), np.mean(train_loss)))\n",
        "          train_loss = []\n",
        "    mean_tr = torch.mean(torch.stack(train_loss_sum))\n",
        "    print('Train Loss at epoch {}: {}\\n'.format(epoch, mean_tr))\n",
        "    train_loss_record.append(mean_tr)\n",
        "    return train_loss_record"
      ],
      "id": "1olHEZqhudxC",
      "execution_count": null,
      "outputs": []
    },
    {
      "cell_type": "code",
      "metadata": {
        "id": "Ba6w34bjtN9v"
      },
      "source": [
        "# for epoch in range(15):\n",
        "#     tlr = train(epoch)\n",
        "import time\n",
        "if fc or conv:\n",
        "  train(1)\n",
        "  torch.cuda.synchronize()\n",
        "\n",
        "  times = []\n",
        "  for epoch in range(15):\n",
        "      start_epoch = time.time()\n",
        "      tlr = train(epoch)\n",
        "      torch.cuda.synchronize()\n",
        "      end_epoch = time.time()\n",
        "      elapsed = end_epoch - start_epoch\n",
        "      times.append(elapsed)\n",
        "\n",
        "  avg_time = sum(times)/15\n",
        "  print(avg_time)"
      ],
      "id": "Ba6w34bjtN9v",
      "execution_count": null,
      "outputs": []
    },
    {
      "cell_type": "code",
      "source": [
        "# fc time 10.269379647572835\n",
        "# conv time 17.83478244145711\n"
      ],
      "metadata": {
        "id": "KsbPkTc1WJ74"
      },
      "id": "KsbPkTc1WJ74",
      "execution_count": null,
      "outputs": []
    },
    {
      "cell_type": "code",
      "metadata": {
        "id": "8UD3CqceSgPs"
      },
      "source": [
        "import matplotlib.pyplot as plt\n",
        "if fc or conv:\n",
        "  temp = [t.detach().cpu().numpy() for t in tlr]\n",
        "  arr = np.array(temp)\n",
        "  print(arr.shape)\n",
        "\n",
        "  plt.plot(arr)"
      ],
      "id": "8UD3CqceSgPs",
      "execution_count": null,
      "outputs": []
    },
    {
      "cell_type": "code",
      "metadata": {
        "id": "f9E2tf0EQy2K"
      },
      "source": [
        "if save_model:\n",
        "  state_dict = {\n",
        "      'epoch': epoch,\n",
        "      'model': model.state_dict(),\n",
        "      'optimizer': optimizer.state_dict(),\n",
        "  }\n",
        "  if NODE == 2:\n",
        "    if fc:\n",
        "      torch.save(state_dict, save_path+'model_tf_3_convs_retrain_last_fc_node2.pt')\n",
        "      print('Model saved!\\n')\n",
        "    elif conv:\n",
        "      torch.save(state_dict, save_path+'model_tf_3_convs_retrain_last_conv_node2.pt')\n",
        "      print('Model saved!\\n')\n",
        "    else:\n",
        "      print(\"set NODE or fc/conv\")\n",
        "    \n",
        "  elif NODE == 3:\n",
        "    if fc:\n",
        "      torch.save(state_dict, save_path+'model_tf_3_convs_retrain_last_fc_node3.pt')\n",
        "      print('Model saved!\\n')\n",
        "    elif conv:\n",
        "      torch.save(state_dict, save_path+'model_tf_3_convs_retrain_last_conv_node3.pt')\n",
        "      print('Model saved!\\n')\n",
        "    else:\n",
        "      print(\"set fc/conv\")\n",
        "\n",
        "  elif NODE == 23:\n",
        "    torch.save(state_dict, save_path+'modelreuse_node2convmodel_retrainedfc_on_node3.pt')\n",
        "    print('Model saved!\\n')\n",
        "\n",
        "  else:\n",
        "      print(\"set NODE\")"
      ],
      "id": "f9E2tf0EQy2K",
      "execution_count": null,
      "outputs": []
    },
    {
      "cell_type": "code",
      "metadata": {
        "id": "UElBlZoYQnpp"
      },
      "source": [
        "result = []\n",
        "prediction = []\n",
        "model.eval()\n",
        "with torch.no_grad():\n",
        "    for idx, (data, target) in enumerate(test_dataloader):\n",
        "        output = model(data)\n",
        "        output_sm = nn.Softmax(dim=1)(output)\n",
        "        _, predicted = torch.max(output, 1)\n",
        "        prediction.append(predicted)\n",
        "        result.append(output_sm)\n",
        "        \n",
        "result = torch.stack(result).detach().cpu().numpy()\n",
        "prediction = torch.stack(prediction).detach().cpu().numpy()\n",
        "\n",
        "print(result.shape, prediction.shape)"
      ],
      "id": "UElBlZoYQnpp",
      "execution_count": null,
      "outputs": []
    },
    {
      "cell_type": "code",
      "metadata": {
        "id": "Hs1Q0JC2xKjs"
      },
      "source": [
        "print(prediction.reshape(-1).shape)"
      ],
      "id": "Hs1Q0JC2xKjs",
      "execution_count": null,
      "outputs": []
    },
    {
      "cell_type": "code",
      "metadata": {
        "id": "dCcQqc-VsfnE"
      },
      "source": [
        "import pandas as pd\n",
        "res = pd.DataFrame(result.reshape(-1,2))\n",
        "pred = pd.DataFrame(prediction.reshape(-1))\n",
        "\n",
        "# res.to_csv(\"/content/drive/MyDrive/iam_dataset/saved_model/results_transf_learn_3_convs_last_fc_retrain_2.csv\", header=False, index=False)\n",
        "# pred.to_csv(\"/content/drive/MyDrive/iam_dataset/saved_model/pred_transf_learn_3_convs_last_fc_retrain_2.csv\", header=False, index=False)"
      ],
      "id": "dCcQqc-VsfnE",
      "execution_count": null,
      "outputs": []
    },
    {
      "cell_type": "code",
      "metadata": {
        "id": "sGZJv2Di1QSz"
      },
      "source": [
        "print(res.shape, pred.shape)"
      ],
      "id": "sGZJv2Di1QSz",
      "execution_count": null,
      "outputs": []
    },
    {
      "cell_type": "code",
      "metadata": {
        "id": "iRodoZGT0iIY"
      },
      "source": [
        "y_test_new = y_test[:result.reshape(-1,2).shape[0]]"
      ],
      "id": "iRodoZGT0iIY",
      "execution_count": null,
      "outputs": []
    },
    {
      "cell_type": "code",
      "metadata": {
        "id": "rgdEBEj41lsO"
      },
      "source": [
        "print(y_test_new.shape)"
      ],
      "id": "rgdEBEj41lsO",
      "execution_count": null,
      "outputs": []
    },
    {
      "cell_type": "code",
      "metadata": {
        "id": "iaJkMnicswF_"
      },
      "source": [
        "result_df = pd.DataFrame({'ground truth': y_test_new, 'NN output': prediction.reshape(-1), 'probs 0': res[0], 'probs 1': res[1]})\n",
        "result_df"
      ],
      "id": "iaJkMnicswF_",
      "execution_count": null,
      "outputs": []
    },
    {
      "cell_type": "code",
      "metadata": {
        "id": "COaorBTG-iwa"
      },
      "source": [
        "# work out the accuracy and other metrics\n",
        "from sklearn.metrics import confusion_matrix\n",
        "from sklearn.metrics import classification_report\n",
        "actual = result_df['ground truth']\n",
        "predicted = result_df['NN output']\n",
        "# confusion matrix\n",
        "matrix = confusion_matrix(actual, predicted, labels=[0,1])\n",
        "print('Confusion matrix : \\n',matrix)\n",
        "\n",
        "# outcome values order in sklearn\n",
        "tn, fp, fn, tp = confusion_matrix(actual, predicted, labels=[0,1]).reshape(-1)\n",
        "print('Outcome values : \\n', tn, fp, fn, tp)\n",
        "\n",
        "# tn, fp, fn, tp\n",
        "\n",
        "# classification report for precision, recall f1-score and accuracy\n",
        "matrix_2 = classification_report(actual,predicted,labels=[0,1])\n",
        "print('Classification report : \\n',matrix_2)"
      ],
      "id": "COaorBTG-iwa",
      "execution_count": null,
      "outputs": []
    },
    {
      "cell_type": "code",
      "metadata": {
        "id": "7Rp6mAJJU2xK"
      },
      "source": [
        "import matplotlib.pyplot as plt\n",
        "\n",
        "import seaborn as sn\n",
        "df_cm = pd.DataFrame(matrix, index = [i for i in \"01\"],\n",
        "                  columns = [i for i in \"01\"])\n",
        "plt.figure(figsize = (10,7))\n",
        "sn.heatmap(matrix, annot=True)"
      ],
      "id": "7Rp6mAJJU2xK",
      "execution_count": null,
      "outputs": []
    },
    {
      "cell_type": "code",
      "metadata": {
        "id": "C0eM31vqtXR4"
      },
      "source": [
        "from sklearn.metrics import classification_report\n",
        "from sklearn.metrics import accuracy_score\n",
        "matrix_3 = classification_report(actual,predicted,labels=[0,1], output_dict=True)\n",
        "print('Classification report : \\n',matrix_3)\n",
        "accuracy_score(actual, predicted)"
      ],
      "id": "C0eM31vqtXR4",
      "execution_count": null,
      "outputs": []
    },
    {
      "cell_type": "code",
      "metadata": {
        "id": "lFa8Ur5Ytecn"
      },
      "source": [
        "matrix_df = pd.DataFrame(matrix).transpose()\n",
        "matrix_3_df = pd.DataFrame(matrix_3).transpose()\n",
        "\n",
        "# matrix_df.to_csv(\"/content/drive/MyDrive/iam_dataset/saved_model/conf_matrix_transf_learn_3_convs_last_fc_retrain_2.csv\", header=False, index=False)\n",
        "if save_results:\n",
        "  if NODE == 2:\n",
        "    if fc:\n",
        "      matrix_3_df.to_csv(save_path + \"classification_report_transf_learn_3_convs_last_fc_retrain_node2.csv\", header=True, index=True)\n",
        "\n",
        "    elif conv:\n",
        "      matrix_3_df.to_csv(save_path + \"classification_report_transf_learn_3_convs_last_conv_retrain_node2.csv\", header=True, index=True)\n",
        "    \n",
        "    elif plain_inf:\n",
        "      matrix_3_df.to_csv(save_path + \"classification_report_conv_3_node2_pi.csv\", header=True, index=True)\n",
        "\n",
        "    else:\n",
        "      print(\"set NODE or fc/conv/plain_inf\")\n",
        "    \n",
        "  elif NODE == 3:\n",
        "    if fc:\n",
        "      matrix_3_df.to_csv(save_path + \"classification_report_transf_learn_3_convs_last_fc_retrain_node3.csv\", header=True, index=True)\n",
        "\n",
        "    elif conv:\n",
        "      matrix_3_df.to_csv(save_path + \"classification_report_transf_learn_3_convs_last_conv_retrain_node3.csv\", header=True, index=True)\n",
        "\n",
        "    elif plain_inf:\n",
        "      matrix_3_df.to_csv(save_path + \"classification_report_conv_3_node3_pi.csv\", header=True, index=True)\n",
        "    \n",
        "    else:\n",
        "      print(\"set fc/conv/plain_inf\")\n",
        "\n",
        "  elif NODE == 23:\n",
        "      if fc:\n",
        "        matrix_3_df.to_csv(save_path + \"classification_report_modelreuse_node2convmodel_retrainedfc_on_node3.csv\", header=True, index=True)\n",
        "      elif conv:\n",
        "        print(\"No conv option for this setting\")\n",
        "      elif plain_inf:\n",
        "        matrix_3_df.to_csv(save_path + \"classification_report_modelreuse_node2convmodel_pi_on_node3.csv\", header=True, index=True)\n",
        "      else:\n",
        "        print(\"set fc/conv/plain_inf\")\n",
        "  \n",
        "  else:\n",
        "      print(\"set NODE\")\n",
        "# pd.to_csv(\"/content/drive/MyDrive/iam_dataset/saved_model/classification_report.txt\",matrix)\n"
      ],
      "id": "lFa8Ur5Ytecn",
      "execution_count": null,
      "outputs": []
    },
    {
      "cell_type": "code",
      "source": [
        ""
      ],
      "metadata": {
        "id": "FqW-NXk1zdow"
      },
      "id": "FqW-NXk1zdow",
      "execution_count": null,
      "outputs": []
    }
  ]
}