{
 "cells": [
  {
   "cell_type": "markdown",
   "id": "OSfsJyP4r_0f",
   "metadata": {
    "id": "OSfsJyP4r_0f"
   },
   "source": [
    "##Imbalanced data: Node 6: Double the number of datapoints in class 1 compared to class 0. Node 7: Double the number of datapoints in class 0 compared to class 1. But within class 1, the number of datapoints from each writer is picked using a random probability, therefore there are random amounts of data from each class with some not in the mix at all."
   ]
  },
  {
   "cell_type": "code",
   "execution_count": 1,
   "id": "0xsFqVZGWR0_",
   "metadata": {
    "colab": {
     "base_uri": "https://localhost:8080/"
    },
    "id": "0xsFqVZGWR0_",
    "outputId": "5464d6ed-9bc2-49e3-dda2-3529bfee5040"
   },
   "outputs": [
    {
     "name": "stdout",
     "output_type": "stream",
     "text": [
      "Drive already mounted at /content/drive; to attempt to forcibly remount, call drive.mount(\"/content/drive\", force_remount=True).\n"
     ]
    }
   ],
   "source": [
    "from google.colab import drive\n",
    "drive.mount('/content/drive')"
   ]
  },
  {
   "cell_type": "code",
   "execution_count": 2,
   "id": "bdd1ec51",
   "metadata": {
    "id": "bdd1ec51"
   },
   "outputs": [],
   "source": [
    "import numpy as np\n",
    "import torch\n",
    "import glob\n",
    "import os\n",
    "import pickle\n",
    "from bs4 import BeautifulSoup\n",
    "# data_path = '/Users/ruchiraravishankar/Downloads/iam_dataset/'\n",
    "data_path = '/content/drive/MyDrive/iam_dataset/'\n",
    "save_path = \"/content/drive/MyDrive/iam_dataset/saved_model\""
   ]
  },
  {
   "cell_type": "code",
   "execution_count": 3,
   "id": "pVwwuPwx_Jn0",
   "metadata": {
    "id": "pVwwuPwx_Jn0"
   },
   "outputs": [],
   "source": [
    "# toggles to change training and nodes\n",
    "# node toggle\n",
    "NODE = 7 # or 7\n",
    "\n",
    "# transfer learning toggle\n",
    "fc = False\n",
    "conv = True\n",
    "plain_inf = False\n",
    "\n",
    "# toggle to save model\n",
    "save_model = True\n",
    "# toggle to save results\n",
    "save_results = True\n",
    "\n",
    "if plain_inf:\n",
    "  save_model = False"
   ]
  },
  {
   "cell_type": "code",
   "execution_count": 4,
   "id": "7191f93b",
   "metadata": {
    "colab": {
     "base_uri": "https://localhost:8080/"
    },
    "id": "7191f93b",
    "outputId": "d1990265-e01b-4f55-8e01-a921220f05bb"
   },
   "outputs": [
    {
     "name": "stdout",
     "output_type": "stream",
     "text": [
      "(4901, 2)\n"
     ]
    }
   ],
   "source": [
    "labelled_data = np.load(data_path + 'labelled_data.npy')\n",
    "\n",
    "print(labelled_data.shape)"
   ]
  },
  {
   "cell_type": "code",
   "execution_count": 5,
   "id": "iGEGwcxCwwFT",
   "metadata": {
    "colab": {
     "base_uri": "https://localhost:8080/"
    },
    "id": "iGEGwcxCwwFT",
    "outputId": "b4a2fb48-222a-449b-f2e8-e5cf64ac7fda"
   },
   "outputs": [
    {
     "name": "stdout",
     "output_type": "stream",
     "text": [
      "49\n",
      "1.0\n"
     ]
    }
   ],
   "source": [
    "# np.random.seed(42)\n",
    "# all_writers = np.unique(labelled_data[:,1])\n",
    "\n",
    "# print(all_writers.shape)\n",
    "\n",
    "# np.unique(labelled_data[:,1])[np.unique(labelled_data[:,1])!= '000']\n",
    "# # probs = np.random.dirichlet(np.ones(48),size=1.0)\n",
    "# # print(probs.reshape(48,))\n",
    "# # print(np.sum(probs))\n",
    "\n",
    "# # np.insert(probs, )\n",
    "\n",
    "from random import uniform as rand\n",
    "\n",
    "def randConstrained(n, M):\n",
    "     splits = [0] + [rand(0, 1) for _ in range(0,n-1)] + [1]\n",
    "     splits.sort()\n",
    "     diffs = [x - splits[i - 1] for i, x in enumerate(splits)][1:]\n",
    "     result = map(lambda x:x*M, diffs)\n",
    "     return result\n",
    "\n",
    "res = randConstrained(49,1.0)\n",
    "res_list = list(res)\n",
    "# print(sum(list(res)))\n",
    "print(len(res_list))\n",
    "print(sum(res_list))"
   ]
  },
  {
   "cell_type": "code",
   "execution_count": 6,
   "id": "rnZ8qpnPuMRb",
   "metadata": {
    "colab": {
     "base_uri": "https://localhost:8080/"
    },
    "id": "rnZ8qpnPuMRb",
    "outputId": "2bf2e8cb-7136-4465-ba54-092c8b390eaf"
   },
   "outputs": [
    {
     "name": "stdout",
     "output_type": "stream",
     "text": [
      "<map object at 0x7f0a9e0f7610>\n",
      "0.006017667369072832\n",
      "0.022691244545005373\n",
      "(49,)\n"
     ]
    }
   ],
   "source": [
    "# HERE - work with labelled_data for any sampling work\n",
    "probs = randConstrained(49,1.0)\n",
    "print(probs)\n",
    "probs = list(probs)\n",
    "# print(probs)\n",
    "probs = np.array(probs)\n",
    "print(probs[0])\n",
    "# probs = np.insert(probs, 0, 0.5)\n",
    "print(probs[1])\n",
    "print(probs.shape)\n",
    "def sampling(p, n):\n",
    "  all_1_writers = np.unique(labelled_data[:,1])[np.unique(labelled_data[:,1])!= '000']\n",
    "  ixs = np.arange(49)\n",
    "  return np.array([all_1_writers[np.random.choice(ixs, p=p)] for i in range(n)])\n",
    "\n",
    "if NODE == 6:\n",
    "  label_array = sampling(probs, 400) \n",
    "elif NODE == 7:\n",
    "  label_array = sampling(probs, 200)\n",
    "else:\n",
    "  print(\"set NODE to either 6 or 7\")\n",
    "\n",
    "labels, counts = np.unique(label_array, return_counts=True)"
   ]
  },
  {
   "cell_type": "code",
   "execution_count": 7,
   "id": "fBRn7oczOgDa",
   "metadata": {
    "colab": {
     "base_uri": "https://localhost:8080/"
    },
    "id": "fBRn7oczOgDa",
    "outputId": "2a00e612-733b-4fbe-b22c-ea7634067013"
   },
   "outputs": [
    {
     "name": "stdout",
     "output_type": "stream",
     "text": [
      "['118' '150' '151' '152' '155' '202' '203' '204' '205' '206' '207' '208'\n",
      " '209' '247' '248' '273' '274' '315' '332' '333' '334' '335' '336' '338'\n",
      " '339' '340' '341' '343' '345' '347' '348' '349' '384' '415' '552' '567'\n",
      " '588' '635' '671'] [ 6  2  3  4 15 16  6  8  4  5  7  7  1  2  1  5  1  2 10  5  8  1  2  2\n",
      "  2  1 14 10 14  1  7  9  1  2  1  3  6  4  2]\n",
      "(39,)\n",
      "200\n"
     ]
    }
   ],
   "source": [
    "print(labels, counts)\n",
    "print(labels.shape)\n",
    "print(sum(counts))"
   ]
  },
  {
   "cell_type": "code",
   "execution_count": 8,
   "id": "SIwwV65JInOP",
   "metadata": {
    "colab": {
     "base_uri": "https://localhost:8080/"
    },
    "id": "SIwwV65JInOP",
    "outputId": "eb7f7ef5-0d9b-44b8-f90e-2caf44ad7382"
   },
   "outputs": [
    {
     "name": "stdout",
     "output_type": "stream",
     "text": [
      "39\n"
     ]
    }
   ],
   "source": [
    "all_1_data = labelled_data[labelled_data[:,1]!='000']\n",
    "\n",
    "# all_085 = all_1_data[all_1_data[:,1]=='085']\n",
    "# print(all_085.shape)\n",
    "\n",
    "data_list = []\n",
    "# data_list.append(all_085)\n",
    "for i in range(len(labels)):\n",
    "  curr = all_1_data[all_1_data[:,1]==labels[i]][:counts[i]]\n",
    "  data_list.append(curr)\n",
    "\n",
    "print(len(data_list))"
   ]
  },
  {
   "cell_type": "code",
   "execution_count": 9,
   "id": "lAKWrywGe7A0",
   "metadata": {
    "colab": {
     "base_uri": "https://localhost:8080/"
    },
    "id": "lAKWrywGe7A0",
    "outputId": "c698c5a9-c4f1-4cce-d460-23dd06672436"
   },
   "outputs": [
    {
     "name": "stdout",
     "output_type": "stream",
     "text": [
      "(200, 2)\n"
     ]
    }
   ],
   "source": [
    "# lbl_data = np.array(data_list)\n",
    "out = np.concatenate(data_list)\n",
    "# lbl_data = lbl_data.flatten()\n",
    "# print(lbl_data)\n",
    "print(out.shape)"
   ]
  },
  {
   "cell_type": "code",
   "execution_count": 10,
   "id": "4I1mENMUjlWm",
   "metadata": {
    "colab": {
     "base_uri": "https://localhost:8080/"
    },
    "id": "4I1mENMUjlWm",
    "outputId": "b1641452-d240-4fac-c187-106f22005f72"
   },
   "outputs": [
    {
     "name": "stdout",
     "output_type": "stream",
     "text": [
      "(400, 2)\n"
     ]
    }
   ],
   "source": [
    "all_000 = labelled_data[labelled_data[:,1] == '000']\n",
    "np.random.shuffle(all_000)\n",
    "if NODE == 6:\n",
    "  all_000 = all_000[:200]\n",
    "elif NODE == 7:\n",
    "  all_000 = all_000[:400]\n",
    "else:\n",
    "  print(\"set NODE to either 6 or 7\")\n",
    "\n",
    "print(all_000.shape)"
   ]
  },
  {
   "cell_type": "code",
   "execution_count": 11,
   "id": "c1InG04JDE_i",
   "metadata": {
    "colab": {
     "base_uri": "https://localhost:8080/",
     "height": 214
    },
    "id": "c1InG04JDE_i",
    "outputId": "aa8b7a59-5a34-4f89-aa23-154e09582338"
   },
   "outputs": [
    {
     "data": {
      "text/plain": [
       "<BarContainer object of 39 artists>"
      ]
     },
     "execution_count": 11,
     "metadata": {},
     "output_type": "execute_result"
    },
    {
     "data": {
      "image/png": "[encoded data removed]",
      "text/plain": [
       "<Figure size 1440x216 with 1 Axes>"
      ]
     },
     "metadata": {
      "needs_background": "light"
     },
     "output_type": "display_data"
    }
   ],
   "source": [
    "import matplotlib.pyplot as plt\n",
    "from collections import Counter\n",
    "labelled_data_1_count = Counter(out[:,1])\n",
    "plt.figure(figsize=(20,3))\n",
    "plt.bar(labelled_data_1_count.keys(), labelled_data_1_count.values(), width=0.5)"
   ]
  },
  {
   "cell_type": "code",
   "execution_count": 12,
   "id": "D3A6c-qNjXLg",
   "metadata": {
    "colab": {
     "base_uri": "https://localhost:8080/"
    },
    "id": "D3A6c-qNjXLg",
    "outputId": "57890c3e-2ba2-47c0-d28d-1043f42da24b"
   },
   "outputs": [
    {
     "name": "stdout",
     "output_type": "stream",
     "text": [
      "(600, 2)\n"
     ]
    }
   ],
   "source": [
    "labelled_data = np.concatenate([all_000, out])\n",
    "print(labelled_data.shape)"
   ]
  },
  {
   "cell_type": "code",
   "execution_count": 13,
   "id": "LOP0lT1TfGhe",
   "metadata": {
    "colab": {
     "base_uri": "https://localhost:8080/",
     "height": 283
    },
    "id": "LOP0lT1TfGhe",
    "outputId": "352b34f9-8a9e-4b8e-a912-e99dcfad760b"
   },
   "outputs": [
    {
     "data": {
      "text/plain": [
       "<BarContainer object of 2 artists>"
      ]
     },
     "execution_count": 13,
     "metadata": {},
     "output_type": "execute_result"
    },
    {
     "data": {
      "image/png": "[encoded data removed]",
      "text/plain": [
       "<Figure size 432x288 with 1 Axes>"
      ]
     },
     "metadata": {
      "needs_background": "light"
     },
     "output_type": "display_data"
    }
   ],
   "source": [
    "class_counts = {'0':len(all_000),'1':len(out)}\n",
    "plt.bar(class_counts.keys(), class_counts.values(), width=0.5)"
   ]
  },
  {
   "cell_type": "code",
   "execution_count": 14,
   "id": "72fb393e",
   "metadata": {
    "id": "72fb393e"
   },
   "outputs": [],
   "source": [
    "# just for this file...\n",
    "labelled_data_new = labelled_data\n",
    "# labelled_data_new = np.concatenate((labelled_data_0, labelled_data_1))\n",
    "# np.random.shuffle(labelled_data_new)\n",
    "# print(labelled_data_new.shape) # mix of sentences from writer id 0 and others, labelled"
   ]
  },
  {
   "cell_type": "code",
   "execution_count": 15,
   "id": "2ea68409",
   "metadata": {
    "colab": {
     "base_uri": "https://localhost:8080/"
    },
    "id": "2ea68409",
    "outputId": "ae56f54d-f432-41bc-e661-d137e581a522"
   },
   "outputs": [
    {
     "name": "stdout",
     "output_type": "stream",
     "text": [
      "(402,) (198,) (402,) (198,)\n"
     ]
    }
   ],
   "source": [
    "# split before augmenting to ensure the sentences are being split and not the augmented samples\n",
    "from sklearn.model_selection import train_test_split\n",
    "X_train, X_test, y_train, y_test = train_test_split(labelled_data_new[:,0], labelled_data_new[:,1], test_size=0.33, random_state=42)\n",
    "# X_train, X_val, y_train, y_val = train_test_split(X_train, y_train, test_size=0.33, random_state=42)\n",
    "print(X_train.shape, X_test.shape, y_train.shape, y_test.shape)"
   ]
  },
  {
   "cell_type": "code",
   "execution_count": 16,
   "id": "4b41601b",
   "metadata": {
    "id": "4b41601b"
   },
   "outputs": [],
   "source": [
    "from sklearn.utils import shuffle\n",
    "from PIL import Image\n",
    "import random\n",
    "\n",
    "CROP_SIZE = 113\n",
    "NUM_LABELS = 50\n",
    "\n",
    "def get_augmented_sample(sample, label, sample_ratio):\n",
    "    # Get current image details\n",
    "    img = Image.open(sample)\n",
    "    img_width = img.size[0]\n",
    "    img_height = img.size[1]\n",
    "\n",
    "    # Compute resize dimensions such that aspect ratio is maintained\n",
    "    height_fac = CROP_SIZE / img_height\n",
    "    size = (int(img_width * height_fac), CROP_SIZE)\n",
    "\n",
    "    # Resize image \n",
    "    new_img = img.resize((size), Image.ANTIALIAS)\n",
    "    new_img_width = new_img.size[0]\n",
    "    new_img_height = new_img.size[1]\n",
    "\n",
    "    # Generate a random number of crops of size 113x113 from the resized image\n",
    "    x_coord = list(range(0, new_img_width - CROP_SIZE))\n",
    "    num_crops = int(len(x_coord) * sample_ratio)\n",
    "    random_x_coord = random.sample(x_coord, num_crops)\n",
    "    \n",
    "    # Create augmented images (cropped forms) and map them to a label (writer)\n",
    "    images = []\n",
    "    labels = []\n",
    "    for x in random_x_coord:\n",
    "        img_crop = new_img.crop((x, 0, x + CROP_SIZE, CROP_SIZE))\n",
    "        # Transform image to an array of numbers\n",
    "        images.append(np.asarray(img_crop))\n",
    "        labels.append(label)\n",
    "\n",
    "    return images, labels"
   ]
  },
  {
   "cell_type": "code",
   "execution_count": 17,
   "id": "55dc6891",
   "metadata": {
    "id": "55dc6891"
   },
   "outputs": [],
   "source": [
    "def augment(data, labels):\n",
    "    augmented_sample_list = []\n",
    "    augmented_label_list = []\n",
    "    for i in range(len(data)):\n",
    "        augmented_samples, augmented_labels = get_augmented_sample(data[i], labels[i],0.1)\n",
    "        augmented_sample_list.append(augmented_samples)\n",
    "        augmented_label_list.append(augmented_labels)\n",
    "    return augmented_sample_list, augmented_label_list"
   ]
  },
  {
   "cell_type": "code",
   "execution_count": 18,
   "id": "664668a5",
   "metadata": {
    "id": "664668a5"
   },
   "outputs": [],
   "source": [
    "augsamps, auglbls = augment(X_train, y_train) # returns two lists of arrays\n",
    "augsamps_test, auglbls_test = augment(X_test, y_test)\n",
    "# augsamps_val, auglbls_val = augment(X_val, y_val)"
   ]
  },
  {
   "cell_type": "code",
   "execution_count": 19,
   "id": "2f35824a",
   "metadata": {
    "colab": {
     "base_uri": "https://localhost:8080/"
    },
    "id": "2f35824a",
    "outputId": "1eecb67a-0dd0-47c7-a025-bb8b2ddfdfb6"
   },
   "outputs": [
    {
     "name": "stdout",
     "output_type": "stream",
     "text": [
      "72875\n",
      "72875\n",
      "36282\n",
      "36282\n"
     ]
    }
   ],
   "source": [
    "import operator\n",
    "from functools import reduce\n",
    "\n",
    "# flattening the lists\n",
    "aug_samps = reduce(operator.add, augsamps)\n",
    "aug_lbls = reduce(operator.add, auglbls)\n",
    "\n",
    "aug_samps_test = reduce(operator.add, augsamps_test)\n",
    "aug_lbls_test = reduce(operator.add, auglbls_test)\n",
    "\n",
    "# aug_samps_val = reduce(operator.add, augsamps_val)\n",
    "# aug_lbls_val = reduce(operator.add, auglbls_val)\n",
    "\n",
    "print(len(aug_samps))\n",
    "print(len(aug_lbls))\n",
    "\n",
    "print(len(aug_samps_test))\n",
    "print(len(aug_lbls_test))\n",
    "\n",
    "# print(len(aug_samps_val))\n",
    "# print(len(aug_lbls_val))"
   ]
  },
  {
   "cell_type": "code",
   "execution_count": 20,
   "id": "967237ec",
   "metadata": {
    "colab": {
     "base_uri": "https://localhost:8080/"
    },
    "id": "967237ec",
    "outputId": "6cbd00e8-9d0d-4e05-e558-7557c6be525c"
   },
   "outputs": [
    {
     "name": "stdout",
     "output_type": "stream",
     "text": [
      "(72875, 113, 113)\n",
      "(72875,)\n",
      "(36282, 113, 113)\n",
      "(36282,)\n"
     ]
    }
   ],
   "source": [
    "# converting lists to arrays\n",
    "aug_samps_arr = np.array(aug_samps)\n",
    "aug_lbls_arr = np.array(aug_lbls)\n",
    "aug_samps_arr_test = np.array(aug_samps_test)\n",
    "aug_lbls_arr_test = np.array(aug_lbls_test)\n",
    "# aug_samps_arr_val = np.array(aug_samps_val)\n",
    "# aug_lbls_arr_val = np.array(aug_lbls_val)\n",
    "\n",
    "print(aug_samps_arr.shape)\n",
    "print(aug_lbls_arr.shape)\n",
    "print(aug_samps_arr_test.shape)\n",
    "print(aug_lbls_arr_test.shape)\n",
    "# print(aug_samps_arr_val.shape)\n",
    "# print(aug_lbls_arr_val.shape)"
   ]
  },
  {
   "cell_type": "code",
   "execution_count": 21,
   "id": "0mNPPupPKTTY",
   "metadata": {
    "id": "0mNPPupPKTTY"
   },
   "outputs": [],
   "source": [
    "def transform_data_aug_samps(data):\n",
    "  data = data.reshape(data.shape[0], 1, CROP_SIZE, CROP_SIZE)\n",
    "  data = data.astype('float16')\n",
    "  data /= 255.0\n",
    "  return data"
   ]
  },
  {
   "cell_type": "code",
   "execution_count": 22,
   "id": "GkrDuw_eLcLp",
   "metadata": {
    "id": "GkrDuw_eLcLp"
   },
   "outputs": [],
   "source": [
    "X_train = transform_data_aug_samps(aug_samps_arr)\n",
    "# X_val = transform_data_aug_samps(aug_samps_arr_val)\n",
    "X_test = transform_data_aug_samps(aug_samps_arr_test)"
   ]
  },
  {
   "cell_type": "code",
   "execution_count": 23,
   "id": "ejqTLyaUKyVO",
   "metadata": {
    "id": "ejqTLyaUKyVO"
   },
   "outputs": [],
   "source": [
    "def convert_y_labels(labels):\n",
    "  new = np.unique(labels)\n",
    "  print(new)\n",
    "\n",
    "  labels[labels !='000'] = 1\n",
    "  new = np.unique(labels)\n",
    "  print(new)\n",
    "\n",
    "  labels[labels=='000'] = 0\n",
    "  new = np.unique(labels)\n",
    "  print(new)\n",
    "\n",
    "  print(labels.shape)\n",
    "\n",
    "  labels = labels.astype('float16')\n",
    "\n",
    "  print(np.unique(labels))\n",
    "  return labels"
   ]
  },
  {
   "cell_type": "code",
   "execution_count": 24,
   "id": "dN_qCMmDMRW2",
   "metadata": {
    "colab": {
     "base_uri": "https://localhost:8080/"
    },
    "id": "dN_qCMmDMRW2",
    "outputId": "8c7fc926-62d3-451d-baf8-8dda752e7f3a"
   },
   "outputs": [
    {
     "name": "stdout",
     "output_type": "stream",
     "text": [
      "['000' '118' '150' '151' '152' '155' '202' '203' '204' '205' '206' '207'\n",
      " '208' '209' '247' '248' '273' '274' '332' '333' '334' '335' '336' '338'\n",
      " '339' '340' '341' '343' '345' '347' '348' '349' '384' '415' '567' '588'\n",
      " '635']\n",
      "['000' '1']\n",
      "['0' '1']\n",
      "(72875,)\n",
      "[0. 1.]\n",
      "['000' '118' '150' '152' '155' '202' '203' '204' '205' '206' '207' '208'\n",
      " '273' '315' '332' '333' '334' '339' '341' '343' '345' '348' '349' '552'\n",
      " '567' '588' '635' '671']\n",
      "['000' '1']\n",
      "['0' '1']\n",
      "(36282,)\n",
      "[0. 1.]\n"
     ]
    }
   ],
   "source": [
    "y_train = convert_y_labels(aug_lbls_arr)\n",
    "y_test = convert_y_labels(aug_lbls_arr_test)\n",
    "# y_val = convert_y_labels(aug_lbls_arr_val)"
   ]
  },
  {
   "cell_type": "code",
   "execution_count": 25,
   "id": "e7d2904a",
   "metadata": {
    "colab": {
     "base_uri": "https://localhost:8080/"
    },
    "id": "e7d2904a",
    "outputId": "c3484dc3-ff3f-4e09-86e4-472541e303b1"
   },
   "outputs": [
    {
     "name": "stdout",
     "output_type": "stream",
     "text": [
      "(72875, 1, 113, 113)\n",
      "(72875,)\n",
      "(36282, 1, 113, 113)\n",
      "(36282,)\n"
     ]
    }
   ],
   "source": [
    "print(X_train.shape)\n",
    "print(y_train.shape)\n",
    "print(X_test.shape)\n",
    "print(y_test.shape)\n",
    "# print(X_val.shape)\n",
    "# print(y_val.shape)"
   ]
  },
  {
   "cell_type": "code",
   "execution_count": 26,
   "id": "g1wfoJoZqOOb",
   "metadata": {
    "colab": {
     "base_uri": "https://localhost:8080/"
    },
    "id": "g1wfoJoZqOOb",
    "outputId": "d5102cc4-e022-4b7c-b838-4c457efcbde2"
   },
   "outputs": [
    {
     "data": {
      "text/plain": [
       "device(type='cuda')"
      ]
     },
     "execution_count": 26,
     "metadata": {},
     "output_type": "execute_result"
    }
   ],
   "source": [
    "torch.manual_seed(42)\n",
    "CUDA = True\n",
    "device = torch.device('cuda' if CUDA else 'cpu')\n",
    "kwargs = {'num_workers': 1, 'pin_memory': True} if CUDA else {}\n",
    "device"
   ]
  },
  {
   "cell_type": "code",
   "execution_count": 27,
   "id": "09217c4b",
   "metadata": {
    "id": "09217c4b"
   },
   "outputs": [],
   "source": [
    "from torch.utils.data import TensorDataset, DataLoader\n",
    "\n",
    "\n",
    "tensor_x_train = torch.Tensor(X_train).type(torch.cuda.FloatTensor) # transform to torch tensor\n",
    "tensor_y_train = torch.Tensor(y_train).type(torch.cuda.FloatTensor).long()\n",
    "\n",
    "\n",
    "\n",
    "# tensor_x_train = torch.Tensor(X_train) # transform to torch tensor\n",
    "# tensor_y_train = torch.Tensor(y_train).long()\n",
    "\n",
    "train_dataset = TensorDataset(tensor_x_train,tensor_y_train) # create your datset\n",
    "train_dataloader = DataLoader(train_dataset,batch_size=16, shuffle=True, drop_last=True) # create your dataloader"
   ]
  },
  {
   "cell_type": "code",
   "execution_count": 28,
   "id": "DNDz-ofrfkNC",
   "metadata": {
    "id": "DNDz-ofrfkNC"
   },
   "outputs": [],
   "source": [
    "# tensor_x_val = torch.Tensor(X_val).type(torch.cuda.FloatTensor) # transform to torch tensor\n",
    "# tensor_y_val = torch.Tensor(y_val).type(torch.cuda.FloatTensor).long()\n",
    "# # tensor_x_train = torch.Tensor(X_train) # transform to torch tensor\n",
    "# # tensor_y_train = torch.Tensor(y_train).long()\n",
    "\n",
    "# val_dataset = TensorDataset(tensor_x_val,tensor_y_val) # create your datset\n",
    "# val_dataloader = DataLoader(val_dataset,batch_size=16, shuffle=True, drop_last=True) # create your dataloader"
   ]
  },
  {
   "cell_type": "code",
   "execution_count": 29,
   "id": "c120a864",
   "metadata": {
    "id": "c120a864"
   },
   "outputs": [],
   "source": [
    "tensor_x_test = torch.Tensor(X_test).type(torch.cuda.FloatTensor) # transform to torch tensor\n",
    "tensor_y_test = torch.Tensor(y_test).long().type(torch.cuda.FloatTensor).long()\n",
    "\n",
    "# tensor_x_test = torch.Tensor(X_test) # transform to torch tensor\n",
    "# tensor_y_test = torch.Tensor(y_test).long()\n",
    "\n",
    "test_dataset = TensorDataset(tensor_x_test,tensor_y_test) # create your datset\n",
    "test_dataloader = DataLoader(test_dataset, batch_size=16, shuffle=False, drop_last=True) # create your dataloader"
   ]
  },
  {
   "cell_type": "code",
   "execution_count": 30,
   "id": "HOXYkXWgCKt7",
   "metadata": {
    "colab": {
     "base_uri": "https://localhost:8080/"
    },
    "id": "HOXYkXWgCKt7",
    "outputId": "7419d513-ca12-4e6a-801e-53cff5123993"
   },
   "outputs": [
    {
     "data": {
      "text/plain": [
       "torch.Size([72875, 1, 113, 113])"
      ]
     },
     "execution_count": 30,
     "metadata": {},
     "output_type": "execute_result"
    }
   ],
   "source": [
    "tensor_x_train.shape"
   ]
  },
  {
   "cell_type": "code",
   "execution_count": 31,
   "id": "63b0ecba",
   "metadata": {
    "id": "63b0ecba"
   },
   "outputs": [],
   "source": [
    "# import torch\n",
    "from torch import nn\n",
    "class Binary_Classifier(nn.Module): \n",
    "    def __init__(self):\n",
    "        super(Binary_Classifier, self).__init__()\n",
    "        self.conv1 = nn.Conv2d(in_channels=1, out_channels=10, kernel_size=3)\n",
    "        self.conv2 = nn.Conv2d(10, 20, kernel_size=3)\n",
    "        self.conv_drop = nn.Dropout2d()\n",
    "        self.conv3 = nn.Conv2d(20, 30, kernel_size=3)\n",
    "        self.fc1 = nn.Linear(4320, 1024)\n",
    "        self.fc2 = nn.Linear(1024, 2)\n",
    "        self.relu = nn.ReLU()\n",
    "        self.max_pool2d = nn.MaxPool2d(2)\n",
    "    def forward(self, x):\n",
    "        x = self.relu(self.max_pool2d(self.conv1(x)))\n",
    "        x = self.relu(self.max_pool2d(self.conv_drop(self.conv2(x))))\n",
    "        x = self.relu(self.max_pool2d(self.conv_drop(self.conv3(x))))\n",
    "        x = x.view(x.shape[0],-1)\n",
    "        # print(x.shape)\n",
    "        x = self.relu(self.fc1(x))\n",
    "        x = self.conv_drop(x)\n",
    "        x = self.fc2(x)\n",
    "        return x"
   ]
  },
  {
   "cell_type": "code",
   "execution_count": 32,
   "id": "29d5c074",
   "metadata": {
    "id": "29d5c074"
   },
   "outputs": [],
   "source": [
    "model=Binary_Classifier().to(device)\n",
    "criterion = nn.CrossEntropyLoss()\n",
    "optimizer = torch.optim.Adam(model.parameters(),lr = 0.0001)\n",
    "\n",
    "# import torch.optim.lr_scheduler.StepLR\n",
    "# scheduler = torch.optim.lr_scheduler.StepLR(optimizer, step_size=1, gamma=0.1)\n"
   ]
  },
  {
   "cell_type": "code",
   "execution_count": 33,
   "id": "qnFjmaPqPwzH",
   "metadata": {
    "colab": {
     "base_uri": "https://localhost:8080/"
    },
    "id": "qnFjmaPqPwzH",
    "outputId": "38424b02-d2c2-4bf1-d1b0-734ba2ae894d"
   },
   "outputs": [
    {
     "name": "stdout",
     "output_type": "stream",
     "text": [
      "Loading checkpoint: /content/drive/MyDrive/testing_proj/iam_dataset/saved_model/model_3_convs.pt\n"
     ]
    }
   ],
   "source": [
    "if os.path.exists(save_path+'/model_3_convs.pt'):\n",
    "    print('Loading checkpoint: %s' % save_path +'/model_3_convs.pt')\n",
    "    path = torch.load(save_path +'/model_3_convs.pt', map_location=torch.device(device))\n",
    "    epoch = path['epoch']\n",
    "    model.load_state_dict(path['model'])\n",
    "    optimizer.load_state_dict(path['optimizer'])\n",
    "else:\n",
    "    print(\"nothing happened\")"
   ]
  },
  {
   "cell_type": "code",
   "execution_count": 34,
   "id": "z44prhBFQA76",
   "metadata": {
    "colab": {
     "base_uri": "https://localhost:8080/"
    },
    "id": "z44prhBFQA76",
    "outputId": "214d9a75-f1ee-4e21-dc9c-c1a67077b5ad"
   },
   "outputs": [
    {
     "name": "stdout",
     "output_type": "stream",
     "text": [
      "<bound method Module.parameters of Binary_Classifier(\n",
      "  (conv1): Conv2d(1, 10, kernel_size=(3, 3), stride=(1, 1))\n",
      "  (conv2): Conv2d(10, 20, kernel_size=(3, 3), stride=(1, 1))\n",
      "  (conv_drop): Dropout2d(p=0.5, inplace=False)\n",
      "  (conv3): Conv2d(20, 30, kernel_size=(3, 3), stride=(1, 1))\n",
      "  (fc1): Linear(in_features=4320, out_features=1024, bias=True)\n",
      "  (fc2): Linear(in_features=1024, out_features=2, bias=True)\n",
      "  (relu): ReLU()\n",
      "  (max_pool2d): MaxPool2d(kernel_size=2, stride=2, padding=0, dilation=1, ceil_mode=False)\n",
      ")>\n"
     ]
    }
   ],
   "source": [
    "print(model.parameters)"
   ]
  },
  {
   "cell_type": "code",
   "execution_count": 35,
   "id": "7-4DlQ4LPeRi",
   "metadata": {
    "colab": {
     "base_uri": "https://localhost:8080/"
    },
    "id": "7-4DlQ4LPeRi",
    "outputId": "7488bd76-c750-4f4c-a7ab-fe95a09724ae"
   },
   "outputs": [
    {
     "name": "stdout",
     "output_type": "stream",
     "text": [
      "cuda\n"
     ]
    }
   ],
   "source": [
    "print(device)"
   ]
  },
  {
   "cell_type": "code",
   "execution_count": 36,
   "id": "PMiXAng53sex",
   "metadata": {
    "id": "PMiXAng53sex"
   },
   "outputs": [],
   "source": [
    "if fc or conv:\n",
    "  for param in model.parameters():\n",
    "    param.requires_grad = False"
   ]
  },
  {
   "cell_type": "code",
   "execution_count": 37,
   "id": "HGx21fjR6B_f",
   "metadata": {
    "id": "HGx21fjR6B_f"
   },
   "outputs": [],
   "source": [
    "if conv:\n",
    "  for param in model.conv3.parameters():\n",
    "    param.requires_grad = True"
   ]
  },
  {
   "cell_type": "code",
   "execution_count": 38,
   "id": "2lmEG2ye4SZ6",
   "metadata": {
    "colab": {
     "base_uri": "https://localhost:8080/"
    },
    "id": "2lmEG2ye4SZ6",
    "outputId": "5098c5ad-9286-4e33-dfb0-7783c9ea7dcd"
   },
   "outputs": [
    {
     "name": "stdout",
     "output_type": "stream",
     "text": [
      "1024\n"
     ]
    }
   ],
   "source": [
    "if fc or conv:\n",
    "  num_ftrs = model.fc2.in_features\n",
    "  print(num_ftrs)\n",
    "  model.fc2 = nn.Linear(num_ftrs, 2).to(device)"
   ]
  },
  {
   "cell_type": "code",
   "execution_count": 39,
   "id": "pi7rS_fwRaTj",
   "metadata": {
    "colab": {
     "base_uri": "https://localhost:8080/"
    },
    "id": "pi7rS_fwRaTj",
    "outputId": "093bfcd1-e289-480c-8416-221bf716bb68"
   },
   "outputs": [
    {
     "name": "stdout",
     "output_type": "stream",
     "text": [
      "False\n",
      "False\n",
      "False\n",
      "False\n",
      "True\n",
      "True\n",
      "False\n",
      "False\n",
      "True\n",
      "True\n"
     ]
    }
   ],
   "source": [
    "for param in model.parameters():\n",
    "  print(param.requires_grad)"
   ]
  },
  {
   "cell_type": "code",
   "execution_count": 40,
   "id": "YfJB3VyygdBU",
   "metadata": {
    "id": "YfJB3VyygdBU"
   },
   "outputs": [],
   "source": [
    "train_losses = []\n",
    "train_loss_record = []"
   ]
  },
  {
   "cell_type": "code",
   "execution_count": 41,
   "id": "1olHEZqhudxC",
   "metadata": {
    "id": "1olHEZqhudxC"
   },
   "outputs": [],
   "source": [
    "from datetime import datetime\n",
    "train_log_string = '%s :: Epoch %i :: Iter %i / %i :: train loss: %0.4f'\n",
    "def train(epoch):\n",
    "    print('Start Epoch {} Training...'.format(epoch))\n",
    "    model.train()\n",
    "    train_loss = []\n",
    "    train_loss_sum = []\n",
    "    for idx, (data, target) in enumerate(train_dataloader):\n",
    "        optimizer.zero_grad()\n",
    "        #  forward-pass\n",
    "        output = model(data)\n",
    "        loss = criterion(output, target)\n",
    "        #backward-pass\n",
    "        loss.backward()\n",
    "        # Update the parameters\n",
    "        optimizer.step()\n",
    "        train_loss.append(loss.data.cpu().numpy())\n",
    "        train_loss_sum.append(loss)\n",
    "        if ((idx +1) % 5000) == 0:\n",
    "          print(train_log_string % (datetime.now(), epoch, idx + 1, len(train_dataloader), np.mean(train_loss)))\n",
    "          train_loss = []\n",
    "    mean_tr = torch.mean(torch.stack(train_loss_sum))\n",
    "    print('Train Loss at epoch {}: {}\\n'.format(epoch, mean_tr))\n",
    "    train_loss_record.append(mean_tr)\n",
    "    return train_loss_record"
   ]
  },
  {
   "cell_type": "code",
   "execution_count": 42,
   "id": "Ba6w34bjtN9v",
   "metadata": {
    "colab": {
     "base_uri": "https://localhost:8080/"
    },
    "id": "Ba6w34bjtN9v",
    "outputId": "5c6048c4-6e66-45f3-e55b-2247275c6c75"
   },
   "outputs": [
    {
     "name": "stdout",
     "output_type": "stream",
     "text": [
      "Start Epoch 0 Training...\n",
      "Train Loss at epoch 0: 0.6951337456703186\n",
      "\n",
      "Start Epoch 1 Training...\n",
      "Train Loss at epoch 1: 0.6815614104270935\n",
      "\n",
      "Start Epoch 2 Training...\n",
      "Train Loss at epoch 2: 0.6756680607795715\n",
      "\n",
      "Start Epoch 3 Training...\n",
      "Train Loss at epoch 3: 0.6717483997344971\n",
      "\n",
      "Start Epoch 4 Training...\n",
      "Train Loss at epoch 4: 0.6699168682098389\n",
      "\n",
      "Start Epoch 5 Training...\n",
      "Train Loss at epoch 5: 0.6671811938285828\n",
      "\n",
      "Start Epoch 6 Training...\n",
      "Train Loss at epoch 6: 0.6665229201316833\n",
      "\n",
      "Start Epoch 7 Training...\n",
      "Train Loss at epoch 7: 0.664620578289032\n",
      "\n",
      "Start Epoch 8 Training...\n",
      "Train Loss at epoch 8: 0.6634408235549927\n",
      "\n",
      "Start Epoch 9 Training...\n",
      "Train Loss at epoch 9: 0.6628715395927429\n",
      "\n",
      "Start Epoch 10 Training...\n",
      "Train Loss at epoch 10: 0.6618131995201111\n",
      "\n",
      "Start Epoch 11 Training...\n",
      "Train Loss at epoch 11: 0.6613891124725342\n",
      "\n",
      "Start Epoch 12 Training...\n",
      "Train Loss at epoch 12: 0.6606411337852478\n",
      "\n",
      "Start Epoch 13 Training...\n",
      "Train Loss at epoch 13: 0.6597492694854736\n",
      "\n",
      "Start Epoch 14 Training...\n",
      "Train Loss at epoch 14: 0.6592177152633667\n",
      "\n"
     ]
    }
   ],
   "source": [
    "if fc or conv:\n",
    "  for epoch in range(15):\n",
    "      tlr = train(epoch)"
   ]
  },
  {
   "cell_type": "code",
   "execution_count": 43,
   "id": "8UD3CqceSgPs",
   "metadata": {
    "colab": {
     "base_uri": "https://localhost:8080/",
     "height": 283
    },
    "id": "8UD3CqceSgPs",
    "outputId": "db39d7de-f203-4994-dc69-5d0bb22a9bb0"
   },
   "outputs": [
    {
     "name": "stdout",
     "output_type": "stream",
     "text": [
      "(15,)\n"
     ]
    },
    {
     "data": {
      "image/png": "[encoded data removed]",
      "text/plain": [
       "<Figure size 432x288 with 1 Axes>"
      ]
     },
     "metadata": {
      "needs_background": "light"
     },
     "output_type": "display_data"
    }
   ],
   "source": [
    "import matplotlib.pyplot as plt\n",
    "if fc or conv:\n",
    "  temp = [t.detach().cpu().numpy() for t in tlr]\n",
    "  arr = np.array(temp)\n",
    "  print(arr.shape)\n",
    "\n",
    "  plt.plot(arr)"
   ]
  },
  {
   "cell_type": "code",
   "execution_count": 44,
   "id": "f9E2tf0EQy2K",
   "metadata": {
    "colab": {
     "base_uri": "https://localhost:8080/"
    },
    "id": "f9E2tf0EQy2K",
    "outputId": "3405898c-7c3c-4df0-f3d7-748c7a6f49b1"
   },
   "outputs": [
    {
     "name": "stdout",
     "output_type": "stream",
     "text": [
      "Model saved!\n",
      "\n"
     ]
    }
   ],
   "source": [
    "if save_model:\n",
    "  state_dict = {\n",
    "      'epoch': epoch,\n",
    "      'model': model.state_dict(),\n",
    "      'optimizer': optimizer.state_dict(),\n",
    "  }\n",
    "  if NODE == 6:\n",
    "    if fc:\n",
    "      torch.save(state_dict, save_path+'/3convs_node6_fc.pt')\n",
    "      print('Model saved!\\n')\n",
    "    elif conv:\n",
    "      torch.save(state_dict, save_path+'/3convs_node6_conv.pt')\n",
    "      print('Model saved!\\n')\n",
    "    else:\n",
    "      print(\"set fc/conv\")\n",
    "  if NODE == 7:\n",
    "    if fc:\n",
    "      torch.save(state_dict, save_path+'/3convs_node7_fc.pt')\n",
    "      print('Model saved!\\n')\n",
    "    elif conv:\n",
    "      torch.save(state_dict, save_path+'/3convs_node7_conv.pt')\n",
    "      print('Model saved!\\n')\n",
    "    else:\n",
    "      print(\"set fc/conv\")    \n"
   ]
  },
  {
   "cell_type": "code",
   "execution_count": 45,
   "id": "UElBlZoYQnpp",
   "metadata": {
    "colab": {
     "base_uri": "https://localhost:8080/"
    },
    "id": "UElBlZoYQnpp",
    "outputId": "b297482c-2533-43b3-d0b1-76a487e9d68b"
   },
   "outputs": [
    {
     "name": "stdout",
     "output_type": "stream",
     "text": [
      "(2267, 16, 2) (2267, 16)\n"
     ]
    }
   ],
   "source": [
    "result = []\n",
    "prediction = []\n",
    "model.eval()\n",
    "with torch.no_grad():\n",
    "    for idx, (data, target) in enumerate(test_dataloader):\n",
    "        output = model(data)\n",
    "        output_sm = nn.Softmax(dim=1)(output)\n",
    "        _, predicted = torch.max(output, 1)\n",
    "        prediction.append(predicted)\n",
    "        result.append(output_sm)\n",
    "        \n",
    "result = torch.stack(result).detach().cpu().numpy()\n",
    "prediction = torch.stack(prediction).detach().cpu().numpy()\n",
    "\n",
    "print(result.shape, prediction.shape)"
   ]
  },
  {
   "cell_type": "code",
   "execution_count": 46,
   "id": "Hs1Q0JC2xKjs",
   "metadata": {
    "colab": {
     "base_uri": "https://localhost:8080/"
    },
    "id": "Hs1Q0JC2xKjs",
    "outputId": "5309f3e0-9160-4289-cf0f-be06d0595904"
   },
   "outputs": [
    {
     "name": "stdout",
     "output_type": "stream",
     "text": [
      "(36272,)\n"
     ]
    }
   ],
   "source": [
    "print(prediction.reshape(-1).shape)"
   ]
  },
  {
   "cell_type": "code",
   "execution_count": 47,
   "id": "dCcQqc-VsfnE",
   "metadata": {
    "id": "dCcQqc-VsfnE"
   },
   "outputs": [],
   "source": [
    "import pandas as pd\n",
    "res = pd.DataFrame(result.reshape(-1,2))\n",
    "pred = pd.DataFrame(prediction.reshape(-1))\n",
    "\n",
    "# res.to_csv(\"/content/drive/MyDrive/iam_dataset/saved_model/results_imbal_4_conv_3_transf_conv.csv\", header=False, index=False)\n",
    "# pred.to_csv(\"/content/drive/MyDrive/iam_dataset/saved_model/pred_imbal_4_conv_3_transf_conv.csv\", header=False, index=False)"
   ]
  },
  {
   "cell_type": "code",
   "execution_count": 48,
   "id": "sGZJv2Di1QSz",
   "metadata": {
    "colab": {
     "base_uri": "https://localhost:8080/"
    },
    "id": "sGZJv2Di1QSz",
    "outputId": "ba5176dd-ab37-408d-a174-149eefe5e692"
   },
   "outputs": [
    {
     "name": "stdout",
     "output_type": "stream",
     "text": [
      "(36272, 2) (36272, 1)\n"
     ]
    }
   ],
   "source": [
    "print(res.shape, pred.shape)"
   ]
  },
  {
   "cell_type": "code",
   "execution_count": 49,
   "id": "iRodoZGT0iIY",
   "metadata": {
    "id": "iRodoZGT0iIY"
   },
   "outputs": [],
   "source": [
    "y_test_new = y_test[:result.reshape(-1,2).shape[0]]"
   ]
  },
  {
   "cell_type": "code",
   "execution_count": 50,
   "id": "rgdEBEj41lsO",
   "metadata": {
    "colab": {
     "base_uri": "https://localhost:8080/"
    },
    "id": "rgdEBEj41lsO",
    "outputId": "a4e20df9-62e9-4a3d-8eef-e77b60de2984"
   },
   "outputs": [
    {
     "name": "stdout",
     "output_type": "stream",
     "text": [
      "(36272,)\n"
     ]
    }
   ],
   "source": [
    "print(y_test_new.shape)"
   ]
  },
  {
   "cell_type": "code",
   "execution_count": 51,
   "id": "iaJkMnicswF_",
   "metadata": {
    "colab": {
     "base_uri": "https://localhost:8080/",
     "height": 423
    },
    "id": "iaJkMnicswF_",
    "outputId": "7da50cb0-55ce-48bf-88aa-24a920d26642"
   },
   "outputs": [
    {
     "data": {
      "text/html": [
       "\n",
       "  <div id=\"df-c2a9e065-f514-401d-b69c-37ebce6ffc41\">\n",
       "    <div class=\"colab-df-container\">\n",
       "      <div>\n",
       "<style scoped>\n",
       "    .dataframe tbody tr th:only-of-type {\n",
       "        vertical-align: middle;\n",
       "    }\n",
       "\n",
       "    .dataframe tbody tr th {\n",
       "        vertical-align: top;\n",
       "    }\n",
       "\n",
       "    .dataframe thead th {\n",
       "        text-align: right;\n",
       "    }\n",
       "</style>\n",
       "<table border=\"1\" class=\"dataframe\">\n",
       "  <thead>\n",
       "    <tr style=\"text-align: right;\">\n",
       "      <th></th>\n",
       "      <th>ground truth</th>\n",
       "      <th>NN output</th>\n",
       "      <th>probs 0</th>\n",
       "      <th>probs 1</th>\n",
       "    </tr>\n",
       "  </thead>\n",
       "  <tbody>\n",
       "    <tr>\n",
       "      <th>0</th>\n",
       "      <td>0.0</td>\n",
       "      <td>1</td>\n",
       "      <td>0.490728</td>\n",
       "      <td>0.509272</td>\n",
       "    </tr>\n",
       "    <tr>\n",
       "      <th>1</th>\n",
       "      <td>0.0</td>\n",
       "      <td>1</td>\n",
       "      <td>0.486912</td>\n",
       "      <td>0.513088</td>\n",
       "    </tr>\n",
       "    <tr>\n",
       "      <th>2</th>\n",
       "      <td>0.0</td>\n",
       "      <td>1</td>\n",
       "      <td>0.490311</td>\n",
       "      <td>0.509689</td>\n",
       "    </tr>\n",
       "    <tr>\n",
       "      <th>3</th>\n",
       "      <td>0.0</td>\n",
       "      <td>1</td>\n",
       "      <td>0.485769</td>\n",
       "      <td>0.514231</td>\n",
       "    </tr>\n",
       "    <tr>\n",
       "      <th>4</th>\n",
       "      <td>0.0</td>\n",
       "      <td>1</td>\n",
       "      <td>0.488014</td>\n",
       "      <td>0.511986</td>\n",
       "    </tr>\n",
       "    <tr>\n",
       "      <th>...</th>\n",
       "      <td>...</td>\n",
       "      <td>...</td>\n",
       "      <td>...</td>\n",
       "      <td>...</td>\n",
       "    </tr>\n",
       "    <tr>\n",
       "      <th>36267</th>\n",
       "      <td>0.0</td>\n",
       "      <td>1</td>\n",
       "      <td>0.486661</td>\n",
       "      <td>0.513339</td>\n",
       "    </tr>\n",
       "    <tr>\n",
       "      <th>36268</th>\n",
       "      <td>0.0</td>\n",
       "      <td>1</td>\n",
       "      <td>0.486841</td>\n",
       "      <td>0.513159</td>\n",
       "    </tr>\n",
       "    <tr>\n",
       "      <th>36269</th>\n",
       "      <td>0.0</td>\n",
       "      <td>1</td>\n",
       "      <td>0.484003</td>\n",
       "      <td>0.515997</td>\n",
       "    </tr>\n",
       "    <tr>\n",
       "      <th>36270</th>\n",
       "      <td>0.0</td>\n",
       "      <td>1</td>\n",
       "      <td>0.484387</td>\n",
       "      <td>0.515613</td>\n",
       "    </tr>\n",
       "    <tr>\n",
       "      <th>36271</th>\n",
       "      <td>0.0</td>\n",
       "      <td>1</td>\n",
       "      <td>0.487825</td>\n",
       "      <td>0.512175</td>\n",
       "    </tr>\n",
       "  </tbody>\n",
       "</table>\n",
       "<p>36272 rows × 4 columns</p>\n",
       "</div>\n",
       "      <button class=\"colab-df-convert\" onclick=\"convertToInteractive('df-c2a9e065-f514-401d-b69c-37ebce6ffc41')\"\n",
       "              title=\"Convert this dataframe to an interactive table.\"\n",
       "              style=\"display:none;\">\n",
       "        \n",
       "  <svg xmlns=\"http://www.w3.org/2000/svg\" height=\"24px\"viewBox=\"0 0 24 24\"\n",
       "       width=\"24px\">\n",
       "    <path d=\"M0 0h24v24H0V0z\" fill=\"none\"/>\n",
       "    <path d=\"M18.56 5.44l.94 2.06.94-2.06 2.06-.94-2.06-.94-.94-2.06-.94 2.06-2.06.94zm-11 1L8.5 8.5l.94-2.06 2.06-.94-2.06-.94L8.5 2.5l-.94 2.06-2.06.94zm10 10l.94 2.06.94-2.06 2.06-.94-2.06-.94-.94-2.06-.94 2.06-2.06.94z\"/><path d=\"M17.41 7.96l-1.37-1.37c-.4-.4-.92-.59-1.43-.59-.52 0-1.04.2-1.43.59L10.3 9.45l-7.72 7.72c-.78.78-.78 2.05 0 2.83L4 21.41c.39.39.9.59 1.41.59.51 0 1.02-.2 1.41-.59l7.78-7.78 2.81-2.81c.8-.78.8-2.07 0-2.86zM5.41 20L4 18.59l7.72-7.72 1.47 1.35L5.41 20z\"/>\n",
       "  </svg>\n",
       "      </button>\n",
       "      \n",
       "  <style>\n",
       "    .colab-df-container {\n",
       "      display:flex;\n",
       "      flex-wrap:wrap;\n",
       "      gap: 12px;\n",
       "    }\n",
       "\n",
       "    .colab-df-convert {\n",
       "      background-color: #E8F0FE;\n",
       "      border: none;\n",
       "      border-radius: 50%;\n",
       "      cursor: pointer;\n",
       "      display: none;\n",
       "      fill: #1967D2;\n",
       "      height: 32px;\n",
       "      padding: 0 0 0 0;\n",
       "      width: 32px;\n",
       "    }\n",
       "\n",
       "    .colab-df-convert:hover {\n",
       "      background-color: #E2EBFA;\n",
       "      box-shadow: 0px 1px 2px rgba(60, 64, 67, 0.3), 0px 1px 3px 1px rgba(60, 64, 67, 0.15);\n",
       "      fill: #174EA6;\n",
       "    }\n",
       "\n",
       "    [theme=dark] .colab-df-convert {\n",
       "      background-color: #3B4455;\n",
       "      fill: #D2E3FC;\n",
       "    }\n",
       "\n",
       "    [theme=dark] .colab-df-convert:hover {\n",
       "      background-color: #434B5C;\n",
       "      box-shadow: 0px 1px 3px 1px rgba(0, 0, 0, 0.15);\n",
       "      filter: drop-shadow(0px 1px 2px rgba(0, 0, 0, 0.3));\n",
       "      fill: #FFFFFF;\n",
       "    }\n",
       "  </style>\n",
       "\n",
       "      <script>\n",
       "        const buttonEl =\n",
       "          document.querySelector('#df-c2a9e065-f514-401d-b69c-37ebce6ffc41 button.colab-df-convert');\n",
       "        buttonEl.style.display =\n",
       "          google.colab.kernel.accessAllowed ? 'block' : 'none';\n",
       "\n",
       "        async function convertToInteractive(key) {\n",
       "          const element = document.querySelector('#df-c2a9e065-f514-401d-b69c-37ebce6ffc41');\n",
       "          const dataTable =\n",
       "            await google.colab.kernel.invokeFunction('convertToInteractive',\n",
       "                                                     [key], {});\n",
       "          if (!dataTable) return;\n",
       "\n",
       "          const docLinkHtml = 'Like what you see? Visit the ' +\n",
       "            '<a target=\"_blank\" href=https://colab.research.google.com/notebooks/data_table.ipynb>data table notebook</a>'\n",
       "            + ' to learn more about interactive tables.';\n",
       "          element.innerHTML = '';\n",
       "          dataTable['output_type'] = 'display_data';\n",
       "          await google.colab.output.renderOutput(dataTable, element);\n",
       "          const docLink = document.createElement('div');\n",
       "          docLink.innerHTML = docLinkHtml;\n",
       "          element.appendChild(docLink);\n",
       "        }\n",
       "      </script>\n",
       "    </div>\n",
       "  </div>\n",
       "  "
      ],
      "text/plain": [
       "       ground truth  NN output   probs 0   probs 1\n",
       "0               0.0          1  0.490728  0.509272\n",
       "1               0.0          1  0.486912  0.513088\n",
       "2               0.0          1  0.490311  0.509689\n",
       "3               0.0          1  0.485769  0.514231\n",
       "4               0.0          1  0.488014  0.511986\n",
       "...             ...        ...       ...       ...\n",
       "36267           0.0          1  0.486661  0.513339\n",
       "36268           0.0          1  0.486841  0.513159\n",
       "36269           0.0          1  0.484003  0.515997\n",
       "36270           0.0          1  0.484387  0.515613\n",
       "36271           0.0          1  0.487825  0.512175\n",
       "\n",
       "[36272 rows x 4 columns]"
      ]
     },
     "execution_count": 51,
     "metadata": {},
     "output_type": "execute_result"
    }
   ],
   "source": [
    "result_df = pd.DataFrame({'ground truth': y_test_new, 'NN output': prediction.reshape(-1), 'probs 0': res[0], 'probs 1': res[1]})\n",
    "result_df"
   ]
  },
  {
   "cell_type": "code",
   "execution_count": 52,
   "id": "COaorBTG-iwa",
   "metadata": {
    "colab": {
     "base_uri": "https://localhost:8080/"
    },
    "id": "COaorBTG-iwa",
    "outputId": "69ded5be-8c19-4455-c48b-c933025538b8"
   },
   "outputs": [
    {
     "name": "stdout",
     "output_type": "stream",
     "text": [
      "Confusion matrix : \n",
      " [[    4 28100]\n",
      " [    0  8168]]\n",
      "Outcome values : \n",
      " 4 28100 0 8168\n",
      "Classification report : \n",
      "               precision    recall  f1-score   support\n",
      "\n",
      "           0       1.00      0.00      0.00     28104\n",
      "           1       0.23      1.00      0.37      8168\n",
      "\n",
      "    accuracy                           0.23     36272\n",
      "   macro avg       0.61      0.50      0.18     36272\n",
      "weighted avg       0.83      0.23      0.08     36272\n",
      "\n"
     ]
    }
   ],
   "source": [
    "# work out the accuracy and other metrics\n",
    "from sklearn.metrics import confusion_matrix\n",
    "from sklearn.metrics import classification_report\n",
    "actual = result_df['ground truth']\n",
    "predicted = result_df['NN output']\n",
    "# confusion matrix\n",
    "matrix = confusion_matrix(actual, predicted, labels=[0,1])\n",
    "print('Confusion matrix : \\n',matrix)\n",
    "\n",
    "# outcome values order in sklearn\n",
    "tn, fp, fn, tp = confusion_matrix(actual, predicted, labels=[0,1]).reshape(-1)\n",
    "print('Outcome values : \\n', tn, fp, fn, tp)\n",
    "\n",
    "# tn, fp, fn, tp\n",
    "\n",
    "# classification report for precision, recall f1-score and accuracy\n",
    "matrix_2 = classification_report(actual,predicted,labels=[0,1])\n",
    "print('Classification report : \\n',matrix_2)"
   ]
  },
  {
   "cell_type": "code",
   "execution_count": 53,
   "id": "7Rp6mAJJU2xK",
   "metadata": {
    "colab": {
     "base_uri": "https://localhost:8080/",
     "height": 446
    },
    "id": "7Rp6mAJJU2xK",
    "outputId": "561b948b-81f0-479a-e767-cd469a58d7c6"
   },
   "outputs": [
    {
     "data": {
      "text/plain": [
       "<matplotlib.axes._subplots.AxesSubplot at 0x7f0a8b318090>"
      ]
     },
     "execution_count": 53,
     "metadata": {},
     "output_type": "execute_result"
    },
    {
     "data": {
      "image/png": "[encoded data removed]",
      "text/plain": [
       "<Figure size 720x504 with 2 Axes>"
      ]
     },
     "metadata": {
      "needs_background": "light"
     },
     "output_type": "display_data"
    }
   ],
   "source": [
    "import matplotlib.pyplot as plt\n",
    "\n",
    "import seaborn as sn\n",
    "df_cm = pd.DataFrame(matrix, index = [i for i in \"01\"],\n",
    "                  columns = [i for i in \"01\"])\n",
    "plt.figure(figsize = (10,7))\n",
    "sn.heatmap(matrix, annot=True)"
   ]
  },
  {
   "cell_type": "code",
   "execution_count": 54,
   "id": "C0eM31vqtXR4",
   "metadata": {
    "colab": {
     "base_uri": "https://localhost:8080/"
    },
    "id": "C0eM31vqtXR4",
    "outputId": "58094932-ea68-4a89-96b4-03052c3238e0"
   },
   "outputs": [
    {
     "name": "stdout",
     "output_type": "stream",
     "text": [
      "Classification report : \n",
      " {'0': {'precision': 1.0, 'recall': 0.00014232849416453175, 'f1-score': 0.0002846164792941511, 'support': 28104}, '1': {'precision': 0.22521230837101577, 'recall': 1.0, 'f1-score': 0.3676298496714376, 'support': 8168}, 'accuracy': 0.2252977503308337, 'macro avg': {'precision': 0.6126061541855079, 'recall': 0.5000711642470823, 'f1-score': 0.18395723307536588, 'support': 36272}, 'weighted avg': {'precision': 0.8255275180517881, 'recall': 0.2252977503308337, 'f1-score': 0.08300616105123469, 'support': 36272}}\n"
     ]
    },
    {
     "data": {
      "text/plain": [
       "0.2252977503308337"
      ]
     },
     "execution_count": 54,
     "metadata": {},
     "output_type": "execute_result"
    }
   ],
   "source": [
    "from sklearn.metrics import classification_report\n",
    "from sklearn.metrics import accuracy_score\n",
    "matrix_3 = classification_report(actual,predicted,labels=[0,1], output_dict=True)\n",
    "print('Classification report : \\n',matrix_3)\n",
    "accuracy_score(actual, predicted)"
   ]
  },
  {
   "cell_type": "code",
   "execution_count": 55,
   "id": "lFa8Ur5Ytecn",
   "metadata": {
    "id": "lFa8Ur5Ytecn"
   },
   "outputs": [],
   "source": [
    "matrix_df = pd.DataFrame(matrix).transpose()\n",
    "matrix_3_df = pd.DataFrame(matrix_3).transpose()\n",
    "# matrix_df.to_csv(\"/content/drive/MyDrive/iam_dataset/saved_model/conf_matrix_imbal_4_3conv_transf_conv.csv\", header=False, index=False)\n",
    "if save_results:\n",
    "  if NODE == 6:\n",
    "    if fc:\n",
    "      matrix_3_df.to_csv(save_path + \"/classification_report_node6_3conv_fc.csv\", header=True, index=True)\n",
    "    elif conv:\n",
    "      matrix_3_df.to_csv(save_path + \"/classification_report_nod6_3conv_conv.csv\", header=True, index=True)\n",
    "    elif plain_inf:\n",
    "      matrix_3_df.to_csv(save_path + \"/classification_report_node6_3conv_pi.csv\", header=True, index=True)\n",
    "    else:\n",
    "      print(\"set fc/conv/plain_inf\")\n",
    "  if NODE == 7:\n",
    "    if fc:\n",
    "      matrix_3_df.to_csv(save_path + \"/classification_report_node7_3conv_fc.csv\", header=True, index=True)\n",
    "    elif conv:\n",
    "      matrix_3_df.to_csv(save_path + \"/classification_report_nod7_3conv_conv.csv\", header=True, index=True)\n",
    "    elif plain_inf:\n",
    "      matrix_3_df.to_csv(save_path + \"/classification_report_node7_3conv_pi.csv\", header=True, index=True)\n",
    "    else:\n",
    "      print(\"set fc/conv/plain_inf\")\n",
    "# pd.to_csv(\"/content/drive/MyDrive/iam_dataset/saved_model/classification_report.txt\",matrix)\n"
   ]
  },
  {
   "cell_type": "code",
   "execution_count": 55,
   "id": "D500YA-VV_bs",
   "metadata": {
    "id": "D500YA-VV_bs"
   },
   "outputs": [],
   "source": []
  }
 ],
 "metadata": {
  "accelerator": "GPU",
  "colab": {
   "collapsed_sections": [],
   "name": "node 6 + 7.ipynb",
   "provenance": []
  },
  "kernelspec": {
   "display_name": "Python 3 (ipykernel)",
   "language": "python",
   "name": "python3"
  },
  "language_info": {
   "codemirror_mode": {
    "name": "ipython",
    "version": 3
   },
   "file_extension": ".py",
   "mimetype": "text/x-python",
   "name": "python",
   "nbconvert_exporter": "python",
   "pygments_lexer": "ipython3",
   "version": "3.9.6"
  }
 },
 "nbformat": 4,
 "nbformat_minor": 5
}
