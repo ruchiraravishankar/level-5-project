{
 "cells": [
  {
   "cell_type": "markdown",
   "id": "OSfsJyP4r_0f",
   "metadata": {
    "id": "OSfsJyP4r_0f"
   },
   "source": [
    "##Imbalanced data: same number of 0 and 1 datapoints, but within class 1, writer 085 has the majority (10) of datapoints while all other writers have an equal but lower number (4) of datapoints each"
   ]
  },
  {
   "cell_type": "code",
   "execution_count": 1,
   "id": "0xsFqVZGWR0_",
   "metadata": {
    "colab": {
     "base_uri": "https://localhost:8080/"
    },
    "id": "0xsFqVZGWR0_",
    "outputId": "34f65226-780b-4121-f670-0a876e68d06f"
   },
   "outputs": [
    {
     "name": "stdout",
     "output_type": "stream",
     "text": [
      "Mounted at /content/drive\n"
     ]
    }
   ],
   "source": [
    "from google.colab import drive\n",
    "drive.mount('/content/drive')"
   ]
  },
  {
   "cell_type": "code",
   "execution_count": 2,
   "id": "bdd1ec51",
   "metadata": {
    "id": "bdd1ec51"
   },
   "outputs": [],
   "source": [
    "import numpy as np\n",
    "import torch\n",
    "import glob\n",
    "import os\n",
    "import pickle\n",
    "from bs4 import BeautifulSoup\n",
    "# data_path = '/Users/ruchiraravishankar/Downloads/iam_dataset/'\n",
    "data_path = '/content/drive/MyDrive/iam_dataset/'\n",
    "save_path = \"/content/drive/MyDrive/iam_dataset/saved_model\""
   ]
  },
  {
   "cell_type": "code",
   "execution_count": 3,
   "id": "pVwwuPwx_Jn0",
   "metadata": {
    "id": "pVwwuPwx_Jn0"
   },
   "outputs": [],
   "source": [
    "# toggles to change training and nodes\n",
    "\n",
    "# transfer learning toggle\n",
    "fc = True\n",
    "conv = False\n",
    "plain_inf = False\n",
    "\n",
    "# toggle to save model\n",
    "save_model = False\n",
    "# toggle to save results  \n",
    "save_results = False\n",
    "\n",
    "if plain_inf:\n",
    "  save_model = False"
   ]
  },
  {
   "cell_type": "code",
   "execution_count": 4,
   "id": "7191f93b",
   "metadata": {
    "colab": {
     "base_uri": "https://localhost:8080/"
    },
    "id": "7191f93b",
    "outputId": "3d6fb145-888f-49da-f130-6e56a1b45433"
   },
   "outputs": [
    {
     "name": "stdout",
     "output_type": "stream",
     "text": [
      "(4901, 2)\n"
     ]
    }
   ],
   "source": [
    "labelled_data = np.load(data_path + 'labelled_data.npy')\n",
    "\n",
    "print(labelled_data.shape)"
   ]
  },
  {
   "cell_type": "code",
   "execution_count": 5,
   "id": "22206532",
   "metadata": {
    "colab": {
     "base_uri": "https://localhost:8080/"
    },
    "id": "22206532",
    "outputId": "3bac41b2-48a9-4bc9-b40a-d766c3552662"
   },
   "outputs": [
    {
     "name": "stdout",
     "output_type": "stream",
     "text": [
      "(693, 2)\n",
      "(202, 2)\n",
      "['000']\n"
     ]
    }
   ],
   "source": [
    "# changing the distribution here of class 0\n",
    "labelled_data_0 = labelled_data[labelled_data[:,1] == '000']\n",
    "\n",
    "print(labelled_data_0.shape)\n",
    "\n",
    "labelled_data_0 = labelled_data_0[:202]\n",
    "print(labelled_data_0.shape)\n",
    "\n",
    "print(np.unique(labelled_data_0[:,1]))"
   ]
  },
  {
   "cell_type": "code",
   "execution_count": 6,
   "id": "025913bd",
   "metadata": {
    "colab": {
     "base_uri": "https://localhost:8080/"
    },
    "id": "025913bd",
    "outputId": "e6237225-aa99-44eb-a818-245cce9643a2"
   },
   "outputs": [
    {
     "name": "stdout",
     "output_type": "stream",
     "text": [
      "['085' '118' '150' '151' '152' '153' '154' '155' '202' '203' '204' '205'\n",
      " '206' '207' '208' '209' '247' '248' '273' '274' '315' '332' '333' '334'\n",
      " '335' '336' '337' '338' '339' '340' '341' '342' '343' '344' '345' '346'\n",
      " '347' '348' '349' '384' '415' '551' '552' '567' '588' '634' '635' '670'\n",
      " '671']\n",
      "(49,)\n"
     ]
    }
   ],
   "source": [
    "remove_000 = labelled_data[labelled_data[:,1]!='000']\n",
    "\n",
    "print(np.unique(remove_000[:,1]))\n",
    "print(np.unique(remove_000[:,1]).shape)"
   ]
  },
  {
   "cell_type": "code",
   "execution_count": 7,
   "id": "926e3c22",
   "metadata": {
    "colab": {
     "base_uri": "https://localhost:8080/"
    },
    "id": "926e3c22",
    "outputId": "3c565b34-3a6c-4211-bfec-b7fd4390b653"
   },
   "outputs": [
    {
     "name": "stdout",
     "output_type": "stream",
     "text": [
      "49\n"
     ]
    }
   ],
   "source": [
    "y = [remove_000[remove_000[:,1]==k] for k in np.unique(remove_000[:,1])]\n",
    "print(len(y))"
   ]
  },
  {
   "cell_type": "code",
   "execution_count": 8,
   "id": "affcb9d8",
   "metadata": {
    "colab": {
     "base_uri": "https://localhost:8080/"
    },
    "id": "affcb9d8",
    "outputId": "82fde26f-5624-4e80-94b7-0140a03855ea"
   },
   "outputs": [
    {
     "name": "stdout",
     "output_type": "stream",
     "text": [
      "49\n",
      "(202, 2)\n"
     ]
    }
   ],
   "source": [
    "# changing the distribution here of class 1\n",
    "labelled_data_1 = []\n",
    "for i in range(len(y)):\n",
    "    if i == 0:\n",
    "      labelled_data_1.append(y[i][:10])\n",
    "    else:\n",
    "      labelled_data_1.append(y[i][:4])\n",
    "print(len(labelled_data_1))\n",
    "\n",
    "labelled_data_1 = np.concatenate(labelled_data_1)\n",
    "\n",
    "print(labelled_data_1.shape)"
   ]
  },
  {
   "cell_type": "code",
   "execution_count": 9,
   "id": "c6c293dc",
   "metadata": {
    "colab": {
     "base_uri": "https://localhost:8080/"
    },
    "id": "c6c293dc",
    "outputId": "20955dd7-88db-4e85-c5a3-57d20afcad61"
   },
   "outputs": [
    {
     "name": "stdout",
     "output_type": "stream",
     "text": [
      "(202, 2)\n"
     ]
    }
   ],
   "source": [
    "print(labelled_data_1.shape)"
   ]
  },
  {
   "cell_type": "code",
   "execution_count": 10,
   "id": "c1InG04JDE_i",
   "metadata": {
    "colab": {
     "base_uri": "https://localhost:8080/",
     "height": 215
    },
    "id": "c1InG04JDE_i",
    "outputId": "807e13bf-fdab-4610-b4d2-20093a596e17"
   },
   "outputs": [
    {
     "data": {
      "text/plain": [
       "<BarContainer object of 49 artists>"
      ]
     },
     "execution_count": 10,
     "metadata": {},
     "output_type": "execute_result"
    },
    {
     "data": {
      "image/png": "[encoded data removed]",
      "text/plain": [
       "<Figure size 1440x216 with 1 Axes>"
      ]
     },
     "metadata": {
      "needs_background": "light"
     },
     "output_type": "display_data"
    }
   ],
   "source": [
    "import matplotlib.pyplot as plt\n",
    "from collections import Counter\n",
    "labelled_data_1_count = Counter(labelled_data_1[:,1])\n",
    "plt.figure(figsize=(20,3))\n",
    "plt.bar(labelled_data_1_count.keys(), labelled_data_1_count.values(), width=0.5)"
   ]
  },
  {
   "cell_type": "code",
   "execution_count": 11,
   "id": "ef54f007",
   "metadata": {
    "colab": {
     "base_uri": "https://localhost:8080/"
    },
    "id": "ef54f007",
    "outputId": "dc3c9beb-a1d7-4c96-ff47-eeed37a9b338"
   },
   "outputs": [
    {
     "name": "stdout",
     "output_type": "stream",
     "text": [
      "['085' '118' '150' '151' '152' '153' '154' '155' '202' '203' '204' '205'\n",
      " '206' '207' '208' '209' '247' '248' '273' '274' '315' '332' '333' '334'\n",
      " '335' '336' '337' '338' '339' '340' '341' '342' '343' '344' '345' '346'\n",
      " '347' '348' '349' '384' '415' '551' '552' '567' '588' '634' '635' '670'\n",
      " '671']\n"
     ]
    }
   ],
   "source": [
    "print(np.unique(labelled_data_1[:,1]))"
   ]
  },
  {
   "cell_type": "code",
   "execution_count": 12,
   "id": "72fb393e",
   "metadata": {
    "colab": {
     "base_uri": "https://localhost:8080/"
    },
    "id": "72fb393e",
    "outputId": "3e4a2b62-4ec6-4c98-e822-5b85a94ae214"
   },
   "outputs": [
    {
     "name": "stdout",
     "output_type": "stream",
     "text": [
      "(404, 2)\n"
     ]
    }
   ],
   "source": [
    "labelled_data_new = np.concatenate((labelled_data_0, labelled_data_1))\n",
    "np.random.shuffle(labelled_data_new)\n",
    "print(labelled_data_new.shape) # mix of sentences from writer id 0 and others, labelled"
   ]
  },
  {
   "cell_type": "code",
   "execution_count": 13,
   "id": "KJBx651Mi23X",
   "metadata": {
    "colab": {
     "base_uri": "https://localhost:8080/",
     "height": 283
    },
    "id": "KJBx651Mi23X",
    "outputId": "e15b63bc-52f5-46f7-a190-7120cb59124d"
   },
   "outputs": [
    {
     "data": {
      "text/plain": [
       "<BarContainer object of 2 artists>"
      ]
     },
     "execution_count": 13,
     "metadata": {},
     "output_type": "execute_result"
    },
    {
     "data": {
      "image/png": "[encoded data removed]",
      "text/plain": [
       "<Figure size 432x288 with 1 Axes>"
      ]
     },
     "metadata": {
      "needs_background": "light"
     },
     "output_type": "display_data"
    }
   ],
   "source": [
    "class_counts = {'0':len(labelled_data_0),'1':len(labelled_data_1)}\n",
    "plt.bar(class_counts.keys(), class_counts.values(), width=0.5)"
   ]
  },
  {
   "cell_type": "code",
   "execution_count": 14,
   "id": "2ea68409",
   "metadata": {
    "colab": {
     "base_uri": "https://localhost:8080/"
    },
    "id": "2ea68409",
    "outputId": "1e3680d4-8452-46af-9473-8fc9d73ab00f"
   },
   "outputs": [
    {
     "name": "stdout",
     "output_type": "stream",
     "text": [
      "(180,) (134,) (90,) (180,) (134,) (90,)\n"
     ]
    }
   ],
   "source": [
    "# split before augmenting to ensure the sentences are being split and not the augmented samples\n",
    "from sklearn.model_selection import train_test_split\n",
    "X_train, X_test, y_train, y_test = train_test_split(labelled_data_new[:,0], labelled_data_new[:,1], test_size=0.33, random_state=42)\n",
    "X_train, X_val, y_train, y_val = train_test_split(X_train, y_train, test_size=0.33, random_state=42)\n",
    "print(X_train.shape, X_test.shape, X_val.shape, y_train.shape, y_test.shape, y_val.shape)"
   ]
  },
  {
   "cell_type": "code",
   "execution_count": 15,
   "id": "4b41601b",
   "metadata": {
    "id": "4b41601b"
   },
   "outputs": [],
   "source": [
    "from sklearn.utils import shuffle\n",
    "from PIL import Image\n",
    "import random\n",
    "\n",
    "CROP_SIZE = 113\n",
    "NUM_LABELS = 50\n",
    "\n",
    "def get_augmented_sample(sample, label, sample_ratio):\n",
    "    # Get current image details\n",
    "    img = Image.open(sample)\n",
    "    img_width = img.size[0]\n",
    "    img_height = img.size[1]\n",
    "\n",
    "    # Compute resize dimensions such that aspect ratio is maintained\n",
    "    height_fac = CROP_SIZE / img_height\n",
    "    size = (int(img_width * height_fac), CROP_SIZE)\n",
    "\n",
    "    # Resize image \n",
    "    new_img = img.resize((size), Image.ANTIALIAS)\n",
    "    new_img_width = new_img.size[0]\n",
    "    new_img_height = new_img.size[1]\n",
    "\n",
    "    # Generate a random number of crops of size 113x113 from the resized image\n",
    "    x_coord = list(range(0, new_img_width - CROP_SIZE))\n",
    "    num_crops = int(len(x_coord) * sample_ratio)\n",
    "    random_x_coord = random.sample(x_coord, num_crops)\n",
    "    \n",
    "    # Create augmented images (cropped forms) and map them to a label (writer)\n",
    "    images = []\n",
    "    labels = []\n",
    "    for x in random_x_coord:\n",
    "        img_crop = new_img.crop((x, 0, x + CROP_SIZE, CROP_SIZE))\n",
    "        # Transform image to an array of numbers\n",
    "        images.append(np.asarray(img_crop))\n",
    "        labels.append(label)\n",
    "\n",
    "    return images, labels"
   ]
  },
  {
   "cell_type": "code",
   "execution_count": 16,
   "id": "55dc6891",
   "metadata": {
    "id": "55dc6891"
   },
   "outputs": [],
   "source": [
    "def augment(data, labels):\n",
    "    augmented_sample_list = []\n",
    "    augmented_label_list = []\n",
    "    for i in range(len(data)):\n",
    "        augmented_samples, augmented_labels = get_augmented_sample(data[i], labels[i],0.1)\n",
    "        augmented_sample_list.append(augmented_samples)\n",
    "        augmented_label_list.append(augmented_labels)\n",
    "    return augmented_sample_list, augmented_label_list"
   ]
  },
  {
   "cell_type": "code",
   "execution_count": 17,
   "id": "664668a5",
   "metadata": {
    "id": "664668a5"
   },
   "outputs": [],
   "source": [
    "augsamps, auglbls = augment(X_train, y_train) # returns two lists of arrays\n",
    "augsamps_test, auglbls_test = augment(X_test, y_test)\n",
    "augsamps_val, auglbls_val = augment(X_val, y_val)"
   ]
  },
  {
   "cell_type": "code",
   "execution_count": 18,
   "id": "2f35824a",
   "metadata": {
    "colab": {
     "base_uri": "https://localhost:8080/"
    },
    "id": "2f35824a",
    "outputId": "854c5e0b-8eec-441a-e81e-f3c74f116ab0"
   },
   "outputs": [
    {
     "name": "stdout",
     "output_type": "stream",
     "text": [
      "29712\n",
      "29712\n",
      "24622\n",
      "24622\n",
      "15993\n",
      "15993\n"
     ]
    }
   ],
   "source": [
    "import operator\n",
    "from functools import reduce\n",
    "\n",
    "# flattening the lists\n",
    "aug_samps = reduce(operator.add, augsamps)\n",
    "aug_lbls = reduce(operator.add, auglbls)\n",
    "\n",
    "aug_samps_test = reduce(operator.add, augsamps_test)\n",
    "aug_lbls_test = reduce(operator.add, auglbls_test)\n",
    "\n",
    "aug_samps_val = reduce(operator.add, augsamps_val)\n",
    "aug_lbls_val = reduce(operator.add, auglbls_val)\n",
    "\n",
    "print(len(aug_samps))\n",
    "print(len(aug_lbls))\n",
    "\n",
    "print(len(aug_samps_test))\n",
    "print(len(aug_lbls_test))\n",
    "\n",
    "print(len(aug_samps_val))\n",
    "print(len(aug_lbls_val))"
   ]
  },
  {
   "cell_type": "code",
   "execution_count": 19,
   "id": "967237ec",
   "metadata": {
    "colab": {
     "base_uri": "https://localhost:8080/"
    },
    "id": "967237ec",
    "outputId": "74a0c76b-7135-43d0-836b-702c6af74ed2"
   },
   "outputs": [
    {
     "name": "stdout",
     "output_type": "stream",
     "text": [
      "(29712, 113, 113)\n",
      "(29712,)\n",
      "(24622, 113, 113)\n",
      "(24622,)\n",
      "(15993, 113, 113)\n",
      "(15993,)\n"
     ]
    }
   ],
   "source": [
    "# converting lists to arrays\n",
    "aug_samps_arr = np.array(aug_samps)\n",
    "aug_lbls_arr = np.array(aug_lbls)\n",
    "aug_samps_arr_test = np.array(aug_samps_test)\n",
    "aug_lbls_arr_test = np.array(aug_lbls_test)\n",
    "aug_samps_arr_val = np.array(aug_samps_val)\n",
    "aug_lbls_arr_val = np.array(aug_lbls_val)\n",
    "\n",
    "print(aug_samps_arr.shape)\n",
    "print(aug_lbls_arr.shape)\n",
    "print(aug_samps_arr_test.shape)\n",
    "print(aug_lbls_arr_test.shape)\n",
    "print(aug_samps_arr_val.shape)\n",
    "print(aug_lbls_arr_val.shape)"
   ]
  },
  {
   "cell_type": "code",
   "execution_count": 20,
   "id": "0mNPPupPKTTY",
   "metadata": {
    "id": "0mNPPupPKTTY"
   },
   "outputs": [],
   "source": [
    "def transform_data_aug_samps(data):\n",
    "  data = data.reshape(data.shape[0], 1, CROP_SIZE, CROP_SIZE)\n",
    "  data = data.astype('float16')\n",
    "  data /= 255.0\n",
    "  return data"
   ]
  },
  {
   "cell_type": "code",
   "execution_count": 21,
   "id": "GkrDuw_eLcLp",
   "metadata": {
    "id": "GkrDuw_eLcLp"
   },
   "outputs": [],
   "source": [
    "X_train = transform_data_aug_samps(aug_samps_arr)\n",
    "X_val = transform_data_aug_samps(aug_samps_arr_val)\n",
    "X_test = transform_data_aug_samps(aug_samps_arr_test)"
   ]
  },
  {
   "cell_type": "code",
   "execution_count": 22,
   "id": "ejqTLyaUKyVO",
   "metadata": {
    "id": "ejqTLyaUKyVO"
   },
   "outputs": [],
   "source": [
    "def convert_y_labels(labels):\n",
    "  new = np.unique(labels)\n",
    "  print(new)\n",
    "\n",
    "  labels[labels !='000'] = 1\n",
    "  new = np.unique(labels)\n",
    "  print(new)\n",
    "\n",
    "  labels[labels=='000'] = 0\n",
    "  new = np.unique(labels)\n",
    "  print(new)\n",
    "\n",
    "  print(labels.shape)\n",
    "\n",
    "  labels = labels.astype('float16')\n",
    "\n",
    "  print(np.unique(labels))\n",
    "  return labels"
   ]
  },
  {
   "cell_type": "code",
   "execution_count": 23,
   "id": "dN_qCMmDMRW2",
   "metadata": {
    "colab": {
     "base_uri": "https://localhost:8080/"
    },
    "id": "dN_qCMmDMRW2",
    "outputId": "484d876a-8d47-4f64-f93b-b7828abf633b"
   },
   "outputs": [
    {
     "name": "stdout",
     "output_type": "stream",
     "text": [
      "['000' '085' '118' '150' '151' '152' '153' '154' '155' '202' '203' '204'\n",
      " '205' '206' '207' '208' '209' '247' '248' '273' '274' '315' '332' '333'\n",
      " '334' '335' '336' '337' '338' '339' '340' '342' '343' '345' '346' '347'\n",
      " '348' '349' '384' '415' '552' '567' '588' '634' '635' '670' '671']\n",
      "['000' '1']\n",
      "['0' '1']\n",
      "(29712,)\n",
      "[0. 1.]\n",
      "['000' '085' '118' '150' '152' '155' '202' '203' '205' '206' '208' '273'\n",
      " '315' '332' '334' '335' '337' '338' '339' '340' '341' '342' '343' '344'\n",
      " '345' '346' '347' '349' '384' '415' '551' '552' '567' '588' '635' '670'\n",
      " '671']\n",
      "['000' '1']\n",
      "['0' '1']\n",
      "(24622,)\n",
      "[0. 1.]\n",
      "['000' '085' '150' '151' '152' '153' '154' '206' '207' '208' '209' '274'\n",
      " '332' '333' '334' '336' '341' '342' '343' '344' '347' '348' '415' '551'\n",
      " '552' '567' '588']\n",
      "['000' '1']\n",
      "['0' '1']\n",
      "(15993,)\n",
      "[0. 1.]\n"
     ]
    }
   ],
   "source": [
    "y_train = convert_y_labels(aug_lbls_arr)\n",
    "y_test = convert_y_labels(aug_lbls_arr_test)\n",
    "y_val = convert_y_labels(aug_lbls_arr_val)"
   ]
  },
  {
   "cell_type": "code",
   "execution_count": 24,
   "id": "e7d2904a",
   "metadata": {
    "colab": {
     "base_uri": "https://localhost:8080/"
    },
    "id": "e7d2904a",
    "outputId": "14a1b680-3d62-404b-9e70-a793a3305e89"
   },
   "outputs": [
    {
     "name": "stdout",
     "output_type": "stream",
     "text": [
      "(29712, 1, 113, 113)\n",
      "(29712,)\n",
      "(24622, 1, 113, 113)\n",
      "(24622,)\n",
      "(15993, 1, 113, 113)\n",
      "(15993,)\n"
     ]
    }
   ],
   "source": [
    "print(X_train.shape)\n",
    "print(y_train.shape)\n",
    "print(X_test.shape)\n",
    "print(y_test.shape)\n",
    "print(X_val.shape)\n",
    "print(y_val.shape)"
   ]
  },
  {
   "cell_type": "code",
   "execution_count": 25,
   "id": "g1wfoJoZqOOb",
   "metadata": {
    "colab": {
     "base_uri": "https://localhost:8080/"
    },
    "id": "g1wfoJoZqOOb",
    "outputId": "e39ba9d2-3acd-4f0d-c3f6-cef1edb11f56"
   },
   "outputs": [
    {
     "data": {
      "text/plain": [
       "device(type='cuda')"
      ]
     },
     "execution_count": 25,
     "metadata": {},
     "output_type": "execute_result"
    }
   ],
   "source": [
    "torch.manual_seed(42)\n",
    "CUDA = True\n",
    "device = torch.device('cuda' if CUDA else 'cpu')\n",
    "kwargs = {'num_workers': 1, 'pin_memory': True} if CUDA else {}\n",
    "device"
   ]
  },
  {
   "cell_type": "code",
   "execution_count": 26,
   "id": "09217c4b",
   "metadata": {
    "id": "09217c4b"
   },
   "outputs": [],
   "source": [
    "from torch.utils.data import TensorDataset, DataLoader\n",
    "\n",
    "\n",
    "tensor_x_train = torch.Tensor(X_train).type(torch.cuda.FloatTensor) # transform to torch tensor\n",
    "tensor_y_train = torch.Tensor(y_train).type(torch.cuda.FloatTensor).long()\n",
    "\n",
    "\n",
    "\n",
    "# tensor_x_train = torch.Tensor(X_train) # transform to torch tensor\n",
    "# tensor_y_train = torch.Tensor(y_train).long()\n",
    "\n",
    "train_dataset = TensorDataset(tensor_x_train,tensor_y_train) # create your datset\n",
    "train_dataloader = DataLoader(train_dataset,batch_size=16, shuffle=True, drop_last=True) # create your dataloader"
   ]
  },
  {
   "cell_type": "code",
   "execution_count": 27,
   "id": "DNDz-ofrfkNC",
   "metadata": {
    "id": "DNDz-ofrfkNC"
   },
   "outputs": [],
   "source": [
    "tensor_x_val = torch.Tensor(X_val).type(torch.cuda.FloatTensor) # transform to torch tensor\n",
    "tensor_y_val = torch.Tensor(y_val).type(torch.cuda.FloatTensor).long()\n",
    "# tensor_x_train = torch.Tensor(X_train) # transform to torch tensor\n",
    "# tensor_y_train = torch.Tensor(y_train).long()\n",
    "\n",
    "val_dataset = TensorDataset(tensor_x_val,tensor_y_val) # create your datset\n",
    "val_dataloader = DataLoader(val_dataset,batch_size=16, shuffle=True, drop_last=True) # create your dataloader"
   ]
  },
  {
   "cell_type": "code",
   "execution_count": 28,
   "id": "c120a864",
   "metadata": {
    "id": "c120a864"
   },
   "outputs": [],
   "source": [
    "tensor_x_test = torch.Tensor(X_test).type(torch.cuda.FloatTensor) # transform to torch tensor\n",
    "tensor_y_test = torch.Tensor(y_test).long().type(torch.cuda.FloatTensor).long()\n",
    "\n",
    "# tensor_x_test = torch.Tensor(X_test) # transform to torch tensor\n",
    "# tensor_y_test = torch.Tensor(y_test).long()\n",
    "\n",
    "test_dataset = TensorDataset(tensor_x_test,tensor_y_test) # create your datset\n",
    "test_dataloader = DataLoader(test_dataset, batch_size=16, shuffle=False, drop_last=True) # create your dataloader"
   ]
  },
  {
   "cell_type": "code",
   "execution_count": 29,
   "id": "HOXYkXWgCKt7",
   "metadata": {
    "colab": {
     "base_uri": "https://localhost:8080/"
    },
    "id": "HOXYkXWgCKt7",
    "outputId": "c656d64c-1c48-4a32-86da-562c1cf23350"
   },
   "outputs": [
    {
     "data": {
      "text/plain": [
       "torch.Size([29712, 1, 113, 113])"
      ]
     },
     "execution_count": 29,
     "metadata": {},
     "output_type": "execute_result"
    }
   ],
   "source": [
    "tensor_x_train.shape"
   ]
  },
  {
   "cell_type": "code",
   "execution_count": 30,
   "id": "63b0ecba",
   "metadata": {
    "id": "63b0ecba"
   },
   "outputs": [],
   "source": [
    "# import torch\n",
    "from torch import nn\n",
    "class Binary_Classifier(nn.Module): \n",
    "    def __init__(self):\n",
    "        super(Binary_Classifier, self).__init__()\n",
    "        self.conv1 = nn.Conv2d(in_channels=1, out_channels=10, kernel_size=3)\n",
    "        self.conv2 = nn.Conv2d(10, 20, kernel_size=3)\n",
    "        self.conv_drop = nn.Dropout2d()\n",
    "        self.conv3 = nn.Conv2d(20, 30, kernel_size=3)\n",
    "        self.fc1 = nn.Linear(4320, 1024)\n",
    "        self.fc2 = nn.Linear(1024, 2)\n",
    "        self.relu = nn.ReLU()\n",
    "        self.max_pool2d = nn.MaxPool2d(2)\n",
    "    def forward(self, x):\n",
    "        x = self.relu(self.max_pool2d(self.conv1(x)))\n",
    "        x = self.relu(self.max_pool2d(self.conv_drop(self.conv2(x))))\n",
    "        x = self.relu(self.max_pool2d(self.conv_drop(self.conv3(x))))\n",
    "        x = x.view(x.shape[0],-1)\n",
    "        # print(x.shape)\n",
    "        x = self.relu(self.fc1(x))\n",
    "        x = self.conv_drop(x)\n",
    "        x = self.fc2(x)\n",
    "        return x"
   ]
  },
  {
   "cell_type": "code",
   "execution_count": 31,
   "id": "29d5c074",
   "metadata": {
    "id": "29d5c074"
   },
   "outputs": [],
   "source": [
    "model=Binary_Classifier().to(device)\n",
    "criterion = nn.CrossEntropyLoss()\n",
    "optimizer = torch.optim.Adam(model.parameters(),lr = 0.0001)\n",
    "\n",
    "# import torch.optim.lr_scheduler.StepLR\n",
    "# scheduler = torch.optim.lr_scheduler.StepLR(optimizer, step_size=1, gamma=0.1)\n"
   ]
  },
  {
   "cell_type": "code",
   "execution_count": 32,
   "id": "qnFjmaPqPwzH",
   "metadata": {
    "colab": {
     "base_uri": "https://localhost:8080/"
    },
    "id": "qnFjmaPqPwzH",
    "outputId": "115caed9-a563-4305-d8fd-bda5822c72bb"
   },
   "outputs": [
    {
     "name": "stdout",
     "output_type": "stream",
     "text": [
      "Loading checkpoint: /content/drive/MyDrive/testing_proj/iam_dataset/saved_model/model_3_convs_latest.pt\n"
     ]
    }
   ],
   "source": [
    "try:\n",
    "    print('Loading checkpoint: %s' % save_path +'/model_3_convs.pt')\n",
    "    path = torch.load(save_path +'/model_3_convs.pt', map_location=torch.device(device))\n",
    "    epoch = path['epoch']\n",
    "    model.load_state_dict(path['model'])\n",
    "    optimizer.load_state_dict(path['optimizer'])\n",
    "except Exception as e:\n",
    "  print(\"nothing happened\")\n",
    "  print(e)"
   ]
  },
  {
   "cell_type": "code",
   "execution_count": 33,
   "id": "z44prhBFQA76",
   "metadata": {
    "colab": {
     "base_uri": "https://localhost:8080/"
    },
    "id": "z44prhBFQA76",
    "outputId": "a56eab9e-7a03-4fff-8a13-be264edcf54a"
   },
   "outputs": [
    {
     "name": "stdout",
     "output_type": "stream",
     "text": [
      "<bound method Module.parameters of Binary_Classifier(\n",
      "  (conv1): Conv2d(1, 10, kernel_size=(3, 3), stride=(1, 1))\n",
      "  (conv2): Conv2d(10, 20, kernel_size=(3, 3), stride=(1, 1))\n",
      "  (conv_drop): Dropout2d(p=0.5, inplace=False)\n",
      "  (conv3): Conv2d(20, 30, kernel_size=(3, 3), stride=(1, 1))\n",
      "  (fc1): Linear(in_features=4320, out_features=1024, bias=True)\n",
      "  (fc2): Linear(in_features=1024, out_features=2, bias=True)\n",
      "  (relu): ReLU()\n",
      "  (max_pool2d): MaxPool2d(kernel_size=2, stride=2, padding=0, dilation=1, ceil_mode=False)\n",
      ")>\n"
     ]
    }
   ],
   "source": [
    "print(model.parameters)"
   ]
  },
  {
   "cell_type": "code",
   "execution_count": 34,
   "id": "7-4DlQ4LPeRi",
   "metadata": {
    "colab": {
     "base_uri": "https://localhost:8080/"
    },
    "id": "7-4DlQ4LPeRi",
    "outputId": "d6ff088a-f22b-4530-e92f-734e210cc1f2"
   },
   "outputs": [
    {
     "name": "stdout",
     "output_type": "stream",
     "text": [
      "cuda\n"
     ]
    }
   ],
   "source": [
    "print(device)"
   ]
  },
  {
   "cell_type": "code",
   "execution_count": 35,
   "id": "PMiXAng53sex",
   "metadata": {
    "id": "PMiXAng53sex"
   },
   "outputs": [],
   "source": [
    "if fc or conv:\n",
    "  for param in model.parameters():\n",
    "    param.requires_grad = False"
   ]
  },
  {
   "cell_type": "code",
   "execution_count": 36,
   "id": "HGx21fjR6B_f",
   "metadata": {
    "id": "HGx21fjR6B_f"
   },
   "outputs": [],
   "source": [
    "if conv:\n",
    "  for param in model.conv3.parameters():\n",
    "    param.requires_grad = True"
   ]
  },
  {
   "cell_type": "code",
   "execution_count": 37,
   "id": "2lmEG2ye4SZ6",
   "metadata": {
    "colab": {
     "base_uri": "https://localhost:8080/"
    },
    "id": "2lmEG2ye4SZ6",
    "outputId": "63eb4c96-b3f2-4d29-86ff-5249aa14aaab"
   },
   "outputs": [
    {
     "name": "stdout",
     "output_type": "stream",
     "text": [
      "1024\n"
     ]
    }
   ],
   "source": [
    "if fc or conv:\n",
    "  num_ftrs = model.fc2.in_features\n",
    "  print(num_ftrs)\n",
    "  model.fc2 = nn.Linear(num_ftrs, 2).to(device)"
   ]
  },
  {
   "cell_type": "code",
   "execution_count": 38,
   "id": "pi7rS_fwRaTj",
   "metadata": {
    "colab": {
     "base_uri": "https://localhost:8080/"
    },
    "id": "pi7rS_fwRaTj",
    "outputId": "bf414ba2-6d1c-4fed-8632-adf951692dd1"
   },
   "outputs": [
    {
     "name": "stdout",
     "output_type": "stream",
     "text": [
      "False\n",
      "False\n",
      "False\n",
      "False\n",
      "True\n",
      "True\n",
      "False\n",
      "False\n",
      "True\n",
      "True\n"
     ]
    }
   ],
   "source": [
    "for param in model.parameters():\n",
    "  print(param.requires_grad)"
   ]
  },
  {
   "cell_type": "code",
   "execution_count": 39,
   "id": "YfJB3VyygdBU",
   "metadata": {
    "id": "YfJB3VyygdBU"
   },
   "outputs": [],
   "source": [
    "train_losses = []\n",
    "train_loss_record = []"
   ]
  },
  {
   "cell_type": "code",
   "execution_count": 40,
   "id": "1olHEZqhudxC",
   "metadata": {
    "id": "1olHEZqhudxC"
   },
   "outputs": [],
   "source": [
    "from datetime import datetime\n",
    "train_log_string = '%s :: Epoch %i :: Iter %i / %i :: train loss: %0.4f'\n",
    "def train(epoch):\n",
    "    print('Start Epoch {} Training...'.format(epoch))\n",
    "    model.train()\n",
    "    train_loss = []\n",
    "    train_loss_sum = []\n",
    "    for idx, (data, target) in enumerate(train_dataloader):\n",
    "        optimizer.zero_grad()\n",
    "        #  forward-pass\n",
    "        output = model(data)\n",
    "        loss = criterion(output, target)\n",
    "        #backward-pass\n",
    "        loss.backward()\n",
    "        # Update the parameters\n",
    "        optimizer.step()\n",
    "        train_loss.append(loss.data.cpu().numpy())\n",
    "        train_loss_sum.append(loss)\n",
    "        if ((idx +1) % 5000) == 0:\n",
    "          print(train_log_string % (datetime.now(), epoch, idx + 1, len(train_dataloader), np.mean(train_loss)))\n",
    "          train_loss = []\n",
    "    mean_tr = torch.mean(torch.stack(train_loss_sum))\n",
    "    print('Train Loss at epoch {}: {}\\n'.format(epoch, mean_tr))\n",
    "    train_loss_record.append(mean_tr)\n",
    "    return train_loss_record"
   ]
  },
  {
   "cell_type": "code",
   "execution_count": 41,
   "id": "dbmp1pUob9FI",
   "metadata": {
    "colab": {
     "base_uri": "https://localhost:8080/"
    },
    "id": "dbmp1pUob9FI",
    "outputId": "ed398af2-38ce-45a5-c7fb-fc4654752bf4"
   },
   "outputs": [
    {
     "name": "stdout",
     "output_type": "stream",
     "text": [
      "Start Epoch 1 Training...\n",
      "Train Loss at epoch 1: 0.6550576090812683\n",
      "\n",
      "Start Epoch 0 Training...\n",
      "Train Loss at epoch 0: 0.6310067176818848\n",
      "\n",
      "Start Epoch 1 Training...\n",
      "Train Loss at epoch 1: 0.6184192299842834\n",
      "\n",
      "Start Epoch 2 Training...\n",
      "Train Loss at epoch 2: 0.6080632209777832\n",
      "\n",
      "Start Epoch 3 Training...\n",
      "Train Loss at epoch 3: 0.6026765704154968\n",
      "\n",
      "Start Epoch 4 Training...\n",
      "Train Loss at epoch 4: 0.5957402586936951\n",
      "\n",
      "Start Epoch 5 Training...\n",
      "Train Loss at epoch 5: 0.5930639505386353\n",
      "\n",
      "Start Epoch 6 Training...\n",
      "Train Loss at epoch 6: 0.5899810791015625\n",
      "\n",
      "Start Epoch 7 Training...\n",
      "Train Loss at epoch 7: 0.5879925489425659\n",
      "\n",
      "Start Epoch 8 Training...\n",
      "Train Loss at epoch 8: 0.5837777853012085\n",
      "\n",
      "Start Epoch 9 Training...\n",
      "Train Loss at epoch 9: 0.5839278697967529\n",
      "\n",
      "Start Epoch 10 Training...\n",
      "Train Loss at epoch 10: 0.5815083384513855\n",
      "\n",
      "Start Epoch 11 Training...\n",
      "Train Loss at epoch 11: 0.5810409188270569\n",
      "\n",
      "Start Epoch 12 Training...\n",
      "Train Loss at epoch 12: 0.5787440538406372\n",
      "\n",
      "Start Epoch 13 Training...\n",
      "Train Loss at epoch 13: 0.5772026777267456\n",
      "\n",
      "Start Epoch 14 Training...\n",
      "Train Loss at epoch 14: 0.5760595202445984\n",
      "\n",
      "8.653915039698283\n"
     ]
    }
   ],
   "source": [
    "# for epoch in range(15):\n",
    "#     tlr = train(epoch)\n",
    "\n",
    "import time\n",
    "if fc or conv:\n",
    "  train(1)\n",
    "  torch.cuda.synchronize()\n",
    "\n",
    "  times = []\n",
    "  for epoch in range(15):\n",
    "      start_epoch = time.time()\n",
    "      tlr = train(epoch)\n",
    "      torch.cuda.synchronize()\n",
    "      end_epoch = time.time()\n",
    "      elapsed = end_epoch - start_epoch\n",
    "      times.append(elapsed)\n",
    "\n",
    "\n",
    "  avg_time = sum(times)/15\n",
    "  print(avg_time)"
   ]
  },
  {
   "cell_type": "code",
   "execution_count": 42,
   "id": "KsbPkTc1WJ74",
   "metadata": {
    "id": "KsbPkTc1WJ74"
   },
   "outputs": [],
   "source": [
    "# conv time 8.539720948537191\n",
    "# fc time 5.401253032684326"
   ]
  },
  {
   "cell_type": "code",
   "execution_count": 43,
   "id": "8UD3CqceSgPs",
   "metadata": {
    "colab": {
     "base_uri": "https://localhost:8080/",
     "height": 283
    },
    "id": "8UD3CqceSgPs",
    "outputId": "fd2a248d-6007-4cae-b9a9-c3cd9d2d39e5"
   },
   "outputs": [
    {
     "name": "stdout",
     "output_type": "stream",
     "text": [
      "(16,)\n"
     ]
    },
    {
     "data": {
      "image/png": "[encoded data removed]",
      "text/plain": [
       "<Figure size 432x288 with 1 Axes>"
      ]
     },
     "metadata": {
      "needs_background": "light"
     },
     "output_type": "display_data"
    }
   ],
   "source": [
    "import matplotlib.pyplot as plt\n",
    "if fc or conv:\n",
    "  temp = [t.detach().cpu().numpy() for t in tlr]\n",
    "  arr = np.array(temp)\n",
    "  print(arr.shape)\n",
    "\n",
    "  plt.plot(arr)"
   ]
  },
  {
   "cell_type": "code",
   "execution_count": 44,
   "id": "oNgm_OQoLsXH",
   "metadata": {
    "id": "oNgm_OQoLsXH"
   },
   "outputs": [],
   "source": [
    "# # save trained model\n",
    "if save_model:\n",
    "  state_dict = {\n",
    "      # 'epoch': epoch,\n",
    "      'model': model.state_dict(),\n",
    "      'optimizer': optimizer.state_dict(),\n",
    "  }\n",
    "  if fc:\n",
    "    torch.save(state_dict, save_path+'/model_3_convs_node_4_fc.pt')\n",
    "    print('Model saved!\\n')\n",
    "  elif conv:\n",
    "    torch.save(state_dict, save_path+'/model_3_convs_node_4_conv.pt')\n",
    "    print('Model saved!\\n')\n",
    "  else:\n",
    "    print(\"set NODE or fc/conv\")"
   ]
  },
  {
   "cell_type": "code",
   "execution_count": 45,
   "id": "UElBlZoYQnpp",
   "metadata": {
    "colab": {
     "base_uri": "https://localhost:8080/"
    },
    "id": "UElBlZoYQnpp",
    "outputId": "50c634e3-1565-465f-960f-fda90470787e"
   },
   "outputs": [
    {
     "name": "stdout",
     "output_type": "stream",
     "text": [
      "(1538, 16, 2) (1538, 16)\n"
     ]
    }
   ],
   "source": [
    "result = []\n",
    "prediction = []\n",
    "model.eval()\n",
    "with torch.no_grad():\n",
    "    for idx, (data, target) in enumerate(test_dataloader):\n",
    "        output = model(data)\n",
    "        output_sm = nn.Softmax(dim=1)(output)\n",
    "        _, predicted = torch.max(output, 1)\n",
    "        prediction.append(predicted)\n",
    "        result.append(output_sm)\n",
    "        \n",
    "result = torch.stack(result).detach().cpu().numpy()\n",
    "prediction = torch.stack(prediction).detach().cpu().numpy()\n",
    "\n",
    "print(result.shape, prediction.shape)"
   ]
  },
  {
   "cell_type": "code",
   "execution_count": 46,
   "id": "Hs1Q0JC2xKjs",
   "metadata": {
    "colab": {
     "base_uri": "https://localhost:8080/"
    },
    "id": "Hs1Q0JC2xKjs",
    "outputId": "aae3b29c-50b0-438e-f34b-2dbbfdffb1fb"
   },
   "outputs": [
    {
     "name": "stdout",
     "output_type": "stream",
     "text": [
      "(24608,)\n"
     ]
    }
   ],
   "source": [
    "print(prediction.reshape(-1).shape)"
   ]
  },
  {
   "cell_type": "code",
   "execution_count": 47,
   "id": "dCcQqc-VsfnE",
   "metadata": {
    "id": "dCcQqc-VsfnE"
   },
   "outputs": [],
   "source": [
    "import pandas as pd\n",
    "res = pd.DataFrame(result.reshape(-1,2))\n",
    "pred = pd.DataFrame(prediction.reshape(-1))\n",
    "\n",
    "# res.to_csv(\"/content/drive/MyDrive/iam_dataset/saved_model/results_imbal_1_conv_3_transf_conv.csv\", header=False, index=False)\n",
    "# pred.to_csv(\"/content/drive/MyDrive/iam_dataset/saved_model/pred__imbal_1_conv_3_transf_conv.csv\", header=False, index=False)"
   ]
  },
  {
   "cell_type": "code",
   "execution_count": 48,
   "id": "sGZJv2Di1QSz",
   "metadata": {
    "colab": {
     "base_uri": "https://localhost:8080/"
    },
    "id": "sGZJv2Di1QSz",
    "outputId": "ab928051-e43b-4afb-ae1c-7942b75b8c16"
   },
   "outputs": [
    {
     "name": "stdout",
     "output_type": "stream",
     "text": [
      "(24608, 2) (24608, 1)\n"
     ]
    }
   ],
   "source": [
    "print(res.shape, pred.shape)"
   ]
  },
  {
   "cell_type": "code",
   "execution_count": 49,
   "id": "iRodoZGT0iIY",
   "metadata": {
    "id": "iRodoZGT0iIY"
   },
   "outputs": [],
   "source": [
    "y_test_new = y_test[:result.reshape(-1,2).shape[0]]"
   ]
  },
  {
   "cell_type": "code",
   "execution_count": 50,
   "id": "rgdEBEj41lsO",
   "metadata": {
    "colab": {
     "base_uri": "https://localhost:8080/"
    },
    "id": "rgdEBEj41lsO",
    "outputId": "12ec972f-91bc-4af2-ad25-0c8a50d21307"
   },
   "outputs": [
    {
     "name": "stdout",
     "output_type": "stream",
     "text": [
      "(24608,)\n"
     ]
    }
   ],
   "source": [
    "print(y_test_new.shape)"
   ]
  },
  {
   "cell_type": "code",
   "execution_count": 51,
   "id": "iaJkMnicswF_",
   "metadata": {
    "colab": {
     "base_uri": "https://localhost:8080/",
     "height": 423
    },
    "id": "iaJkMnicswF_",
    "outputId": "feb7a607-3141-4887-e161-e063ae090e62"
   },
   "outputs": [
    {
     "data": {
      "text/html": [
       "\n",
       "  <div id=\"df-a3ad8c2d-5633-49d9-9869-7fa814d6dc00\">\n",
       "    <div class=\"colab-df-container\">\n",
       "      <div>\n",
       "<style scoped>\n",
       "    .dataframe tbody tr th:only-of-type {\n",
       "        vertical-align: middle;\n",
       "    }\n",
       "\n",
       "    .dataframe tbody tr th {\n",
       "        vertical-align: top;\n",
       "    }\n",
       "\n",
       "    .dataframe thead th {\n",
       "        text-align: right;\n",
       "    }\n",
       "</style>\n",
       "<table border=\"1\" class=\"dataframe\">\n",
       "  <thead>\n",
       "    <tr style=\"text-align: right;\">\n",
       "      <th></th>\n",
       "      <th>ground truth</th>\n",
       "      <th>NN output</th>\n",
       "      <th>probs 0</th>\n",
       "      <th>probs 1</th>\n",
       "    </tr>\n",
       "  </thead>\n",
       "  <tbody>\n",
       "    <tr>\n",
       "      <th>0</th>\n",
       "      <td>1.0</td>\n",
       "      <td>1</td>\n",
       "      <td>0.443247</td>\n",
       "      <td>0.556753</td>\n",
       "    </tr>\n",
       "    <tr>\n",
       "      <th>1</th>\n",
       "      <td>1.0</td>\n",
       "      <td>1</td>\n",
       "      <td>0.444481</td>\n",
       "      <td>0.555519</td>\n",
       "    </tr>\n",
       "    <tr>\n",
       "      <th>2</th>\n",
       "      <td>1.0</td>\n",
       "      <td>1</td>\n",
       "      <td>0.388976</td>\n",
       "      <td>0.611024</td>\n",
       "    </tr>\n",
       "    <tr>\n",
       "      <th>3</th>\n",
       "      <td>1.0</td>\n",
       "      <td>1</td>\n",
       "      <td>0.382649</td>\n",
       "      <td>0.617351</td>\n",
       "    </tr>\n",
       "    <tr>\n",
       "      <th>4</th>\n",
       "      <td>1.0</td>\n",
       "      <td>1</td>\n",
       "      <td>0.352287</td>\n",
       "      <td>0.647713</td>\n",
       "    </tr>\n",
       "    <tr>\n",
       "      <th>...</th>\n",
       "      <td>...</td>\n",
       "      <td>...</td>\n",
       "      <td>...</td>\n",
       "      <td>...</td>\n",
       "    </tr>\n",
       "    <tr>\n",
       "      <th>24603</th>\n",
       "      <td>1.0</td>\n",
       "      <td>1</td>\n",
       "      <td>0.309245</td>\n",
       "      <td>0.690755</td>\n",
       "    </tr>\n",
       "    <tr>\n",
       "      <th>24604</th>\n",
       "      <td>1.0</td>\n",
       "      <td>1</td>\n",
       "      <td>0.312525</td>\n",
       "      <td>0.687475</td>\n",
       "    </tr>\n",
       "    <tr>\n",
       "      <th>24605</th>\n",
       "      <td>1.0</td>\n",
       "      <td>1</td>\n",
       "      <td>0.333178</td>\n",
       "      <td>0.666822</td>\n",
       "    </tr>\n",
       "    <tr>\n",
       "      <th>24606</th>\n",
       "      <td>1.0</td>\n",
       "      <td>1</td>\n",
       "      <td>0.281382</td>\n",
       "      <td>0.718618</td>\n",
       "    </tr>\n",
       "    <tr>\n",
       "      <th>24607</th>\n",
       "      <td>1.0</td>\n",
       "      <td>1</td>\n",
       "      <td>0.328481</td>\n",
       "      <td>0.671519</td>\n",
       "    </tr>\n",
       "  </tbody>\n",
       "</table>\n",
       "<p>24608 rows × 4 columns</p>\n",
       "</div>\n",
       "      <button class=\"colab-df-convert\" onclick=\"convertToInteractive('df-a3ad8c2d-5633-49d9-9869-7fa814d6dc00')\"\n",
       "              title=\"Convert this dataframe to an interactive table.\"\n",
       "              style=\"display:none;\">\n",
       "        \n",
       "  <svg xmlns=\"http://www.w3.org/2000/svg\" height=\"24px\"viewBox=\"0 0 24 24\"\n",
       "       width=\"24px\">\n",
       "    <path d=\"M0 0h24v24H0V0z\" fill=\"none\"/>\n",
       "    <path d=\"M18.56 5.44l.94 2.06.94-2.06 2.06-.94-2.06-.94-.94-2.06-.94 2.06-2.06.94zm-11 1L8.5 8.5l.94-2.06 2.06-.94-2.06-.94L8.5 2.5l-.94 2.06-2.06.94zm10 10l.94 2.06.94-2.06 2.06-.94-2.06-.94-.94-2.06-.94 2.06-2.06.94z\"/><path d=\"M17.41 7.96l-1.37-1.37c-.4-.4-.92-.59-1.43-.59-.52 0-1.04.2-1.43.59L10.3 9.45l-7.72 7.72c-.78.78-.78 2.05 0 2.83L4 21.41c.39.39.9.59 1.41.59.51 0 1.02-.2 1.41-.59l7.78-7.78 2.81-2.81c.8-.78.8-2.07 0-2.86zM5.41 20L4 18.59l7.72-7.72 1.47 1.35L5.41 20z\"/>\n",
       "  </svg>\n",
       "      </button>\n",
       "      \n",
       "  <style>\n",
       "    .colab-df-container {\n",
       "      display:flex;\n",
       "      flex-wrap:wrap;\n",
       "      gap: 12px;\n",
       "    }\n",
       "\n",
       "    .colab-df-convert {\n",
       "      background-color: #E8F0FE;\n",
       "      border: none;\n",
       "      border-radius: 50%;\n",
       "      cursor: pointer;\n",
       "      display: none;\n",
       "      fill: #1967D2;\n",
       "      height: 32px;\n",
       "      padding: 0 0 0 0;\n",
       "      width: 32px;\n",
       "    }\n",
       "\n",
       "    .colab-df-convert:hover {\n",
       "      background-color: #E2EBFA;\n",
       "      box-shadow: 0px 1px 2px rgba(60, 64, 67, 0.3), 0px 1px 3px 1px rgba(60, 64, 67, 0.15);\n",
       "      fill: #174EA6;\n",
       "    }\n",
       "\n",
       "    [theme=dark] .colab-df-convert {\n",
       "      background-color: #3B4455;\n",
       "      fill: #D2E3FC;\n",
       "    }\n",
       "\n",
       "    [theme=dark] .colab-df-convert:hover {\n",
       "      background-color: #434B5C;\n",
       "      box-shadow: 0px 1px 3px 1px rgba(0, 0, 0, 0.15);\n",
       "      filter: drop-shadow(0px 1px 2px rgba(0, 0, 0, 0.3));\n",
       "      fill: #FFFFFF;\n",
       "    }\n",
       "  </style>\n",
       "\n",
       "      <script>\n",
       "        const buttonEl =\n",
       "          document.querySelector('#df-a3ad8c2d-5633-49d9-9869-7fa814d6dc00 button.colab-df-convert');\n",
       "        buttonEl.style.display =\n",
       "          google.colab.kernel.accessAllowed ? 'block' : 'none';\n",
       "\n",
       "        async function convertToInteractive(key) {\n",
       "          const element = document.querySelector('#df-a3ad8c2d-5633-49d9-9869-7fa814d6dc00');\n",
       "          const dataTable =\n",
       "            await google.colab.kernel.invokeFunction('convertToInteractive',\n",
       "                                                     [key], {});\n",
       "          if (!dataTable) return;\n",
       "\n",
       "          const docLinkHtml = 'Like what you see? Visit the ' +\n",
       "            '<a target=\"_blank\" href=https://colab.research.google.com/notebooks/data_table.ipynb>data table notebook</a>'\n",
       "            + ' to learn more about interactive tables.';\n",
       "          element.innerHTML = '';\n",
       "          dataTable['output_type'] = 'display_data';\n",
       "          await google.colab.output.renderOutput(dataTable, element);\n",
       "          const docLink = document.createElement('div');\n",
       "          docLink.innerHTML = docLinkHtml;\n",
       "          element.appendChild(docLink);\n",
       "        }\n",
       "      </script>\n",
       "    </div>\n",
       "  </div>\n",
       "  "
      ],
      "text/plain": [
       "       ground truth  NN output   probs 0   probs 1\n",
       "0               1.0          1  0.443247  0.556753\n",
       "1               1.0          1  0.444481  0.555519\n",
       "2               1.0          1  0.388976  0.611024\n",
       "3               1.0          1  0.382649  0.617351\n",
       "4               1.0          1  0.352287  0.647713\n",
       "...             ...        ...       ...       ...\n",
       "24603           1.0          1  0.309245  0.690755\n",
       "24604           1.0          1  0.312525  0.687475\n",
       "24605           1.0          1  0.333178  0.666822\n",
       "24606           1.0          1  0.281382  0.718618\n",
       "24607           1.0          1  0.328481  0.671519\n",
       "\n",
       "[24608 rows x 4 columns]"
      ]
     },
     "execution_count": 51,
     "metadata": {},
     "output_type": "execute_result"
    }
   ],
   "source": [
    "result_df = pd.DataFrame({'ground truth': y_test_new, 'NN output': prediction.reshape(-1), 'probs 0': res[0], 'probs 1': res[1]})\n",
    "result_df"
   ]
  },
  {
   "cell_type": "code",
   "execution_count": 52,
   "id": "COaorBTG-iwa",
   "metadata": {
    "colab": {
     "base_uri": "https://localhost:8080/"
    },
    "id": "COaorBTG-iwa",
    "outputId": "1998e245-7aa6-4f76-e188-57563201795c"
   },
   "outputs": [
    {
     "name": "stdout",
     "output_type": "stream",
     "text": [
      "Confusion matrix : \n",
      " [[    4 15568]\n",
      " [    1  9035]]\n",
      "Outcome values : \n",
      " 4 15568 1 9035\n",
      "Classification report : \n",
      "               precision    recall  f1-score   support\n",
      "\n",
      "           0       0.80      0.00      0.00     15572\n",
      "           1       0.37      1.00      0.54      9036\n",
      "\n",
      "    accuracy                           0.37     24608\n",
      "   macro avg       0.58      0.50      0.27     24608\n",
      "weighted avg       0.64      0.37      0.20     24608\n",
      "\n"
     ]
    }
   ],
   "source": [
    "# work out the accuracy and other metrics\n",
    "from sklearn.metrics import confusion_matrix\n",
    "from sklearn.metrics import classification_report\n",
    "actual = result_df['ground truth']\n",
    "predicted = result_df['NN output']\n",
    "# confusion matrix\n",
    "matrix = confusion_matrix(actual, predicted, labels=[0,1])\n",
    "print('Confusion matrix : \\n',matrix)\n",
    "\n",
    "# outcome values order in sklearn\n",
    "tn, fp, fn, tp = confusion_matrix(actual, predicted, labels=[0,1]).reshape(-1)\n",
    "print('Outcome values : \\n', tn, fp, fn, tp)\n",
    "\n",
    "# tn, fp, fn, tp\n",
    "\n",
    "# classification report for precision, recall f1-score and accuracy\n",
    "matrix_2 = classification_report(actual,predicted,labels=[0,1])\n",
    "print('Classification report : \\n',matrix_2)"
   ]
  },
  {
   "cell_type": "code",
   "execution_count": 53,
   "id": "7Rp6mAJJU2xK",
   "metadata": {
    "colab": {
     "base_uri": "https://localhost:8080/",
     "height": 446
    },
    "id": "7Rp6mAJJU2xK",
    "outputId": "5b302f61-f291-4e2a-bda7-a02bf658448c"
   },
   "outputs": [
    {
     "data": {
      "text/plain": [
       "<matplotlib.axes._subplots.AxesSubplot at 0x7f1b091f3050>"
      ]
     },
     "execution_count": 53,
     "metadata": {},
     "output_type": "execute_result"
    },
    {
     "data": {
      "image/png": "[encoded data removed]",
      "text/plain": [
       "<Figure size 720x504 with 2 Axes>"
      ]
     },
     "metadata": {
      "needs_background": "light"
     },
     "output_type": "display_data"
    }
   ],
   "source": [
    "import matplotlib.pyplot as plt\n",
    "\n",
    "import seaborn as sn\n",
    "df_cm = pd.DataFrame(matrix, index = [i for i in \"01\"],\n",
    "                  columns = [i for i in \"01\"])\n",
    "plt.figure(figsize = (10,7))\n",
    "sn.heatmap(matrix, annot=True)"
   ]
  },
  {
   "cell_type": "code",
   "execution_count": 54,
   "id": "C0eM31vqtXR4",
   "metadata": {
    "colab": {
     "base_uri": "https://localhost:8080/"
    },
    "id": "C0eM31vqtXR4",
    "outputId": "83603046-efa9-49b1-8193-cd4a304bc364"
   },
   "outputs": [
    {
     "name": "stdout",
     "output_type": "stream",
     "text": [
      "Classification report : \n",
      " {'0': {'precision': 0.8, 'recall': 0.00025687130747495504, 'f1-score': 0.0005135777107273544, 'support': 15572}, '1': {'precision': 0.3672316384180791, 'recall': 0.9998893315626384, 'f1-score': 0.5371741133803026, 'support': 9036}, 'accuracy': 0.3673195708712614, 'macro avg': {'precision': 0.5836158192090396, 'recall': 0.5000731014350567, 'f1-score': 0.268843845545515, 'support': 24608}, 'weighted avg': {'precision': 0.6410884706089792, 'recall': 0.3673195708712614, 'f1-score': 0.19757407024609316, 'support': 24608}}\n"
     ]
    },
    {
     "data": {
      "text/plain": [
       "0.3673195708712614"
      ]
     },
     "execution_count": 54,
     "metadata": {},
     "output_type": "execute_result"
    }
   ],
   "source": [
    "from sklearn.metrics import classification_report\n",
    "from sklearn.metrics import accuracy_score\n",
    "matrix_3 = classification_report(actual,predicted,labels=[0,1], output_dict=True)\n",
    "print('Classification report : \\n',matrix_3)\n",
    "accuracy_score(actual, predicted)"
   ]
  },
  {
   "cell_type": "code",
   "execution_count": 55,
   "id": "lFa8Ur5Ytecn",
   "metadata": {
    "id": "lFa8Ur5Ytecn"
   },
   "outputs": [],
   "source": [
    "matrix_df = pd.DataFrame(matrix).transpose()\n",
    "matrix_3_df = pd.DataFrame(matrix_3).transpose()\n",
    "# matrix_df.to_csv(\"/content/drive/MyDrive/iam_dataset/saved_model/conf_matrix_imbal_1_3conv_transf_conv.csv\", header=False, index=False)\n",
    "\n",
    "if save_results:\n",
    "  if fc:\n",
    "    matrix_3_df.to_csv(save_path + \"/classification_report_node4_3conv_fc_retrain.csv\", header=True, index=True)\n",
    "  elif conv:\n",
    "    matrix_3_df.to_csv(save_path + \"/classification_report_node4_3conv_conv_retrain.csv\", header=True, index=True)\n",
    "  elif plain_inf:\n",
    "    matrix_3_df.to_csv(save_path + \"/classification_report_node4_3conv_pi.csv\", header=True, index=True)\n",
    "  else:\n",
    "    print(\"set fc/conv/plain_inf\")\n",
    "# pd.to_csv(\"/content/drive/MyDrive/iam_dataset/saved_model/classification_report.txt\",matrix)\n"
   ]
  }
 ],
 "metadata": {
  "accelerator": "GPU",
  "colab": {
   "collapsed_sections": [],
   "name": " node 4.ipynb",
   "provenance": []
  },
  "kernelspec": {
   "display_name": "Python 3 (ipykernel)",
   "language": "python",
   "name": "python3"
  },
  "language_info": {
   "codemirror_mode": {
    "name": "ipython",
    "version": 3
   },
   "file_extension": ".py",
   "mimetype": "text/x-python",
   "name": "python",
   "nbconvert_exporter": "python",
   "pygments_lexer": "ipython3",
   "version": "3.9.6"
  }
 },
 "nbformat": 4,
 "nbformat_minor": 5
}
