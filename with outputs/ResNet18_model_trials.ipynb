{
 "cells": [
  {
   "cell_type": "code",
   "execution_count": null,
   "metadata": {
    "id": "zixHmePc7HQT"
   },
   "outputs": [],
   "source": [
    "from google.colab import drive\n",
    "drive.mount('/content/drive')"
   ]
  },
  {
   "cell_type": "code",
   "execution_count": null,
   "metadata": {
    "id": "_H9hV6PEIKBD"
   },
   "outputs": [],
   "source": [
    "import numpy as np\n",
    "import torch\n",
    "import os\n",
    "import pickle\n",
    "import matplotlib.pyplot as plt\n",
    "\n",
    "save_path = '/content/drive/MyDrive/iam_dataset/saved_model/resnet/'\n",
    "data_path = '/content/drive/MyDrive/iam_dataset/'"
   ]
  },
  {
   "cell_type": "code",
   "execution_count": null,
   "metadata": {
    "id": "EdsLVb9-cyqt"
   },
   "outputs": [],
   "source": [
    "# toggles\n",
    "pre_trained = True\n",
    "train_on_node1 = False\n",
    "pre_trained_on_node1_use_on_node2 = False\n",
    "\n",
    "\n",
    "save_results = False\n",
    "save_model = False"
   ]
  },
  {
   "cell_type": "code",
   "execution_count": null,
   "metadata": {
    "colab": {
     "base_uri": "https://localhost:8080/"
    },
    "id": "VFo7g_nQKehH",
    "outputId": "076398e7-e04d-4765-d1d2-52fb156e02a9"
   },
   "outputs": [
    {
     "name": "stdout",
     "output_type": "stream",
     "text": [
      "(4901, 2)\n"
     ]
    }
   ],
   "source": [
    "labelled_data = np.load(data_path + 'labelled_data.npy')\n",
    "\n",
    "print(labelled_data.shape)"
   ]
  },
  {
   "cell_type": "code",
   "execution_count": null,
   "metadata": {
    "colab": {
     "base_uri": "https://localhost:8080/"
    },
    "id": "qnD3OCIVLzck",
    "outputId": "640ad1f4-b7a3-4122-882a-2f76b9f8f7b0"
   },
   "outputs": [
    {
     "name": "stdout",
     "output_type": "stream",
     "text": [
      "(693, 2)\n",
      "(196, 2)\n",
      "['000']\n"
     ]
    }
   ],
   "source": [
    "labelled_data_0 = labelled_data[labelled_data[:,1] == '000']\n",
    "\n",
    "print(labelled_data_0.shape)\n",
    "\n",
    "if pre_trained_on_node1_use_on_node2:\n",
    "  labelled_data_0 = labelled_data_0[196:(196*2)]\n",
    "else:\n",
    "  labelled_data_0 = labelled_data_0[:196]\n",
    "print(labelled_data_0.shape)\n",
    "\n",
    "print(np.unique(labelled_data_0[:,1]))"
   ]
  },
  {
   "cell_type": "code",
   "execution_count": null,
   "metadata": {
    "colab": {
     "base_uri": "https://localhost:8080/"
    },
    "id": "n0fpGL7iL0YX",
    "outputId": "964f9ff5-8567-45bc-8861-98fcb8966310"
   },
   "outputs": [
    {
     "name": "stdout",
     "output_type": "stream",
     "text": [
      "['085' '118' '150' '151' '152' '153' '154' '155' '202' '203' '204' '205'\n",
      " '206' '207' '208' '209' '247' '248' '273' '274' '315' '332' '333' '334'\n",
      " '335' '336' '337' '338' '339' '340' '341' '342' '343' '344' '345' '346'\n",
      " '347' '348' '349' '384' '415' '551' '552' '567' '588' '634' '635' '670'\n",
      " '671']\n",
      "(49,)\n"
     ]
    }
   ],
   "source": [
    "remove_0 = labelled_data[labelled_data[:,1]!='000']\n",
    "\n",
    "print(np.unique(remove_0[:,1]))\n",
    "print(np.unique(remove_0[:,1]).shape)"
   ]
  },
  {
   "cell_type": "code",
   "execution_count": null,
   "metadata": {
    "colab": {
     "base_uri": "https://localhost:8080/"
    },
    "id": "5o4oibXrL62P",
    "outputId": "e2b15d3e-ebb1-410b-d05e-30e60daf3e03"
   },
   "outputs": [
    {
     "name": "stdout",
     "output_type": "stream",
     "text": [
      "49\n"
     ]
    }
   ],
   "source": [
    "y = [remove_0[remove_0[:,1]==k] for k in np.unique(remove_0[:,1])]\n",
    "print(len(y))"
   ]
  },
  {
   "cell_type": "code",
   "execution_count": null,
   "metadata": {
    "colab": {
     "base_uri": "https://localhost:8080/"
    },
    "id": "AvE4cYAxMCSW",
    "outputId": "29141920-3ddf-4162-8b02-9d2dc4c159ab"
   },
   "outputs": [
    {
     "name": "stdout",
     "output_type": "stream",
     "text": [
      "49\n",
      "(49, 4, 2)\n"
     ]
    }
   ],
   "source": [
    "labelled_data_1 = []\n",
    "for i in y:\n",
    "  if pre_trained_on_node1_use_on_node2:\n",
    "    labelled_data_1.append(i[5:9])\n",
    "  else:\n",
    "    labelled_data_1.append(i[:4])\n",
    "\n",
    "\n",
    "print(len(labelled_data_1))\n",
    "\n",
    "labelled_data_1 = np.array(labelled_data_1)\n",
    "\n",
    "print(labelled_data_1.shape)"
   ]
  },
  {
   "cell_type": "code",
   "execution_count": null,
   "metadata": {
    "id": "fNhdAdmsMJPX"
   },
   "outputs": [],
   "source": [
    "labelled_data_1=labelled_data_1.reshape(-1,2)"
   ]
  },
  {
   "cell_type": "code",
   "execution_count": null,
   "metadata": {
    "colab": {
     "base_uri": "https://localhost:8080/"
    },
    "id": "IbzkxU6mMMgw",
    "outputId": "ec1a2479-82b1-4341-93d6-b29dec01fbf7"
   },
   "outputs": [
    {
     "name": "stdout",
     "output_type": "stream",
     "text": [
      "['085' '118' '150' '151' '152' '153' '154' '155' '202' '203' '204' '205'\n",
      " '206' '207' '208' '209' '247' '248' '273' '274' '315' '332' '333' '334'\n",
      " '335' '336' '337' '338' '339' '340' '341' '342' '343' '344' '345' '346'\n",
      " '347' '348' '349' '384' '415' '551' '552' '567' '588' '634' '635' '670'\n",
      " '671']\n"
     ]
    }
   ],
   "source": [
    "print(np.unique(labelled_data_1[:,1]))"
   ]
  },
  {
   "cell_type": "code",
   "execution_count": null,
   "metadata": {
    "colab": {
     "base_uri": "https://localhost:8080/"
    },
    "id": "0EQb0WwaOfCM",
    "outputId": "9d8156f6-9721-428a-d917-0185f8243c14"
   },
   "outputs": [
    {
     "name": "stdout",
     "output_type": "stream",
     "text": [
      "(392, 2)\n"
     ]
    }
   ],
   "source": [
    "labelled_data_new = np.concatenate((labelled_data_0, labelled_data_1))\n",
    "np.random.shuffle(labelled_data_new)\n",
    "print(labelled_data_new.shape) # mix of sentences from writer id 0 and others, labelled"
   ]
  },
  {
   "cell_type": "code",
   "execution_count": null,
   "metadata": {
    "colab": {
     "base_uri": "https://localhost:8080/"
    },
    "id": "R5zsmUv08q13",
    "outputId": "5a622559-b69f-4116-94dd-ffabdb0d4339"
   },
   "outputs": [
    {
     "name": "stdout",
     "output_type": "stream",
     "text": [
      "(262,) (130,) (262,) (130,)\n"
     ]
    }
   ],
   "source": [
    "# split before augmenting to ensure the sentences are being split and not the augmented samples\n",
    "from sklearn.model_selection import train_test_split\n",
    "X_train, X_test, y_train, y_test = train_test_split(labelled_data_new[:,0], labelled_data_new[:,1], test_size=0.33, random_state=42)\n",
    "print(X_train.shape, X_test.shape, y_train.shape, y_test.shape)"
   ]
  },
  {
   "cell_type": "code",
   "execution_count": null,
   "metadata": {
    "id": "jupnqls-Lc1K"
   },
   "outputs": [],
   "source": [
    "from sklearn.utils import shuffle\n",
    "from PIL import Image\n",
    "import random\n",
    "\n",
    "CROP_SIZE = 113\n",
    "NUM_LABELS = 50\n",
    "\n",
    "def get_augmented_sample(sample, label, sample_ratio):\n",
    "    # Get current image details\n",
    "    img = Image.open(sample)\n",
    "    img_width = img.size[0]\n",
    "    img_height = img.size[1]\n",
    "\n",
    "    # Compute resize dimensions such that aspect ratio is maintained\n",
    "    height_fac = CROP_SIZE / img_height\n",
    "    size = (int(img_width * height_fac), CROP_SIZE)\n",
    "\n",
    "    # Resize image \n",
    "    new_img = img.resize((size), Image.ANTIALIAS)\n",
    "    new_img_width = new_img.size[0]\n",
    "    new_img_height = new_img.size[1]\n",
    "\n",
    "    # Generate a random number of crops of size 113x113 from the resized image\n",
    "    x_coord = list(range(0, new_img_width - CROP_SIZE))\n",
    "    num_crops = int(len(x_coord) * sample_ratio)\n",
    "    random_x_coord = random.sample(x_coord, num_crops)\n",
    "    \n",
    "    # Create augmented images (cropped forms) and map them to a label (writer)\n",
    "    images = []\n",
    "    labels = []\n",
    "    for x in random_x_coord:\n",
    "        img_crop = new_img.crop((x, 0, x + CROP_SIZE, CROP_SIZE))\n",
    "        # Transform image to an array of numbers\n",
    "        images.append(np.asarray(img_crop))\n",
    "        labels.append(label)\n",
    "\n",
    "    return images, labels"
   ]
  },
  {
   "cell_type": "code",
   "execution_count": null,
   "metadata": {
    "id": "0YwS9_bRPk7t"
   },
   "outputs": [],
   "source": [
    "def augment(data, labels):\n",
    "    augmented_sample_list = []\n",
    "    augmented_label_list = []\n",
    "    for i in range(len(data)):\n",
    "        augmented_samples, augmented_labels = get_augmented_sample(data[i], labels[i],0.1)\n",
    "        augmented_sample_list.append(augmented_samples)\n",
    "        augmented_label_list.append(augmented_labels)\n",
    "    return augmented_sample_list, augmented_label_list"
   ]
  },
  {
   "cell_type": "code",
   "execution_count": null,
   "metadata": {
    "id": "i8wIUyX6P5PW"
   },
   "outputs": [],
   "source": [
    "augsamps, auglbls = augment(X_train, y_train) # returns two lists of arrays\n",
    "ausamps_test, auglbls_test = augment(X_test, y_test)"
   ]
  },
  {
   "cell_type": "code",
   "execution_count": null,
   "metadata": {
    "colab": {
     "base_uri": "https://localhost:8080/"
    },
    "id": "7iClV7pgP7wB",
    "outputId": "df25f3d1-dfdf-40b6-ce68-931dfbf497bd"
   },
   "outputs": [
    {
     "name": "stdout",
     "output_type": "stream",
     "text": [
      "40670\n",
      "40670\n",
      "19312\n",
      "19312\n"
     ]
    }
   ],
   "source": [
    "import operator\n",
    "from functools import reduce\n",
    "\n",
    "# flattening the lists\n",
    "aug_samps = reduce(operator.add, augsamps)\n",
    "aug_lbls = reduce(operator.add, auglbls)\n",
    "\n",
    "aug_samps_test = reduce(operator.add, ausamps_test)\n",
    "aug_lbls_test = reduce(operator.add, auglbls_test)\n",
    "print(len(aug_samps))\n",
    "print(len(aug_lbls))\n",
    "\n",
    "print(len(aug_samps_test))\n",
    "print(len(aug_lbls_test))"
   ]
  },
  {
   "cell_type": "code",
   "execution_count": null,
   "metadata": {
    "colab": {
     "base_uri": "https://localhost:8080/"
    },
    "id": "Gbvaci01QHgj",
    "outputId": "8560870e-60fb-4b1a-ebe0-3d47d5f8394f"
   },
   "outputs": [
    {
     "name": "stdout",
     "output_type": "stream",
     "text": [
      "(40670, 113, 113)\n",
      "(40670,)\n",
      "(19312, 113, 113)\n",
      "(19312,)\n"
     ]
    }
   ],
   "source": [
    "# converting lists to arrays\n",
    "aug_samps_arr = np.array(aug_samps)\n",
    "aug_lbls_arr = np.array(aug_lbls)\n",
    "aug_samps_arr_test = np.array(aug_samps_test)\n",
    "aug_lbls_arr_test = np.array(aug_lbls_test)\n",
    "\n",
    "print(aug_samps_arr.shape)\n",
    "print(aug_lbls_arr.shape)\n",
    "print(aug_samps_arr_test.shape)\n",
    "print(aug_lbls_arr_test.shape)"
   ]
  },
  {
   "cell_type": "code",
   "execution_count": null,
   "metadata": {
    "id": "fkpYIfNsQM7x"
   },
   "outputs": [],
   "source": [
    "X_train = aug_samps_arr\n",
    "X_train = X_train.reshape(X_train.shape[0], 1, CROP_SIZE, CROP_SIZE)\n",
    "X_train = X_train.astype('float16')\n",
    "X_train /= 255.0\n",
    "y_train = aug_lbls_arr"
   ]
  },
  {
   "cell_type": "code",
   "execution_count": null,
   "metadata": {
    "id": "wSre0ptbDSAn"
   },
   "outputs": [],
   "source": [
    "X_test = aug_samps_arr_test\n",
    "X_test = X_test.reshape(X_test.shape[0], 1, CROP_SIZE, CROP_SIZE)\n",
    "X_test = X_test.astype('float16')\n",
    "X_test /= 255.0\n",
    "y_test = aug_lbls_arr_test"
   ]
  },
  {
   "cell_type": "code",
   "execution_count": null,
   "metadata": {
    "colab": {
     "base_uri": "https://localhost:8080/"
    },
    "id": "3WeIMmB5Q675",
    "outputId": "c3cd26c7-8ffe-45c4-9bb4-03dbdbffe9a4"
   },
   "outputs": [
    {
     "name": "stdout",
     "output_type": "stream",
     "text": [
      "(40670, 1, 113, 113)\n",
      "(40670,)\n",
      "(19312, 1, 113, 113)\n",
      "(19312,)\n"
     ]
    }
   ],
   "source": [
    "print(X_train.shape)\n",
    "print(y_train.shape)\n",
    "\n",
    "print(X_test.shape)\n",
    "print(y_test.shape)"
   ]
  },
  {
   "cell_type": "code",
   "execution_count": null,
   "metadata": {
    "colab": {
     "base_uri": "https://localhost:8080/"
    },
    "id": "NyWREsrWQ7f-",
    "outputId": "8e438b55-4d4b-4d30-bdfe-a440c71a55d4"
   },
   "outputs": [
    {
     "name": "stdout",
     "output_type": "stream",
     "text": [
      "['000' '085' '118' '150' '151' '152' '153' '154' '155' '202' '203' '204'\n",
      " '205' '206' '207' '209' '247' '248' '273' '274' '315' '332' '333' '334'\n",
      " '335' '336' '337' '338' '339' '340' '341' '342' '343' '344' '345' '346'\n",
      " '347' '348' '349' '384' '415' '551' '567' '588' '634' '635' '670' '671']\n",
      "['000' '1']\n",
      "['0' '1']\n",
      "(40670,)\n",
      "[0. 1.]\n"
     ]
    }
   ],
   "source": [
    "new = np.unique(y_train)\n",
    "print(new)\n",
    "\n",
    "y_train[y_train !='000'] = 1\n",
    "new = np.unique(y_train)\n",
    "print(new)\n",
    "\n",
    "y_train[y_train=='000'] = 0 # 0 is 0\n",
    "new = np.unique(y_train)\n",
    "print(new)\n",
    "\n",
    "print(y_train.shape)\n",
    "\n",
    "y_train = y_train.astype('float16')\n",
    "\n",
    "print(np.unique(y_train))"
   ]
  },
  {
   "cell_type": "code",
   "execution_count": null,
   "metadata": {
    "colab": {
     "base_uri": "https://localhost:8080/"
    },
    "id": "Mz9HBySE9F8w",
    "outputId": "ed6d1987-5bf4-47d5-bbbf-03dd9b03c58c"
   },
   "outputs": [
    {
     "name": "stdout",
     "output_type": "stream",
     "text": [
      "['000' '151' '152' '153' '154' '155' '202' '203' '204' '205' '206' '207'\n",
      " '208' '209' '247' '273' '315' '333' '334' '335' '336' '337' '338' '339'\n",
      " '340' '341' '342' '343' '344' '346' '347' '348' '349' '384' '551' '552'\n",
      " '567' '588' '634' '635' '670']\n",
      "['000' '1']\n",
      "['0' '1']\n",
      "(19312,)\n",
      "[0. 1.]\n"
     ]
    }
   ],
   "source": [
    "new = np.unique(y_test)\n",
    "print(new)\n",
    "\n",
    "y_test[y_test !='000'] = 1\n",
    "new = np.unique(y_test)\n",
    "print(new)\n",
    "\n",
    "y_test[y_test=='000'] = 0\n",
    "new = np.unique(y_test)\n",
    "print(new)\n",
    "\n",
    "print(y_test.shape)\n",
    "\n",
    "y_test = y_test.astype('float16')\n",
    "\n",
    "print(np.unique(y_test))"
   ]
  },
  {
   "cell_type": "code",
   "execution_count": null,
   "metadata": {
    "colab": {
     "base_uri": "https://localhost:8080/"
    },
    "id": "bSGlwYkgROON",
    "outputId": "d453123a-d045-464c-c08d-3282ca457714"
   },
   "outputs": [
    {
     "data": {
      "text/plain": [
       "device(type='cuda')"
      ]
     },
     "execution_count": 22,
     "metadata": {},
     "output_type": "execute_result"
    }
   ],
   "source": [
    "torch.manual_seed(42)\n",
    "CUDA = torch.cuda.is_available()\n",
    "device = torch.device('cuda' if CUDA else 'cpu')\n",
    "kwargs = {'num_workers': 1, 'pin_memory': True} if CUDA else {}\n",
    "device"
   ]
  },
  {
   "cell_type": "code",
   "execution_count": null,
   "metadata": {
    "id": "fQ2ch9Y1RHlP"
   },
   "outputs": [],
   "source": [
    "from torch.utils.data import TensorDataset, DataLoader\n",
    "from torch import nn\n",
    "\n",
    "\n",
    "tensor_x_train = torch.Tensor(X_train).type(torch.cuda.FloatTensor) # transform to torch tensor\n",
    "tensor_y_train = torch.Tensor(y_train).type(torch.cuda.FloatTensor).long()\n",
    "\n",
    "# tensor_x_train = torch.Tensor(X_train) # transform to torch tensor\n",
    "# tensor_y_train = torch.Tensor(y_train).long()\n",
    "\n",
    "train_dataset = TensorDataset(tensor_x_train,tensor_y_train) # create your datset\n",
    "train_dataloader = DataLoader(train_dataset,batch_size=64, shuffle=True, drop_last=True) # create your dataloader"
   ]
  },
  {
   "cell_type": "code",
   "execution_count": null,
   "metadata": {
    "colab": {
     "base_uri": "https://localhost:8080/"
    },
    "id": "rhGnrY37CUtT",
    "outputId": "8cf5486d-e7d1-4505-e5cd-e66d6f4c4493"
   },
   "outputs": [
    {
     "data": {
      "text/plain": [
       "torch.Size([40670, 1, 113, 113])"
      ]
     },
     "execution_count": 24,
     "metadata": {},
     "output_type": "execute_result"
    }
   ],
   "source": [
    "tensor_x_train.shape"
   ]
  },
  {
   "cell_type": "code",
   "execution_count": null,
   "metadata": {
    "id": "c120a864"
   },
   "outputs": [],
   "source": [
    "tensor_x_test = torch.Tensor(X_test).type(torch.cuda.FloatTensor) # transform to torch tensor\n",
    "tensor_y_test = torch.Tensor(y_test).long().type(torch.cuda.FloatTensor).long()\n",
    "\n",
    "# tensor_x_test = torch.Tensor(X_test) # transform to torch tensor\n",
    "# tensor_y_test = torch.Tensor(y_test).long()\n",
    "\n",
    "test_dataset = TensorDataset(tensor_x_test,tensor_y_test) # create your datset\n",
    "test_dataloader = DataLoader(test_dataset, batch_size=64, shuffle=False, drop_last=True) # create your dataloader"
   ]
  },
  {
   "cell_type": "code",
   "execution_count": null,
   "metadata": {
    "colab": {
     "base_uri": "https://localhost:8080/",
     "height": 67,
     "referenced_widgets": [
      "bec2f6a7c17248229402d05f25adb3dc",
      "ae84427ae4e042b79a72407862f43e32",
      "1606fc92053f478d98de8e76bfbf78af",
      "9615a730f14d4afda3026a5cceb237ef",
      "fce2dfdb9b904a2595c09e91bc6dacdf",
      "b493de71107f4078b1272977c79acefd",
      "9695141614c0420ab8c1a01ffd86975d",
      "8bec505ba02f46db833dd595a81c1465",
      "b7b498a719014022bdd056de6e24a1aa",
      "2e74ee34a2ff46b4a38f3ad9b57d254d",
      "597f33d8568245f09d0b53eaa5eb0516"
     ]
    },
    "id": "JXltzoDaKs97",
    "outputId": "26b500ff-0ecb-47cf-a2f5-02fa3285bb15"
   },
   "outputs": [
    {
     "name": "stderr",
     "output_type": "stream",
     "text": [
      "Downloading: \"https://download.pytorch.org/models/resnet18-f37072fd.pth\" to /root/.cache/torch/hub/checkpoints/resnet18-f37072fd.pth\n"
     ]
    },
    {
     "data": {
      "application/vnd.jupyter.widget-view+json": {
       "model_id": "bec2f6a7c17248229402d05f25adb3dc",
       "version_major": 2,
       "version_minor": 0
      },
      "text/plain": [
       "  0%|          | 0.00/44.7M [00:00<?, ?B/s]"
      ]
     },
     "metadata": {},
     "output_type": "display_data"
    }
   ],
   "source": [
    "import torch\n",
    "import torchvision.models as models\n",
    "if pre_trained:\n",
    "  model = models.resnet18(pretrained=True)\n",
    "else:\n",
    "  model = models.resnet18(pretrained=False)"
   ]
  },
  {
   "cell_type": "code",
   "execution_count": null,
   "metadata": {
    "colab": {
     "base_uri": "https://localhost:8080/"
    },
    "id": "cIgcafI6K5Ao",
    "outputId": "723e3bba-a386-4bdc-c033-a7ce0261a845"
   },
   "outputs": [
    {
     "name": "stdout",
     "output_type": "stream",
     "text": [
      "Conv2d(3, 64, kernel_size=(7, 7), stride=(2, 2), padding=(3, 3), bias=False)\n",
      "Conv2d(1, 64, kernel_size=(7, 7), stride=(2, 2), padding=(3, 3), bias=False)\n"
     ]
    }
   ],
   "source": [
    "# change first conv to take 1 channel instead of 3\n",
    "print(model.conv1)\n",
    "model.conv1 = nn.Conv2d(1, 64, kernel_size=7, stride=2, padding=3, bias=False).to(device)\n",
    "print(model.conv1)\n",
    "# num_ftrs = model.fc.in_features\n",
    "# model.fc = nn.Linear(num_ftrs, 2).to(device)"
   ]
  },
  {
   "cell_type": "code",
   "execution_count": null,
   "metadata": {
    "colab": {
     "base_uri": "https://localhost:8080/"
    },
    "id": "Gx0Q7PFqRfUC",
    "outputId": "72f7fbd3-2417-40f2-9b57-e9cb00aabb59"
   },
   "outputs": [
    {
     "name": "stdout",
     "output_type": "stream",
     "text": [
      "cuda:0\n"
     ]
    }
   ],
   "source": [
    "criterion = nn.CrossEntropyLoss()\n",
    "optimizer = torch.optim.Adam(model.parameters(),lr = 0.001)\n",
    "model.to(device)\n",
    "print(next(model.parameters()).device)"
   ]
  },
  {
   "cell_type": "code",
   "execution_count": null,
   "metadata": {
    "colab": {
     "base_uri": "https://localhost:8080/"
    },
    "id": "UPOdL6yVZF66",
    "outputId": "4ebbaff8-d254-4192-ac79-1a2ed32acf5c"
   },
   "outputs": [
    {
     "name": "stdout",
     "output_type": "stream",
     "text": [
      "ResNet(\n",
      "  (conv1): Conv2d(1, 64, kernel_size=(7, 7), stride=(2, 2), padding=(3, 3), bias=False)\n",
      "  (bn1): BatchNorm2d(64, eps=1e-05, momentum=0.1, affine=True, track_running_stats=True)\n",
      "  (relu): ReLU(inplace=True)\n",
      "  (maxpool): MaxPool2d(kernel_size=3, stride=2, padding=1, dilation=1, ceil_mode=False)\n",
      "  (layer1): Sequential(\n",
      "    (0): BasicBlock(\n",
      "      (conv1): Conv2d(64, 64, kernel_size=(3, 3), stride=(1, 1), padding=(1, 1), bias=False)\n",
      "      (bn1): BatchNorm2d(64, eps=1e-05, momentum=0.1, affine=True, track_running_stats=True)\n",
      "      (relu): ReLU(inplace=True)\n",
      "      (conv2): Conv2d(64, 64, kernel_size=(3, 3), stride=(1, 1), padding=(1, 1), bias=False)\n",
      "      (bn2): BatchNorm2d(64, eps=1e-05, momentum=0.1, affine=True, track_running_stats=True)\n",
      "    )\n",
      "    (1): BasicBlock(\n",
      "      (conv1): Conv2d(64, 64, kernel_size=(3, 3), stride=(1, 1), padding=(1, 1), bias=False)\n",
      "      (bn1): BatchNorm2d(64, eps=1e-05, momentum=0.1, affine=True, track_running_stats=True)\n",
      "      (relu): ReLU(inplace=True)\n",
      "      (conv2): Conv2d(64, 64, kernel_size=(3, 3), stride=(1, 1), padding=(1, 1), bias=False)\n",
      "      (bn2): BatchNorm2d(64, eps=1e-05, momentum=0.1, affine=True, track_running_stats=True)\n",
      "    )\n",
      "  )\n",
      "  (layer2): Sequential(\n",
      "    (0): BasicBlock(\n",
      "      (conv1): Conv2d(64, 128, kernel_size=(3, 3), stride=(2, 2), padding=(1, 1), bias=False)\n",
      "      (bn1): BatchNorm2d(128, eps=1e-05, momentum=0.1, affine=True, track_running_stats=True)\n",
      "      (relu): ReLU(inplace=True)\n",
      "      (conv2): Conv2d(128, 128, kernel_size=(3, 3), stride=(1, 1), padding=(1, 1), bias=False)\n",
      "      (bn2): BatchNorm2d(128, eps=1e-05, momentum=0.1, affine=True, track_running_stats=True)\n",
      "      (downsample): Sequential(\n",
      "        (0): Conv2d(64, 128, kernel_size=(1, 1), stride=(2, 2), bias=False)\n",
      "        (1): BatchNorm2d(128, eps=1e-05, momentum=0.1, affine=True, track_running_stats=True)\n",
      "      )\n",
      "    )\n",
      "    (1): BasicBlock(\n",
      "      (conv1): Conv2d(128, 128, kernel_size=(3, 3), stride=(1, 1), padding=(1, 1), bias=False)\n",
      "      (bn1): BatchNorm2d(128, eps=1e-05, momentum=0.1, affine=True, track_running_stats=True)\n",
      "      (relu): ReLU(inplace=True)\n",
      "      (conv2): Conv2d(128, 128, kernel_size=(3, 3), stride=(1, 1), padding=(1, 1), bias=False)\n",
      "      (bn2): BatchNorm2d(128, eps=1e-05, momentum=0.1, affine=True, track_running_stats=True)\n",
      "    )\n",
      "  )\n",
      "  (layer3): Sequential(\n",
      "    (0): BasicBlock(\n",
      "      (conv1): Conv2d(128, 256, kernel_size=(3, 3), stride=(2, 2), padding=(1, 1), bias=False)\n",
      "      (bn1): BatchNorm2d(256, eps=1e-05, momentum=0.1, affine=True, track_running_stats=True)\n",
      "      (relu): ReLU(inplace=True)\n",
      "      (conv2): Conv2d(256, 256, kernel_size=(3, 3), stride=(1, 1), padding=(1, 1), bias=False)\n",
      "      (bn2): BatchNorm2d(256, eps=1e-05, momentum=0.1, affine=True, track_running_stats=True)\n",
      "      (downsample): Sequential(\n",
      "        (0): Conv2d(128, 256, kernel_size=(1, 1), stride=(2, 2), bias=False)\n",
      "        (1): BatchNorm2d(256, eps=1e-05, momentum=0.1, affine=True, track_running_stats=True)\n",
      "      )\n",
      "    )\n",
      "    (1): BasicBlock(\n",
      "      (conv1): Conv2d(256, 256, kernel_size=(3, 3), stride=(1, 1), padding=(1, 1), bias=False)\n",
      "      (bn1): BatchNorm2d(256, eps=1e-05, momentum=0.1, affine=True, track_running_stats=True)\n",
      "      (relu): ReLU(inplace=True)\n",
      "      (conv2): Conv2d(256, 256, kernel_size=(3, 3), stride=(1, 1), padding=(1, 1), bias=False)\n",
      "      (bn2): BatchNorm2d(256, eps=1e-05, momentum=0.1, affine=True, track_running_stats=True)\n",
      "    )\n",
      "  )\n",
      "  (layer4): Sequential(\n",
      "    (0): BasicBlock(\n",
      "      (conv1): Conv2d(256, 512, kernel_size=(3, 3), stride=(2, 2), padding=(1, 1), bias=False)\n",
      "      (bn1): BatchNorm2d(512, eps=1e-05, momentum=0.1, affine=True, track_running_stats=True)\n",
      "      (relu): ReLU(inplace=True)\n",
      "      (conv2): Conv2d(512, 512, kernel_size=(3, 3), stride=(1, 1), padding=(1, 1), bias=False)\n",
      "      (bn2): BatchNorm2d(512, eps=1e-05, momentum=0.1, affine=True, track_running_stats=True)\n",
      "      (downsample): Sequential(\n",
      "        (0): Conv2d(256, 512, kernel_size=(1, 1), stride=(2, 2), bias=False)\n",
      "        (1): BatchNorm2d(512, eps=1e-05, momentum=0.1, affine=True, track_running_stats=True)\n",
      "      )\n",
      "    )\n",
      "    (1): BasicBlock(\n",
      "      (conv1): Conv2d(512, 512, kernel_size=(3, 3), stride=(1, 1), padding=(1, 1), bias=False)\n",
      "      (bn1): BatchNorm2d(512, eps=1e-05, momentum=0.1, affine=True, track_running_stats=True)\n",
      "      (relu): ReLU(inplace=True)\n",
      "      (conv2): Conv2d(512, 512, kernel_size=(3, 3), stride=(1, 1), padding=(1, 1), bias=False)\n",
      "      (bn2): BatchNorm2d(512, eps=1e-05, momentum=0.1, affine=True, track_running_stats=True)\n",
      "    )\n",
      "  )\n",
      "  (avgpool): AdaptiveAvgPool2d(output_size=(1, 1))\n",
      "  (fc): Linear(in_features=512, out_features=1000, bias=True)\n",
      ")\n"
     ]
    }
   ],
   "source": [
    "print(model)"
   ]
  },
  {
   "cell_type": "code",
   "execution_count": null,
   "metadata": {
    "id": "PMiXAng53sex"
   },
   "outputs": [],
   "source": [
    "if pre_trained or pre_trained_on_node1_use_on_node2:\n",
    "  for param in model.parameters():\n",
    "    param.requires_grad = False"
   ]
  },
  {
   "cell_type": "code",
   "execution_count": null,
   "metadata": {
    "id": "wb4llj5HX9pb"
   },
   "outputs": [],
   "source": [
    "if pre_trained or pre_trained_on_node1_use_on_node2:\n",
    "  for param in model.layer4.parameters():\n",
    "    param.requires_grad = True"
   ]
  },
  {
   "cell_type": "code",
   "execution_count": null,
   "metadata": {
    "id": "etgpNS8sZ_Wv"
   },
   "outputs": [],
   "source": [
    "num_ftrs = model.fc.in_features\n",
    "model.fc = nn.Linear(num_ftrs, 2).to(device)"
   ]
  },
  {
   "cell_type": "code",
   "execution_count": null,
   "metadata": {
    "id": "q_dcto_cRix5"
   },
   "outputs": [],
   "source": [
    "if pre_trained_on_node1_use_on_node2:\n",
    "  if os.path.exists(save_path + 'trained_on_node1.pt'):\n",
    "      print('Loading checkpoint: %s' % save_path + 'trained_on_node1.pt')\n",
    "      path = torch.load(save_path + 'trained_on_node1.pt')\n",
    "      # epoch = path['epoch']\n",
    "      model.load_state_dict(path['model'])\n",
    "      optimizer.load_state_dict(path['optimizer'])"
   ]
  },
  {
   "cell_type": "code",
   "execution_count": null,
   "metadata": {
    "colab": {
     "base_uri": "https://localhost:8080/"
    },
    "id": "pJ0BW0cQZ5YD",
    "outputId": "24dcbb40-d4e1-4b44-f27f-c382f2e893da"
   },
   "outputs": [
    {
     "name": "stdout",
     "output_type": "stream",
     "text": [
      "False\n",
      "False\n",
      "False\n",
      "False\n",
      "False\n",
      "False\n",
      "False\n",
      "False\n",
      "False\n",
      "False\n",
      "False\n",
      "False\n",
      "False\n",
      "False\n",
      "False\n",
      "False\n",
      "False\n",
      "False\n",
      "False\n",
      "False\n",
      "False\n",
      "False\n",
      "False\n",
      "False\n",
      "False\n",
      "False\n",
      "False\n",
      "False\n",
      "False\n",
      "False\n",
      "False\n",
      "False\n",
      "False\n",
      "False\n",
      "False\n",
      "False\n",
      "False\n",
      "False\n",
      "False\n",
      "False\n",
      "False\n",
      "False\n",
      "False\n",
      "False\n",
      "False\n",
      "True\n",
      "True\n",
      "True\n",
      "True\n",
      "True\n",
      "True\n",
      "True\n",
      "True\n",
      "True\n",
      "True\n",
      "True\n",
      "True\n",
      "True\n",
      "True\n",
      "True\n",
      "True\n",
      "True\n"
     ]
    }
   ],
   "source": [
    "for param in model.parameters():\n",
    "  print(param.requires_grad)"
   ]
  },
  {
   "cell_type": "code",
   "execution_count": null,
   "metadata": {
    "id": "SzIBsfe0Rhn9"
   },
   "outputs": [],
   "source": [
    "train_losses = []\n",
    "train_loss_record = []"
   ]
  },
  {
   "cell_type": "code",
   "execution_count": null,
   "metadata": {
    "id": "OxLydxjs5KcU"
   },
   "outputs": [],
   "source": [
    "from datetime import datetime\n",
    "train_log_string = '%s :: Epoch %i :: Iter %i / %i :: train loss: %0.4f'\n",
    "def train(epoch):\n",
    "    print('Start Epoch {} Training...'.format(epoch))\n",
    "    model.train()\n",
    "    train_loss = []\n",
    "    train_loss_sum = []\n",
    "    for idx, (data, target) in enumerate(train_dataloader):\n",
    "        # data = data.to(device)\n",
    "        # target = target.to(device)\n",
    "        # print(data.shape)\n",
    "        optimizer.zero_grad()\n",
    "        #  forward-pass\n",
    "        output = model(data)\n",
    "        loss = criterion(output, target)\n",
    "        #backward-pass\n",
    "        loss.backward()\n",
    "        # Update the parameters\n",
    "        optimizer.step()\n",
    "        train_loss.append(loss.data.cpu().numpy())\n",
    "        train_loss_sum.append(loss)\n",
    "        if ((idx +1) % 5000) == 0:\n",
    "          print(train_log_string % (datetime.now(), epoch, idx + 1, len(train_dataloader), np.mean(train_loss)))\n",
    "          train_loss = []\n",
    "    mean_tr = torch.mean(torch.stack(train_loss_sum))\n",
    "    print('Train Loss at epoch {}: {}\\n'.format(epoch, mean_tr))\n",
    "    train_loss_record.append(mean_tr)\n",
    "    return train_loss_record"
   ]
  },
  {
   "cell_type": "code",
   "execution_count": null,
   "metadata": {
    "colab": {
     "base_uri": "https://localhost:8080/"
    },
    "id": "L9zEsKwqHqfP",
    "outputId": "67eef957-9c13-47c7-9984-d4133deb806b"
   },
   "outputs": [
    {
     "name": "stdout",
     "output_type": "stream",
     "text": [
      "Start Epoch 0 Training...\n",
      "Train Loss at epoch 0: 0.11432097107172012\n",
      "\n",
      "Start Epoch 1 Training...\n",
      "Train Loss at epoch 1: 0.049613043665885925\n",
      "\n",
      "Start Epoch 2 Training...\n",
      "Train Loss at epoch 2: 0.03277982398867607\n",
      "\n",
      "Start Epoch 3 Training...\n",
      "Train Loss at epoch 3: 0.026391463354229927\n",
      "\n",
      "Start Epoch 4 Training...\n",
      "Train Loss at epoch 4: 0.021854378283023834\n",
      "\n",
      "Start Epoch 5 Training...\n",
      "Train Loss at epoch 5: 0.020751670002937317\n",
      "\n",
      "Start Epoch 6 Training...\n",
      "Train Loss at epoch 6: 0.017278209328651428\n",
      "\n",
      "Start Epoch 7 Training...\n",
      "Train Loss at epoch 7: 0.016277072951197624\n",
      "\n",
      "Start Epoch 8 Training...\n",
      "Train Loss at epoch 8: 0.014405356720089912\n",
      "\n",
      "Start Epoch 9 Training...\n",
      "Train Loss at epoch 9: 0.013958671130239964\n",
      "\n"
     ]
    }
   ],
   "source": [
    "for epoch in range(10):\n",
    "    tlr = train(epoch)"
   ]
  },
  {
   "cell_type": "code",
   "execution_count": null,
   "metadata": {
    "colab": {
     "base_uri": "https://localhost:8080/",
     "height": 283
    },
    "id": "3Pnn_-LhH6a5",
    "outputId": "613df240-c5d7-4081-e76c-bc747d63e35f"
   },
   "outputs": [
    {
     "data": {
      "text/plain": [
       "[<matplotlib.lines.Line2D at 0x7f7032770c10>]"
      ]
     },
     "execution_count": 38,
     "metadata": {},
     "output_type": "execute_result"
    },
    {
     "data": {
      "image/png": "[encoded data removed]",
      "text/plain": [
       "<Figure size 432x288 with 1 Axes>"
      ]
     },
     "metadata": {
      "needs_background": "light"
     },
     "output_type": "display_data"
    }
   ],
   "source": [
    "tlr_cpu = [i.cpu().detach().numpy() for i in tlr]\n",
    "\n",
    "plt.plot(tlr_cpu)"
   ]
  },
  {
   "cell_type": "code",
   "execution_count": null,
   "metadata": {
    "colab": {
     "base_uri": "https://localhost:8080/"
    },
    "id": "7Cb2uBRtR1xm",
    "outputId": "5ed3491c-a34c-4cc2-f228-7e16b8f5b4fd"
   },
   "outputs": [
    {
     "name": "stdout",
     "output_type": "stream",
     "text": [
      "(301, 64, 2) (301, 64)\n"
     ]
    }
   ],
   "source": [
    "result = []\n",
    "prediction = []\n",
    "model.eval()\n",
    "with torch.no_grad():\n",
    "    for idx, (data, target) in enumerate(test_dataloader):\n",
    "        output = model(data)\n",
    "        output_sm = nn.Softmax(dim=1)(output)\n",
    "        _, predicted = torch.max(output, 1)\n",
    "        prediction.append(predicted)\n",
    "        result.append(output_sm)\n",
    "        \n",
    "result = torch.stack(result).detach().cpu().numpy()\n",
    "prediction = torch.stack(prediction).detach().cpu().numpy()\n",
    "\n",
    "print(result.shape, prediction.shape)"
   ]
  },
  {
   "cell_type": "code",
   "execution_count": null,
   "metadata": {
    "colab": {
     "base_uri": "https://localhost:8080/"
    },
    "id": "G5dX2nuDR53u",
    "outputId": "9af15243-6a6f-4207-ff9e-5274f7d22549"
   },
   "outputs": [
    {
     "name": "stdout",
     "output_type": "stream",
     "text": [
      "(19264,)\n"
     ]
    }
   ],
   "source": [
    "print(prediction.reshape(-1).shape)"
   ]
  },
  {
   "cell_type": "code",
   "execution_count": null,
   "metadata": {
    "colab": {
     "base_uri": "https://localhost:8080/"
    },
    "id": "37exoPXrI8MY",
    "outputId": "036eadbe-15f4-47db-8301-9d10e5941daa"
   },
   "outputs": [
    {
     "name": "stdout",
     "output_type": "stream",
     "text": [
      "(19264, 2)\n"
     ]
    }
   ],
   "source": [
    "print(result.reshape(-1,2).shape)"
   ]
  },
  {
   "cell_type": "code",
   "execution_count": null,
   "metadata": {
    "id": "QpA4J_P9Hkpj"
   },
   "outputs": [],
   "source": [
    "# save trained model\n",
    "state_dict = {\n",
    "    # 'epoch': epoch,\n",
    "    'model': model.state_dict(),\n",
    "    'optimizer': optimizer.state_dict(),\n",
    "}\n",
    "if save_model:\n",
    "  if pre_trained_on_node1_use_on_node2:\n",
    "    torch.save(state_dict, save_path + 'pretrained_on_node1_reuse_node2.pt')\n",
    "  elif pre_trained:\n",
    "    torch.save(state_dict, save_path + 'pretrained_on_imagenet.pt')\n",
    "  else:\n",
    "    torch.save(state_dict, save_path + 'trained_on_node1.pt')\n"
   ]
  },
  {
   "cell_type": "code",
   "execution_count": null,
   "metadata": {
    "id": "nSYdwlA2R_uT"
   },
   "outputs": [],
   "source": [
    "import pandas as pd\n",
    "res = pd.DataFrame(result.reshape(-1,2))\n",
    "pred = pd.DataFrame(prediction.reshape(-1))\n",
    "\n",
    "# res.to_csv(save_path + \"results_pretrained_on_node1_reuse_node2.csv\", header=True, index=True)\n",
    "# pred.to_csv(save_path + \"pred_pretrained_on_node1_reuse_node2.csv\", header=True, index=True)"
   ]
  },
  {
   "cell_type": "code",
   "execution_count": null,
   "metadata": {
    "colab": {
     "base_uri": "https://localhost:8080/"
    },
    "id": "hVZ6jQRzSKuk",
    "outputId": "106f8356-6b33-444f-cc00-0bcbb01762df"
   },
   "outputs": [
    {
     "name": "stdout",
     "output_type": "stream",
     "text": [
      "(19264, 2) (19264, 1)\n",
      "(19264,)\n"
     ]
    }
   ],
   "source": [
    "print(res.shape, pred.shape)\n",
    "\n",
    "y_test_new = y_train[:result.reshape(-1,2).shape[0]]\n",
    "\n",
    "print(y_test_new.shape)"
   ]
  },
  {
   "cell_type": "code",
   "execution_count": null,
   "metadata": {
    "colab": {
     "base_uri": "https://localhost:8080/",
     "height": 423
    },
    "id": "BJ4jq1cRUGVs",
    "outputId": "efa32454-629d-4bbc-c685-8249633d4db1"
   },
   "outputs": [
    {
     "data": {
      "text/html": [
       "\n",
       "  <div id=\"df-e29195bf-388a-47b2-8962-79760028a9ea\">\n",
       "    <div class=\"colab-df-container\">\n",
       "      <div>\n",
       "<style scoped>\n",
       "    .dataframe tbody tr th:only-of-type {\n",
       "        vertical-align: middle;\n",
       "    }\n",
       "\n",
       "    .dataframe tbody tr th {\n",
       "        vertical-align: top;\n",
       "    }\n",
       "\n",
       "    .dataframe thead th {\n",
       "        text-align: right;\n",
       "    }\n",
       "</style>\n",
       "<table border=\"1\" class=\"dataframe\">\n",
       "  <thead>\n",
       "    <tr style=\"text-align: right;\">\n",
       "      <th></th>\n",
       "      <th>ground truth</th>\n",
       "      <th>NN output</th>\n",
       "      <th>probs 0</th>\n",
       "      <th>probs 1</th>\n",
       "    </tr>\n",
       "  </thead>\n",
       "  <tbody>\n",
       "    <tr>\n",
       "      <th>0</th>\n",
       "      <td>0.0</td>\n",
       "      <td>0</td>\n",
       "      <td>1.000000</td>\n",
       "      <td>2.030686e-08</td>\n",
       "    </tr>\n",
       "    <tr>\n",
       "      <th>1</th>\n",
       "      <td>0.0</td>\n",
       "      <td>0</td>\n",
       "      <td>1.000000</td>\n",
       "      <td>1.777344e-07</td>\n",
       "    </tr>\n",
       "    <tr>\n",
       "      <th>2</th>\n",
       "      <td>0.0</td>\n",
       "      <td>0</td>\n",
       "      <td>0.829535</td>\n",
       "      <td>1.704647e-01</td>\n",
       "    </tr>\n",
       "    <tr>\n",
       "      <th>3</th>\n",
       "      <td>0.0</td>\n",
       "      <td>0</td>\n",
       "      <td>0.999985</td>\n",
       "      <td>1.505606e-05</td>\n",
       "    </tr>\n",
       "    <tr>\n",
       "      <th>4</th>\n",
       "      <td>0.0</td>\n",
       "      <td>0</td>\n",
       "      <td>0.999994</td>\n",
       "      <td>6.212866e-06</td>\n",
       "    </tr>\n",
       "    <tr>\n",
       "      <th>...</th>\n",
       "      <td>...</td>\n",
       "      <td>...</td>\n",
       "      <td>...</td>\n",
       "      <td>...</td>\n",
       "    </tr>\n",
       "    <tr>\n",
       "      <th>19259</th>\n",
       "      <td>1.0</td>\n",
       "      <td>0</td>\n",
       "      <td>1.000000</td>\n",
       "      <td>1.049194e-09</td>\n",
       "    </tr>\n",
       "    <tr>\n",
       "      <th>19260</th>\n",
       "      <td>1.0</td>\n",
       "      <td>0</td>\n",
       "      <td>1.000000</td>\n",
       "      <td>4.311788e-09</td>\n",
       "    </tr>\n",
       "    <tr>\n",
       "      <th>19261</th>\n",
       "      <td>1.0</td>\n",
       "      <td>0</td>\n",
       "      <td>0.999997</td>\n",
       "      <td>2.935448e-06</td>\n",
       "    </tr>\n",
       "    <tr>\n",
       "      <th>19262</th>\n",
       "      <td>1.0</td>\n",
       "      <td>0</td>\n",
       "      <td>1.000000</td>\n",
       "      <td>3.529813e-09</td>\n",
       "    </tr>\n",
       "    <tr>\n",
       "      <th>19263</th>\n",
       "      <td>1.0</td>\n",
       "      <td>0</td>\n",
       "      <td>0.999999</td>\n",
       "      <td>9.238473e-07</td>\n",
       "    </tr>\n",
       "  </tbody>\n",
       "</table>\n",
       "<p>19264 rows × 4 columns</p>\n",
       "</div>\n",
       "      <button class=\"colab-df-convert\" onclick=\"convertToInteractive('df-e29195bf-388a-47b2-8962-79760028a9ea')\"\n",
       "              title=\"Convert this dataframe to an interactive table.\"\n",
       "              style=\"display:none;\">\n",
       "        \n",
       "  <svg xmlns=\"http://www.w3.org/2000/svg\" height=\"24px\"viewBox=\"0 0 24 24\"\n",
       "       width=\"24px\">\n",
       "    <path d=\"M0 0h24v24H0V0z\" fill=\"none\"/>\n",
       "    <path d=\"M18.56 5.44l.94 2.06.94-2.06 2.06-.94-2.06-.94-.94-2.06-.94 2.06-2.06.94zm-11 1L8.5 8.5l.94-2.06 2.06-.94-2.06-.94L8.5 2.5l-.94 2.06-2.06.94zm10 10l.94 2.06.94-2.06 2.06-.94-2.06-.94-.94-2.06-.94 2.06-2.06.94z\"/><path d=\"M17.41 7.96l-1.37-1.37c-.4-.4-.92-.59-1.43-.59-.52 0-1.04.2-1.43.59L10.3 9.45l-7.72 7.72c-.78.78-.78 2.05 0 2.83L4 21.41c.39.39.9.59 1.41.59.51 0 1.02-.2 1.41-.59l7.78-7.78 2.81-2.81c.8-.78.8-2.07 0-2.86zM5.41 20L4 18.59l7.72-7.72 1.47 1.35L5.41 20z\"/>\n",
       "  </svg>\n",
       "      </button>\n",
       "      \n",
       "  <style>\n",
       "    .colab-df-container {\n",
       "      display:flex;\n",
       "      flex-wrap:wrap;\n",
       "      gap: 12px;\n",
       "    }\n",
       "\n",
       "    .colab-df-convert {\n",
       "      background-color: #E8F0FE;\n",
       "      border: none;\n",
       "      border-radius: 50%;\n",
       "      cursor: pointer;\n",
       "      display: none;\n",
       "      fill: #1967D2;\n",
       "      height: 32px;\n",
       "      padding: 0 0 0 0;\n",
       "      width: 32px;\n",
       "    }\n",
       "\n",
       "    .colab-df-convert:hover {\n",
       "      background-color: #E2EBFA;\n",
       "      box-shadow: 0px 1px 2px rgba(60, 64, 67, 0.3), 0px 1px 3px 1px rgba(60, 64, 67, 0.15);\n",
       "      fill: #174EA6;\n",
       "    }\n",
       "\n",
       "    [theme=dark] .colab-df-convert {\n",
       "      background-color: #3B4455;\n",
       "      fill: #D2E3FC;\n",
       "    }\n",
       "\n",
       "    [theme=dark] .colab-df-convert:hover {\n",
       "      background-color: #434B5C;\n",
       "      box-shadow: 0px 1px 3px 1px rgba(0, 0, 0, 0.15);\n",
       "      filter: drop-shadow(0px 1px 2px rgba(0, 0, 0, 0.3));\n",
       "      fill: #FFFFFF;\n",
       "    }\n",
       "  </style>\n",
       "\n",
       "      <script>\n",
       "        const buttonEl =\n",
       "          document.querySelector('#df-e29195bf-388a-47b2-8962-79760028a9ea button.colab-df-convert');\n",
       "        buttonEl.style.display =\n",
       "          google.colab.kernel.accessAllowed ? 'block' : 'none';\n",
       "\n",
       "        async function convertToInteractive(key) {\n",
       "          const element = document.querySelector('#df-e29195bf-388a-47b2-8962-79760028a9ea');\n",
       "          const dataTable =\n",
       "            await google.colab.kernel.invokeFunction('convertToInteractive',\n",
       "                                                     [key], {});\n",
       "          if (!dataTable) return;\n",
       "\n",
       "          const docLinkHtml = 'Like what you see? Visit the ' +\n",
       "            '<a target=\"_blank\" href=https://colab.research.google.com/notebooks/data_table.ipynb>data table notebook</a>'\n",
       "            + ' to learn more about interactive tables.';\n",
       "          element.innerHTML = '';\n",
       "          dataTable['output_type'] = 'display_data';\n",
       "          await google.colab.output.renderOutput(dataTable, element);\n",
       "          const docLink = document.createElement('div');\n",
       "          docLink.innerHTML = docLinkHtml;\n",
       "          element.appendChild(docLink);\n",
       "        }\n",
       "      </script>\n",
       "    </div>\n",
       "  </div>\n",
       "  "
      ],
      "text/plain": [
       "       ground truth  NN output   probs 0       probs 1\n",
       "0               0.0          0  1.000000  2.030686e-08\n",
       "1               0.0          0  1.000000  1.777344e-07\n",
       "2               0.0          0  0.829535  1.704647e-01\n",
       "3               0.0          0  0.999985  1.505606e-05\n",
       "4               0.0          0  0.999994  6.212866e-06\n",
       "...             ...        ...       ...           ...\n",
       "19259           1.0          0  1.000000  1.049194e-09\n",
       "19260           1.0          0  1.000000  4.311788e-09\n",
       "19261           1.0          0  0.999997  2.935448e-06\n",
       "19262           1.0          0  1.000000  3.529813e-09\n",
       "19263           1.0          0  0.999999  9.238473e-07\n",
       "\n",
       "[19264 rows x 4 columns]"
      ]
     },
     "execution_count": 45,
     "metadata": {},
     "output_type": "execute_result"
    }
   ],
   "source": [
    "result_df = pd.DataFrame({'ground truth': y_test_new, 'NN output': prediction.reshape(-1), 'probs 0': res[0], 'probs 1': res[1]})\n",
    "result_df"
   ]
  },
  {
   "cell_type": "code",
   "execution_count": null,
   "metadata": {
    "colab": {
     "base_uri": "https://localhost:8080/"
    },
    "id": "-7n1CqexUX_K",
    "outputId": "6dd8acfa-b8cd-473c-b1cf-7647d7c2f0ea"
   },
   "outputs": [
    {
     "name": "stdout",
     "output_type": "stream",
     "text": [
      "Confusion matrix : \n",
      " [[7124 4255]\n",
      " [4340 3545]]\n",
      "Outcome values : \n",
      " 7124 4255 4340 3545\n",
      "Classification report : \n",
      "               precision    recall  f1-score   support\n",
      "\n",
      "           1       0.45      0.45      0.45      7885\n",
      "           0       0.62      0.63      0.62     11379\n",
      "\n",
      "    accuracy                           0.55     19264\n",
      "   macro avg       0.54      0.54      0.54     19264\n",
      "weighted avg       0.55      0.55      0.55     19264\n",
      "\n"
     ]
    }
   ],
   "source": [
    "# work out the accuracy and other metrics\n",
    "from sklearn.metrics import confusion_matrix\n",
    "from sklearn.metrics import classification_report\n",
    "actual = result_df['ground truth']\n",
    "predicted = result_df['NN output']\n",
    "# confusion matrix\n",
    "matrix = confusion_matrix(actual, predicted, labels=[0,1])\n",
    "print('Confusion matrix : \\n',matrix)\n",
    "\n",
    "# outcome values order in sklearn\n",
    "tp, fn, fp, tn = confusion_matrix(actual, predicted, labels=[0,1]).reshape(-1)\n",
    "print('Outcome values : \\n', tp, fn, fp, tn)\n",
    "\n",
    "# classification report for precision, recall f1-score and accuracy\n",
    "matrix_2 = classification_report(actual,predicted,labels=[1,0])\n",
    "print('Classification report : \\n',matrix_2)"
   ]
  },
  {
   "cell_type": "code",
   "execution_count": null,
   "metadata": {
    "colab": {
     "base_uri": "https://localhost:8080/",
     "height": 446
    },
    "id": "mQJefgJeUaS3",
    "outputId": "14d40983-c369-47a7-aa87-b95cf2f9c6c3"
   },
   "outputs": [
    {
     "data": {
      "text/plain": [
       "<matplotlib.axes._subplots.AxesSubplot at 0x7f703262b790>"
      ]
     },
     "execution_count": 47,
     "metadata": {},
     "output_type": "execute_result"
    },
    {
     "data": {
      "image/png": "[encoded data removed]",
      "text/plain": [
       "<Figure size 720x504 with 2 Axes>"
      ]
     },
     "metadata": {
      "needs_background": "light"
     },
     "output_type": "display_data"
    }
   ],
   "source": [
    "import seaborn as sn\n",
    "df_cm = pd.DataFrame(matrix, index = [i for i in \"01\"],\n",
    "                  columns = [i for i in \"01\"])\n",
    "plt.figure(figsize = (10,7))\n",
    "sn.heatmap(df_cm, annot=True)"
   ]
  },
  {
   "cell_type": "code",
   "execution_count": null,
   "metadata": {
    "colab": {
     "base_uri": "https://localhost:8080/"
    },
    "id": "tyzmJwdaUckf",
    "outputId": "309a5004-b003-45a6-d331-cd2368d67abf"
   },
   "outputs": [
    {
     "name": "stdout",
     "output_type": "stream",
     "text": [
      "Classification report : \n",
      " {'0': {'precision': 0.6214235868806699, 'recall': 0.6260655593637402, 'f1-score': 0.6237359366107779, 'support': 11379}, '1': {'precision': 0.4544871794871795, 'recall': 0.4495878249841471, 'f1-score': 0.4520242269684412, 'support': 7885}, 'accuracy': 0.5538309800664452, 'macro avg': {'precision': 0.5379553831839247, 'recall': 0.5378266921739436, 'f1-score': 0.5378800817896096, 'support': 19264}, 'weighted avg': {'precision': 0.5530943939665466, 'recall': 0.5538309800664452, 'f1-score': 0.5534521518033743, 'support': 19264}}\n"
     ]
    },
    {
     "data": {
      "text/plain": [
       "0.5538309800664452"
      ]
     },
     "execution_count": 48,
     "metadata": {},
     "output_type": "execute_result"
    }
   ],
   "source": [
    "from sklearn.metrics import classification_report\n",
    "from sklearn.metrics import accuracy_score\n",
    "matrix = classification_report(actual,predicted,labels=[0,1], output_dict=True)\n",
    "print('Classification report : \\n',matrix)\n",
    "accuracy_score(actual, predicted)"
   ]
  },
  {
   "cell_type": "code",
   "execution_count": null,
   "metadata": {
    "id": "IVFYL_OzUpOX"
   },
   "outputs": [],
   "source": [
    "matrix_df = pd.DataFrame(matrix).transpose()\n",
    "if save_results:\n",
    "  if pre_trained_on_node1_use_on_node2:\n",
    "    matrix_df.to_csv(save_path + \"classification_report_pretrained_on_node1_reuse_node2.csv\", header=False, index=False)\n",
    "  elif pre_trained:\n",
    "    matrix_df.to_csv(save_path + \"classification_report_pretrained_on_imagenet.csv\", header=False, index=False)\n",
    "  else:\n",
    "    matrix_df.to_csv(save_path + \"classification_report_trained_on_node1.csv\", header=False, index=False)\n",
    "\n",
    "# pd.to_csv(\"/content/drive/MyDrive/iam_dataset/saved_model/classification_report.txt\",matrix)"
   ]
  }
 ],
 "metadata": {
  "accelerator": "GPU",
  "colab": {
   "collapsed_sections": [],
   "name": "ResNet18 model trials.ipynb",
   "provenance": []
  },
  "kernelspec": {
   "display_name": "Python 3 (ipykernel)",
   "language": "python",
   "name": "python3"
  },
  "language_info": {
   "codemirror_mode": {
    "name": "ipython",
    "version": 3
   },
   "file_extension": ".py",
   "mimetype": "text/x-python",
   "name": "python",
   "nbconvert_exporter": "python",
   "pygments_lexer": "ipython3",
   "version": "3.9.6"
  },
  "widgets": {
   "application/vnd.jupyter.widget-state+json": {
    "1606fc92053f478d98de8e76bfbf78af": {
     "model_module": "@jupyter-widgets/controls",
     "model_module_version": "1.5.0",
     "model_name": "FloatProgressModel",
     "state": {
      "_dom_classes": [],
      "_model_module": "@jupyter-widgets/controls",
      "_model_module_version": "1.5.0",
      "_model_name": "FloatProgressModel",
      "_view_count": null,
      "_view_module": "@jupyter-widgets/controls",
      "_view_module_version": "1.5.0",
      "_view_name": "ProgressView",
      "bar_style": "success",
      "description": "",
      "description_tooltip": null,
      "layout": "IPY_MODEL_8bec505ba02f46db833dd595a81c1465",
      "max": 46830571,
      "min": 0,
      "orientation": "horizontal",
      "style": "IPY_MODEL_b7b498a719014022bdd056de6e24a1aa",
      "value": 46830571
     }
    },
    "2e74ee34a2ff46b4a38f3ad9b57d254d": {
     "model_module": "@jupyter-widgets/base",
     "model_module_version": "1.2.0",
     "model_name": "LayoutModel",
     "state": {
      "_model_module": "@jupyter-widgets/base",
      "_model_module_version": "1.2.0",
      "_model_name": "LayoutModel",
      "_view_count": null,
      "_view_module": "@jupyter-widgets/base",
      "_view_module_version": "1.2.0",
      "_view_name": "LayoutView",
      "align_content": null,
      "align_items": null,
      "align_self": null,
      "border": null,
      "bottom": null,
      "display": null,
      "flex": null,
      "flex_flow": null,
      "grid_area": null,
      "grid_auto_columns": null,
      "grid_auto_flow": null,
      "grid_auto_rows": null,
      "grid_column": null,
      "grid_gap": null,
      "grid_row": null,
      "grid_template_areas": null,
      "grid_template_columns": null,
      "grid_template_rows": null,
      "height": null,
      "justify_content": null,
      "justify_items": null,
      "left": null,
      "margin": null,
      "max_height": null,
      "max_width": null,
      "min_height": null,
      "min_width": null,
      "object_fit": null,
      "object_position": null,
      "order": null,
      "overflow": null,
      "overflow_x": null,
      "overflow_y": null,
      "padding": null,
      "right": null,
      "top": null,
      "visibility": null,
      "width": null
     }
    },
    "597f33d8568245f09d0b53eaa5eb0516": {
     "model_module": "@jupyter-widgets/controls",
     "model_module_version": "1.5.0",
     "model_name": "DescriptionStyleModel",
     "state": {
      "_model_module": "@jupyter-widgets/controls",
      "_model_module_version": "1.5.0",
      "_model_name": "DescriptionStyleModel",
      "_view_count": null,
      "_view_module": "@jupyter-widgets/base",
      "_view_module_version": "1.2.0",
      "_view_name": "StyleView",
      "description_width": ""
     }
    },
    "8bec505ba02f46db833dd595a81c1465": {
     "model_module": "@jupyter-widgets/base",
     "model_module_version": "1.2.0",
     "model_name": "LayoutModel",
     "state": {
      "_model_module": "@jupyter-widgets/base",
      "_model_module_version": "1.2.0",
      "_model_name": "LayoutModel",
      "_view_count": null,
      "_view_module": "@jupyter-widgets/base",
      "_view_module_version": "1.2.0",
      "_view_name": "LayoutView",
      "align_content": null,
      "align_items": null,
      "align_self": null,
      "border": null,
      "bottom": null,
      "display": null,
      "flex": null,
      "flex_flow": null,
      "grid_area": null,
      "grid_auto_columns": null,
      "grid_auto_flow": null,
      "grid_auto_rows": null,
      "grid_column": null,
      "grid_gap": null,
      "grid_row": null,
      "grid_template_areas": null,
      "grid_template_columns": null,
      "grid_template_rows": null,
      "height": null,
      "justify_content": null,
      "justify_items": null,
      "left": null,
      "margin": null,
      "max_height": null,
      "max_width": null,
      "min_height": null,
      "min_width": null,
      "object_fit": null,
      "object_position": null,
      "order": null,
      "overflow": null,
      "overflow_x": null,
      "overflow_y": null,
      "padding": null,
      "right": null,
      "top": null,
      "visibility": null,
      "width": null
     }
    },
    "9615a730f14d4afda3026a5cceb237ef": {
     "model_module": "@jupyter-widgets/controls",
     "model_module_version": "1.5.0",
     "model_name": "HTMLModel",
     "state": {
      "_dom_classes": [],
      "_model_module": "@jupyter-widgets/controls",
      "_model_module_version": "1.5.0",
      "_model_name": "HTMLModel",
      "_view_count": null,
      "_view_module": "@jupyter-widgets/controls",
      "_view_module_version": "1.5.0",
      "_view_name": "HTMLView",
      "description": "",
      "description_tooltip": null,
      "layout": "IPY_MODEL_2e74ee34a2ff46b4a38f3ad9b57d254d",
      "placeholder": "​",
      "style": "IPY_MODEL_597f33d8568245f09d0b53eaa5eb0516",
      "value": " 44.7M/44.7M [00:03&lt;00:00, 11.6MB/s]"
     }
    },
    "9695141614c0420ab8c1a01ffd86975d": {
     "model_module": "@jupyter-widgets/controls",
     "model_module_version": "1.5.0",
     "model_name": "DescriptionStyleModel",
     "state": {
      "_model_module": "@jupyter-widgets/controls",
      "_model_module_version": "1.5.0",
      "_model_name": "DescriptionStyleModel",
      "_view_count": null,
      "_view_module": "@jupyter-widgets/base",
      "_view_module_version": "1.2.0",
      "_view_name": "StyleView",
      "description_width": ""
     }
    },
    "ae84427ae4e042b79a72407862f43e32": {
     "model_module": "@jupyter-widgets/controls",
     "model_module_version": "1.5.0",
     "model_name": "HTMLModel",
     "state": {
      "_dom_classes": [],
      "_model_module": "@jupyter-widgets/controls",
      "_model_module_version": "1.5.0",
      "_model_name": "HTMLModel",
      "_view_count": null,
      "_view_module": "@jupyter-widgets/controls",
      "_view_module_version": "1.5.0",
      "_view_name": "HTMLView",
      "description": "",
      "description_tooltip": null,
      "layout": "IPY_MODEL_b493de71107f4078b1272977c79acefd",
      "placeholder": "​",
      "style": "IPY_MODEL_9695141614c0420ab8c1a01ffd86975d",
      "value": "100%"
     }
    },
    "b493de71107f4078b1272977c79acefd": {
     "model_module": "@jupyter-widgets/base",
     "model_module_version": "1.2.0",
     "model_name": "LayoutModel",
     "state": {
      "_model_module": "@jupyter-widgets/base",
      "_model_module_version": "1.2.0",
      "_model_name": "LayoutModel",
      "_view_count": null,
      "_view_module": "@jupyter-widgets/base",
      "_view_module_version": "1.2.0",
      "_view_name": "LayoutView",
      "align_content": null,
      "align_items": null,
      "align_self": null,
      "border": null,
      "bottom": null,
      "display": null,
      "flex": null,
      "flex_flow": null,
      "grid_area": null,
      "grid_auto_columns": null,
      "grid_auto_flow": null,
      "grid_auto_rows": null,
      "grid_column": null,
      "grid_gap": null,
      "grid_row": null,
      "grid_template_areas": null,
      "grid_template_columns": null,
      "grid_template_rows": null,
      "height": null,
      "justify_content": null,
      "justify_items": null,
      "left": null,
      "margin": null,
      "max_height": null,
      "max_width": null,
      "min_height": null,
      "min_width": null,
      "object_fit": null,
      "object_position": null,
      "order": null,
      "overflow": null,
      "overflow_x": null,
      "overflow_y": null,
      "padding": null,
      "right": null,
      "top": null,
      "visibility": null,
      "width": null
     }
    },
    "b7b498a719014022bdd056de6e24a1aa": {
     "model_module": "@jupyter-widgets/controls",
     "model_module_version": "1.5.0",
     "model_name": "ProgressStyleModel",
     "state": {
      "_model_module": "@jupyter-widgets/controls",
      "_model_module_version": "1.5.0",
      "_model_name": "ProgressStyleModel",
      "_view_count": null,
      "_view_module": "@jupyter-widgets/base",
      "_view_module_version": "1.2.0",
      "_view_name": "StyleView",
      "bar_color": null,
      "description_width": ""
     }
    },
    "bec2f6a7c17248229402d05f25adb3dc": {
     "model_module": "@jupyter-widgets/controls",
     "model_module_version": "1.5.0",
     "model_name": "HBoxModel",
     "state": {
      "_dom_classes": [],
      "_model_module": "@jupyter-widgets/controls",
      "_model_module_version": "1.5.0",
      "_model_name": "HBoxModel",
      "_view_count": null,
      "_view_module": "@jupyter-widgets/controls",
      "_view_module_version": "1.5.0",
      "_view_name": "HBoxView",
      "box_style": "",
      "children": [
       "IPY_MODEL_ae84427ae4e042b79a72407862f43e32",
       "IPY_MODEL_1606fc92053f478d98de8e76bfbf78af",
       "IPY_MODEL_9615a730f14d4afda3026a5cceb237ef"
      ],
      "layout": "IPY_MODEL_fce2dfdb9b904a2595c09e91bc6dacdf"
     }
    },
    "fce2dfdb9b904a2595c09e91bc6dacdf": {
     "model_module": "@jupyter-widgets/base",
     "model_module_version": "1.2.0",
     "model_name": "LayoutModel",
     "state": {
      "_model_module": "@jupyter-widgets/base",
      "_model_module_version": "1.2.0",
      "_model_name": "LayoutModel",
      "_view_count": null,
      "_view_module": "@jupyter-widgets/base",
      "_view_module_version": "1.2.0",
      "_view_name": "LayoutView",
      "align_content": null,
      "align_items": null,
      "align_self": null,
      "border": null,
      "bottom": null,
      "display": null,
      "flex": null,
      "flex_flow": null,
      "grid_area": null,
      "grid_auto_columns": null,
      "grid_auto_flow": null,
      "grid_auto_rows": null,
      "grid_column": null,
      "grid_gap": null,
      "grid_row": null,
      "grid_template_areas": null,
      "grid_template_columns": null,
      "grid_template_rows": null,
      "height": null,
      "justify_content": null,
      "justify_items": null,
      "left": null,
      "margin": null,
      "max_height": null,
      "max_width": null,
      "min_height": null,
      "min_width": null,
      "object_fit": null,
      "object_position": null,
      "order": null,
      "overflow": null,
      "overflow_x": null,
      "overflow_y": null,
      "padding": null,
      "right": null,
      "top": null,
      "visibility": null,
      "width": null
     }
    }
   }
  }
 },
 "nbformat": 4,
 "nbformat_minor": 1
}
