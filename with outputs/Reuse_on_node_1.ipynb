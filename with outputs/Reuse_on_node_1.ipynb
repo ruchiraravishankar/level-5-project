{
 "cells": [
  {
   "cell_type": "markdown",
   "id": "TFdxOKfjJioa",
   "metadata": {
    "id": "TFdxOKfjJioa"
   },
   "source": [
    "# reusing the transfer learning re-trained model on new data, back on the same data\n"
   ]
  },
  {
   "cell_type": "code",
   "execution_count": 1,
   "id": "0xsFqVZGWR0_",
   "metadata": {
    "colab": {
     "base_uri": "https://localhost:8080/"
    },
    "id": "0xsFqVZGWR0_",
    "outputId": "8796f40d-4913-41f2-d612-fd77dba2ac52"
   },
   "outputs": [
    {
     "name": "stdout",
     "output_type": "stream",
     "text": [
      "Mounted at /content/drive\n"
     ]
    }
   ],
   "source": [
    "from google.colab import drive\n",
    "drive.mount('/content/drive')"
   ]
  },
  {
   "cell_type": "code",
   "execution_count": 2,
   "id": "bdd1ec51",
   "metadata": {
    "id": "bdd1ec51"
   },
   "outputs": [],
   "source": [
    "import numpy as np\n",
    "import torch\n",
    "import glob\n",
    "import os\n",
    "import pickle\n",
    "from bs4 import BeautifulSoup\n",
    "# data_path = '/Users/ruchiraravishankar/Downloads/iam_dataset/'\n",
    "data_path = '/content/drive/MyDrive/iam_dataset/'\n",
    "save_path = \"/content/drive/MyDrive/iam_dataset/saved_model/\""
   ]
  },
  {
   "cell_type": "code",
   "execution_count": 3,
   "id": "FrMBPE1Zf44s",
   "metadata": {
    "id": "FrMBPE1Zf44s"
   },
   "outputs": [],
   "source": [
    "# toggles to change training and nodes\n",
    "\n",
    "# set model_node to 2,3,4,5,6,7, or 23 for nodes 2 and 3 trained model\n",
    "model_node = 2\n",
    "\n",
    "fc_pi = 'fc' \n",
    "\n",
    "# # transfer learning toggle\n",
    "# fc = True\n",
    "# conv = False\n",
    "# plain_inf = False\n",
    "\n",
    "# toggle to save model\n",
    "save_model = False\n",
    "# toggle to save results\n",
    "save_results = True"
   ]
  },
  {
   "cell_type": "code",
   "execution_count": 4,
   "id": "EYukt71vjd69",
   "metadata": {
    "id": "EYukt71vjd69"
   },
   "outputs": [],
   "source": [
    "labelled_data = np.load(data_path + \"labelled_data.npy\")"
   ]
  },
  {
   "cell_type": "code",
   "execution_count": 5,
   "id": "22206532",
   "metadata": {
    "colab": {
     "base_uri": "https://localhost:8080/"
    },
    "id": "22206532",
    "outputId": "9faa33e3-f537-4c0b-b4ac-7619d146efb3"
   },
   "outputs": [
    {
     "name": "stdout",
     "output_type": "stream",
     "text": [
      "(693, 2)\n",
      "(196, 2)\n",
      "['000']\n"
     ]
    }
   ],
   "source": [
    "labelled_data_0 = labelled_data[labelled_data[:,1] == '000']\n",
    "\n",
    "print(labelled_data_0.shape)\n",
    "\n",
    "labelled_data_0 = labelled_data_0[:196] # original set of data to the one that its originally trained on\n",
    "print(labelled_data_0.shape)\n",
    "\n",
    "print(np.unique(labelled_data_0[:,1]))"
   ]
  },
  {
   "cell_type": "code",
   "execution_count": 6,
   "id": "025913bd",
   "metadata": {
    "colab": {
     "base_uri": "https://localhost:8080/"
    },
    "id": "025913bd",
    "outputId": "5da75f29-f4fa-46f3-e73f-d8f8621970c8"
   },
   "outputs": [
    {
     "name": "stdout",
     "output_type": "stream",
     "text": [
      "['085' '118' '150' '151' '152' '153' '154' '155' '202' '203' '204' '205'\n",
      " '206' '207' '208' '209' '247' '248' '273' '274' '315' '332' '333' '334'\n",
      " '335' '336' '337' '338' '339' '340' '341' '342' '343' '344' '345' '346'\n",
      " '347' '348' '349' '384' '415' '551' '552' '567' '588' '634' '635' '670'\n",
      " '671']\n",
      "(49,)\n"
     ]
    }
   ],
   "source": [
    "remove_000 = labelled_data[labelled_data[:,1]!='000']\n",
    "\n",
    "print(np.unique(remove_000[:,1]))\n",
    "print(np.unique(remove_000[:,1]).shape)"
   ]
  },
  {
   "cell_type": "code",
   "execution_count": 7,
   "id": "926e3c22",
   "metadata": {
    "colab": {
     "base_uri": "https://localhost:8080/"
    },
    "id": "926e3c22",
    "outputId": "4b818272-babc-41a8-a9bd-50802c466234"
   },
   "outputs": [
    {
     "name": "stdout",
     "output_type": "stream",
     "text": [
      "49\n"
     ]
    }
   ],
   "source": [
    "y = [remove_000[remove_000[:,1]==k] for k in np.unique(remove_000[:,1])]\n",
    "print(len(y))"
   ]
  },
  {
   "cell_type": "code",
   "execution_count": 8,
   "id": "affcb9d8",
   "metadata": {
    "colab": {
     "base_uri": "https://localhost:8080/"
    },
    "id": "affcb9d8",
    "outputId": "0f1e02da-4280-46fa-cdc2-00f41a3ce7bb"
   },
   "outputs": [
    {
     "name": "stdout",
     "output_type": "stream",
     "text": [
      "49\n",
      "(49, 4, 2)\n"
     ]
    }
   ],
   "source": [
    "labelled_data_1 = []\n",
    "for i in y:\n",
    "    labelled_data_1.append(i[:4]) # original set of data to the one that its originally trained on\n",
    "print(len(labelled_data_1))\n",
    "\n",
    "labelled_data_1 = np.array(labelled_data_1)\n",
    "\n",
    "print(labelled_data_1.shape)"
   ]
  },
  {
   "cell_type": "code",
   "execution_count": 9,
   "id": "797dd98d",
   "metadata": {
    "id": "797dd98d"
   },
   "outputs": [],
   "source": [
    "labelled_data_1=labelled_data_1.reshape(-1,2)"
   ]
  },
  {
   "cell_type": "code",
   "execution_count": 10,
   "id": "c6c293dc",
   "metadata": {
    "colab": {
     "base_uri": "https://localhost:8080/"
    },
    "id": "c6c293dc",
    "outputId": "cfc72ea8-7bbb-44e1-8c34-c0146c593cb4"
   },
   "outputs": [
    {
     "name": "stdout",
     "output_type": "stream",
     "text": [
      "(196, 2)\n"
     ]
    }
   ],
   "source": [
    "print(labelled_data_1.shape)"
   ]
  },
  {
   "cell_type": "code",
   "execution_count": 11,
   "id": "ef54f007",
   "metadata": {
    "colab": {
     "base_uri": "https://localhost:8080/"
    },
    "id": "ef54f007",
    "outputId": "5b108627-2922-42e2-f5e4-ec7ad9f44286"
   },
   "outputs": [
    {
     "name": "stdout",
     "output_type": "stream",
     "text": [
      "['085' '118' '150' '151' '152' '153' '154' '155' '202' '203' '204' '205'\n",
      " '206' '207' '208' '209' '247' '248' '273' '274' '315' '332' '333' '334'\n",
      " '335' '336' '337' '338' '339' '340' '341' '342' '343' '344' '345' '346'\n",
      " '347' '348' '349' '384' '415' '551' '552' '567' '588' '634' '635' '670'\n",
      " '671']\n"
     ]
    }
   ],
   "source": [
    "print(np.unique(labelled_data_1[:,1]))"
   ]
  },
  {
   "cell_type": "code",
   "execution_count": 12,
   "id": "72fb393e",
   "metadata": {
    "colab": {
     "base_uri": "https://localhost:8080/"
    },
    "id": "72fb393e",
    "outputId": "2bd3c369-dac4-46a3-fe7e-cfc2dec60dd9"
   },
   "outputs": [
    {
     "name": "stdout",
     "output_type": "stream",
     "text": [
      "(392, 2)\n"
     ]
    }
   ],
   "source": [
    "labelled_data_new = np.concatenate((labelled_data_0, labelled_data_1))\n",
    "np.random.shuffle(labelled_data_new)\n",
    "print(labelled_data_new.shape) # mix of sentences from writer id 0 and others, labelled"
   ]
  },
  {
   "cell_type": "code",
   "execution_count": 13,
   "id": "2ea68409",
   "metadata": {
    "colab": {
     "base_uri": "https://localhost:8080/"
    },
    "id": "2ea68409",
    "outputId": "c37721d4-3910-4462-b131-f09f110955bb"
   },
   "outputs": [
    {
     "name": "stdout",
     "output_type": "stream",
     "text": [
      "(262,) (130,) (262,) (130,)\n"
     ]
    }
   ],
   "source": [
    "# split before augmenting to ensure the sentences are being split and not the augmented samples\n",
    "from sklearn.model_selection import train_test_split\n",
    "X_train, X_test, y_train, y_test = train_test_split(labelled_data_new[:,0], labelled_data_new[:,1], test_size=0.33, random_state=42)\n",
    "print(X_train.shape, X_test.shape, y_train.shape, y_test.shape)"
   ]
  },
  {
   "cell_type": "code",
   "execution_count": 14,
   "id": "4b41601b",
   "metadata": {
    "id": "4b41601b"
   },
   "outputs": [],
   "source": [
    "from sklearn.utils import shuffle\n",
    "from PIL import Image\n",
    "import random\n",
    "\n",
    "CROP_SIZE = 113\n",
    "NUM_LABELS = 50\n",
    "\n",
    "def get_augmented_sample(sample, label, sample_ratio):\n",
    "    # Get current image details\n",
    "    img = Image.open(sample)\n",
    "    img_width = img.size[0]\n",
    "    img_height = img.size[1]\n",
    "\n",
    "    # Compute resize dimensions such that aspect ratio is maintained\n",
    "    height_fac = CROP_SIZE / img_height\n",
    "    size = (int(img_width * height_fac), CROP_SIZE)\n",
    "\n",
    "    # Resize image \n",
    "    new_img = img.resize((size), Image.ANTIALIAS)\n",
    "    new_img_width = new_img.size[0]\n",
    "    new_img_height = new_img.size[1]\n",
    "\n",
    "    # Generate a random number of crops of size 113x113 from the resized image\n",
    "    x_coord = list(range(0, new_img_width - CROP_SIZE))\n",
    "    num_crops = int(len(x_coord) * sample_ratio)\n",
    "    random_x_coord = random.sample(x_coord, num_crops)\n",
    "    \n",
    "    # Create augmented images (cropped forms) and map them to a label (writer)\n",
    "    images = []\n",
    "    labels = []\n",
    "    for x in random_x_coord:\n",
    "        img_crop = new_img.crop((x, 0, x + CROP_SIZE, CROP_SIZE))\n",
    "        # Transform image to an array of numbers\n",
    "        images.append(np.asarray(img_crop))\n",
    "        labels.append(label)\n",
    "\n",
    "    return images, labels"
   ]
  },
  {
   "cell_type": "code",
   "execution_count": 15,
   "id": "55dc6891",
   "metadata": {
    "id": "55dc6891"
   },
   "outputs": [],
   "source": [
    "def augment(data, labels):\n",
    "    augmented_sample_list = []\n",
    "    augmented_label_list = []\n",
    "    for i in range(len(data)):\n",
    "        augmented_samples, augmented_labels = get_augmented_sample(data[i], labels[i],0.1)\n",
    "        augmented_sample_list.append(augmented_samples)\n",
    "        augmented_label_list.append(augmented_labels)\n",
    "    return augmented_sample_list, augmented_label_list"
   ]
  },
  {
   "cell_type": "code",
   "execution_count": 16,
   "id": "664668a5",
   "metadata": {
    "id": "664668a5"
   },
   "outputs": [],
   "source": [
    "augsamps, auglbls = augment(X_train, y_train) # returns two lists of arrays\n",
    "ausamps_test, auglbls_test = augment(X_test, y_test)"
   ]
  },
  {
   "cell_type": "code",
   "execution_count": 17,
   "id": "2f35824a",
   "metadata": {
    "colab": {
     "base_uri": "https://localhost:8080/"
    },
    "id": "2f35824a",
    "outputId": "ed4cb9c0-7135-4241-c636-0e3998fe7057"
   },
   "outputs": [
    {
     "name": "stdout",
     "output_type": "stream",
     "text": [
      "43983\n",
      "43983\n",
      "24253\n",
      "24253\n"
     ]
    }
   ],
   "source": [
    "import operator\n",
    "from functools import reduce\n",
    "\n",
    "# flattening the lists\n",
    "aug_samps = reduce(operator.add, augsamps)\n",
    "aug_lbls = reduce(operator.add, auglbls)\n",
    "\n",
    "aug_samps_test = reduce(operator.add, ausamps_test)\n",
    "aug_lbls_test = reduce(operator.add, auglbls_test)\n",
    "print(len(aug_samps))\n",
    "print(len(aug_lbls))\n",
    "\n",
    "print(len(aug_samps_test))\n",
    "print(len(aug_lbls_test))"
   ]
  },
  {
   "cell_type": "code",
   "execution_count": 18,
   "id": "967237ec",
   "metadata": {
    "colab": {
     "base_uri": "https://localhost:8080/"
    },
    "id": "967237ec",
    "outputId": "165c47b3-fa09-45c4-98df-d37c958e1b36"
   },
   "outputs": [
    {
     "name": "stdout",
     "output_type": "stream",
     "text": [
      "(43983, 113, 113)\n",
      "(43983,)\n",
      "(24253, 113, 113)\n",
      "(24253,)\n"
     ]
    }
   ],
   "source": [
    "# converting lists to arrays\n",
    "aug_samps_arr = np.array(aug_samps)\n",
    "aug_lbls_arr = np.array(aug_lbls)\n",
    "aug_samps_arr_test = np.array(aug_samps_test)\n",
    "aug_lbls_arr_test = np.array(aug_lbls_test)\n",
    "\n",
    "print(aug_samps_arr.shape)\n",
    "print(aug_lbls_arr.shape)\n",
    "print(aug_samps_arr_test.shape)\n",
    "print(aug_lbls_arr_test.shape)"
   ]
  },
  {
   "cell_type": "code",
   "execution_count": 19,
   "id": "f568281e",
   "metadata": {
    "id": "f568281e",
    "scrolled": true
   },
   "outputs": [],
   "source": [
    "X_train = aug_samps_arr\n",
    "X_train = X_train.reshape(X_train.shape[0], 1, CROP_SIZE, CROP_SIZE)\n",
    "X_train = X_train.astype('float16')\n",
    "# X_data /= 255\n",
    "X_train /= 255.0\n",
    "y_train = aug_lbls_arr\n",
    "\n",
    "\n",
    "X_test = aug_samps_arr_test\n",
    "X_test = X_test.reshape(X_test.shape[0], 1, CROP_SIZE, CROP_SIZE)\n",
    "X_test = X_test.astype('float16')\n",
    "X_test /= 255.0\n",
    "y_test = aug_lbls_arr_test\n"
   ]
  },
  {
   "cell_type": "code",
   "execution_count": 20,
   "id": "e7d2904a",
   "metadata": {
    "colab": {
     "base_uri": "https://localhost:8080/"
    },
    "id": "e7d2904a",
    "outputId": "af239510-5056-4eaf-cb68-92df04d1f18e"
   },
   "outputs": [
    {
     "name": "stdout",
     "output_type": "stream",
     "text": [
      "(43983, 1, 113, 113)\n",
      "(43983,)\n",
      "(24253, 1, 113, 113)\n",
      "(24253,)\n"
     ]
    }
   ],
   "source": [
    "print(X_train.shape)\n",
    "print(y_train.shape)\n",
    "print(X_test.shape)\n",
    "print(y_test.shape)"
   ]
  },
  {
   "cell_type": "code",
   "execution_count": 21,
   "id": "78a69fdf",
   "metadata": {
    "colab": {
     "base_uri": "https://localhost:8080/"
    },
    "id": "78a69fdf",
    "outputId": "c38523e9-6da0-4f4c-f795-aec3e7668de6"
   },
   "outputs": [
    {
     "name": "stdout",
     "output_type": "stream",
     "text": [
      "['000' '085' '118' '150' '151' '152' '153' '154' '155' '202' '203' '204'\n",
      " '205' '206' '207' '208' '209' '247' '248' '273' '274' '315' '332' '333'\n",
      " '334' '335' '336' '337' '338' '339' '340' '341' '342' '343' '344' '345'\n",
      " '346' '347' '348' '349' '384' '415' '551' '567' '588' '634' '635' '670'\n",
      " '671']\n",
      "['000' '1']\n",
      "['0' '1']\n",
      "(43983,)\n",
      "[0. 1.]\n"
     ]
    }
   ],
   "source": [
    "new = np.unique(y_train)\n",
    "print(new)\n",
    "\n",
    "y_train[y_train !='000'] = 1\n",
    "new = np.unique(y_train)\n",
    "print(new)\n",
    "\n",
    "y_train[y_train=='000'] = 0\n",
    "new = np.unique(y_train)\n",
    "print(new)\n",
    "\n",
    "print(y_train.shape)\n",
    "\n",
    "y_train = y_train.astype('float16')\n",
    "\n",
    "print(np.unique(y_train))"
   ]
  },
  {
   "cell_type": "code",
   "execution_count": 22,
   "id": "c049e9bb",
   "metadata": {
    "colab": {
     "base_uri": "https://localhost:8080/"
    },
    "id": "c049e9bb",
    "outputId": "758ebecf-0d07-4a9d-9e8c-dc4adf726d02"
   },
   "outputs": [
    {
     "name": "stdout",
     "output_type": "stream",
     "text": [
      "['000' '118' '150' '151' '153' '154' '155' '202' '204' '205' '206' '207'\n",
      " '208' '209' '247' '248' '274' '315' '332' '333' '334' '335' '337' '338'\n",
      " '339' '340' '341' '342' '343' '346' '348' '349' '384' '415' '552' '567'\n",
      " '634' '635' '670']\n",
      "['000' '1']\n",
      "['0' '1']\n",
      "(24253,)\n",
      "[0. 1.]\n"
     ]
    }
   ],
   "source": [
    "new = np.unique(y_test)\n",
    "print(new)\n",
    "\n",
    "y_test[y_test !='000'] = 1\n",
    "new = np.unique(y_test)\n",
    "print(new)\n",
    "\n",
    "y_test[y_test=='000'] = 0\n",
    "new = np.unique(y_test)\n",
    "print(new)\n",
    "\n",
    "print(y_test.shape)\n",
    "\n",
    "y_test = y_test.astype('float16')\n",
    "\n",
    "print(np.unique(y_test))"
   ]
  },
  {
   "cell_type": "code",
   "execution_count": 23,
   "id": "g1wfoJoZqOOb",
   "metadata": {
    "colab": {
     "base_uri": "https://localhost:8080/"
    },
    "id": "g1wfoJoZqOOb",
    "outputId": "949318ae-7133-40ea-a3c5-a8ef4e2acab7"
   },
   "outputs": [
    {
     "data": {
      "text/plain": [
       "device(type='cuda')"
      ]
     },
     "execution_count": 23,
     "metadata": {},
     "output_type": "execute_result"
    }
   ],
   "source": [
    "torch.manual_seed(42)\n",
    "CUDA = torch.cuda.is_available()\n",
    "\n",
    "device = torch.device('cuda' if CUDA else 'cpu')\n",
    "kwargs = {'num_workers': 1, 'pin_memory': True} if CUDA else {}\n",
    "device"
   ]
  },
  {
   "cell_type": "code",
   "execution_count": 24,
   "id": "09217c4b",
   "metadata": {
    "id": "09217c4b"
   },
   "outputs": [],
   "source": [
    "from torch.utils.data import TensorDataset, DataLoader\n",
    "\n",
    "if CUDA:\n",
    "  tensor_x_train = torch.Tensor(X_train).type(torch.cuda.FloatTensor) # transform to torch tensor\n",
    "  tensor_y_train = torch.Tensor(y_train).type(torch.cuda.FloatTensor).long()\n",
    "else:\n",
    "  tensor_x_train = torch.Tensor(X_train).type(torch.FloatTensor) # transform to torch tensor\n",
    "  tensor_y_train = torch.Tensor(y_train).type(torch.FloatTensor).long()\n",
    "\n",
    "train_dataset = TensorDataset(tensor_x_train,tensor_y_train) # create your dataset\n",
    "train_dataloader = DataLoader(train_dataset,batch_size=16, shuffle=True, drop_last=True) # create your dataloader"
   ]
  },
  {
   "cell_type": "code",
   "execution_count": 25,
   "id": "c120a864",
   "metadata": {
    "id": "c120a864"
   },
   "outputs": [],
   "source": [
    "if CUDA:\n",
    "  tensor_x_test = torch.Tensor(X_test).type(torch.cuda.FloatTensor) # transform to torch tensor\n",
    "  tensor_y_test = torch.Tensor(y_test).type(torch.cuda.FloatTensor).long()\n",
    "else:\n",
    "  tensor_x_test = torch.Tensor(X_test).type(torch.FloatTensor) # transform to torch tensor\n",
    "  tensor_y_test = torch.Tensor(y_test).type(torch.FloatTensor).long()\n",
    "\n",
    "test_dataset = TensorDataset(tensor_x_test,tensor_y_test) # create your datset\n",
    "test_dataloader = DataLoader(test_dataset, batch_size=16, shuffle=False, drop_last=True) # create your dataloader"
   ]
  },
  {
   "cell_type": "code",
   "execution_count": 26,
   "id": "HOXYkXWgCKt7",
   "metadata": {
    "colab": {
     "base_uri": "https://localhost:8080/"
    },
    "id": "HOXYkXWgCKt7",
    "outputId": "42f3feb8-2422-4140-ddc4-76208dabd3e8"
   },
   "outputs": [
    {
     "data": {
      "text/plain": [
       "torch.Size([43983, 1, 113, 113])"
      ]
     },
     "execution_count": 26,
     "metadata": {},
     "output_type": "execute_result"
    }
   ],
   "source": [
    "tensor_x_train.shape"
   ]
  },
  {
   "cell_type": "code",
   "execution_count": 27,
   "id": "63b0ecba",
   "metadata": {
    "id": "63b0ecba"
   },
   "outputs": [],
   "source": [
    "from torch import nn\n",
    "class Binary_Classifier(nn.Module): \n",
    "    def __init__(self):\n",
    "        super(Binary_Classifier, self).__init__()\n",
    "        self.conv1 = nn.Conv2d(in_channels=1, out_channels=10, kernel_size=3)\n",
    "        self.conv2 = nn.Conv2d(10, 20, kernel_size=3)\n",
    "        self.conv_drop = nn.Dropout2d()\n",
    "        self.conv3 = nn.Conv2d(20, 30, kernel_size=3)\n",
    "        self.fc1 = nn.Linear(4320, 1024)\n",
    "        self.fc2 = nn.Linear(1024, 2)\n",
    "        self.relu = nn.ReLU()\n",
    "        self.max_pool2d = nn.MaxPool2d(2)\n",
    "    def forward(self, x):\n",
    "        x = self.relu(self.max_pool2d(self.conv1(x)))\n",
    "        x = self.relu(self.max_pool2d(self.conv_drop(self.conv2(x))))\n",
    "        x = self.relu(self.max_pool2d(self.conv_drop(self.conv3(x))))\n",
    "        x = x.view(x.shape[0],-1)\n",
    "        # print(x.shape)\n",
    "        x = self.relu(self.fc1(x))\n",
    "        x = self.conv_drop(x)\n",
    "        x = self.fc2(x)\n",
    "        return x"
   ]
  },
  {
   "cell_type": "code",
   "execution_count": 28,
   "id": "29d5c074",
   "metadata": {
    "id": "29d5c074"
   },
   "outputs": [],
   "source": [
    "model=Binary_Classifier().to(device)\n",
    "criterion = nn.CrossEntropyLoss()\n",
    "optimizer = torch.optim.Adam(model.parameters(),lr = 0.001)"
   ]
  },
  {
   "cell_type": "code",
   "execution_count": 29,
   "id": "PGBc37Arp5od",
   "metadata": {
    "id": "PGBc37Arp5od"
   },
   "outputs": [],
   "source": [
    "model_node_2_fc = 'model_tf_3_convs_retrain_last_fc_node2.pt'\n",
    "model_node_2_conv = 'model_tf_3_convs_retrain_last_conv_node2.pt'\n",
    "\n",
    "model_node_3_fc = 'model_tf_3_convs_retrain_last_fc_node3.pt'\n",
    "model_node_3_conv = 'model_tf_3_convs_retrain_last_conv_node3.pt'\n",
    "\n",
    "model_node_4_fc = 'model_3_convs_node_4_fc.pt'\n",
    "model_node_4_conv = 'model_3_convs_node_4_conv.pt'\n",
    "\n",
    "model_node_5_fc = 'model_3_convs_node5_fc.pt'\n",
    "model_node_5_conv = 'model_3_convs_node5_conv.pt'\n",
    "\n",
    "model_node_6_fc = '3convs_node6_fc.pt'\n",
    "model_node_6_conv = '3convs_node6_conv.pt'\n",
    "\n",
    "model_node_7_fc = '3convs_node7_fc.pt'\n",
    "model_node_7_conv = '3convs_node7_conv.pt'\n",
    "\n",
    "model_node2_node3 = 'modelreuse_node2convmodel_retrainedfc_on_node3.pt'"
   ]
  },
  {
   "cell_type": "code",
   "execution_count": 30,
   "id": "tU-JC4JrtzSQ",
   "metadata": {
    "id": "tU-JC4JrtzSQ"
   },
   "outputs": [],
   "source": [
    "if model_node == 2:\n",
    "  model_path = model_node_2_conv\n",
    "\n",
    "\n",
    "elif model_node == 3:\n",
    "  model_path = model_node_3_conv\n",
    "\n",
    "\n",
    "elif model_node == 4:\n",
    "  model_path = model_node_4_conv\n",
    "\n",
    "\n",
    "elif model_node == 5:\n",
    "  model_path = model_node_5_conv\n",
    "\n",
    "\n",
    "elif model_node == 6:\n",
    "  model_path = model_node_6_conv\n",
    "\n",
    "elif model_node == 7:\n",
    "  model_path = model_node_7_conv\n",
    "\n",
    "\n",
    "elif model_node == 23:\n",
    "  model_path = model_node2_node3\n",
    "\n",
    "else:\n",
    "  print(\"set model_node variable at the top of the file\")"
   ]
  },
  {
   "cell_type": "code",
   "execution_count": 31,
   "id": "q_dcto_cRix5",
   "metadata": {
    "colab": {
     "base_uri": "https://localhost:8080/"
    },
    "id": "q_dcto_cRix5",
    "outputId": "cc4a34c5-9798-4e58-df07-476913ccb509"
   },
   "outputs": [
    {
     "name": "stdout",
     "output_type": "stream",
     "text": [
      "Loading checkpoint: /content/drive/MyDrive/testing_proj/iam_dataset/saved_model/model_tf_3_convs_retrain_last_conv_node2.pt\n"
     ]
    }
   ],
   "source": [
    "# if os.path.exists(save_path+'/model_3_convs_node6_conv.pt'):\n",
    "try:\n",
    "    print('Loading checkpoint: %s' % save_path + model_path)\n",
    "    path = torch.load(save_path + model_path)\n",
    "    # epoch = path['epoch']\n",
    "    model.load_state_dict(path['model'])\n",
    "    optimizer.load_state_dict(path['optimizer'])\n",
    "except Exception as e:\n",
    "  print(\"nothing happened\")\n",
    "  print(e)"
   ]
  },
  {
   "cell_type": "code",
   "execution_count": 32,
   "id": "z44prhBFQA76",
   "metadata": {
    "colab": {
     "base_uri": "https://localhost:8080/"
    },
    "id": "z44prhBFQA76",
    "outputId": "5c98aa03-db25-4445-eb8b-c95535ea1185"
   },
   "outputs": [
    {
     "name": "stdout",
     "output_type": "stream",
     "text": [
      "<bound method Module.parameters of Binary_Classifier(\n",
      "  (conv1): Conv2d(1, 10, kernel_size=(3, 3), stride=(1, 1))\n",
      "  (conv2): Conv2d(10, 20, kernel_size=(3, 3), stride=(1, 1))\n",
      "  (conv_drop): Dropout2d(p=0.5, inplace=False)\n",
      "  (conv3): Conv2d(20, 30, kernel_size=(3, 3), stride=(1, 1))\n",
      "  (fc1): Linear(in_features=4320, out_features=1024, bias=True)\n",
      "  (fc2): Linear(in_features=1024, out_features=2, bias=True)\n",
      "  (relu): ReLU()\n",
      "  (max_pool2d): MaxPool2d(kernel_size=2, stride=2, padding=0, dilation=1, ceil_mode=False)\n",
      ")>\n"
     ]
    }
   ],
   "source": [
    "print(model.parameters)"
   ]
  },
  {
   "cell_type": "code",
   "execution_count": 33,
   "id": "7-4DlQ4LPeRi",
   "metadata": {
    "colab": {
     "base_uri": "https://localhost:8080/"
    },
    "id": "7-4DlQ4LPeRi",
    "outputId": "f593b743-0d33-435f-d503-e7968d3cf9c9"
   },
   "outputs": [
    {
     "name": "stdout",
     "output_type": "stream",
     "text": [
      "cuda\n"
     ]
    }
   ],
   "source": [
    "print(device)"
   ]
  },
  {
   "cell_type": "code",
   "execution_count": 34,
   "id": "PMiXAng53sex",
   "metadata": {
    "id": "PMiXAng53sex"
   },
   "outputs": [],
   "source": [
    "if fc_pi == 'fc':\n",
    "  for param in model.parameters():\n",
    "    param.requires_grad = False"
   ]
  },
  {
   "cell_type": "code",
   "execution_count": 35,
   "id": "sNFcaWkQyKR3",
   "metadata": {
    "colab": {
     "base_uri": "https://localhost:8080/"
    },
    "id": "sNFcaWkQyKR3",
    "outputId": "0320d267-7c9d-4ab0-9e8b-879ffac3f09f"
   },
   "outputs": [
    {
     "name": "stdout",
     "output_type": "stream",
     "text": [
      "1024\n"
     ]
    }
   ],
   "source": [
    "if fc_pi == 'fc':\n",
    "  num_ftrs = model.fc2.in_features\n",
    "  print(num_ftrs)\n",
    "  model.fc2 = nn.Linear(num_ftrs, 2).to(device)"
   ]
  },
  {
   "cell_type": "code",
   "execution_count": 36,
   "id": "9Ykv4G0NtmH9",
   "metadata": {
    "id": "9Ykv4G0NtmH9"
   },
   "outputs": [],
   "source": [
    "train_losses = []\n",
    "train_loss_record = []"
   ]
  },
  {
   "cell_type": "code",
   "execution_count": 37,
   "id": "1olHEZqhudxC",
   "metadata": {
    "id": "1olHEZqhudxC"
   },
   "outputs": [],
   "source": [
    "from datetime import datetime\n",
    "train_log_string = '%s :: Epoch %i :: Iter %i / %i :: train loss: %0.4f'\n",
    "def train(epoch):\n",
    "    print('Start Epoch {} Training...'.format(epoch))\n",
    "    model.train()\n",
    "    train_loss = []\n",
    "    train_loss_sum = []\n",
    "    for idx, (data, target) in enumerate(train_dataloader):\n",
    "        optimizer.zero_grad()\n",
    "        #  forward-pass\n",
    "        output = model(data)\n",
    "        loss = criterion(output, target)\n",
    "        #backward-pass\n",
    "        loss.backward()\n",
    "        # Update the parameters\n",
    "        optimizer.step()\n",
    "        train_loss.append(loss.data.cpu().numpy())\n",
    "        train_loss_sum.append(loss)\n",
    "        if ((idx +1) % 5000) == 0:\n",
    "          print(train_log_string % (datetime.now(), epoch, idx + 1, len(train_dataloader), np.mean(train_loss)))\n",
    "          train_loss = []\n",
    "    mean_tr = torch.mean(torch.stack(train_loss_sum))\n",
    "    print('Train Loss at epoch {}: {}\\n'.format(epoch, mean_tr))\n",
    "    train_loss_record.append(mean_tr)\n",
    "    return train_loss_record"
   ]
  },
  {
   "cell_type": "code",
   "execution_count": 38,
   "id": "Ba6w34bjtN9v",
   "metadata": {
    "colab": {
     "base_uri": "https://localhost:8080/"
    },
    "id": "Ba6w34bjtN9v",
    "outputId": "4d0d4ebf-41d5-4502-a1a3-c83291ea9ac5"
   },
   "outputs": [
    {
     "name": "stdout",
     "output_type": "stream",
     "text": [
      "Start Epoch 0 Training...\n",
      "Train Loss at epoch 0: 1.176456093788147\n",
      "\n",
      "Start Epoch 1 Training...\n",
      "Train Loss at epoch 1: 1.1792010068893433\n",
      "\n",
      "Start Epoch 2 Training...\n",
      "Train Loss at epoch 2: 1.1779117584228516\n",
      "\n",
      "Start Epoch 3 Training...\n",
      "Train Loss at epoch 3: 1.1766338348388672\n",
      "\n",
      "Start Epoch 4 Training...\n",
      "Train Loss at epoch 4: 1.1752318143844604\n",
      "\n",
      "Start Epoch 5 Training...\n",
      "Train Loss at epoch 5: 1.17824387550354\n",
      "\n",
      "Start Epoch 6 Training...\n",
      "Train Loss at epoch 6: 1.1744695901870728\n",
      "\n",
      "Start Epoch 7 Training...\n",
      "Train Loss at epoch 7: 1.1764589548110962\n",
      "\n",
      "Start Epoch 8 Training...\n",
      "Train Loss at epoch 8: 1.1767868995666504\n",
      "\n",
      "Start Epoch 9 Training...\n",
      "Train Loss at epoch 9: 1.1828066110610962\n",
      "\n",
      "Start Epoch 10 Training...\n",
      "Train Loss at epoch 10: 1.172984004020691\n",
      "\n",
      "Start Epoch 11 Training...\n",
      "Train Loss at epoch 11: 1.1771773099899292\n",
      "\n",
      "Start Epoch 12 Training...\n",
      "Train Loss at epoch 12: 1.1787424087524414\n",
      "\n",
      "Start Epoch 13 Training...\n",
      "Train Loss at epoch 13: 1.1761800050735474\n",
      "\n",
      "Start Epoch 14 Training...\n",
      "Train Loss at epoch 14: 1.1764888763427734\n",
      "\n"
     ]
    }
   ],
   "source": [
    "if fc_pi == 'fc':\n",
    "  for epoch in range(15):\n",
    "    tlr = train(epoch)"
   ]
  },
  {
   "cell_type": "code",
   "execution_count": 40,
   "id": "8UD3CqceSgPs",
   "metadata": {
    "colab": {
     "base_uri": "https://localhost:8080/",
     "height": 283
    },
    "id": "8UD3CqceSgPs",
    "outputId": "17a0bc17-dd86-4c23-ea35-7c9dde978faf"
   },
   "outputs": [
    {
     "name": "stdout",
     "output_type": "stream",
     "text": [
      "(15,)\n"
     ]
    },
    {
     "data": {
      "image/png": "[encoded data removed]",
      "text/plain": [
       "<Figure size 432x288 with 1 Axes>"
      ]
     },
     "metadata": {
      "needs_background": "light"
     },
     "output_type": "display_data"
    }
   ],
   "source": [
    "import matplotlib.pyplot as plt\n",
    "if fc_pi == 'fc':\n",
    "  temp = [t.detach().cpu().numpy() for t in tlr]\n",
    "  arr = np.array(temp)\n",
    "  print(arr.shape)\n",
    "\n",
    "  plt.plot(arr)"
   ]
  },
  {
   "cell_type": "code",
   "execution_count": 41,
   "id": "UElBlZoYQnpp",
   "metadata": {
    "colab": {
     "base_uri": "https://localhost:8080/"
    },
    "id": "UElBlZoYQnpp",
    "outputId": "ed6f8619-abeb-4a11-eae9-f9df97fd04ce"
   },
   "outputs": [
    {
     "name": "stdout",
     "output_type": "stream",
     "text": [
      "(1515, 16, 2) (1515, 16)\n"
     ]
    }
   ],
   "source": [
    "result = []\n",
    "prediction = []\n",
    "model.eval()\n",
    "with torch.no_grad():\n",
    "    for idx, (data, target) in enumerate(test_dataloader):\n",
    "        output = model(data)\n",
    "        output_sm = nn.Softmax(dim=1)(output)\n",
    "        _, predicted = torch.max(output, 1)\n",
    "        prediction.append(predicted)\n",
    "        result.append(output_sm)\n",
    "        \n",
    "result = torch.stack(result).detach().cpu().numpy()\n",
    "prediction = torch.stack(prediction).detach().cpu().numpy()\n",
    "\n",
    "print(result.shape, prediction.shape)"
   ]
  },
  {
   "cell_type": "code",
   "execution_count": 42,
   "id": "Hs1Q0JC2xKjs",
   "metadata": {
    "colab": {
     "base_uri": "https://localhost:8080/"
    },
    "id": "Hs1Q0JC2xKjs",
    "outputId": "7bdfd6c7-809f-4e51-fa5b-78730268266f"
   },
   "outputs": [
    {
     "name": "stdout",
     "output_type": "stream",
     "text": [
      "(24240,)\n"
     ]
    }
   ],
   "source": [
    "print(prediction.reshape(-1).shape)"
   ]
  },
  {
   "cell_type": "code",
   "execution_count": 43,
   "id": "dCcQqc-VsfnE",
   "metadata": {
    "id": "dCcQqc-VsfnE"
   },
   "outputs": [],
   "source": [
    "import pandas as pd\n",
    "res = pd.DataFrame(result.reshape(-1,2))\n",
    "pred = pd.DataFrame(prediction.reshape(-1))\n",
    "\n",
    "# res.to_csv(\"/content/drive/MyDrive/iam_dataset/saved_model/results_tf_reuse_original_data_conv.csv\", header=False, index=False)\n",
    "# pred.to_csv(\"/content/drive/MyDrive/iam_dataset/saved_model/pred_tf_reuse_original_data_conv.csv\", header=False, index=False)"
   ]
  },
  {
   "cell_type": "code",
   "execution_count": 44,
   "id": "sGZJv2Di1QSz",
   "metadata": {
    "colab": {
     "base_uri": "https://localhost:8080/"
    },
    "id": "sGZJv2Di1QSz",
    "outputId": "e09631d6-aaeb-4106-9979-f72f9fea53f9"
   },
   "outputs": [
    {
     "name": "stdout",
     "output_type": "stream",
     "text": [
      "(24240, 2) (24240, 1)\n"
     ]
    }
   ],
   "source": [
    "print(res.shape, pred.shape)"
   ]
  },
  {
   "cell_type": "code",
   "execution_count": 45,
   "id": "iRodoZGT0iIY",
   "metadata": {
    "id": "iRodoZGT0iIY"
   },
   "outputs": [],
   "source": [
    "y_test_new = y_test[:result.reshape(-1,2).shape[0]]"
   ]
  },
  {
   "cell_type": "code",
   "execution_count": 46,
   "id": "rgdEBEj41lsO",
   "metadata": {
    "colab": {
     "base_uri": "https://localhost:8080/"
    },
    "id": "rgdEBEj41lsO",
    "outputId": "21b3672c-0858-4c65-feda-4f52b1485cb5"
   },
   "outputs": [
    {
     "name": "stdout",
     "output_type": "stream",
     "text": [
      "(24240,)\n"
     ]
    }
   ],
   "source": [
    "print(y_test_new.shape)"
   ]
  },
  {
   "cell_type": "code",
   "execution_count": 47,
   "id": "iaJkMnicswF_",
   "metadata": {
    "colab": {
     "base_uri": "https://localhost:8080/",
     "height": 423
    },
    "id": "iaJkMnicswF_",
    "outputId": "7f357a1e-829a-46a7-d20c-b5b9dc952ec8"
   },
   "outputs": [
    {
     "data": {
      "text/html": [
       "\n",
       "  <div id=\"df-dbb4d6ad-3f61-477c-8ac0-67f213f69a11\">\n",
       "    <div class=\"colab-df-container\">\n",
       "      <div>\n",
       "<style scoped>\n",
       "    .dataframe tbody tr th:only-of-type {\n",
       "        vertical-align: middle;\n",
       "    }\n",
       "\n",
       "    .dataframe tbody tr th {\n",
       "        vertical-align: top;\n",
       "    }\n",
       "\n",
       "    .dataframe thead th {\n",
       "        text-align: right;\n",
       "    }\n",
       "</style>\n",
       "<table border=\"1\" class=\"dataframe\">\n",
       "  <thead>\n",
       "    <tr style=\"text-align: right;\">\n",
       "      <th></th>\n",
       "      <th>ground truth</th>\n",
       "      <th>NN output</th>\n",
       "      <th>probs 0</th>\n",
       "      <th>probs 1</th>\n",
       "    </tr>\n",
       "  </thead>\n",
       "  <tbody>\n",
       "    <tr>\n",
       "      <th>0</th>\n",
       "      <td>0.0</td>\n",
       "      <td>1</td>\n",
       "      <td>0.209575</td>\n",
       "      <td>0.790425</td>\n",
       "    </tr>\n",
       "    <tr>\n",
       "      <th>1</th>\n",
       "      <td>0.0</td>\n",
       "      <td>1</td>\n",
       "      <td>0.206334</td>\n",
       "      <td>0.793666</td>\n",
       "    </tr>\n",
       "    <tr>\n",
       "      <th>2</th>\n",
       "      <td>0.0</td>\n",
       "      <td>1</td>\n",
       "      <td>0.222185</td>\n",
       "      <td>0.777815</td>\n",
       "    </tr>\n",
       "    <tr>\n",
       "      <th>3</th>\n",
       "      <td>0.0</td>\n",
       "      <td>1</td>\n",
       "      <td>0.230955</td>\n",
       "      <td>0.769045</td>\n",
       "    </tr>\n",
       "    <tr>\n",
       "      <th>4</th>\n",
       "      <td>0.0</td>\n",
       "      <td>1</td>\n",
       "      <td>0.195560</td>\n",
       "      <td>0.804440</td>\n",
       "    </tr>\n",
       "    <tr>\n",
       "      <th>...</th>\n",
       "      <td>...</td>\n",
       "      <td>...</td>\n",
       "      <td>...</td>\n",
       "      <td>...</td>\n",
       "    </tr>\n",
       "    <tr>\n",
       "      <th>24235</th>\n",
       "      <td>0.0</td>\n",
       "      <td>1</td>\n",
       "      <td>0.217000</td>\n",
       "      <td>0.783000</td>\n",
       "    </tr>\n",
       "    <tr>\n",
       "      <th>24236</th>\n",
       "      <td>0.0</td>\n",
       "      <td>1</td>\n",
       "      <td>0.160074</td>\n",
       "      <td>0.839926</td>\n",
       "    </tr>\n",
       "    <tr>\n",
       "      <th>24237</th>\n",
       "      <td>0.0</td>\n",
       "      <td>1</td>\n",
       "      <td>0.205946</td>\n",
       "      <td>0.794054</td>\n",
       "    </tr>\n",
       "    <tr>\n",
       "      <th>24238</th>\n",
       "      <td>0.0</td>\n",
       "      <td>1</td>\n",
       "      <td>0.210555</td>\n",
       "      <td>0.789445</td>\n",
       "    </tr>\n",
       "    <tr>\n",
       "      <th>24239</th>\n",
       "      <td>0.0</td>\n",
       "      <td>1</td>\n",
       "      <td>0.221647</td>\n",
       "      <td>0.778353</td>\n",
       "    </tr>\n",
       "  </tbody>\n",
       "</table>\n",
       "<p>24240 rows × 4 columns</p>\n",
       "</div>\n",
       "      <button class=\"colab-df-convert\" onclick=\"convertToInteractive('df-dbb4d6ad-3f61-477c-8ac0-67f213f69a11')\"\n",
       "              title=\"Convert this dataframe to an interactive table.\"\n",
       "              style=\"display:none;\">\n",
       "        \n",
       "  <svg xmlns=\"http://www.w3.org/2000/svg\" height=\"24px\"viewBox=\"0 0 24 24\"\n",
       "       width=\"24px\">\n",
       "    <path d=\"M0 0h24v24H0V0z\" fill=\"none\"/>\n",
       "    <path d=\"M18.56 5.44l.94 2.06.94-2.06 2.06-.94-2.06-.94-.94-2.06-.94 2.06-2.06.94zm-11 1L8.5 8.5l.94-2.06 2.06-.94-2.06-.94L8.5 2.5l-.94 2.06-2.06.94zm10 10l.94 2.06.94-2.06 2.06-.94-2.06-.94-.94-2.06-.94 2.06-2.06.94z\"/><path d=\"M17.41 7.96l-1.37-1.37c-.4-.4-.92-.59-1.43-.59-.52 0-1.04.2-1.43.59L10.3 9.45l-7.72 7.72c-.78.78-.78 2.05 0 2.83L4 21.41c.39.39.9.59 1.41.59.51 0 1.02-.2 1.41-.59l7.78-7.78 2.81-2.81c.8-.78.8-2.07 0-2.86zM5.41 20L4 18.59l7.72-7.72 1.47 1.35L5.41 20z\"/>\n",
       "  </svg>\n",
       "      </button>\n",
       "      \n",
       "  <style>\n",
       "    .colab-df-container {\n",
       "      display:flex;\n",
       "      flex-wrap:wrap;\n",
       "      gap: 12px;\n",
       "    }\n",
       "\n",
       "    .colab-df-convert {\n",
       "      background-color: #E8F0FE;\n",
       "      border: none;\n",
       "      border-radius: 50%;\n",
       "      cursor: pointer;\n",
       "      display: none;\n",
       "      fill: #1967D2;\n",
       "      height: 32px;\n",
       "      padding: 0 0 0 0;\n",
       "      width: 32px;\n",
       "    }\n",
       "\n",
       "    .colab-df-convert:hover {\n",
       "      background-color: #E2EBFA;\n",
       "      box-shadow: 0px 1px 2px rgba(60, 64, 67, 0.3), 0px 1px 3px 1px rgba(60, 64, 67, 0.15);\n",
       "      fill: #174EA6;\n",
       "    }\n",
       "\n",
       "    [theme=dark] .colab-df-convert {\n",
       "      background-color: #3B4455;\n",
       "      fill: #D2E3FC;\n",
       "    }\n",
       "\n",
       "    [theme=dark] .colab-df-convert:hover {\n",
       "      background-color: #434B5C;\n",
       "      box-shadow: 0px 1px 3px 1px rgba(0, 0, 0, 0.15);\n",
       "      filter: drop-shadow(0px 1px 2px rgba(0, 0, 0, 0.3));\n",
       "      fill: #FFFFFF;\n",
       "    }\n",
       "  </style>\n",
       "\n",
       "      <script>\n",
       "        const buttonEl =\n",
       "          document.querySelector('#df-dbb4d6ad-3f61-477c-8ac0-67f213f69a11 button.colab-df-convert');\n",
       "        buttonEl.style.display =\n",
       "          google.colab.kernel.accessAllowed ? 'block' : 'none';\n",
       "\n",
       "        async function convertToInteractive(key) {\n",
       "          const element = document.querySelector('#df-dbb4d6ad-3f61-477c-8ac0-67f213f69a11');\n",
       "          const dataTable =\n",
       "            await google.colab.kernel.invokeFunction('convertToInteractive',\n",
       "                                                     [key], {});\n",
       "          if (!dataTable) return;\n",
       "\n",
       "          const docLinkHtml = 'Like what you see? Visit the ' +\n",
       "            '<a target=\"_blank\" href=https://colab.research.google.com/notebooks/data_table.ipynb>data table notebook</a>'\n",
       "            + ' to learn more about interactive tables.';\n",
       "          element.innerHTML = '';\n",
       "          dataTable['output_type'] = 'display_data';\n",
       "          await google.colab.output.renderOutput(dataTable, element);\n",
       "          const docLink = document.createElement('div');\n",
       "          docLink.innerHTML = docLinkHtml;\n",
       "          element.appendChild(docLink);\n",
       "        }\n",
       "      </script>\n",
       "    </div>\n",
       "  </div>\n",
       "  "
      ],
      "text/plain": [
       "       ground truth  NN output   probs 0   probs 1\n",
       "0               0.0          1  0.209575  0.790425\n",
       "1               0.0          1  0.206334  0.793666\n",
       "2               0.0          1  0.222185  0.777815\n",
       "3               0.0          1  0.230955  0.769045\n",
       "4               0.0          1  0.195560  0.804440\n",
       "...             ...        ...       ...       ...\n",
       "24235           0.0          1  0.217000  0.783000\n",
       "24236           0.0          1  0.160074  0.839926\n",
       "24237           0.0          1  0.205946  0.794054\n",
       "24238           0.0          1  0.210555  0.789445\n",
       "24239           0.0          1  0.221647  0.778353\n",
       "\n",
       "[24240 rows x 4 columns]"
      ]
     },
     "execution_count": 47,
     "metadata": {},
     "output_type": "execute_result"
    }
   ],
   "source": [
    "result_df = pd.DataFrame({'ground truth': y_test_new, 'NN output': prediction.reshape(-1), 'probs 0': res[0], 'probs 1': res[1]})\n",
    "result_df"
   ]
  },
  {
   "cell_type": "code",
   "execution_count": 48,
   "id": "COaorBTG-iwa",
   "metadata": {
    "colab": {
     "base_uri": "https://localhost:8080/"
    },
    "id": "COaorBTG-iwa",
    "outputId": "85da1ff8-2c64-4f31-8194-d9a7b49a9a15"
   },
   "outputs": [
    {
     "name": "stdout",
     "output_type": "stream",
     "text": [
      "Confusion matrix : \n",
      " [[    0 16115]\n",
      " [    0  8125]]\n",
      "Outcome values : \n",
      " 0 16115 0 8125\n",
      "Classification report : \n",
      "               precision    recall  f1-score   support\n",
      "\n",
      "           0       0.00      0.00      0.00     16115\n",
      "           1       0.34      1.00      0.50      8125\n",
      "\n",
      "    accuracy                           0.34     24240\n",
      "   macro avg       0.17      0.50      0.25     24240\n",
      "weighted avg       0.11      0.34      0.17     24240\n",
      "\n"
     ]
    },
    {
     "name": "stderr",
     "output_type": "stream",
     "text": [
      "/usr/local/lib/python3.7/dist-packages/sklearn/metrics/_classification.py:1318: UndefinedMetricWarning: Precision and F-score are ill-defined and being set to 0.0 in labels with no predicted samples. Use `zero_division` parameter to control this behavior.\n",
      "  _warn_prf(average, modifier, msg_start, len(result))\n",
      "/usr/local/lib/python3.7/dist-packages/sklearn/metrics/_classification.py:1318: UndefinedMetricWarning: Precision and F-score are ill-defined and being set to 0.0 in labels with no predicted samples. Use `zero_division` parameter to control this behavior.\n",
      "  _warn_prf(average, modifier, msg_start, len(result))\n",
      "/usr/local/lib/python3.7/dist-packages/sklearn/metrics/_classification.py:1318: UndefinedMetricWarning: Precision and F-score are ill-defined and being set to 0.0 in labels with no predicted samples. Use `zero_division` parameter to control this behavior.\n",
      "  _warn_prf(average, modifier, msg_start, len(result))\n"
     ]
    }
   ],
   "source": [
    "# work out the accuracy and other metrics\n",
    "from sklearn.metrics import confusion_matrix\n",
    "from sklearn.metrics import classification_report\n",
    "actual = result_df['ground truth']\n",
    "predicted = result_df['NN output']\n",
    "# confusion matrix\n",
    "matrix = confusion_matrix(actual, predicted, labels=[0,1])\n",
    "print('Confusion matrix : \\n',matrix)\n",
    "\n",
    "# outcome values order in sklearn\n",
    "tp, fn, fp, tn = confusion_matrix(actual, predicted, labels=[0,1]).reshape(-1)\n",
    "print('Outcome values : \\n', tp, fn, fp, tn)\n",
    "\n",
    "# classification report for precision, recall f1-score and accuracy\n",
    "matrix_2 = classification_report(actual,predicted,labels=[0,1])\n",
    "print('Classification report : \\n',matrix_2)"
   ]
  },
  {
   "cell_type": "code",
   "execution_count": 49,
   "id": "7Rp6mAJJU2xK",
   "metadata": {
    "colab": {
     "base_uri": "https://localhost:8080/",
     "height": 448
    },
    "id": "7Rp6mAJJU2xK",
    "outputId": "0c7b8ea3-557b-413a-c94b-99d03df6d67a"
   },
   "outputs": [
    {
     "data": {
      "text/plain": [
       "<matplotlib.axes._subplots.AxesSubplot at 0x7f243adeee10>"
      ]
     },
     "execution_count": 49,
     "metadata": {},
     "output_type": "execute_result"
    },
    {
     "data": {
      "image/png": "[encoded data removed]",
      "text/plain": [
       "<Figure size 720x504 with 2 Axes>"
      ]
     },
     "metadata": {
      "needs_background": "light"
     },
     "output_type": "display_data"
    }
   ],
   "source": [
    "import matplotlib.pyplot as plt\n",
    "import seaborn as sn\n",
    "df_cm = pd.DataFrame(matrix, index = [i for i in \"01\"],\n",
    "                  columns = [i for i in \"01\"])\n",
    "plt.figure(figsize = (10,7))\n",
    "sn.heatmap(df_cm, annot=True)"
   ]
  },
  {
   "cell_type": "code",
   "execution_count": 50,
   "id": "C0eM31vqtXR4",
   "metadata": {
    "colab": {
     "base_uri": "https://localhost:8080/"
    },
    "id": "C0eM31vqtXR4",
    "outputId": "4e9e0d7d-2c60-47fb-f22c-27da703d9830"
   },
   "outputs": [
    {
     "name": "stdout",
     "output_type": "stream",
     "text": [
      "Classification report : \n",
      " {'0': {'precision': 0.0, 'recall': 0.0, 'f1-score': 0.0, 'support': 16115}, '1': {'precision': 0.3351897689768977, 'recall': 1.0, 'f1-score': 0.5020855862814769, 'support': 8125}, 'accuracy': 0.3351897689768977, 'macro avg': {'precision': 0.16759488448844884, 'recall': 0.5, 'f1-score': 0.25104279314073846, 'support': 24240}, 'weighted avg': {'precision': 0.11235218122678604, 'recall': 0.3351897689768977, 'f1-score': 0.16829395167231848, 'support': 24240}}\n"
     ]
    },
    {
     "name": "stderr",
     "output_type": "stream",
     "text": [
      "/usr/local/lib/python3.7/dist-packages/sklearn/metrics/_classification.py:1318: UndefinedMetricWarning: Precision and F-score are ill-defined and being set to 0.0 in labels with no predicted samples. Use `zero_division` parameter to control this behavior.\n",
      "  _warn_prf(average, modifier, msg_start, len(result))\n",
      "/usr/local/lib/python3.7/dist-packages/sklearn/metrics/_classification.py:1318: UndefinedMetricWarning: Precision and F-score are ill-defined and being set to 0.0 in labels with no predicted samples. Use `zero_division` parameter to control this behavior.\n",
      "  _warn_prf(average, modifier, msg_start, len(result))\n",
      "/usr/local/lib/python3.7/dist-packages/sklearn/metrics/_classification.py:1318: UndefinedMetricWarning: Precision and F-score are ill-defined and being set to 0.0 in labels with no predicted samples. Use `zero_division` parameter to control this behavior.\n",
      "  _warn_prf(average, modifier, msg_start, len(result))\n"
     ]
    },
    {
     "data": {
      "text/plain": [
       "0.3351897689768977"
      ]
     },
     "execution_count": 50,
     "metadata": {},
     "output_type": "execute_result"
    }
   ],
   "source": [
    "from sklearn.metrics import classification_report\n",
    "from sklearn.metrics import accuracy_score\n",
    "matrix_3 = classification_report(actual,predicted,labels=[0,1], output_dict=True)\n",
    "print('Classification report : \\n',matrix_3)\n",
    "accuracy_score(actual, predicted)"
   ]
  },
  {
   "cell_type": "code",
   "execution_count": 51,
   "id": "lFa8Ur5Ytecn",
   "metadata": {
    "id": "lFa8Ur5Ytecn"
   },
   "outputs": [],
   "source": [
    "matrix_df = pd.DataFrame(matrix).transpose()\n",
    "matrix_3_df = pd.DataFrame(matrix_3).transpose()\n",
    "# matrix_df.to_csv(\"/content/drive/MyDrive/iam_dataset/saved_model/conf_matrix_transf_learn_conv_newdata_2.csv\", header=False, index=False)\n",
    "\n",
    "if save_results:\n",
    "  if model_node == 2:\n",
    "    if fc_pi == 'fc':\n",
    "      matrix_3_df.to_csv(save_path + \"classification_report_transf_learn_reuse_node2_conv_fc_retrain.csv\", header=True, index=True)\n",
    "\n",
    "    elif fc_pi == 'pi':\n",
    "      matrix_3_df.to_csv(save_path + \"classification_report_transf_learn_reuse_node2_conv_pi.csv\", header=True, index=True)\n",
    "\n",
    "    else:\n",
    "      print(\"set model_node or fc_pi\")\n",
    "    \n",
    "  elif model_node == 3:\n",
    "    if fc_pi == 'fc':\n",
    "      matrix_3_df.to_csv(save_path + \"classification_report_transf_learn_reuse_node3_conv_fc_retrain.csv\", header=True, index=True)\n",
    "\n",
    "    elif fc_pi == 'pi':\n",
    "      matrix_3_df.to_csv(save_path + \"classification_report_transf_learn_reuse_node3_conv_pi.csv\", header=True, index=True)\n",
    "\n",
    "    else:\n",
    "      print(\"set model_node or fc_pi\")\n",
    "\n",
    "  elif model_node == 4:\n",
    "    if fc_pi == 'fc':\n",
    "      matrix_3_df.to_csv(save_path + \"classification_report_modelreuse_node4conv_retrainfc_on_node1.csv\", header=True, index=True)\n",
    "\n",
    "    elif fc_pi == 'pi':\n",
    "      matrix_3_df.to_csv(save_path + \"classification_report_modelreuse_node4conv_pi_on_node1.csv\", header=True, index=True)\n",
    "\n",
    "    else:\n",
    "      print(\"set model_node or fc_pi\")\n",
    "  \n",
    "  elif model_node == 5:\n",
    "    if fc_pi == 'fc':\n",
    "      matrix_3_df.to_csv(save_path + \"classification_report_modelreuse_node5conv_retrainfc_on_node1.csv\", header=True, index=True)\n",
    "\n",
    "    elif fc_pi == 'pi':\n",
    "      matrix_3_df.to_csv(save_path + \"classification_report_modelreuse_node5conv_pi_on_node1.csv\", header=True, index=True)\n",
    "\n",
    "    else:\n",
    "      print(\"set model_node or fc_pi\")\n",
    "  \n",
    "  elif model_node == 6:\n",
    "    if fc_pi == 'fc':\n",
    "      matrix_3_df.to_csv(save_path + \"classification_report_modelreuse_node6conv_retrainfc_on_node1.csv\", header=True, index=True)\n",
    "\n",
    "    elif fc_pi == 'pi':\n",
    "      matrix_3_df.to_csv(save_path + \"classification_report_modelreuse_node6conv_pi_on_node1.csv\", header=True, index=True)\n",
    "\n",
    "    else:\n",
    "      print(\"set model_node or fc_pi\")\n",
    "  \n",
    "  elif model_node == 7:\n",
    "    if fc_pi == 'fc':\n",
    "      matrix_3_df.to_csv(save_path + \"classification_report_modelreuse_node7conv_retrainfc_on_node1.csv\", header=True, index=True)\n",
    "\n",
    "    elif fc_pi == 'pi':\n",
    "      matrix_3_df.to_csv(save_path + \"classification_report_modelreuse_node7conv_pi_on_node1.csv\", header=True, index=True)\n",
    "\n",
    "    else:\n",
    "      print(\"set model_node or fc_pi\")  \n",
    "\n",
    "  elif model_node == 23:\n",
    "      matrix_3_df.to_csv(save_path + \"classification_report_modelreuse_node2and3model_on_node1.csv\", header=True, index=True)\n",
    "else:\n",
    "    print(\"set model_node\")\n",
    "\n",
    "# pd.to_csv(\"/content/drive/MyDrive/iam_dataset/saved_model/classification_report.txt\",matrix)\n"
   ]
  }
 ],
 "metadata": {
  "accelerator": "GPU",
  "colab": {
   "collapsed_sections": [],
   "name": "Reuse on node 1",
   "provenance": []
  },
  "kernelspec": {
   "display_name": "Python 3 (ipykernel)",
   "language": "python",
   "name": "python3"
  },
  "language_info": {
   "codemirror_mode": {
    "name": "ipython",
    "version": 3
   },
   "file_extension": ".py",
   "mimetype": "text/x-python",
   "name": "python",
   "nbconvert_exporter": "python",
   "pygments_lexer": "ipython3",
   "version": "3.9.6"
  }
 },
 "nbformat": 4,
 "nbformat_minor": 5
}
