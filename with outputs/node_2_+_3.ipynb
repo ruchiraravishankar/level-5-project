{
  "nbformat": 4,
  "nbformat_minor": 5,
  "metadata": {
    "colab": {
      "name": "node 2 + 3.ipynb",
      "provenance": [],
      "collapsed_sections": []
    },
    "kernelspec": {
      "display_name": "Python 3 (ipykernel)",
      "language": "python",
      "name": "python3"
    },
    "language_info": {
      "codemirror_mode": {
        "name": "ipython",
        "version": 3
      },
      "file_extension": ".py",
      "mimetype": "text/x-python",
      "name": "python",
      "nbconvert_exporter": "python",
      "pygments_lexer": "ipython3",
      "version": "3.9.6"
    },
    "accelerator": "GPU"
  },
  "cells": [
    {
      "cell_type": "code",
      "metadata": {
        "colab": {
          "base_uri": "https://localhost:8080/"
        },
        "id": "0xsFqVZGWR0_",
        "outputId": "4fd5ca9c-a66b-445e-bbe1-16418c37826f"
      },
      "source": [
        "from google.colab import drive\n",
        "drive.mount('/content/drive')"
      ],
      "id": "0xsFqVZGWR0_",
      "execution_count": null,
      "outputs": [
        {
          "output_type": "stream",
          "name": "stdout",
          "text": [
            "Mounted at /content/drive\n"
          ]
        }
      ]
    },
    {
      "cell_type": "code",
      "metadata": {
        "id": "bdd1ec51"
      },
      "source": [
        "import numpy as np\n",
        "import torch\n",
        "\n",
        "import os\n",
        "\n",
        "# data_path = '/Users/ruchiraravishankar/Downloads/iam_dataset/'\n",
        "data_path = '/content/drive/MyDrive/iam_dataset/'\n",
        "save_path = \"/content/drive/MyDrive/iam_dataset/saved_model/\"\n",
        "\n",
        "# print(glob.glob(data_path))"
      ],
      "id": "bdd1ec51",
      "execution_count": null,
      "outputs": []
    },
    {
      "cell_type": "code",
      "source": [
        "# toggles to change training and nodes\n",
        "\n",
        "# set NODE to 2 or 3 or to reuse node 2 model on node 3, set to 23\n",
        "NODE = 2\n",
        "# NODE 23 only has plain_inf and fc settings, conv does not work\n",
        "# transfer learning toggle\n",
        "fc = False\n",
        "conv = True\n",
        "plain_inf = False\n",
        "\n",
        "\n",
        "# toggle to save model\n",
        "save_model = True\n",
        "# toggle to save results\n",
        "save_results = True\n",
        "\n",
        "if plain_inf:\n",
        "  save_model = False\n"
      ],
      "metadata": {
        "id": "FrMBPE1Zf44s"
      },
      "id": "FrMBPE1Zf44s",
      "execution_count": null,
      "outputs": []
    },
    {
      "cell_type": "code",
      "source": [
        "labelled_data = np.load(data_path + \"labelled_data.npy\")"
      ],
      "metadata": {
        "id": "Q7Glo3vAbuDr"
      },
      "id": "Q7Glo3vAbuDr",
      "execution_count": null,
      "outputs": []
    },
    {
      "cell_type": "code",
      "metadata": {
        "id": "22206532",
        "colab": {
          "base_uri": "https://localhost:8080/"
        },
        "outputId": "0036477c-d0e2-45fb-87d2-f25dd084397f"
      },
      "source": [
        "labelled_data_0 = labelled_data[labelled_data[:,1] == '000']\n",
        "\n",
        "print(labelled_data_0.shape)\n",
        "if NODE == 2:\n",
        "  labelled_data_0 = labelled_data_0[196:(196*2)] # different set of data to the one that its originally trained on\n",
        "elif NODE == 3 or NODE == 23:\n",
        "  labelled_data_0 = labelled_data_0[(196*2):(196*3)] \n",
        "else:\n",
        "  print(\"NODE not set\")\n",
        "print(labelled_data_0.shape)\n",
        "print(np.unique(labelled_data_0[:,1]))"
      ],
      "id": "22206532",
      "execution_count": null,
      "outputs": [
        {
          "output_type": "stream",
          "name": "stdout",
          "text": [
            "(693, 2)\n",
            "(196, 2)\n",
            "['000']\n"
          ]
        }
      ]
    },
    {
      "cell_type": "code",
      "metadata": {
        "id": "025913bd",
        "colab": {
          "base_uri": "https://localhost:8080/"
        },
        "outputId": "c6fbb1ca-3a73-47ac-f126-1da73aaffa5e"
      },
      "source": [
        "remove_000 = labelled_data[labelled_data[:,1]!='000']\n",
        "\n",
        "print(np.unique(remove_000[:,1]))\n",
        "print(np.unique(remove_000[:,1]).shape)"
      ],
      "id": "025913bd",
      "execution_count": null,
      "outputs": [
        {
          "output_type": "stream",
          "name": "stdout",
          "text": [
            "['085' '118' '150' '151' '152' '153' '154' '155' '202' '203' '204' '205'\n",
            " '206' '207' '208' '209' '247' '248' '273' '274' '315' '332' '333' '334'\n",
            " '335' '336' '337' '338' '339' '340' '341' '342' '343' '344' '345' '346'\n",
            " '347' '348' '349' '384' '415' '551' '552' '567' '588' '634' '635' '670'\n",
            " '671']\n",
            "(49,)\n"
          ]
        }
      ]
    },
    {
      "cell_type": "code",
      "metadata": {
        "id": "926e3c22",
        "colab": {
          "base_uri": "https://localhost:8080/"
        },
        "outputId": "bc1cf280-3eb8-4075-c364-0fda1c998fc7"
      },
      "source": [
        "y = [remove_000[remove_000[:,1]==k] for k in np.unique(remove_000[:,1])]\n",
        "print(len(y))"
      ],
      "id": "926e3c22",
      "execution_count": null,
      "outputs": [
        {
          "output_type": "stream",
          "name": "stdout",
          "text": [
            "49\n"
          ]
        }
      ]
    },
    {
      "cell_type": "code",
      "metadata": {
        "id": "affcb9d8",
        "colab": {
          "base_uri": "https://localhost:8080/"
        },
        "outputId": "80195d72-837a-44e5-8324-5c53bebbdc38"
      },
      "source": [
        "labelled_data_1 = []\n",
        "for i in y:\n",
        "  if NODE == 2:\n",
        "    labelled_data_1.append(i[5:9]) # different set of data to the one that its originally trained on\n",
        "  elif NODE == 3 or NODE == 23:\n",
        "    labelled_data_1.append(i[9:13])\n",
        "  else:\n",
        "    print(\"NODE not set\")\n",
        "\n",
        "print(len(labelled_data_1))\n",
        "\n",
        "labelled_data_1 = np.array(labelled_data_1)\n",
        "\n",
        "print(labelled_data_1.shape)"
      ],
      "id": "affcb9d8",
      "execution_count": null,
      "outputs": [
        {
          "output_type": "stream",
          "name": "stdout",
          "text": [
            "49\n",
            "(49, 4, 2)\n"
          ]
        }
      ]
    },
    {
      "cell_type": "code",
      "metadata": {
        "id": "797dd98d"
      },
      "source": [
        "labelled_data_1=labelled_data_1.reshape(-1,2)"
      ],
      "id": "797dd98d",
      "execution_count": null,
      "outputs": []
    },
    {
      "cell_type": "code",
      "metadata": {
        "id": "c6c293dc",
        "colab": {
          "base_uri": "https://localhost:8080/"
        },
        "outputId": "f48ad7cc-c7ec-4dff-a3e4-8b373ab8aeb6"
      },
      "source": [
        "print(labelled_data_1.shape)"
      ],
      "id": "c6c293dc",
      "execution_count": null,
      "outputs": [
        {
          "output_type": "stream",
          "name": "stdout",
          "text": [
            "(196, 2)\n"
          ]
        }
      ]
    },
    {
      "cell_type": "code",
      "source": [
        "import matplotlib.pyplot as plt\n",
        "from collections import Counter\n",
        "labelled_data_1_count = Counter(labelled_data_1[:,1])\n",
        "plt.figure(figsize=(20,3))\n",
        "plt.bar(labelled_data_1_count.keys(), labelled_data_1_count.values(), width=0.5)"
      ],
      "metadata": {
        "colab": {
          "base_uri": "https://localhost:8080/",
          "height": 216
        },
        "id": "-95_NrC27H22",
        "outputId": "eb62782b-28e1-4097-e5be-1c0585d7d308"
      },
      "id": "-95_NrC27H22",
      "execution_count": null,
      "outputs": [
        {
          "output_type": "execute_result",
          "data": {
            "text/plain": [
              "<BarContainer object of 49 artists>"
            ]
          },
          "metadata": {},
          "execution_count": 11
        },
        {
          "output_type": "display_data",
          "data": {
            "text/plain": [
              "<Figure size 1440x216 with 1 Axes>"
            ],
            "image/png": "[encoded data removed]"
          },
          "metadata": {
            "needs_background": "light"
          }
        }
      ]
    },
    {
      "cell_type": "code",
      "source": [
        "# import matplotlib.pyplot as plt\n",
        "# plt.figure(figsize=(20,3))\n",
        "labelled_data_0_count = Counter(labelled_data_0[:,1])\n",
        "# plt.figure(figsize=(20,3))\n",
        "plt.bar(labelled_data_0_count.keys(), labelled_data_0_count.values(), width=0.5)"
      ],
      "metadata": {
        "colab": {
          "base_uri": "https://localhost:8080/",
          "height": 283
        },
        "id": "Xd60iLqe9RWw",
        "outputId": "402f7ae9-6eef-4315-ee70-85f04cd66170"
      },
      "id": "Xd60iLqe9RWw",
      "execution_count": null,
      "outputs": [
        {
          "output_type": "execute_result",
          "data": {
            "text/plain": [
              "<BarContainer object of 1 artists>"
            ]
          },
          "metadata": {},
          "execution_count": 12
        },
        {
          "output_type": "display_data",
          "data": {
            "text/plain": [
              "<Figure size 432x288 with 1 Axes>"
            ],
            "image/png": "[encoded data removed]"
          },
          "metadata": {
            "needs_background": "light"
          }
        }
      ]
    },
    {
      "cell_type": "code",
      "metadata": {
        "id": "ef54f007",
        "colab": {
          "base_uri": "https://localhost:8080/"
        },
        "outputId": "02dd5f8a-fa87-4eac-80d8-d4c84f6ed5e3"
      },
      "source": [
        "print(np.unique(labelled_data_1[:,1]))"
      ],
      "id": "ef54f007",
      "execution_count": null,
      "outputs": [
        {
          "output_type": "stream",
          "name": "stdout",
          "text": [
            "['085' '118' '150' '151' '152' '153' '154' '155' '202' '203' '204' '205'\n",
            " '206' '207' '208' '209' '247' '248' '273' '274' '315' '332' '333' '334'\n",
            " '335' '336' '337' '338' '339' '340' '341' '342' '343' '344' '345' '346'\n",
            " '347' '348' '349' '384' '415' '551' '552' '567' '588' '634' '635' '670'\n",
            " '671']\n"
          ]
        }
      ]
    },
    {
      "cell_type": "code",
      "metadata": {
        "id": "72fb393e",
        "colab": {
          "base_uri": "https://localhost:8080/"
        },
        "outputId": "9ed7ce78-421e-4b8d-c84c-e46dc9f22548"
      },
      "source": [
        "labelled_data_new = np.concatenate((labelled_data_0, labelled_data_1))\n",
        "np.random.shuffle(labelled_data_new)\n",
        "print(labelled_data_new.shape) # mix of sentences from writer id 0 and others, labelled"
      ],
      "id": "72fb393e",
      "execution_count": null,
      "outputs": [
        {
          "output_type": "stream",
          "name": "stdout",
          "text": [
            "(392, 2)\n"
          ]
        }
      ]
    },
    {
      "cell_type": "code",
      "source": [
        "class_counts = {'0':len(labelled_data_0),'1':len(labelled_data_1)}\n",
        "plt.bar(class_counts.keys(), class_counts.values(), width=0.5)"
      ],
      "metadata": {
        "colab": {
          "base_uri": "https://localhost:8080/",
          "height": 283
        },
        "id": "N8qYIw-ciXvP",
        "outputId": "a5ae484f-fdb3-40fc-8168-da1115280862"
      },
      "id": "N8qYIw-ciXvP",
      "execution_count": null,
      "outputs": [
        {
          "output_type": "execute_result",
          "data": {
            "text/plain": [
              "<BarContainer object of 2 artists>"
            ]
          },
          "metadata": {},
          "execution_count": 15
        },
        {
          "output_type": "display_data",
          "data": {
            "text/plain": [
              "<Figure size 432x288 with 1 Axes>"
            ],
            "image/png": "[encoded data removed]"
          },
          "metadata": {
            "needs_background": "light"
          }
        }
      ]
    },
    {
      "cell_type": "code",
      "metadata": {
        "id": "2ea68409",
        "colab": {
          "base_uri": "https://localhost:8080/"
        },
        "outputId": "664224b3-557f-4639-d959-fa1e936c26f8"
      },
      "source": [
        "# split before augmenting to ensure the sentences are being split and not the augmented samples\n",
        "from sklearn.model_selection import train_test_split\n",
        "X_train, X_test, y_train, y_test = train_test_split(labelled_data_new[:,0], labelled_data_new[:,1], test_size=0.33, random_state=42)\n",
        "print(X_train.shape, X_test.shape, y_train.shape, y_test.shape)"
      ],
      "id": "2ea68409",
      "execution_count": null,
      "outputs": [
        {
          "output_type": "stream",
          "name": "stdout",
          "text": [
            "(262,) (130,) (262,) (130,)\n"
          ]
        }
      ]
    },
    {
      "cell_type": "code",
      "metadata": {
        "id": "4b41601b"
      },
      "source": [
        "from sklearn.utils import shuffle\n",
        "from PIL import Image\n",
        "import random\n",
        "\n",
        "CROP_SIZE = 113\n",
        "NUM_LABELS = 50\n",
        "\n",
        "def get_augmented_sample(sample, label, sample_ratio):\n",
        "    # Get current image details\n",
        "    img = Image.open(sample)\n",
        "    img_width = img.size[0]\n",
        "    img_height = img.size[1]\n",
        "\n",
        "    # Compute resize dimensions such that aspect ratio is maintained\n",
        "    height_fac = CROP_SIZE / img_height\n",
        "    size = (int(img_width * height_fac), CROP_SIZE)\n",
        "\n",
        "    # Resize image \n",
        "    new_img = img.resize((size), Image.ANTIALIAS)\n",
        "    new_img_width = new_img.size[0]\n",
        "    new_img_height = new_img.size[1]\n",
        "\n",
        "    # Generate a random number of crops of size 113x113 from the resized image\n",
        "    x_coord = list(range(0, new_img_width - CROP_SIZE))\n",
        "    num_crops = int(len(x_coord) * sample_ratio)\n",
        "    random_x_coord = random.sample(x_coord, num_crops)\n",
        "    \n",
        "    # Create augmented images (cropped forms) and map them to a label (writer)\n",
        "    images = []\n",
        "    labels = []\n",
        "    for x in random_x_coord:\n",
        "        img_crop = new_img.crop((x, 0, x + CROP_SIZE, CROP_SIZE))\n",
        "        # Transform image to an array of numbers\n",
        "        images.append(np.asarray(img_crop))\n",
        "        labels.append(label)\n",
        "\n",
        "    return images, labels"
      ],
      "id": "4b41601b",
      "execution_count": null,
      "outputs": []
    },
    {
      "cell_type": "code",
      "metadata": {
        "id": "55dc6891"
      },
      "source": [
        "def augment(data, labels):\n",
        "    augmented_sample_list = []\n",
        "    augmented_label_list = []\n",
        "    for i in range(len(data)):\n",
        "        augmented_samples, augmented_labels = get_augmented_sample(data[i], labels[i],0.1)\n",
        "        augmented_sample_list.append(augmented_samples)\n",
        "        augmented_label_list.append(augmented_labels)\n",
        "    return augmented_sample_list, augmented_label_list"
      ],
      "id": "55dc6891",
      "execution_count": null,
      "outputs": []
    },
    {
      "cell_type": "code",
      "metadata": {
        "id": "664668a5"
      },
      "source": [
        "augsamps, auglbls = augment(X_train, y_train) # returns two lists of arrays\n",
        "ausamps_test, auglbls_test = augment(X_test, y_test)"
      ],
      "id": "664668a5",
      "execution_count": null,
      "outputs": []
    },
    {
      "cell_type": "code",
      "metadata": {
        "id": "2f35824a",
        "colab": {
          "base_uri": "https://localhost:8080/"
        },
        "outputId": "c8f55638-b909-458a-aa9b-65df70f498c5"
      },
      "source": [
        "import operator\n",
        "from functools import reduce\n",
        "\n",
        "# flattening the lists\n",
        "aug_samps = reduce(operator.add, augsamps)\n",
        "aug_lbls = reduce(operator.add, auglbls)\n",
        "\n",
        "aug_samps_test = reduce(operator.add, ausamps_test)\n",
        "aug_lbls_test = reduce(operator.add, auglbls_test)\n",
        "print(len(aug_samps))\n",
        "print(len(aug_lbls))\n",
        "\n",
        "print(len(aug_samps_test))\n",
        "print(len(aug_lbls_test))"
      ],
      "id": "2f35824a",
      "execution_count": null,
      "outputs": [
        {
          "output_type": "stream",
          "name": "stdout",
          "text": [
            "42886\n",
            "42886\n",
            "22220\n",
            "22220\n"
          ]
        }
      ]
    },
    {
      "cell_type": "code",
      "metadata": {
        "id": "967237ec",
        "colab": {
          "base_uri": "https://localhost:8080/"
        },
        "outputId": "918e9a09-b7af-46e7-ffbb-c013a73021af"
      },
      "source": [
        "# converting lists to arrays\n",
        "aug_samps_arr = np.array(aug_samps)\n",
        "aug_lbls_arr = np.array(aug_lbls)\n",
        "aug_samps_arr_test = np.array(aug_samps_test)\n",
        "aug_lbls_arr_test = np.array(aug_lbls_test)\n",
        "\n",
        "print(aug_samps_arr.shape)\n",
        "print(aug_lbls_arr.shape)\n",
        "print(aug_samps_arr_test.shape)\n",
        "print(aug_lbls_arr_test.shape)"
      ],
      "id": "967237ec",
      "execution_count": null,
      "outputs": [
        {
          "output_type": "stream",
          "name": "stdout",
          "text": [
            "(42886, 113, 113)\n",
            "(42886,)\n",
            "(22220, 113, 113)\n",
            "(22220,)\n"
          ]
        }
      ]
    },
    {
      "cell_type": "code",
      "metadata": {
        "id": "0mNPPupPKTTY"
      },
      "source": [
        "def transform_data_aug_samps(data):\n",
        "  data = data.reshape(data.shape[0], 1, CROP_SIZE, CROP_SIZE)\n",
        "  data = data.astype('float16')\n",
        "  data /= 255.0\n",
        "  return data"
      ],
      "execution_count": null,
      "outputs": [],
      "id": "0mNPPupPKTTY"
    },
    {
      "cell_type": "code",
      "metadata": {
        "id": "GkrDuw_eLcLp"
      },
      "source": [
        "X_train = transform_data_aug_samps(aug_samps_arr)\n",
        "X_test = transform_data_aug_samps(aug_samps_arr_test)"
      ],
      "execution_count": null,
      "outputs": [],
      "id": "GkrDuw_eLcLp"
    },
    {
      "cell_type": "code",
      "metadata": {
        "id": "ejqTLyaUKyVO"
      },
      "source": [
        "def convert_y_labels(labels):\n",
        "  new = np.unique(labels)\n",
        "  print(new)\n",
        "\n",
        "  labels[labels !='000'] = 1\n",
        "  new = np.unique(labels)\n",
        "  print(new)\n",
        "\n",
        "  labels[labels=='000'] = 0\n",
        "  new = np.unique(labels)\n",
        "  print(new)\n",
        "\n",
        "  print(labels.shape)\n",
        "\n",
        "  labels = labels.astype('float16')\n",
        "\n",
        "  print(np.unique(labels))\n",
        "  return labels"
      ],
      "execution_count": null,
      "outputs": [],
      "id": "ejqTLyaUKyVO"
    },
    {
      "cell_type": "code",
      "metadata": {
        "id": "dN_qCMmDMRW2",
        "colab": {
          "base_uri": "https://localhost:8080/"
        },
        "outputId": "e693d5fc-f36f-48c3-f44d-32cac0313c6a"
      },
      "source": [
        "y_train = convert_y_labels(aug_lbls_arr)\n",
        "y_test = convert_y_labels(aug_lbls_arr_test)\n"
      ],
      "execution_count": null,
      "outputs": [
        {
          "output_type": "stream",
          "name": "stdout",
          "text": [
            "['000' '085' '118' '150' '151' '152' '153' '154' '155' '202' '203' '204'\n",
            " '205' '206' '207' '208' '209' '247' '248' '273' '274' '315' '332' '333'\n",
            " '334' '335' '336' '337' '338' '339' '340' '341' '342' '343' '344' '345'\n",
            " '346' '347' '348' '349' '384' '415' '551' '552' '567' '588' '634' '635'\n",
            " '670' '671']\n",
            "['000' '1']\n",
            "['0' '1']\n",
            "(42886,)\n",
            "[0. 1.]\n",
            "['000' '118' '150' '151' '152' '153' '155' '202' '205' '206' '207' '208'\n",
            " '209' '247' '248' '273' '315' '332' '333' '335' '336' '337' '338' '339'\n",
            " '340' '341' '342' '343' '345' '346' '347' '348' '349' '384' '415' '551'\n",
            " '552' '588' '634' '670' '671']\n",
            "['000' '1']\n",
            "['0' '1']\n",
            "(22220,)\n",
            "[0. 1.]\n"
          ]
        }
      ],
      "id": "dN_qCMmDMRW2"
    },
    {
      "cell_type": "code",
      "metadata": {
        "colab": {
          "base_uri": "https://localhost:8080/"
        },
        "outputId": "73331a5a-7c0b-457e-bbc9-78bebf6928fd",
        "id": "RKJYgnP5bNyo"
      },
      "source": [
        "print(X_train.shape)\n",
        "print(y_train.shape)\n",
        "print(X_test.shape)\n",
        "print(y_test.shape)"
      ],
      "execution_count": null,
      "outputs": [
        {
          "output_type": "stream",
          "name": "stdout",
          "text": [
            "(42886, 1, 113, 113)\n",
            "(42886,)\n",
            "(22220, 1, 113, 113)\n",
            "(22220,)\n"
          ]
        }
      ],
      "id": "RKJYgnP5bNyo"
    },
    {
      "cell_type": "code",
      "metadata": {
        "colab": {
          "base_uri": "https://localhost:8080/"
        },
        "id": "4bt_Nvt2xsGC",
        "outputId": "d3b5befe-031d-45fd-df5b-79072e1566d4"
      },
      "source": [
        "print(y_test[y_test==1.0].shape)"
      ],
      "id": "4bt_Nvt2xsGC",
      "execution_count": null,
      "outputs": [
        {
          "output_type": "stream",
          "name": "stdout",
          "text": [
            "(8006,)\n"
          ]
        }
      ]
    },
    {
      "cell_type": "code",
      "metadata": {
        "colab": {
          "base_uri": "https://localhost:8080/"
        },
        "id": "g1wfoJoZqOOb",
        "outputId": "d65cf100-a9bd-4924-8b02-c72aede85c18"
      },
      "source": [
        "torch.manual_seed(42)\n",
        "CUDA = torch.cuda.is_available()\n",
        "\n",
        "device = torch.device('cuda' if CUDA else 'cpu')\n",
        "kwargs = {'num_workers': 1, 'pin_memory': True} if CUDA else {}\n",
        "device"
      ],
      "id": "g1wfoJoZqOOb",
      "execution_count": null,
      "outputs": [
        {
          "output_type": "execute_result",
          "data": {
            "text/plain": [
              "device(type='cuda')"
            ]
          },
          "metadata": {},
          "execution_count": 28
        }
      ]
    },
    {
      "cell_type": "code",
      "metadata": {
        "id": "09217c4b"
      },
      "source": [
        "from torch.utils.data import TensorDataset, DataLoader\n",
        "\n",
        "if CUDA:\n",
        "  tensor_x_train = torch.Tensor(X_train).type(torch.cuda.FloatTensor) # transform to torch tensor\n",
        "  tensor_y_train = torch.Tensor(y_train).type(torch.cuda.FloatTensor).long()\n",
        "else:\n",
        "  tensor_x_train = torch.Tensor(X_train).type(torch.FloatTensor) # transform to torch tensor\n",
        "  tensor_y_train = torch.Tensor(y_train).type(torch.FloatTensor).long()\n",
        "\n",
        "train_dataset = TensorDataset(tensor_x_train,tensor_y_train) # create your datset\n",
        "train_dataloader = DataLoader(train_dataset,batch_size=16, shuffle=True, drop_last=True) # create your dataloader"
      ],
      "id": "09217c4b",
      "execution_count": null,
      "outputs": []
    },
    {
      "cell_type": "code",
      "metadata": {
        "id": "c120a864"
      },
      "source": [
        "if CUDA:\n",
        "  tensor_x_test = torch.Tensor(X_test).type(torch.cuda.FloatTensor) # transform to torch tensor\n",
        "  tensor_y_test = torch.Tensor(y_test).type(torch.cuda.FloatTensor).long()\n",
        "else:\n",
        "  tensor_x_test = torch.Tensor(X_test).type(torch.FloatTensor) # transform to torch tensor\n",
        "  tensor_y_test = torch.Tensor(y_test).type(torch.FloatTensor).long()\n",
        "\n",
        "test_dataset = TensorDataset(tensor_x_test,tensor_y_test) # create your datset\n",
        "test_dataloader = DataLoader(test_dataset, batch_size=16, shuffle=False, drop_last=True) # create your dataloader"
      ],
      "id": "c120a864",
      "execution_count": null,
      "outputs": []
    },
    {
      "cell_type": "code",
      "metadata": {
        "colab": {
          "base_uri": "https://localhost:8080/"
        },
        "id": "HOXYkXWgCKt7",
        "outputId": "3ec05822-65ee-4d3f-93b2-b8d7dd90c733"
      },
      "source": [
        "tensor_x_train.shape"
      ],
      "id": "HOXYkXWgCKt7",
      "execution_count": null,
      "outputs": [
        {
          "output_type": "execute_result",
          "data": {
            "text/plain": [
              "torch.Size([42886, 1, 113, 113])"
            ]
          },
          "metadata": {},
          "execution_count": 31
        }
      ]
    },
    {
      "cell_type": "code",
      "metadata": {
        "id": "63b0ecba"
      },
      "source": [
        "from torch import nn\n",
        "class Binary_Classifier(nn.Module): \n",
        "    def __init__(self):\n",
        "        super(Binary_Classifier, self).__init__()\n",
        "        self.conv1 = nn.Conv2d(in_channels=1, out_channels=10, kernel_size=3)\n",
        "        self.conv2 = nn.Conv2d(10, 20, kernel_size=3)\n",
        "        self.conv_drop = nn.Dropout2d()\n",
        "        self.conv3 = nn.Conv2d(20, 30, kernel_size=3)\n",
        "        self.fc1 = nn.Linear(4320, 1024)\n",
        "        self.fc2 = nn.Linear(1024, 2)\n",
        "        self.relu = nn.ReLU()\n",
        "        self.max_pool2d = nn.MaxPool2d(2)\n",
        "    def forward(self, x):\n",
        "        x = self.relu(self.max_pool2d(self.conv1(x)))\n",
        "        x = self.relu(self.max_pool2d(self.conv_drop(self.conv2(x))))\n",
        "        x = self.relu(self.max_pool2d(self.conv_drop(self.conv3(x))))\n",
        "        x = x.view(x.shape[0],-1)\n",
        "        # print(x.shape)\n",
        "        x = self.relu(self.fc1(x))\n",
        "        x = self.conv_drop(x)\n",
        "        x = self.fc2(x)\n",
        "        return x"
      ],
      "id": "63b0ecba",
      "execution_count": null,
      "outputs": []
    },
    {
      "cell_type": "code",
      "metadata": {
        "id": "29d5c074"
      },
      "source": [
        "model=Binary_Classifier().to(device)\n",
        "criterion = nn.CrossEntropyLoss()\n",
        "optimizer = torch.optim.Adam(model.parameters(),lr = 0.0001)"
      ],
      "id": "29d5c074",
      "execution_count": null,
      "outputs": []
    },
    {
      "cell_type": "code",
      "source": [
        "if NODE == 23:\n",
        "  model_path = 'model_tf_3_convs_retrain_last_conv_node2.pt'\n",
        "else:\n",
        "  model_path = 'model_3_convs.pt'\n"
      ],
      "metadata": {
        "id": "asHtxam9wB1G"
      },
      "id": "asHtxam9wB1G",
      "execution_count": null,
      "outputs": []
    },
    {
      "cell_type": "code",
      "metadata": {
        "id": "q_dcto_cRix5",
        "colab": {
          "base_uri": "https://localhost:8080/"
        },
        "outputId": "6789a9be-e81d-4a45-a9ee-48127e8e7c6b"
      },
      "source": [
        "try:\n",
        "    print('Loading checkpoint: %s' % \"/content/drive/MyDrive/iam_dataset/saved_model/\" + model_path)\n",
        "    path = torch.load( \"/content/drive/MyDrive/iam_dataset/saved_model/\"  + model_path)\n",
        "    epoch = path['epoch']\n",
        "    model.load_state_dict(path['model'])\n",
        "    optimizer.load_state_dict(path['optimizer'])\n",
        "except Exception as e:\n",
        "  print(\"nothing happened\")\n",
        "  print(e)"
      ],
      "id": "q_dcto_cRix5",
      "execution_count": null,
      "outputs": [
        {
          "output_type": "stream",
          "name": "stdout",
          "text": [
            "Loading checkpoint: /content/drive/MyDrive/iam_dataset/saved_model/model_3_convs.pt\n"
          ]
        }
      ]
    },
    {
      "cell_type": "code",
      "metadata": {
        "colab": {
          "base_uri": "https://localhost:8080/"
        },
        "id": "z44prhBFQA76",
        "outputId": "8454f79d-f54d-4d21-98f6-18ee2d2ba75d"
      },
      "source": [
        "print(model.parameters)"
      ],
      "id": "z44prhBFQA76",
      "execution_count": null,
      "outputs": [
        {
          "output_type": "stream",
          "name": "stdout",
          "text": [
            "<bound method Module.parameters of Binary_Classifier(\n",
            "  (conv1): Conv2d(1, 10, kernel_size=(3, 3), stride=(1, 1))\n",
            "  (conv2): Conv2d(10, 20, kernel_size=(3, 3), stride=(1, 1))\n",
            "  (conv_drop): Dropout2d(p=0.5, inplace=False)\n",
            "  (conv3): Conv2d(20, 30, kernel_size=(3, 3), stride=(1, 1))\n",
            "  (fc1): Linear(in_features=4320, out_features=1024, bias=True)\n",
            "  (fc2): Linear(in_features=1024, out_features=2, bias=True)\n",
            "  (relu): ReLU()\n",
            "  (max_pool2d): MaxPool2d(kernel_size=2, stride=2, padding=0, dilation=1, ceil_mode=False)\n",
            ")>\n"
          ]
        }
      ]
    },
    {
      "cell_type": "code",
      "metadata": {
        "colab": {
          "base_uri": "https://localhost:8080/"
        },
        "id": "7-4DlQ4LPeRi",
        "outputId": "6e964ec0-3bde-4e82-ce0d-528d84a6856d"
      },
      "source": [
        "print(device)"
      ],
      "id": "7-4DlQ4LPeRi",
      "execution_count": null,
      "outputs": [
        {
          "output_type": "stream",
          "name": "stdout",
          "text": [
            "cuda\n"
          ]
        }
      ]
    },
    {
      "cell_type": "code",
      "metadata": {
        "id": "PMiXAng53sex"
      },
      "source": [
        "if fc or conv:\n",
        "  for param in model.parameters():\n",
        "    param.requires_grad = False"
      ],
      "id": "PMiXAng53sex",
      "execution_count": null,
      "outputs": []
    },
    {
      "cell_type": "code",
      "metadata": {
        "id": "HGx21fjR6B_f"
      },
      "source": [
        "if conv and NODE != 23:\n",
        "  for param in model.conv3.parameters():\n",
        "    param.requires_grad = True"
      ],
      "id": "HGx21fjR6B_f",
      "execution_count": null,
      "outputs": []
    },
    {
      "cell_type": "code",
      "metadata": {
        "id": "2lmEG2ye4SZ6",
        "colab": {
          "base_uri": "https://localhost:8080/"
        },
        "outputId": "b504c915-fc67-4e7a-c345-d99f1546ca08"
      },
      "source": [
        "if fc or conv:\n",
        "  num_ftrs = model.fc2.in_features\n",
        "  print(num_ftrs)\n",
        "  model.fc2 = nn.Linear(num_ftrs, 2).to(device)"
      ],
      "id": "2lmEG2ye4SZ6",
      "execution_count": null,
      "outputs": [
        {
          "output_type": "stream",
          "name": "stdout",
          "text": [
            "1024\n"
          ]
        }
      ]
    },
    {
      "cell_type": "code",
      "metadata": {
        "id": "pi7rS_fwRaTj",
        "colab": {
          "base_uri": "https://localhost:8080/"
        },
        "outputId": "9fac04c3-474f-4bb8-858f-bc17622cd29d"
      },
      "source": [
        "for param in model.parameters():\n",
        "  print(param.requires_grad)"
      ],
      "id": "pi7rS_fwRaTj",
      "execution_count": null,
      "outputs": [
        {
          "output_type": "stream",
          "name": "stdout",
          "text": [
            "False\n",
            "False\n",
            "False\n",
            "False\n",
            "True\n",
            "True\n",
            "False\n",
            "False\n",
            "True\n",
            "True\n"
          ]
        }
      ]
    },
    {
      "cell_type": "code",
      "metadata": {
        "id": "9Ykv4G0NtmH9"
      },
      "source": [
        "train_losses = []\n",
        "train_loss_record = []"
      ],
      "id": "9Ykv4G0NtmH9",
      "execution_count": null,
      "outputs": []
    },
    {
      "cell_type": "code",
      "metadata": {
        "id": "1olHEZqhudxC"
      },
      "source": [
        "from datetime import datetime\n",
        "train_log_string = '%s :: Epoch %i :: Iter %i / %i :: train loss: %0.4f'\n",
        "def train(epoch):\n",
        "    print('Start Epoch {} Training...'.format(epoch))\n",
        "    model.train()\n",
        "    train_loss = []\n",
        "    train_loss_sum = []\n",
        "    for idx, (data, target) in enumerate(train_dataloader):\n",
        "        optimizer.zero_grad()\n",
        "        #  forward-pass\n",
        "        output = model(data)\n",
        "        loss = criterion(output, target)\n",
        "        #backward-pass\n",
        "        loss.backward()\n",
        "        # Update the parameters\n",
        "        optimizer.step()\n",
        "        train_loss.append(loss.data.cpu().numpy())\n",
        "        train_loss_sum.append(loss)\n",
        "        if ((idx +1) % 5000) == 0:\n",
        "          print(train_log_string % (datetime.now(), epoch, idx + 1, len(train_dataloader), np.mean(train_loss)))\n",
        "          train_loss = []\n",
        "    mean_tr = torch.mean(torch.stack(train_loss_sum))\n",
        "    print('Train Loss at epoch {}: {}\\n'.format(epoch, mean_tr))\n",
        "    train_loss_record.append(mean_tr)\n",
        "    return train_loss_record"
      ],
      "id": "1olHEZqhudxC",
      "execution_count": null,
      "outputs": []
    },
    {
      "cell_type": "code",
      "metadata": {
        "id": "Ba6w34bjtN9v",
        "colab": {
          "base_uri": "https://localhost:8080/"
        },
        "outputId": "7097b239-46e8-49b8-d7fe-0f1ec1dc427e"
      },
      "source": [
        "# for epoch in range(15):\n",
        "#     tlr = train(epoch)\n",
        "import time\n",
        "if fc or conv:\n",
        "  train(1)\n",
        "  torch.cuda.synchronize()\n",
        "\n",
        "  times = []\n",
        "  for epoch in range(15):\n",
        "      start_epoch = time.time()\n",
        "      tlr = train(epoch)\n",
        "      torch.cuda.synchronize()\n",
        "      end_epoch = time.time()\n",
        "      elapsed = end_epoch - start_epoch\n",
        "      times.append(elapsed)\n",
        "\n",
        "  avg_time = sum(times)/15\n",
        "  print(avg_time)"
      ],
      "id": "Ba6w34bjtN9v",
      "execution_count": null,
      "outputs": [
        {
          "output_type": "stream",
          "name": "stdout",
          "text": [
            "Start Epoch 1 Training...\n",
            "Train Loss at epoch 1: 0.6816720366477966\n",
            "\n",
            "Start Epoch 0 Training...\n",
            "Train Loss at epoch 0: 0.6662664413452148\n",
            "\n",
            "Start Epoch 1 Training...\n",
            "Train Loss at epoch 1: 0.6572863459587097\n",
            "\n",
            "Start Epoch 2 Training...\n",
            "Train Loss at epoch 2: 0.6508752107620239\n",
            "\n",
            "Start Epoch 3 Training...\n",
            "Train Loss at epoch 3: 0.6501287221908569\n",
            "\n",
            "Start Epoch 4 Training...\n",
            "Train Loss at epoch 4: 0.6465754508972168\n",
            "\n",
            "Start Epoch 5 Training...\n",
            "Train Loss at epoch 5: 0.6423848867416382\n",
            "\n",
            "Start Epoch 6 Training...\n",
            "Train Loss at epoch 6: 0.640251100063324\n",
            "\n",
            "Start Epoch 7 Training...\n",
            "Train Loss at epoch 7: 0.6379615664482117\n",
            "\n",
            "Start Epoch 8 Training...\n",
            "Train Loss at epoch 8: 0.6372269988059998\n",
            "\n",
            "Start Epoch 9 Training...\n",
            "Train Loss at epoch 9: 0.6354622840881348\n",
            "\n",
            "Start Epoch 10 Training...\n",
            "Train Loss at epoch 10: 0.6350097060203552\n",
            "\n",
            "Start Epoch 11 Training...\n",
            "Train Loss at epoch 11: 0.6304542422294617\n",
            "\n",
            "Start Epoch 12 Training...\n",
            "Train Loss at epoch 12: 0.6297479867935181\n",
            "\n",
            "Start Epoch 13 Training...\n",
            "Train Loss at epoch 13: 0.628424346446991\n",
            "\n",
            "Start Epoch 14 Training...\n",
            "Train Loss at epoch 14: 0.6270812749862671\n",
            "\n",
            "12.336163250605265\n"
          ]
        }
      ]
    },
    {
      "cell_type": "code",
      "source": [
        "# fc time 10.269379647572835\n",
        "# conv time 17.83478244145711\n"
      ],
      "metadata": {
        "id": "KsbPkTc1WJ74"
      },
      "id": "KsbPkTc1WJ74",
      "execution_count": null,
      "outputs": []
    },
    {
      "cell_type": "code",
      "metadata": {
        "id": "8UD3CqceSgPs",
        "colab": {
          "base_uri": "https://localhost:8080/",
          "height": 283
        },
        "outputId": "6beb0172-a54e-48a6-bf52-b6fbb7628bc7"
      },
      "source": [
        "import matplotlib.pyplot as plt\n",
        "if fc or conv:\n",
        "  temp = [t.detach().cpu().numpy() for t in tlr]\n",
        "  arr = np.array(temp)\n",
        "  print(arr.shape)\n",
        "\n",
        "  plt.plot(arr)"
      ],
      "id": "8UD3CqceSgPs",
      "execution_count": null,
      "outputs": [
        {
          "output_type": "stream",
          "name": "stdout",
          "text": [
            "(16,)\n"
          ]
        },
        {
          "output_type": "display_data",
          "data": {
            "text/plain": [
              "<Figure size 432x288 with 1 Axes>"
            ],
            "image/png": "[encoded data removed]"
          },
          "metadata": {
            "needs_background": "light"
          }
        }
      ]
    },
    {
      "cell_type": "code",
      "metadata": {
        "id": "f9E2tf0EQy2K",
        "colab": {
          "base_uri": "https://localhost:8080/"
        },
        "outputId": "1afcf980-4c58-440c-9a64-242bf09bd8e9"
      },
      "source": [
        "if save_model:\n",
        "  state_dict = {\n",
        "      'epoch': epoch,\n",
        "      'model': model.state_dict(),\n",
        "      'optimizer': optimizer.state_dict(),\n",
        "  }\n",
        "  if NODE == 2:\n",
        "    if fc:\n",
        "      torch.save(state_dict, save_path+'model_tf_3_convs_retrain_last_fc_node2.pt')\n",
        "      print('Model saved!\\n')\n",
        "    elif conv:\n",
        "      torch.save(state_dict, save_path+'model_tf_3_convs_retrain_last_conv_node2.pt')\n",
        "      print('Model saved!\\n')\n",
        "    else:\n",
        "      print(\"set NODE or fc/conv\")\n",
        "    \n",
        "  elif NODE == 3:\n",
        "    if fc:\n",
        "      torch.save(state_dict, save_path+'model_tf_3_convs_retrain_last_fc_node3.pt')\n",
        "      print('Model saved!\\n')\n",
        "    elif conv:\n",
        "      torch.save(state_dict, save_path+'model_tf_3_convs_retrain_last_conv_node3.pt')\n",
        "      print('Model saved!\\n')\n",
        "    else:\n",
        "      print(\"set fc/conv\")\n",
        "\n",
        "  elif NODE == 23:\n",
        "    torch.save(state_dict, save_path+'modelreuse_node2convmodel_retrainedfc_on_node3.pt')\n",
        "    print('Model saved!\\n')\n",
        "\n",
        "  else:\n",
        "      print(\"set NODE\")"
      ],
      "id": "f9E2tf0EQy2K",
      "execution_count": null,
      "outputs": [
        {
          "output_type": "stream",
          "name": "stdout",
          "text": [
            "Model saved!\n",
            "\n"
          ]
        }
      ]
    },
    {
      "cell_type": "code",
      "metadata": {
        "colab": {
          "base_uri": "https://localhost:8080/"
        },
        "id": "UElBlZoYQnpp",
        "outputId": "7e5cfaf3-0b2d-4045-c8b6-f9d587d11a3c"
      },
      "source": [
        "result = []\n",
        "prediction = []\n",
        "model.eval()\n",
        "with torch.no_grad():\n",
        "    for idx, (data, target) in enumerate(test_dataloader):\n",
        "        output = model(data)\n",
        "        output_sm = nn.Softmax(dim=1)(output)\n",
        "        _, predicted = torch.max(output, 1)\n",
        "        prediction.append(predicted)\n",
        "        result.append(output_sm)\n",
        "        \n",
        "result = torch.stack(result).detach().cpu().numpy()\n",
        "prediction = torch.stack(prediction).detach().cpu().numpy()\n",
        "\n",
        "print(result.shape, prediction.shape)"
      ],
      "id": "UElBlZoYQnpp",
      "execution_count": null,
      "outputs": [
        {
          "output_type": "stream",
          "name": "stdout",
          "text": [
            "(1388, 16, 2) (1388, 16)\n"
          ]
        }
      ]
    },
    {
      "cell_type": "code",
      "metadata": {
        "colab": {
          "base_uri": "https://localhost:8080/"
        },
        "id": "Hs1Q0JC2xKjs",
        "outputId": "4b139797-3ab1-4b0c-cbe2-756e056c4965"
      },
      "source": [
        "print(prediction.reshape(-1).shape)"
      ],
      "id": "Hs1Q0JC2xKjs",
      "execution_count": null,
      "outputs": [
        {
          "output_type": "stream",
          "name": "stdout",
          "text": [
            "(22208,)\n"
          ]
        }
      ]
    },
    {
      "cell_type": "code",
      "metadata": {
        "id": "dCcQqc-VsfnE"
      },
      "source": [
        "import pandas as pd\n",
        "res = pd.DataFrame(result.reshape(-1,2))\n",
        "pred = pd.DataFrame(prediction.reshape(-1))\n",
        "\n",
        "# res.to_csv(\"/content/drive/MyDrive/iam_dataset/saved_model/results_transf_learn_3_convs_last_fc_retrain_2.csv\", header=False, index=False)\n",
        "# pred.to_csv(\"/content/drive/MyDrive/iam_dataset/saved_model/pred_transf_learn_3_convs_last_fc_retrain_2.csv\", header=False, index=False)"
      ],
      "id": "dCcQqc-VsfnE",
      "execution_count": null,
      "outputs": []
    },
    {
      "cell_type": "code",
      "metadata": {
        "colab": {
          "base_uri": "https://localhost:8080/"
        },
        "id": "sGZJv2Di1QSz",
        "outputId": "b147e26e-568d-4ed5-d7ef-ac5e0f3f7a02"
      },
      "source": [
        "print(res.shape, pred.shape)"
      ],
      "id": "sGZJv2Di1QSz",
      "execution_count": null,
      "outputs": [
        {
          "output_type": "stream",
          "name": "stdout",
          "text": [
            "(22208, 2) (22208, 1)\n"
          ]
        }
      ]
    },
    {
      "cell_type": "code",
      "metadata": {
        "id": "iRodoZGT0iIY"
      },
      "source": [
        "y_test_new = y_test[:result.reshape(-1,2).shape[0]]"
      ],
      "id": "iRodoZGT0iIY",
      "execution_count": null,
      "outputs": []
    },
    {
      "cell_type": "code",
      "metadata": {
        "colab": {
          "base_uri": "https://localhost:8080/"
        },
        "id": "rgdEBEj41lsO",
        "outputId": "49730ddc-0bee-455c-ea16-64ba4e1a7f99"
      },
      "source": [
        "print(y_test_new.shape)"
      ],
      "id": "rgdEBEj41lsO",
      "execution_count": null,
      "outputs": [
        {
          "output_type": "stream",
          "name": "stdout",
          "text": [
            "(22208,)\n"
          ]
        }
      ]
    },
    {
      "cell_type": "code",
      "metadata": {
        "colab": {
          "base_uri": "https://localhost:8080/",
          "height": 423
        },
        "id": "iaJkMnicswF_",
        "outputId": "df8d00cd-16e4-4eb6-fe90-3dc7c516051a"
      },
      "source": [
        "result_df = pd.DataFrame({'ground truth': y_test_new, 'NN output': prediction.reshape(-1), 'probs 0': res[0], 'probs 1': res[1]})\n",
        "result_df"
      ],
      "id": "iaJkMnicswF_",
      "execution_count": null,
      "outputs": [
        {
          "output_type": "execute_result",
          "data": {
            "text/plain": [
              "       ground truth  NN output   probs 0   probs 1\n",
              "0               1.0          1  0.445766  0.554233\n",
              "1               1.0          1  0.382056  0.617944\n",
              "2               1.0          1  0.328117  0.671883\n",
              "3               1.0          1  0.392546  0.607454\n",
              "4               1.0          1  0.365969  0.634031\n",
              "...             ...        ...       ...       ...\n",
              "22203           0.0          0  0.566450  0.433549\n",
              "22204           0.0          1  0.416568  0.583432\n",
              "22205           0.0          1  0.461397  0.538603\n",
              "22206           0.0          0  0.568451  0.431549\n",
              "22207           0.0          0  0.535785  0.464215\n",
              "\n",
              "[22208 rows x 4 columns]"
            ],
            "text/html": [
              "\n",
              "  <div id=\"df-e7557545-0542-426e-a7b9-c5068e943ab4\">\n",
              "    <div class=\"colab-df-container\">\n",
              "      <div>\n",
              "<style scoped>\n",
              "    .dataframe tbody tr th:only-of-type {\n",
              "        vertical-align: middle;\n",
              "    }\n",
              "\n",
              "    .dataframe tbody tr th {\n",
              "        vertical-align: top;\n",
              "    }\n",
              "\n",
              "    .dataframe thead th {\n",
              "        text-align: right;\n",
              "    }\n",
              "</style>\n",
              "<table border=\"1\" class=\"dataframe\">\n",
              "  <thead>\n",
              "    <tr style=\"text-align: right;\">\n",
              "      <th></th>\n",
              "      <th>ground truth</th>\n",
              "      <th>NN output</th>\n",
              "      <th>probs 0</th>\n",
              "      <th>probs 1</th>\n",
              "    </tr>\n",
              "  </thead>\n",
              "  <tbody>\n",
              "    <tr>\n",
              "      <th>0</th>\n",
              "      <td>1.0</td>\n",
              "      <td>1</td>\n",
              "      <td>0.445766</td>\n",
              "      <td>0.554233</td>\n",
              "    </tr>\n",
              "    <tr>\n",
              "      <th>1</th>\n",
              "      <td>1.0</td>\n",
              "      <td>1</td>\n",
              "      <td>0.382056</td>\n",
              "      <td>0.617944</td>\n",
              "    </tr>\n",
              "    <tr>\n",
              "      <th>2</th>\n",
              "      <td>1.0</td>\n",
              "      <td>1</td>\n",
              "      <td>0.328117</td>\n",
              "      <td>0.671883</td>\n",
              "    </tr>\n",
              "    <tr>\n",
              "      <th>3</th>\n",
              "      <td>1.0</td>\n",
              "      <td>1</td>\n",
              "      <td>0.392546</td>\n",
              "      <td>0.607454</td>\n",
              "    </tr>\n",
              "    <tr>\n",
              "      <th>4</th>\n",
              "      <td>1.0</td>\n",
              "      <td>1</td>\n",
              "      <td>0.365969</td>\n",
              "      <td>0.634031</td>\n",
              "    </tr>\n",
              "    <tr>\n",
              "      <th>...</th>\n",
              "      <td>...</td>\n",
              "      <td>...</td>\n",
              "      <td>...</td>\n",
              "      <td>...</td>\n",
              "    </tr>\n",
              "    <tr>\n",
              "      <th>22203</th>\n",
              "      <td>0.0</td>\n",
              "      <td>0</td>\n",
              "      <td>0.566450</td>\n",
              "      <td>0.433549</td>\n",
              "    </tr>\n",
              "    <tr>\n",
              "      <th>22204</th>\n",
              "      <td>0.0</td>\n",
              "      <td>1</td>\n",
              "      <td>0.416568</td>\n",
              "      <td>0.583432</td>\n",
              "    </tr>\n",
              "    <tr>\n",
              "      <th>22205</th>\n",
              "      <td>0.0</td>\n",
              "      <td>1</td>\n",
              "      <td>0.461397</td>\n",
              "      <td>0.538603</td>\n",
              "    </tr>\n",
              "    <tr>\n",
              "      <th>22206</th>\n",
              "      <td>0.0</td>\n",
              "      <td>0</td>\n",
              "      <td>0.568451</td>\n",
              "      <td>0.431549</td>\n",
              "    </tr>\n",
              "    <tr>\n",
              "      <th>22207</th>\n",
              "      <td>0.0</td>\n",
              "      <td>0</td>\n",
              "      <td>0.535785</td>\n",
              "      <td>0.464215</td>\n",
              "    </tr>\n",
              "  </tbody>\n",
              "</table>\n",
              "<p>22208 rows × 4 columns</p>\n",
              "</div>\n",
              "      <button class=\"colab-df-convert\" onclick=\"convertToInteractive('df-e7557545-0542-426e-a7b9-c5068e943ab4')\"\n",
              "              title=\"Convert this dataframe to an interactive table.\"\n",
              "              style=\"display:none;\">\n",
              "        \n",
              "  <svg xmlns=\"http://www.w3.org/2000/svg\" height=\"24px\"viewBox=\"0 0 24 24\"\n",
              "       width=\"24px\">\n",
              "    <path d=\"M0 0h24v24H0V0z\" fill=\"none\"/>\n",
              "    <path d=\"M18.56 5.44l.94 2.06.94-2.06 2.06-.94-2.06-.94-.94-2.06-.94 2.06-2.06.94zm-11 1L8.5 8.5l.94-2.06 2.06-.94-2.06-.94L8.5 2.5l-.94 2.06-2.06.94zm10 10l.94 2.06.94-2.06 2.06-.94-2.06-.94-.94-2.06-.94 2.06-2.06.94z\"/><path d=\"M17.41 7.96l-1.37-1.37c-.4-.4-.92-.59-1.43-.59-.52 0-1.04.2-1.43.59L10.3 9.45l-7.72 7.72c-.78.78-.78 2.05 0 2.83L4 21.41c.39.39.9.59 1.41.59.51 0 1.02-.2 1.41-.59l7.78-7.78 2.81-2.81c.8-.78.8-2.07 0-2.86zM5.41 20L4 18.59l7.72-7.72 1.47 1.35L5.41 20z\"/>\n",
              "  </svg>\n",
              "      </button>\n",
              "      \n",
              "  <style>\n",
              "    .colab-df-container {\n",
              "      display:flex;\n",
              "      flex-wrap:wrap;\n",
              "      gap: 12px;\n",
              "    }\n",
              "\n",
              "    .colab-df-convert {\n",
              "      background-color: #E8F0FE;\n",
              "      border: none;\n",
              "      border-radius: 50%;\n",
              "      cursor: pointer;\n",
              "      display: none;\n",
              "      fill: #1967D2;\n",
              "      height: 32px;\n",
              "      padding: 0 0 0 0;\n",
              "      width: 32px;\n",
              "    }\n",
              "\n",
              "    .colab-df-convert:hover {\n",
              "      background-color: #E2EBFA;\n",
              "      box-shadow: 0px 1px 2px rgba(60, 64, 67, 0.3), 0px 1px 3px 1px rgba(60, 64, 67, 0.15);\n",
              "      fill: #174EA6;\n",
              "    }\n",
              "\n",
              "    [theme=dark] .colab-df-convert {\n",
              "      background-color: #3B4455;\n",
              "      fill: #D2E3FC;\n",
              "    }\n",
              "\n",
              "    [theme=dark] .colab-df-convert:hover {\n",
              "      background-color: #434B5C;\n",
              "      box-shadow: 0px 1px 3px 1px rgba(0, 0, 0, 0.15);\n",
              "      filter: drop-shadow(0px 1px 2px rgba(0, 0, 0, 0.3));\n",
              "      fill: #FFFFFF;\n",
              "    }\n",
              "  </style>\n",
              "\n",
              "      <script>\n",
              "        const buttonEl =\n",
              "          document.querySelector('#df-e7557545-0542-426e-a7b9-c5068e943ab4 button.colab-df-convert');\n",
              "        buttonEl.style.display =\n",
              "          google.colab.kernel.accessAllowed ? 'block' : 'none';\n",
              "\n",
              "        async function convertToInteractive(key) {\n",
              "          const element = document.querySelector('#df-e7557545-0542-426e-a7b9-c5068e943ab4');\n",
              "          const dataTable =\n",
              "            await google.colab.kernel.invokeFunction('convertToInteractive',\n",
              "                                                     [key], {});\n",
              "          if (!dataTable) return;\n",
              "\n",
              "          const docLinkHtml = 'Like what you see? Visit the ' +\n",
              "            '<a target=\"_blank\" href=https://colab.research.google.com/notebooks/data_table.ipynb>data table notebook</a>'\n",
              "            + ' to learn more about interactive tables.';\n",
              "          element.innerHTML = '';\n",
              "          dataTable['output_type'] = 'display_data';\n",
              "          await google.colab.output.renderOutput(dataTable, element);\n",
              "          const docLink = document.createElement('div');\n",
              "          docLink.innerHTML = docLinkHtml;\n",
              "          element.appendChild(docLink);\n",
              "        }\n",
              "      </script>\n",
              "    </div>\n",
              "  </div>\n",
              "  "
            ]
          },
          "metadata": {},
          "execution_count": 54
        }
      ]
    },
    {
      "cell_type": "code",
      "metadata": {
        "id": "COaorBTG-iwa",
        "colab": {
          "base_uri": "https://localhost:8080/"
        },
        "outputId": "f534a254-2b13-4ec7-e0f6-a1e662ae5df4"
      },
      "source": [
        "# work out the accuracy and other metrics\n",
        "from sklearn.metrics import confusion_matrix\n",
        "from sklearn.metrics import classification_report\n",
        "actual = result_df['ground truth']\n",
        "predicted = result_df['NN output']\n",
        "# confusion matrix\n",
        "matrix = confusion_matrix(actual, predicted, labels=[0,1])\n",
        "print('Confusion matrix : \\n',matrix)\n",
        "\n",
        "# outcome values order in sklearn\n",
        "tn, fp, fn, tp = confusion_matrix(actual, predicted, labels=[0,1]).reshape(-1)\n",
        "print('Outcome values : \\n', tn, fp, fn, tp)\n",
        "\n",
        "# tn, fp, fn, tp\n",
        "\n",
        "# classification report for precision, recall f1-score and accuracy\n",
        "matrix_2 = classification_report(actual,predicted,labels=[0,1])\n",
        "print('Classification report : \\n',matrix_2)"
      ],
      "id": "COaorBTG-iwa",
      "execution_count": null,
      "outputs": [
        {
          "output_type": "stream",
          "name": "stdout",
          "text": [
            "Confusion matrix : \n",
            " [[10660  3542]\n",
            " [   12  7994]]\n",
            "Outcome values : \n",
            " 10660 3542 12 7994\n",
            "Classification report : \n",
            "               precision    recall  f1-score   support\n",
            "\n",
            "           0       1.00      0.75      0.86     14202\n",
            "           1       0.69      1.00      0.82      8006\n",
            "\n",
            "    accuracy                           0.84     22208\n",
            "   macro avg       0.85      0.87      0.84     22208\n",
            "weighted avg       0.89      0.84      0.84     22208\n",
            "\n"
          ]
        }
      ]
    },
    {
      "cell_type": "code",
      "metadata": {
        "colab": {
          "base_uri": "https://localhost:8080/",
          "height": 446
        },
        "id": "7Rp6mAJJU2xK",
        "outputId": "e8f409f6-4c02-49ee-f95a-b13c2c9f290d"
      },
      "source": [
        "import matplotlib.pyplot as plt\n",
        "\n",
        "import seaborn as sn\n",
        "df_cm = pd.DataFrame(matrix, index = [i for i in \"01\"],\n",
        "                  columns = [i for i in \"01\"])\n",
        "plt.figure(figsize = (10,7))\n",
        "sn.heatmap(matrix, annot=True)"
      ],
      "id": "7Rp6mAJJU2xK",
      "execution_count": null,
      "outputs": [
        {
          "output_type": "execute_result",
          "data": {
            "text/plain": [
              "<matplotlib.axes._subplots.AxesSubplot at 0x7fbae5a83790>"
            ]
          },
          "metadata": {},
          "execution_count": 56
        },
        {
          "output_type": "display_data",
          "data": {
            "text/plain": [
              "<Figure size 720x504 with 2 Axes>"
            ],
            "image/png": "[encoded data removed]"
          },
          "metadata": {
            "needs_background": "light"
          }
        }
      ]
    },
    {
      "cell_type": "code",
      "metadata": {
        "colab": {
          "base_uri": "https://localhost:8080/"
        },
        "id": "C0eM31vqtXR4",
        "outputId": "e33f02bb-28a2-4d1a-8588-a8d63d53f2bb"
      },
      "source": [
        "from sklearn.metrics import classification_report\n",
        "from sklearn.metrics import accuracy_score\n",
        "matrix_3 = classification_report(actual,predicted,labels=[0,1], output_dict=True)\n",
        "print('Classification report : \\n',matrix_3)\n",
        "accuracy_score(actual, predicted)"
      ],
      "id": "C0eM31vqtXR4",
      "execution_count": null,
      "outputs": [
        {
          "output_type": "stream",
          "name": "stdout",
          "text": [
            "Classification report : \n",
            " {'0': {'precision': 0.9988755622188905, 'recall': 0.7505985072524997, 'f1-score': 0.8571198842164509, 'support': 14202}, '1': {'precision': 0.6929611650485437, 'recall': 0.9985011241568823, 'f1-score': 0.8181352983317981, 'support': 8006}, 'accuracy': 0.8399675792507204, 'macro avg': {'precision': 0.8459183636337171, 'recall': 0.8745498157046909, 'f1-score': 0.8376275912741245, 'support': 22208}, 'weighted avg': {'precision': 0.8885932016395589, 'recall': 0.8399675792507204, 'f1-score': 0.843065912918156, 'support': 22208}}\n"
          ]
        },
        {
          "output_type": "execute_result",
          "data": {
            "text/plain": [
              "0.8399675792507204"
            ]
          },
          "metadata": {},
          "execution_count": 57
        }
      ]
    },
    {
      "cell_type": "code",
      "metadata": {
        "id": "lFa8Ur5Ytecn"
      },
      "source": [
        "matrix_df = pd.DataFrame(matrix).transpose()\n",
        "matrix_3_df = pd.DataFrame(matrix_3).transpose()\n",
        "\n",
        "# matrix_df.to_csv(\"/content/drive/MyDrive/iam_dataset/saved_model/conf_matrix_transf_learn_3_convs_last_fc_retrain_2.csv\", header=False, index=False)\n",
        "if save_results:\n",
        "  if NODE == 2:\n",
        "    if fc:\n",
        "      matrix_3_df.to_csv(save_path + \"classification_report_transf_learn_3_convs_last_fc_retrain_node2.csv\", header=True, index=True)\n",
        "\n",
        "    elif conv:\n",
        "      matrix_3_df.to_csv(save_path + \"classification_report_transf_learn_3_convs_last_conv_retrain_node2.csv\", header=True, index=True)\n",
        "    \n",
        "    elif plain_inf:\n",
        "      matrix_3_df.to_csv(save_path + \"classification_report_conv_3_node2_pi.csv\", header=True, index=True)\n",
        "\n",
        "    else:\n",
        "      print(\"set NODE or fc/conv/plain_inf\")\n",
        "    \n",
        "  elif NODE == 3:\n",
        "    if fc:\n",
        "      matrix_3_df.to_csv(save_path + \"classification_report_transf_learn_3_convs_last_fc_retrain_node3.csv\", header=True, index=True)\n",
        "\n",
        "    elif conv:\n",
        "      matrix_3_df.to_csv(save_path + \"classification_report_transf_learn_3_convs_last_conv_retrain_node3.csv\", header=True, index=True)\n",
        "\n",
        "    elif plain_inf:\n",
        "      matrix_3_df.to_csv(save_path + \"classification_report_conv_3_node3_pi.csv\", header=True, index=True)\n",
        "    \n",
        "    else:\n",
        "      print(\"set fc/conv/plain_inf\")\n",
        "\n",
        "  elif NODE == 23:\n",
        "      if fc:\n",
        "        matrix_3_df.to_csv(save_path + \"classification_report_modelreuse_node2convmodel_retrainedfc_on_node3.csv\", header=True, index=True)\n",
        "      elif conv:\n",
        "        print(\"No conv option for this setting\")\n",
        "      elif plain_inf:\n",
        "        matrix_3_df.to_csv(save_path + \"classification_report_modelreuse_node2convmodel_pi_on_node3.csv\", header=True, index=True)\n",
        "      else:\n",
        "        print(\"set fc/conv/plain_inf\")\n",
        "  \n",
        "  else:\n",
        "      print(\"set NODE\")\n",
        "# pd.to_csv(\"/content/drive/MyDrive/iam_dataset/saved_model/classification_report.txt\",matrix)\n"
      ],
      "id": "lFa8Ur5Ytecn",
      "execution_count": null,
      "outputs": []
    },
    {
      "cell_type": "code",
      "source": [
        ""
      ],
      "metadata": {
        "id": "FqW-NXk1zdow"
      },
      "id": "FqW-NXk1zdow",
      "execution_count": null,
      "outputs": []
    }
  ]
}