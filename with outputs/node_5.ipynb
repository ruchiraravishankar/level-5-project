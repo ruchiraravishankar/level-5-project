{
 "cells": [
  {
   "cell_type": "markdown",
   "id": "OSfsJyP4r_0f",
   "metadata": {
    "id": "OSfsJyP4r_0f"
   },
   "source": [
    "##Imbalanced data: same number of 0 and 1 datapoints, but within class 1, the number of datapoints from each writer is picked using a random probability, therefore there are random amounts of data from each class with some not in the mix at all."
   ]
  },
  {
   "cell_type": "code",
   "execution_count": 111,
   "id": "0xsFqVZGWR0_",
   "metadata": {
    "colab": {
     "base_uri": "https://localhost:8080/"
    },
    "id": "0xsFqVZGWR0_",
    "outputId": "7f3d4b8e-70f4-4cd7-b618-f7580deabf4f"
   },
   "outputs": [
    {
     "name": "stdout",
     "output_type": "stream",
     "text": [
      "Drive already mounted at /content/drive; to attempt to forcibly remount, call drive.mount(\"/content/drive\", force_remount=True).\n"
     ]
    }
   ],
   "source": [
    "from google.colab import drive\n",
    "drive.mount('/content/drive')"
   ]
  },
  {
   "cell_type": "code",
   "execution_count": 112,
   "id": "bdd1ec51",
   "metadata": {
    "id": "bdd1ec51"
   },
   "outputs": [],
   "source": [
    "import numpy as np\n",
    "import torch\n",
    "import glob\n",
    "import os\n",
    "import pickle\n",
    "from bs4 import BeautifulSoup\n",
    "# data_path = '/Users/ruchiraravishankar/Downloads/iam_dataset/'\n",
    "data_path = '/content/drive/MyDrive/iam_dataset/'\n",
    "save_path = \"/content/drive/MyDrive/iam_dataset/saved_model\""
   ]
  },
  {
   "cell_type": "code",
   "execution_count": 113,
   "id": "pVwwuPwx_Jn0",
   "metadata": {
    "id": "pVwwuPwx_Jn0"
   },
   "outputs": [],
   "source": [
    "# toggles to change training and nodes\n",
    "\n",
    "# transfer learning toggle\n",
    "fc = False\n",
    "conv = False\n",
    "plain_inf = True\n",
    "\n",
    "# toggle to save model\n",
    "save_model = True\n",
    "# toggle to save results\n",
    "save_results = True\n",
    "\n",
    "if plain_inf:\n",
    "  save_model = False"
   ]
  },
  {
   "cell_type": "code",
   "execution_count": 114,
   "id": "7191f93b",
   "metadata": {
    "colab": {
     "base_uri": "https://localhost:8080/"
    },
    "id": "7191f93b",
    "outputId": "763c8d3a-579e-448e-d505-120627903a00"
   },
   "outputs": [
    {
     "name": "stdout",
     "output_type": "stream",
     "text": [
      "(4901, 2)\n"
     ]
    }
   ],
   "source": [
    "labelled_data = np.load(data_path + 'labelled_data.npy')\n",
    "\n",
    "print(labelled_data.shape)"
   ]
  },
  {
   "cell_type": "code",
   "execution_count": 115,
   "id": "iGEGwcxCwwFT",
   "metadata": {
    "colab": {
     "base_uri": "https://localhost:8080/"
    },
    "id": "iGEGwcxCwwFT",
    "outputId": "c77cbdd3-8745-4cb9-d8a6-5c7527a0c752"
   },
   "outputs": [
    {
     "name": "stdout",
     "output_type": "stream",
     "text": [
      "49\n",
      "1.0\n"
     ]
    }
   ],
   "source": [
    "# np.random.seed(42)\n",
    "# all_writers = np.unique(labelled_data[:,1])\n",
    "\n",
    "# print(all_writers.shape)\n",
    "\n",
    "# np.unique(labelled_data[:,1])[np.unique(labelled_data[:,1])!= '000']\n",
    "# # probs = np.random.dirichlet(np.ones(48),size=1.0)\n",
    "# # print(probs.reshape(48,))\n",
    "# # print(np.sum(probs))\n",
    "\n",
    "# # np.insert(probs, )\n",
    "\n",
    "from random import uniform as rand\n",
    "\n",
    "def randConstrained(n, M):\n",
    "     splits = [0] + [rand(0, 1) for _ in range(0,n-1)] + [1]\n",
    "     splits.sort()\n",
    "     diffs = [x - splits[i - 1] for i, x in enumerate(splits)][1:]\n",
    "     result = map(lambda x:x*M, diffs)\n",
    "     return result\n",
    "\n",
    "res = randConstrained(49,1.0)\n",
    "res_list = list(res)\n",
    "# print(sum(list(res)))\n",
    "print(len(res_list))\n",
    "print(sum(res_list))"
   ]
  },
  {
   "cell_type": "code",
   "execution_count": 116,
   "id": "rnZ8qpnPuMRb",
   "metadata": {
    "colab": {
     "base_uri": "https://localhost:8080/"
    },
    "id": "rnZ8qpnPuMRb",
    "outputId": "b6f071f9-e664-4461-828f-95ee3733bca3"
   },
   "outputs": [
    {
     "name": "stdout",
     "output_type": "stream",
     "text": [
      "<map object at 0x7f61952aca50>\n",
      "0.01015144190735573\n",
      "0.003258633132131261\n",
      "(49,)\n"
     ]
    }
   ],
   "source": [
    "# HERE - work with labelled_data for any sampling work\n",
    "probs = randConstrained(49,1.0)\n",
    "print(probs)\n",
    "probs = list(probs)\n",
    "# print(probs)\n",
    "probs = np.array(probs)\n",
    "print(probs[0])\n",
    "# probs = np.insert(probs, 0, 0.5)\n",
    "print(probs[1])\n",
    "print(probs.shape)\n",
    "def sampling(p, n):\n",
    "  all_1_writers = np.unique(labelled_data[:,1])[np.unique(labelled_data[:,1])!= '000']\n",
    "  ixs = np.arange(49)\n",
    "  return np.array([all_1_writers[np.random.choice(ixs, p=p)] for i in range(n)])\n",
    "\n",
    "\n",
    "label_array = sampling(probs, 200)\n",
    "\n",
    "labels, counts = np.unique(label_array, return_counts=True)"
   ]
  },
  {
   "cell_type": "code",
   "execution_count": 117,
   "id": "fBRn7oczOgDa",
   "metadata": {
    "colab": {
     "base_uri": "https://localhost:8080/"
    },
    "id": "fBRn7oczOgDa",
    "outputId": "04661edb-8c24-4562-d7b4-4152a044177e"
   },
   "outputs": [
    {
     "name": "stdout",
     "output_type": "stream",
     "text": [
      "['085' '118' '150' '151' '152' '153' '155' '202' '203' '204' '206' '207'\n",
      " '209' '247' '248' '273' '274' '332' '333' '334' '335' '336' '338' '339'\n",
      " '340' '342' '345' '346' '347' '348' '384' '415' '567' '634' '635' '670'\n",
      " '671'] [ 2  1 12  5  4  1  3  8  9  7 10  1  2  7  3 11  5  5  1  9  3 14 12  7\n",
      "  2  7 11  3  4  7  2 10  3  6  1  1  1]\n",
      "(37,)\n",
      "200\n"
     ]
    }
   ],
   "source": [
    "print(labels, counts)\n",
    "print(labels.shape)\n",
    "print(sum(counts))"
   ]
  },
  {
   "cell_type": "code",
   "execution_count": 118,
   "id": "SIwwV65JInOP",
   "metadata": {
    "colab": {
     "base_uri": "https://localhost:8080/"
    },
    "id": "SIwwV65JInOP",
    "outputId": "187e65be-c9a8-45b8-940f-d1511129428c"
   },
   "outputs": [
    {
     "name": "stdout",
     "output_type": "stream",
     "text": [
      "37\n"
     ]
    }
   ],
   "source": [
    "all_1_data = labelled_data[labelled_data[:,1]!='000']\n",
    "\n",
    "# all_085 = all_1_data[all_1_data[:,1]=='085']\n",
    "# print(all_085.shape)\n",
    "\n",
    "data_list = []\n",
    "# data_list.append(all_085)\n",
    "for i in range(len(labels)):\n",
    "  curr = all_1_data[all_1_data[:,1]==labels[i]][:counts[i]]\n",
    "  data_list.append(curr)\n",
    "\n",
    "print(len(data_list))"
   ]
  },
  {
   "cell_type": "code",
   "execution_count": 119,
   "id": "lAKWrywGe7A0",
   "metadata": {
    "colab": {
     "base_uri": "https://localhost:8080/"
    },
    "id": "lAKWrywGe7A0",
    "outputId": "64bf4335-2c01-49df-d4c7-762346e7f3ef"
   },
   "outputs": [
    {
     "name": "stdout",
     "output_type": "stream",
     "text": [
      "(200, 2)\n"
     ]
    }
   ],
   "source": [
    "# lbl_data = np.array(data_list)\n",
    "out = np.concatenate(data_list)\n",
    "# lbl_data = lbl_data.flatten()\n",
    "# print(lbl_data)\n",
    "print(out.shape)"
   ]
  },
  {
   "cell_type": "code",
   "execution_count": 120,
   "id": "4I1mENMUjlWm",
   "metadata": {
    "colab": {
     "base_uri": "https://localhost:8080/"
    },
    "id": "4I1mENMUjlWm",
    "outputId": "b00141ae-5f2c-49d8-b323-e01c42c94f60"
   },
   "outputs": [
    {
     "name": "stdout",
     "output_type": "stream",
     "text": [
      "(200, 2)\n"
     ]
    }
   ],
   "source": [
    "all_000 = labelled_data[labelled_data[:,1] == '000']\n",
    "np.random.shuffle(all_000)\n",
    "all_000 = all_000[:200]\n",
    "print(all_000.shape)"
   ]
  },
  {
   "cell_type": "code",
   "execution_count": 121,
   "id": "c1InG04JDE_i",
   "metadata": {
    "colab": {
     "base_uri": "https://localhost:8080/",
     "height": 215
    },
    "id": "c1InG04JDE_i",
    "outputId": "b938057b-1204-4210-b568-9fcb87199712"
   },
   "outputs": [
    {
     "data": {
      "text/plain": [
       "<BarContainer object of 37 artists>"
      ]
     },
     "execution_count": 121,
     "metadata": {},
     "output_type": "execute_result"
    },
    {
     "data": {
      "image/png": "[encoded data removed]",
      "text/plain": [
       "<Figure size 1440x216 with 1 Axes>"
      ]
     },
     "metadata": {
      "needs_background": "light"
     },
     "output_type": "display_data"
    }
   ],
   "source": [
    "import matplotlib.pyplot as plt\n",
    "from collections import Counter\n",
    "labelled_data_1_count = Counter(out[:,1])\n",
    "plt.figure(figsize=(20,3))\n",
    "plt.bar(labelled_data_1_count.keys(), labelled_data_1_count.values(), width=0.5)"
   ]
  },
  {
   "cell_type": "code",
   "execution_count": 122,
   "id": "D3A6c-qNjXLg",
   "metadata": {
    "colab": {
     "base_uri": "https://localhost:8080/"
    },
    "id": "D3A6c-qNjXLg",
    "outputId": "17c97ae2-8efc-40ae-ed06-28a09ecbd114"
   },
   "outputs": [
    {
     "name": "stdout",
     "output_type": "stream",
     "text": [
      "(400, 2)\n"
     ]
    }
   ],
   "source": [
    "labelled_data = np.concatenate([all_000, out])\n",
    "print(labelled_data.shape)"
   ]
  },
  {
   "cell_type": "code",
   "execution_count": 123,
   "id": "AtsqXhWuke7g",
   "metadata": {
    "colab": {
     "base_uri": "https://localhost:8080/",
     "height": 283
    },
    "id": "AtsqXhWuke7g",
    "outputId": "3776b406-f4f4-41d1-a74f-aa5b94079d3e"
   },
   "outputs": [
    {
     "data": {
      "text/plain": [
       "<BarContainer object of 2 artists>"
      ]
     },
     "execution_count": 123,
     "metadata": {},
     "output_type": "execute_result"
    },
    {
     "data": {
      "image/png": "[encoded data removed]",
      "text/plain": [
       "<Figure size 432x288 with 1 Axes>"
      ]
     },
     "metadata": {
      "needs_background": "light"
     },
     "output_type": "display_data"
    }
   ],
   "source": [
    "class_counts = {'0':len(all_000),'1':len(out)}\n",
    "plt.bar(class_counts.keys(), class_counts.values(), width=0.5)"
   ]
  },
  {
   "cell_type": "code",
   "execution_count": 124,
   "id": "72fb393e",
   "metadata": {
    "id": "72fb393e"
   },
   "outputs": [],
   "source": [
    "# just for this file...\n",
    "labelled_data_new = labelled_data\n",
    "# labelled_data_new = np.concatenate((labelled_data_0, labelled_data_1))\n",
    "# np.random.shuffle(labelled_data_new)\n",
    "# print(labelled_data_new.shape) # mix of sentences from writer id 0 and others, labelled"
   ]
  },
  {
   "cell_type": "code",
   "execution_count": 125,
   "id": "2ea68409",
   "metadata": {
    "colab": {
     "base_uri": "https://localhost:8080/"
    },
    "id": "2ea68409",
    "outputId": "cffe8e87-d95c-4843-c9cd-1df785c42b3a"
   },
   "outputs": [
    {
     "name": "stdout",
     "output_type": "stream",
     "text": [
      "(268,) (132,) (268,) (132,)\n"
     ]
    }
   ],
   "source": [
    "# split before augmenting to ensure the sentences are being split and not the augmented samples\n",
    "from sklearn.model_selection import train_test_split\n",
    "X_train, X_test, y_train, y_test = train_test_split(labelled_data_new[:,0], labelled_data_new[:,1], test_size=0.33, random_state=42)\n",
    "# X_train, X_val, y_train, y_val = train_test_split(X_train, y_train, test_size=0.33, random_state=42)\n",
    "print(X_train.shape, X_test.shape, y_train.shape, y_test.shape)"
   ]
  },
  {
   "cell_type": "code",
   "execution_count": 126,
   "id": "4b41601b",
   "metadata": {
    "id": "4b41601b"
   },
   "outputs": [],
   "source": [
    "from sklearn.utils import shuffle\n",
    "from PIL import Image\n",
    "import random\n",
    "\n",
    "CROP_SIZE = 113\n",
    "NUM_LABELS = 50\n",
    "\n",
    "def get_augmented_sample(sample, label, sample_ratio):\n",
    "    # Get current image details\n",
    "    img = Image.open(sample)\n",
    "    img_width = img.size[0]\n",
    "    img_height = img.size[1]\n",
    "\n",
    "    # Compute resize dimensions such that aspect ratio is maintained\n",
    "    height_fac = CROP_SIZE / img_height\n",
    "    size = (int(img_width * height_fac), CROP_SIZE)\n",
    "\n",
    "    # Resize image \n",
    "    new_img = img.resize((size), Image.ANTIALIAS)\n",
    "    new_img_width = new_img.size[0]\n",
    "    new_img_height = new_img.size[1]\n",
    "\n",
    "    # Generate a random number of crops of size 113x113 from the resized image\n",
    "    x_coord = list(range(0, new_img_width - CROP_SIZE))\n",
    "    num_crops = int(len(x_coord) * sample_ratio)\n",
    "    random_x_coord = random.sample(x_coord, num_crops)\n",
    "    \n",
    "    # Create augmented images (cropped forms) and map them to a label (writer)\n",
    "    images = []\n",
    "    labels = []\n",
    "    for x in random_x_coord:\n",
    "        img_crop = new_img.crop((x, 0, x + CROP_SIZE, CROP_SIZE))\n",
    "        # Transform image to an array of numbers\n",
    "        images.append(np.asarray(img_crop))\n",
    "        labels.append(label)\n",
    "\n",
    "    return images, labels"
   ]
  },
  {
   "cell_type": "code",
   "execution_count": 127,
   "id": "55dc6891",
   "metadata": {
    "id": "55dc6891"
   },
   "outputs": [],
   "source": [
    "def augment(data, labels):\n",
    "    augmented_sample_list = []\n",
    "    augmented_label_list = []\n",
    "    for i in range(len(data)):\n",
    "        augmented_samples, augmented_labels = get_augmented_sample(data[i], labels[i],0.1)\n",
    "        augmented_sample_list.append(augmented_samples)\n",
    "        augmented_label_list.append(augmented_labels)\n",
    "    return augmented_sample_list, augmented_label_list"
   ]
  },
  {
   "cell_type": "code",
   "execution_count": 128,
   "id": "664668a5",
   "metadata": {
    "id": "664668a5"
   },
   "outputs": [],
   "source": [
    "augsamps, auglbls = augment(X_train, y_train) # returns two lists of arrays\n",
    "augsamps_test, auglbls_test = augment(X_test, y_test)\n",
    "# augsamps_val, auglbls_val = augment(X_val, y_val)"
   ]
  },
  {
   "cell_type": "code",
   "execution_count": 129,
   "id": "2f35824a",
   "metadata": {
    "colab": {
     "base_uri": "https://localhost:8080/"
    },
    "id": "2f35824a",
    "outputId": "755719bc-93c3-463d-d7db-90420b109284"
   },
   "outputs": [
    {
     "name": "stdout",
     "output_type": "stream",
     "text": [
      "45085\n",
      "45085\n",
      "22702\n",
      "22702\n"
     ]
    }
   ],
   "source": [
    "import operator\n",
    "from functools import reduce\n",
    "\n",
    "# flattening the lists\n",
    "aug_samps = reduce(operator.add, augsamps)\n",
    "aug_lbls = reduce(operator.add, auglbls)\n",
    "\n",
    "aug_samps_test = reduce(operator.add, augsamps_test)\n",
    "aug_lbls_test = reduce(operator.add, auglbls_test)\n",
    "\n",
    "# aug_samps_val = reduce(operator.add, augsamps_val)\n",
    "# aug_lbls_val = reduce(operator.add, auglbls_val)\n",
    "\n",
    "print(len(aug_samps))\n",
    "print(len(aug_lbls))\n",
    "\n",
    "print(len(aug_samps_test))\n",
    "print(len(aug_lbls_test))\n",
    "\n",
    "# print(len(aug_samps_val))\n",
    "# print(len(aug_lbls_val))"
   ]
  },
  {
   "cell_type": "code",
   "execution_count": 130,
   "id": "967237ec",
   "metadata": {
    "colab": {
     "base_uri": "https://localhost:8080/"
    },
    "id": "967237ec",
    "outputId": "15dcd6bd-71cc-4f38-b07c-363b8c0380a2"
   },
   "outputs": [
    {
     "name": "stdout",
     "output_type": "stream",
     "text": [
      "(45085, 113, 113)\n",
      "(45085,)\n",
      "(22702, 113, 113)\n",
      "(22702,)\n"
     ]
    }
   ],
   "source": [
    "# converting lists to arrays\n",
    "aug_samps_arr = np.array(aug_samps)\n",
    "aug_lbls_arr = np.array(aug_lbls)\n",
    "aug_samps_arr_test = np.array(aug_samps_test)\n",
    "aug_lbls_arr_test = np.array(aug_lbls_test)\n",
    "# aug_samps_arr_val = np.array(aug_samps_val)\n",
    "# aug_lbls_arr_val = np.array(aug_lbls_val)\n",
    "\n",
    "print(aug_samps_arr.shape)\n",
    "print(aug_lbls_arr.shape)\n",
    "print(aug_samps_arr_test.shape)\n",
    "print(aug_lbls_arr_test.shape)\n",
    "# print(aug_samps_arr_val.shape)\n",
    "# print(aug_lbls_arr_val.shape)"
   ]
  },
  {
   "cell_type": "code",
   "execution_count": 131,
   "id": "0mNPPupPKTTY",
   "metadata": {
    "id": "0mNPPupPKTTY"
   },
   "outputs": [],
   "source": [
    "def transform_data_aug_samps(data):\n",
    "  data = data.reshape(data.shape[0], 1, CROP_SIZE, CROP_SIZE)\n",
    "  data = data.astype('float16')\n",
    "  data /= 255.0\n",
    "  return data"
   ]
  },
  {
   "cell_type": "code",
   "execution_count": 132,
   "id": "GkrDuw_eLcLp",
   "metadata": {
    "id": "GkrDuw_eLcLp"
   },
   "outputs": [],
   "source": [
    "X_train = transform_data_aug_samps(aug_samps_arr)\n",
    "# X_val = transform_data_aug_samps(aug_samps_arr_val)\n",
    "X_test = transform_data_aug_samps(aug_samps_arr_test)"
   ]
  },
  {
   "cell_type": "code",
   "execution_count": 133,
   "id": "ejqTLyaUKyVO",
   "metadata": {
    "id": "ejqTLyaUKyVO"
   },
   "outputs": [],
   "source": [
    "def convert_y_labels(labels):\n",
    "  new = np.unique(labels)\n",
    "  print(new)\n",
    "\n",
    "  labels[labels !='000'] = 1\n",
    "  new = np.unique(labels)\n",
    "  print(new)\n",
    "\n",
    "  labels[labels=='000'] = 0\n",
    "  new = np.unique(labels)\n",
    "  print(new)\n",
    "\n",
    "  print(labels.shape)\n",
    "\n",
    "  labels = labels.astype('float16')\n",
    "\n",
    "  print(np.unique(labels))\n",
    "  return labels"
   ]
  },
  {
   "cell_type": "code",
   "execution_count": 134,
   "id": "dN_qCMmDMRW2",
   "metadata": {
    "colab": {
     "base_uri": "https://localhost:8080/"
    },
    "id": "dN_qCMmDMRW2",
    "outputId": "aff74fed-a314-4030-c8d1-b98f584e3894"
   },
   "outputs": [
    {
     "name": "stdout",
     "output_type": "stream",
     "text": [
      "['000' '085' '150' '151' '152' '153' '155' '202' '203' '204' '206' '209'\n",
      " '247' '248' '273' '274' '332' '333' '334' '335' '336' '338' '339' '340'\n",
      " '342' '345' '346' '347' '348' '384' '415' '567' '634' '635' '670' '671']\n",
      "['000' '1']\n",
      "['0' '1']\n",
      "(45085,)\n",
      "[0. 1.]\n",
      "['000' '118' '150' '152' '155' '202' '203' '204' '206' '207' '247' '248'\n",
      " '273' '274' '332' '334' '336' '338' '339' '340' '342' '345' '348' '384'\n",
      " '415' '567' '634']\n",
      "['000' '1']\n",
      "['0' '1']\n",
      "(22702,)\n",
      "[0. 1.]\n"
     ]
    }
   ],
   "source": [
    "y_train = convert_y_labels(aug_lbls_arr)\n",
    "y_test = convert_y_labels(aug_lbls_arr_test)\n",
    "# y_val = convert_y_labels(aug_lbls_arr_val)"
   ]
  },
  {
   "cell_type": "code",
   "execution_count": 135,
   "id": "e7d2904a",
   "metadata": {
    "colab": {
     "base_uri": "https://localhost:8080/"
    },
    "id": "e7d2904a",
    "outputId": "ccc1d093-3abe-4a91-ad2e-d20d5e48c7a6"
   },
   "outputs": [
    {
     "name": "stdout",
     "output_type": "stream",
     "text": [
      "(45085, 1, 113, 113)\n",
      "(45085,)\n",
      "(22702, 1, 113, 113)\n",
      "(22702,)\n"
     ]
    }
   ],
   "source": [
    "print(X_train.shape)\n",
    "print(y_train.shape)\n",
    "print(X_test.shape)\n",
    "print(y_test.shape)\n",
    "# print(X_val.shape)\n",
    "# print(y_val.shape)"
   ]
  },
  {
   "cell_type": "code",
   "execution_count": 136,
   "id": "g1wfoJoZqOOb",
   "metadata": {
    "colab": {
     "base_uri": "https://localhost:8080/"
    },
    "id": "g1wfoJoZqOOb",
    "outputId": "1cb0bc43-28da-4b88-8ddc-95ba580dd560"
   },
   "outputs": [
    {
     "data": {
      "text/plain": [
       "device(type='cuda')"
      ]
     },
     "execution_count": 136,
     "metadata": {},
     "output_type": "execute_result"
    }
   ],
   "source": [
    "torch.manual_seed(42)\n",
    "CUDA = True\n",
    "device = torch.device('cuda' if CUDA else 'cpu')\n",
    "kwargs = {'num_workers': 1, 'pin_memory': True} if CUDA else {}\n",
    "device"
   ]
  },
  {
   "cell_type": "code",
   "execution_count": 137,
   "id": "09217c4b",
   "metadata": {
    "id": "09217c4b"
   },
   "outputs": [],
   "source": [
    "from torch.utils.data import TensorDataset, DataLoader\n",
    "\n",
    "\n",
    "tensor_x_train = torch.Tensor(X_train).type(torch.cuda.FloatTensor) # transform to torch tensor\n",
    "tensor_y_train = torch.Tensor(y_train).type(torch.cuda.FloatTensor).long()\n",
    "\n",
    "\n",
    "\n",
    "# tensor_x_train = torch.Tensor(X_train) # transform to torch tensor\n",
    "# tensor_y_train = torch.Tensor(y_train).long()\n",
    "\n",
    "train_dataset = TensorDataset(tensor_x_train,tensor_y_train) # create your datset\n",
    "train_dataloader = DataLoader(train_dataset,batch_size=16, shuffle=True, drop_last=True) # create your dataloader"
   ]
  },
  {
   "cell_type": "code",
   "execution_count": 138,
   "id": "DNDz-ofrfkNC",
   "metadata": {
    "id": "DNDz-ofrfkNC"
   },
   "outputs": [],
   "source": [
    "# tensor_x_val = torch.Tensor(X_val).type(torch.cuda.FloatTensor) # transform to torch tensor\n",
    "# tensor_y_val = torch.Tensor(y_val).type(torch.cuda.FloatTensor).long()\n",
    "# # tensor_x_train = torch.Tensor(X_train) # transform to torch tensor\n",
    "# # tensor_y_train = torch.Tensor(y_train).long()\n",
    "\n",
    "# val_dataset = TensorDataset(tensor_x_val,tensor_y_val) # create your datset\n",
    "# val_dataloader = DataLoader(val_dataset,batch_size=16, shuffle=True, drop_last=True) # create your dataloader"
   ]
  },
  {
   "cell_type": "code",
   "execution_count": 139,
   "id": "c120a864",
   "metadata": {
    "id": "c120a864"
   },
   "outputs": [],
   "source": [
    "tensor_x_test = torch.Tensor(X_test).type(torch.cuda.FloatTensor) # transform to torch tensor\n",
    "tensor_y_test = torch.Tensor(y_test).long().type(torch.cuda.FloatTensor).long()\n",
    "\n",
    "# tensor_x_test = torch.Tensor(X_test) # transform to torch tensor\n",
    "# tensor_y_test = torch.Tensor(y_test).long()\n",
    "\n",
    "test_dataset = TensorDataset(tensor_x_test,tensor_y_test) # create your datset\n",
    "test_dataloader = DataLoader(test_dataset, batch_size=16, shuffle=False, drop_last=True) # create your dataloader"
   ]
  },
  {
   "cell_type": "code",
   "execution_count": 140,
   "id": "HOXYkXWgCKt7",
   "metadata": {
    "colab": {
     "base_uri": "https://localhost:8080/"
    },
    "id": "HOXYkXWgCKt7",
    "outputId": "2f3bf873-cc57-453c-da8a-d04b0efdf18a"
   },
   "outputs": [
    {
     "data": {
      "text/plain": [
       "torch.Size([45085, 1, 113, 113])"
      ]
     },
     "execution_count": 140,
     "metadata": {},
     "output_type": "execute_result"
    }
   ],
   "source": [
    "tensor_x_train.shape"
   ]
  },
  {
   "cell_type": "code",
   "execution_count": 141,
   "id": "63b0ecba",
   "metadata": {
    "id": "63b0ecba"
   },
   "outputs": [],
   "source": [
    "# import torch\n",
    "from torch import nn\n",
    "class Binary_Classifier(nn.Module): \n",
    "    def __init__(self):\n",
    "        super(Binary_Classifier, self).__init__()\n",
    "        self.conv1 = nn.Conv2d(in_channels=1, out_channels=10, kernel_size=3)\n",
    "        self.conv2 = nn.Conv2d(10, 20, kernel_size=3)\n",
    "        self.conv_drop = nn.Dropout2d()\n",
    "        self.conv3 = nn.Conv2d(20, 30, kernel_size=3)\n",
    "        self.fc1 = nn.Linear(4320, 1024)\n",
    "        self.fc2 = nn.Linear(1024, 2)\n",
    "        self.relu = nn.ReLU()\n",
    "        self.max_pool2d = nn.MaxPool2d(2)\n",
    "    def forward(self, x):\n",
    "        x = self.relu(self.max_pool2d(self.conv1(x)))\n",
    "        x = self.relu(self.max_pool2d(self.conv_drop(self.conv2(x))))\n",
    "        x = self.relu(self.max_pool2d(self.conv_drop(self.conv3(x))))\n",
    "        x = x.view(x.shape[0],-1)\n",
    "        # print(x.shape)\n",
    "        x = self.relu(self.fc1(x))\n",
    "        x = self.conv_drop(x)\n",
    "        x = self.fc2(x)\n",
    "        return x"
   ]
  },
  {
   "cell_type": "code",
   "execution_count": 142,
   "id": "29d5c074",
   "metadata": {
    "id": "29d5c074"
   },
   "outputs": [],
   "source": [
    "model=Binary_Classifier().to(device)\n",
    "criterion = nn.CrossEntropyLoss()\n",
    "optimizer = torch.optim.Adam(model.parameters(),lr = 0.0001)\n",
    "\n",
    "# import torch.optim.lr_scheduler.StepLR\n",
    "# scheduler = torch.optim.lr_scheduler.StepLR(optimizer, step_size=1, gamma=0.1)\n"
   ]
  },
  {
   "cell_type": "code",
   "execution_count": 143,
   "id": "qnFjmaPqPwzH",
   "metadata": {
    "colab": {
     "base_uri": "https://localhost:8080/"
    },
    "id": "qnFjmaPqPwzH",
    "outputId": "264325d2-15a6-4876-af61-97cc2502a149"
   },
   "outputs": [
    {
     "name": "stdout",
     "output_type": "stream",
     "text": [
      "Loading checkpoint: /content/drive/MyDrive/testing_proj/iam_dataset/saved_model/model_3_convs.pt\n"
     ]
    }
   ],
   "source": [
    "if os.path.exists(save_path+'/model_3_convs.pt'):\n",
    "    print('Loading checkpoint: %s' % save_path +'/model_3_convs.pt')\n",
    "    path = torch.load(save_path +'/model_3_convs.pt', map_location=torch.device(device))\n",
    "    epoch = path['epoch']\n",
    "    model.load_state_dict(path['model'])\n",
    "    optimizer.load_state_dict(path['optimizer'])\n",
    "else:\n",
    "    print(\"nothing happened\")"
   ]
  },
  {
   "cell_type": "code",
   "execution_count": 144,
   "id": "z44prhBFQA76",
   "metadata": {
    "colab": {
     "base_uri": "https://localhost:8080/"
    },
    "id": "z44prhBFQA76",
    "outputId": "60378dde-6b9a-4d2b-fe05-0f75ccee9379"
   },
   "outputs": [
    {
     "name": "stdout",
     "output_type": "stream",
     "text": [
      "<bound method Module.parameters of Binary_Classifier(\n",
      "  (conv1): Conv2d(1, 10, kernel_size=(3, 3), stride=(1, 1))\n",
      "  (conv2): Conv2d(10, 20, kernel_size=(3, 3), stride=(1, 1))\n",
      "  (conv_drop): Dropout2d(p=0.5, inplace=False)\n",
      "  (conv3): Conv2d(20, 30, kernel_size=(3, 3), stride=(1, 1))\n",
      "  (fc1): Linear(in_features=4320, out_features=1024, bias=True)\n",
      "  (fc2): Linear(in_features=1024, out_features=2, bias=True)\n",
      "  (relu): ReLU()\n",
      "  (max_pool2d): MaxPool2d(kernel_size=2, stride=2, padding=0, dilation=1, ceil_mode=False)\n",
      ")>\n"
     ]
    }
   ],
   "source": [
    "print(model.parameters)"
   ]
  },
  {
   "cell_type": "code",
   "execution_count": 145,
   "id": "7-4DlQ4LPeRi",
   "metadata": {
    "colab": {
     "base_uri": "https://localhost:8080/"
    },
    "id": "7-4DlQ4LPeRi",
    "outputId": "f0cdb9a7-021a-4ffa-88c2-3a02586961b1"
   },
   "outputs": [
    {
     "name": "stdout",
     "output_type": "stream",
     "text": [
      "cuda\n"
     ]
    }
   ],
   "source": [
    "print(device)"
   ]
  },
  {
   "cell_type": "code",
   "execution_count": 146,
   "id": "PMiXAng53sex",
   "metadata": {
    "id": "PMiXAng53sex"
   },
   "outputs": [],
   "source": [
    "if fc or conv:\n",
    "  for param in model.parameters():\n",
    "    param.requires_grad = False"
   ]
  },
  {
   "cell_type": "code",
   "execution_count": 147,
   "id": "HGx21fjR6B_f",
   "metadata": {
    "id": "HGx21fjR6B_f"
   },
   "outputs": [],
   "source": [
    "if conv:\n",
    "  for param in model.conv3.parameters():\n",
    "    param.requires_grad = True"
   ]
  },
  {
   "cell_type": "code",
   "execution_count": 148,
   "id": "2lmEG2ye4SZ6",
   "metadata": {
    "id": "2lmEG2ye4SZ6"
   },
   "outputs": [],
   "source": [
    "if fc or conv:\n",
    "  num_ftrs = model.fc2.in_features\n",
    "  print(num_ftrs)\n",
    "  model.fc2 = nn.Linear(num_ftrs, 2).to(device)"
   ]
  },
  {
   "cell_type": "code",
   "execution_count": 149,
   "id": "pi7rS_fwRaTj",
   "metadata": {
    "colab": {
     "base_uri": "https://localhost:8080/"
    },
    "id": "pi7rS_fwRaTj",
    "outputId": "a1968ff2-6ee1-4cf2-d79a-b464ac3cf264"
   },
   "outputs": [
    {
     "name": "stdout",
     "output_type": "stream",
     "text": [
      "True\n",
      "True\n",
      "True\n",
      "True\n",
      "True\n",
      "True\n",
      "True\n",
      "True\n",
      "True\n",
      "True\n"
     ]
    }
   ],
   "source": [
    "for param in model.parameters():\n",
    "  print(param.requires_grad)"
   ]
  },
  {
   "cell_type": "code",
   "execution_count": 150,
   "id": "YfJB3VyygdBU",
   "metadata": {
    "id": "YfJB3VyygdBU"
   },
   "outputs": [],
   "source": [
    "train_losses = []\n",
    "train_loss_record = []"
   ]
  },
  {
   "cell_type": "code",
   "execution_count": 151,
   "id": "1olHEZqhudxC",
   "metadata": {
    "id": "1olHEZqhudxC"
   },
   "outputs": [],
   "source": [
    "from datetime import datetime\n",
    "train_log_string = '%s :: Epoch %i :: Iter %i / %i :: train loss: %0.4f'\n",
    "def train(epoch):\n",
    "    print('Start Epoch {} Training...'.format(epoch))\n",
    "    model.train()\n",
    "    train_loss = []\n",
    "    train_loss_sum = []\n",
    "    for idx, (data, target) in enumerate(train_dataloader):\n",
    "        optimizer.zero_grad()\n",
    "        #  forward-pass\n",
    "        output = model(data)\n",
    "        loss = criterion(output, target)\n",
    "        #backward-pass\n",
    "        loss.backward()\n",
    "        # Update the parameters\n",
    "        optimizer.step()\n",
    "        train_loss.append(loss.data.cpu().numpy())\n",
    "        train_loss_sum.append(loss)\n",
    "        if ((idx +1) % 5000) == 0:\n",
    "          print(train_log_string % (datetime.now(), epoch, idx + 1, len(train_dataloader), np.mean(train_loss)))\n",
    "          train_loss = []\n",
    "    mean_tr = torch.mean(torch.stack(train_loss_sum))\n",
    "    print('Train Loss at epoch {}: {}\\n'.format(epoch, mean_tr))\n",
    "    train_loss_record.append(mean_tr)\n",
    "    return train_loss_record"
   ]
  },
  {
   "cell_type": "code",
   "execution_count": 152,
   "id": "Ba6w34bjtN9v",
   "metadata": {
    "id": "Ba6w34bjtN9v"
   },
   "outputs": [],
   "source": [
    "if fc or conv:\n",
    "  for epoch in range(15):\n",
    "      tlr = train(epoch)"
   ]
  },
  {
   "cell_type": "code",
   "execution_count": 153,
   "id": "8UD3CqceSgPs",
   "metadata": {
    "id": "8UD3CqceSgPs"
   },
   "outputs": [],
   "source": [
    "import matplotlib.pyplot as plt\n",
    "if fc or conv:\n",
    "  temp = [t.detach().cpu().numpy() for t in tlr]\n",
    "  arr = np.array(temp)\n",
    "  print(arr.shape)\n",
    "\n",
    "  plt.plot(arr)"
   ]
  },
  {
   "cell_type": "code",
   "execution_count": 154,
   "id": "f9E2tf0EQy2K",
   "metadata": {
    "id": "f9E2tf0EQy2K"
   },
   "outputs": [],
   "source": [
    "if save_model:\n",
    "  state_dict = {\n",
    "      'epoch': epoch,\n",
    "      'model': model.state_dict(),\n",
    "      'optimizer': optimizer.state_dict(),\n",
    "  }\n",
    "  if fc:\n",
    "    torch.save(state_dict, save_path+'/model_3_convs_node5_fc.pt')\n",
    "    print('Model saved!\\n')\n",
    "  elif conv:\n",
    "    torch.save(state_dict, save_path+'/model_3_convs_node5_conv.pt')\n",
    "    print('Model saved!\\n')\n",
    "  else:\n",
    "    print(\"set fc/conv\")"
   ]
  },
  {
   "cell_type": "code",
   "execution_count": 155,
   "id": "UElBlZoYQnpp",
   "metadata": {
    "colab": {
     "base_uri": "https://localhost:8080/"
    },
    "id": "UElBlZoYQnpp",
    "outputId": "d0dc8ec8-6bee-4004-dab2-f1be7e6f5549"
   },
   "outputs": [
    {
     "name": "stdout",
     "output_type": "stream",
     "text": [
      "(1418, 16, 2) (1418, 16)\n"
     ]
    }
   ],
   "source": [
    "result = []\n",
    "prediction = []\n",
    "model.eval()\n",
    "with torch.no_grad():\n",
    "    for idx, (data, target) in enumerate(test_dataloader):\n",
    "        output = model(data)\n",
    "        output_sm = nn.Softmax(dim=1)(output)\n",
    "        _, predicted = torch.max(output, 1)\n",
    "        prediction.append(predicted)\n",
    "        result.append(output_sm)\n",
    "        \n",
    "result = torch.stack(result).detach().cpu().numpy()\n",
    "prediction = torch.stack(prediction).detach().cpu().numpy()\n",
    "\n",
    "print(result.shape, prediction.shape)"
   ]
  },
  {
   "cell_type": "code",
   "execution_count": 156,
   "id": "Hs1Q0JC2xKjs",
   "metadata": {
    "colab": {
     "base_uri": "https://localhost:8080/"
    },
    "id": "Hs1Q0JC2xKjs",
    "outputId": "f92a6022-a74d-4ff6-e9a7-8c83d5e195ea"
   },
   "outputs": [
    {
     "name": "stdout",
     "output_type": "stream",
     "text": [
      "(22688,)\n"
     ]
    }
   ],
   "source": [
    "print(prediction.reshape(-1).shape)"
   ]
  },
  {
   "cell_type": "code",
   "execution_count": 157,
   "id": "dCcQqc-VsfnE",
   "metadata": {
    "id": "dCcQqc-VsfnE"
   },
   "outputs": [],
   "source": [
    "import pandas as pd\n",
    "res = pd.DataFrame(result.reshape(-1,2))\n",
    "pred = pd.DataFrame(prediction.reshape(-1))\n",
    "\n",
    "# res.to_csv(\"/content/drive/MyDrive/iam_dataset/saved_model/results_imbal_2_conv_3_transf_conv.csv\", header=False, index=False)\n",
    "# pred.to_csv(\"/content/drive/MyDrive/iam_dataset/saved_model/pred_imbal_2_conv_3_transf_conv.csv\", header=False, index=False)"
   ]
  },
  {
   "cell_type": "code",
   "execution_count": 158,
   "id": "sGZJv2Di1QSz",
   "metadata": {
    "colab": {
     "base_uri": "https://localhost:8080/"
    },
    "id": "sGZJv2Di1QSz",
    "outputId": "12d57fda-fcc2-45f2-e6bd-5b0b495d5468"
   },
   "outputs": [
    {
     "name": "stdout",
     "output_type": "stream",
     "text": [
      "(22688, 2) (22688, 1)\n"
     ]
    }
   ],
   "source": [
    "print(res.shape, pred.shape)"
   ]
  },
  {
   "cell_type": "code",
   "execution_count": 159,
   "id": "iRodoZGT0iIY",
   "metadata": {
    "id": "iRodoZGT0iIY"
   },
   "outputs": [],
   "source": [
    "y_test_new = y_test[:result.reshape(-1,2).shape[0]]"
   ]
  },
  {
   "cell_type": "code",
   "execution_count": 160,
   "id": "rgdEBEj41lsO",
   "metadata": {
    "colab": {
     "base_uri": "https://localhost:8080/"
    },
    "id": "rgdEBEj41lsO",
    "outputId": "e0365f06-2387-4992-e9d1-d29aa2cbc6e6"
   },
   "outputs": [
    {
     "name": "stdout",
     "output_type": "stream",
     "text": [
      "(22688,)\n"
     ]
    }
   ],
   "source": [
    "print(y_test_new.shape)"
   ]
  },
  {
   "cell_type": "code",
   "execution_count": 161,
   "id": "iaJkMnicswF_",
   "metadata": {
    "colab": {
     "base_uri": "https://localhost:8080/",
     "height": 423
    },
    "id": "iaJkMnicswF_",
    "outputId": "60c2ef88-7d36-4461-b796-db4c900ebbb3"
   },
   "outputs": [
    {
     "data": {
      "text/html": [
       "\n",
       "  <div id=\"df-2951fcaa-75b5-4dfe-86c9-31eaab2470fa\">\n",
       "    <div class=\"colab-df-container\">\n",
       "      <div>\n",
       "<style scoped>\n",
       "    .dataframe tbody tr th:only-of-type {\n",
       "        vertical-align: middle;\n",
       "    }\n",
       "\n",
       "    .dataframe tbody tr th {\n",
       "        vertical-align: top;\n",
       "    }\n",
       "\n",
       "    .dataframe thead th {\n",
       "        text-align: right;\n",
       "    }\n",
       "</style>\n",
       "<table border=\"1\" class=\"dataframe\">\n",
       "  <thead>\n",
       "    <tr style=\"text-align: right;\">\n",
       "      <th></th>\n",
       "      <th>ground truth</th>\n",
       "      <th>NN output</th>\n",
       "      <th>probs 0</th>\n",
       "      <th>probs 1</th>\n",
       "    </tr>\n",
       "  </thead>\n",
       "  <tbody>\n",
       "    <tr>\n",
       "      <th>0</th>\n",
       "      <td>1.0</td>\n",
       "      <td>1</td>\n",
       "      <td>0.000503</td>\n",
       "      <td>0.999497</td>\n",
       "    </tr>\n",
       "    <tr>\n",
       "      <th>1</th>\n",
       "      <td>1.0</td>\n",
       "      <td>1</td>\n",
       "      <td>0.004952</td>\n",
       "      <td>0.995048</td>\n",
       "    </tr>\n",
       "    <tr>\n",
       "      <th>2</th>\n",
       "      <td>1.0</td>\n",
       "      <td>1</td>\n",
       "      <td>0.000013</td>\n",
       "      <td>0.999987</td>\n",
       "    </tr>\n",
       "    <tr>\n",
       "      <th>3</th>\n",
       "      <td>1.0</td>\n",
       "      <td>1</td>\n",
       "      <td>0.003147</td>\n",
       "      <td>0.996853</td>\n",
       "    </tr>\n",
       "    <tr>\n",
       "      <th>4</th>\n",
       "      <td>1.0</td>\n",
       "      <td>1</td>\n",
       "      <td>0.001639</td>\n",
       "      <td>0.998361</td>\n",
       "    </tr>\n",
       "    <tr>\n",
       "      <th>...</th>\n",
       "      <td>...</td>\n",
       "      <td>...</td>\n",
       "      <td>...</td>\n",
       "      <td>...</td>\n",
       "    </tr>\n",
       "    <tr>\n",
       "      <th>22683</th>\n",
       "      <td>0.0</td>\n",
       "      <td>0</td>\n",
       "      <td>0.993198</td>\n",
       "      <td>0.006802</td>\n",
       "    </tr>\n",
       "    <tr>\n",
       "      <th>22684</th>\n",
       "      <td>0.0</td>\n",
       "      <td>0</td>\n",
       "      <td>0.999766</td>\n",
       "      <td>0.000234</td>\n",
       "    </tr>\n",
       "    <tr>\n",
       "      <th>22685</th>\n",
       "      <td>0.0</td>\n",
       "      <td>0</td>\n",
       "      <td>0.993604</td>\n",
       "      <td>0.006396</td>\n",
       "    </tr>\n",
       "    <tr>\n",
       "      <th>22686</th>\n",
       "      <td>0.0</td>\n",
       "      <td>0</td>\n",
       "      <td>0.984172</td>\n",
       "      <td>0.015828</td>\n",
       "    </tr>\n",
       "    <tr>\n",
       "      <th>22687</th>\n",
       "      <td>0.0</td>\n",
       "      <td>0</td>\n",
       "      <td>0.998583</td>\n",
       "      <td>0.001417</td>\n",
       "    </tr>\n",
       "  </tbody>\n",
       "</table>\n",
       "<p>22688 rows × 4 columns</p>\n",
       "</div>\n",
       "      <button class=\"colab-df-convert\" onclick=\"convertToInteractive('df-2951fcaa-75b5-4dfe-86c9-31eaab2470fa')\"\n",
       "              title=\"Convert this dataframe to an interactive table.\"\n",
       "              style=\"display:none;\">\n",
       "        \n",
       "  <svg xmlns=\"http://www.w3.org/2000/svg\" height=\"24px\"viewBox=\"0 0 24 24\"\n",
       "       width=\"24px\">\n",
       "    <path d=\"M0 0h24v24H0V0z\" fill=\"none\"/>\n",
       "    <path d=\"M18.56 5.44l.94 2.06.94-2.06 2.06-.94-2.06-.94-.94-2.06-.94 2.06-2.06.94zm-11 1L8.5 8.5l.94-2.06 2.06-.94-2.06-.94L8.5 2.5l-.94 2.06-2.06.94zm10 10l.94 2.06.94-2.06 2.06-.94-2.06-.94-.94-2.06-.94 2.06-2.06.94z\"/><path d=\"M17.41 7.96l-1.37-1.37c-.4-.4-.92-.59-1.43-.59-.52 0-1.04.2-1.43.59L10.3 9.45l-7.72 7.72c-.78.78-.78 2.05 0 2.83L4 21.41c.39.39.9.59 1.41.59.51 0 1.02-.2 1.41-.59l7.78-7.78 2.81-2.81c.8-.78.8-2.07 0-2.86zM5.41 20L4 18.59l7.72-7.72 1.47 1.35L5.41 20z\"/>\n",
       "  </svg>\n",
       "      </button>\n",
       "      \n",
       "  <style>\n",
       "    .colab-df-container {\n",
       "      display:flex;\n",
       "      flex-wrap:wrap;\n",
       "      gap: 12px;\n",
       "    }\n",
       "\n",
       "    .colab-df-convert {\n",
       "      background-color: #E8F0FE;\n",
       "      border: none;\n",
       "      border-radius: 50%;\n",
       "      cursor: pointer;\n",
       "      display: none;\n",
       "      fill: #1967D2;\n",
       "      height: 32px;\n",
       "      padding: 0 0 0 0;\n",
       "      width: 32px;\n",
       "    }\n",
       "\n",
       "    .colab-df-convert:hover {\n",
       "      background-color: #E2EBFA;\n",
       "      box-shadow: 0px 1px 2px rgba(60, 64, 67, 0.3), 0px 1px 3px 1px rgba(60, 64, 67, 0.15);\n",
       "      fill: #174EA6;\n",
       "    }\n",
       "\n",
       "    [theme=dark] .colab-df-convert {\n",
       "      background-color: #3B4455;\n",
       "      fill: #D2E3FC;\n",
       "    }\n",
       "\n",
       "    [theme=dark] .colab-df-convert:hover {\n",
       "      background-color: #434B5C;\n",
       "      box-shadow: 0px 1px 3px 1px rgba(0, 0, 0, 0.15);\n",
       "      filter: drop-shadow(0px 1px 2px rgba(0, 0, 0, 0.3));\n",
       "      fill: #FFFFFF;\n",
       "    }\n",
       "  </style>\n",
       "\n",
       "      <script>\n",
       "        const buttonEl =\n",
       "          document.querySelector('#df-2951fcaa-75b5-4dfe-86c9-31eaab2470fa button.colab-df-convert');\n",
       "        buttonEl.style.display =\n",
       "          google.colab.kernel.accessAllowed ? 'block' : 'none';\n",
       "\n",
       "        async function convertToInteractive(key) {\n",
       "          const element = document.querySelector('#df-2951fcaa-75b5-4dfe-86c9-31eaab2470fa');\n",
       "          const dataTable =\n",
       "            await google.colab.kernel.invokeFunction('convertToInteractive',\n",
       "                                                     [key], {});\n",
       "          if (!dataTable) return;\n",
       "\n",
       "          const docLinkHtml = 'Like what you see? Visit the ' +\n",
       "            '<a target=\"_blank\" href=https://colab.research.google.com/notebooks/data_table.ipynb>data table notebook</a>'\n",
       "            + ' to learn more about interactive tables.';\n",
       "          element.innerHTML = '';\n",
       "          dataTable['output_type'] = 'display_data';\n",
       "          await google.colab.output.renderOutput(dataTable, element);\n",
       "          const docLink = document.createElement('div');\n",
       "          docLink.innerHTML = docLinkHtml;\n",
       "          element.appendChild(docLink);\n",
       "        }\n",
       "      </script>\n",
       "    </div>\n",
       "  </div>\n",
       "  "
      ],
      "text/plain": [
       "       ground truth  NN output   probs 0   probs 1\n",
       "0               1.0          1  0.000503  0.999497\n",
       "1               1.0          1  0.004952  0.995048\n",
       "2               1.0          1  0.000013  0.999987\n",
       "3               1.0          1  0.003147  0.996853\n",
       "4               1.0          1  0.001639  0.998361\n",
       "...             ...        ...       ...       ...\n",
       "22683           0.0          0  0.993198  0.006802\n",
       "22684           0.0          0  0.999766  0.000234\n",
       "22685           0.0          0  0.993604  0.006396\n",
       "22686           0.0          0  0.984172  0.015828\n",
       "22687           0.0          0  0.998583  0.001417\n",
       "\n",
       "[22688 rows x 4 columns]"
      ]
     },
     "execution_count": 161,
     "metadata": {},
     "output_type": "execute_result"
    }
   ],
   "source": [
    "result_df = pd.DataFrame({'ground truth': y_test_new, 'NN output': prediction.reshape(-1), 'probs 0': res[0], 'probs 1': res[1]})\n",
    "result_df"
   ]
  },
  {
   "cell_type": "code",
   "execution_count": 162,
   "id": "COaorBTG-iwa",
   "metadata": {
    "colab": {
     "base_uri": "https://localhost:8080/"
    },
    "id": "COaorBTG-iwa",
    "outputId": "f57e9342-f121-4646-9b34-3654c267094f"
   },
   "outputs": [
    {
     "name": "stdout",
     "output_type": "stream",
     "text": [
      "Confusion matrix : \n",
      " [[14053   349]\n",
      " [ 1190  7096]]\n",
      "Outcome values : \n",
      " 14053 349 1190 7096\n",
      "Classification report : \n",
      "               precision    recall  f1-score   support\n",
      "\n",
      "           0       0.92      0.98      0.95     14402\n",
      "           1       0.95      0.86      0.90      8286\n",
      "\n",
      "    accuracy                           0.93     22688\n",
      "   macro avg       0.94      0.92      0.93     22688\n",
      "weighted avg       0.93      0.93      0.93     22688\n",
      "\n"
     ]
    }
   ],
   "source": [
    "# work out the accuracy and other metrics\n",
    "from sklearn.metrics import confusion_matrix\n",
    "from sklearn.metrics import classification_report\n",
    "actual = result_df['ground truth']\n",
    "predicted = result_df['NN output']\n",
    "# confusion matrix\n",
    "matrix = confusion_matrix(actual, predicted, labels=[0,1])\n",
    "print('Confusion matrix : \\n',matrix)\n",
    "\n",
    "# outcome values order in sklearn\n",
    "tn, fp, fn, tp = confusion_matrix(actual, predicted, labels=[0,1]).reshape(-1)\n",
    "print('Outcome values : \\n', tn, fp, fn, tp)\n",
    "\n",
    "# tn, fp, fn, tp\n",
    "\n",
    "# classification report for precision, recall f1-score and accuracy\n",
    "matrix_2 = classification_report(actual,predicted,labels=[0,1])\n",
    "print('Classification report : \\n',matrix_2)"
   ]
  },
  {
   "cell_type": "code",
   "execution_count": 163,
   "id": "7Rp6mAJJU2xK",
   "metadata": {
    "colab": {
     "base_uri": "https://localhost:8080/",
     "height": 449
    },
    "id": "7Rp6mAJJU2xK",
    "outputId": "6c983706-ba2a-4a70-ebb7-4fb4b0a81359"
   },
   "outputs": [
    {
     "data": {
      "text/plain": [
       "<matplotlib.axes._subplots.AxesSubplot at 0x7f61916edf50>"
      ]
     },
     "execution_count": 163,
     "metadata": {},
     "output_type": "execute_result"
    },
    {
     "data": {
      "image/png": "[encoded data removed]",
      "text/plain": [
       "<Figure size 720x504 with 2 Axes>"
      ]
     },
     "metadata": {
      "needs_background": "light"
     },
     "output_type": "display_data"
    }
   ],
   "source": [
    "import matplotlib.pyplot as plt\n",
    "\n",
    "import seaborn as sn\n",
    "df_cm = pd.DataFrame(matrix, index = [i for i in \"01\"],\n",
    "                  columns = [i for i in \"01\"])\n",
    "plt.figure(figsize = (10,7))\n",
    "sn.heatmap(matrix, annot=True)"
   ]
  },
  {
   "cell_type": "code",
   "execution_count": 164,
   "id": "C0eM31vqtXR4",
   "metadata": {
    "colab": {
     "base_uri": "https://localhost:8080/"
    },
    "id": "C0eM31vqtXR4",
    "outputId": "0db1f996-8425-41bb-bc87-2b39f89ac334"
   },
   "outputs": [
    {
     "name": "stdout",
     "output_type": "stream",
     "text": [
      "Classification report : \n",
      " {'0': {'precision': 0.9219313783375976, 'recall': 0.9757672545479794, 'f1-score': 0.9480856805532131, 'support': 14402}, '1': {'precision': 0.9531229012760242, 'recall': 0.856384262611634, 'f1-score': 0.9021676943614519, 'support': 8286}, 'accuracy': 0.932166784203103, 'macro avg': {'precision': 0.9375271398068109, 'recall': 0.9160757585798067, 'f1-score': 0.9251266874573325, 'support': 22688}, 'weighted avg': {'precision': 0.9333229932471445, 'recall': 0.932166784203103, 'f1-score': 0.9313157390165006, 'support': 22688}}\n"
     ]
    },
    {
     "data": {
      "text/plain": [
       "0.932166784203103"
      ]
     },
     "execution_count": 164,
     "metadata": {},
     "output_type": "execute_result"
    }
   ],
   "source": [
    "from sklearn.metrics import classification_report\n",
    "from sklearn.metrics import accuracy_score\n",
    "matrix_3 = classification_report(actual,predicted,labels=[0,1], output_dict=True)\n",
    "print('Classification report : \\n',matrix_3)\n",
    "accuracy_score(actual, predicted)"
   ]
  },
  {
   "cell_type": "code",
   "execution_count": 165,
   "id": "lFa8Ur5Ytecn",
   "metadata": {
    "id": "lFa8Ur5Ytecn"
   },
   "outputs": [],
   "source": [
    "matrix_df = pd.DataFrame(matrix).transpose()\n",
    "matrix_3_df = pd.DataFrame(matrix_3).transpose()\n",
    "# matrix_df.to_csv(\"/content/drive/MyDrive/iam_dataset/saved_model/conf_matrix_imbal_2_3conv_transf_conv.csv\", header=False, index=False)\n",
    "\n",
    "if save_results:\n",
    "  if fc:\n",
    "    matrix_3_df.to_csv(save_path + \"/classification_report_node5_3conv_fc.csv\", header=True, index=True)\n",
    "  elif conv:\n",
    "    matrix_3_df.to_csv(save_path + \"/classification_report_node5_3conv_conv.csv\", header=True, index=True)\n",
    "  elif plain_inf:\n",
    "    matrix_3_df.to_csv(save_path + \"/classification_report_node5_3conv_pi.csv\", header=True, index=True)\n",
    "  else:\n",
    "    print(\"set fc/conv/plain_inf\")\n",
    "# pd.to_csv(\"/content/drive/MyDrive/iam_dataset/saved_model/classification_report.txt\",matrix)\n"
   ]
  }
 ],
 "metadata": {
  "accelerator": "GPU",
  "colab": {
   "collapsed_sections": [],
   "name": "node 5.ipynb",
   "provenance": []
  },
  "kernelspec": {
   "display_name": "Python 3 (ipykernel)",
   "language": "python",
   "name": "python3"
  },
  "language_info": {
   "codemirror_mode": {
    "name": "ipython",
    "version": 3
   },
   "file_extension": ".py",
   "mimetype": "text/x-python",
   "name": "python",
   "nbconvert_exporter": "python",
   "pygments_lexer": "ipython3",
   "version": "3.9.6"
  }
 },
 "nbformat": 4,
 "nbformat_minor": 5
}
